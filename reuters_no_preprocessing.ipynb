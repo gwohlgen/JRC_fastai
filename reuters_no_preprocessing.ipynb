{
 "cells": [
  {
   "cell_type": "markdown",
   "metadata": {
    "colab_type": "text",
    "id": "FWLcRrcK55OF"
   },
   "source": [
    "# JRC Basic\n",
    "\n",
    "### no preprocessing, with all labels"
   ]
  },
  {
   "cell_type": "markdown",
   "metadata": {
    "colab_type": "text",
    "id": "mFOReymeH23M"
   },
   "source": [
    "## Data Fetching and Preparation\n"
   ]
  },
  {
   "cell_type": "code",
   "execution_count": 27,
   "metadata": {
    "colab": {},
    "colab_type": "code",
    "id": "xtVSwdpfxk84"
   },
   "outputs": [],
   "source": [
    "# init\n",
    "%reload_ext autoreload\n",
    "%autoreload 2\n",
    "%matplotlib inline\n",
    "\n",
    "from fastai.text import *\n",
    "import pandas as pd\n",
    "from pathlib import Path\n",
    "\n",
    "FN='../reuters_data/converted_filtered.csv'\n",
    "bs = 32"
   ]
  },
  {
   "cell_type": "markdown",
   "metadata": {
    "colab_type": "text",
    "id": "55sn1OhCSINe"
   },
   "source": [
    "**Get the dataset**\n",
    "\n",
    "\n",
    "\n"
   ]
  },
  {
   "cell_type": "code",
   "execution_count": 2,
   "metadata": {
    "colab": {
     "base_uri": "https://localhost:8080/",
     "height": 111
    },
    "colab_type": "code",
    "id": "DK2YlnZ9xjau",
    "outputId": "b9c63357-57dc-441b-b988-f74f3b4d9be0"
   },
   "outputs": [
    {
     "name": "stdout",
     "output_type": "stream",
     "text": [
      "11367\n"
     ]
    },
    {
     "data": {
      "text/html": [
       "<div>\n",
       "<style scoped>\n",
       "    .dataframe tbody tr th:only-of-type {\n",
       "        vertical-align: middle;\n",
       "    }\n",
       "\n",
       "    .dataframe tbody tr th {\n",
       "        vertical-align: top;\n",
       "    }\n",
       "\n",
       "    .dataframe thead th {\n",
       "        text-align: right;\n",
       "    }\n",
       "</style>\n",
       "<table border=\"1\" class=\"dataframe\">\n",
       "  <thead>\n",
       "    <tr style=\"text-align: right;\">\n",
       "      <th></th>\n",
       "      <th>text</th>\n",
       "      <th>labels</th>\n",
       "    </tr>\n",
       "  </thead>\n",
       "  <tbody>\n",
       "    <tr>\n",
       "      <th>11362</th>\n",
       "      <td>U.K. INTERVENTION BOARD DETAILS EC SUGAR SALES...</td>\n",
       "      <td>88</td>\n",
       "    </tr>\n",
       "    <tr>\n",
       "      <th>11363</th>\n",
       "      <td>MEAD &lt;MEA&gt; EXPECTS IMPROVED EARNINGS THIS YEAR...</td>\n",
       "      <td>35</td>\n",
       "    </tr>\n",
       "    <tr>\n",
       "      <th>11364</th>\n",
       "      <td>AMERTEK INC &lt;ATEKF&gt; 1ST QTR NET WOODSTOCK, Ont...</td>\n",
       "      <td>35</td>\n",
       "    </tr>\n",
       "    <tr>\n",
       "      <th>11365</th>\n",
       "      <td>ALEX BROWN INC &lt;ABSB&gt; 1ST QTR MARCH 27 NET BAL...</td>\n",
       "      <td>35</td>\n",
       "    </tr>\n",
       "    <tr>\n",
       "      <th>11366</th>\n",
       "      <td>TOWN AND COUNTRY JEWELRY MANUFACTURING &lt;TCJC&gt; ...</td>\n",
       "      <td>35</td>\n",
       "    </tr>\n",
       "  </tbody>\n",
       "</table>\n",
       "</div>"
      ],
      "text/plain": [
       "                                                    text labels\n",
       "11362  U.K. INTERVENTION BOARD DETAILS EC SUGAR SALES...     88\n",
       "11363  MEAD <MEA> EXPECTS IMPROVED EARNINGS THIS YEAR...     35\n",
       "11364  AMERTEK INC <ATEKF> 1ST QTR NET WOODSTOCK, Ont...     35\n",
       "11365  ALEX BROWN INC <ABSB> 1ST QTR MARCH 27 NET BAL...     35\n",
       "11366  TOWN AND COUNTRY JEWELRY MANUFACTURING <TCJC> ...     35"
      ]
     },
     "execution_count": 2,
     "metadata": {},
     "output_type": "execute_result"
    }
   ],
   "source": [
    "df = pd.read_csv(FN)\n",
    "\n",
    "## keep only text and labels\n",
    "df = df[['text','labels']]\n",
    "print(len(df))\n",
    "df.tail()\n",
    "\n"
   ]
  },
  {
   "cell_type": "markdown",
   "metadata": {
    "colab_type": "text",
    "id": "fbtKesuhJrPC"
   },
   "source": [
    "## Fine-tuning of the language model"
   ]
  },
  {
   "cell_type": "code",
   "execution_count": 4,
   "metadata": {
    "colab": {
     "base_uri": "https://localhost:8080/",
     "height": 34
    },
    "colab_type": "code",
    "id": "V5uhH_-xWpp-",
    "outputId": "a8311bb9-3f24-47d8-caae-ad8f7b59b707"
   },
   "outputs": [
    {
     "name": "stdout",
     "output_type": "stream",
     "text": [
      "done\n"
     ]
    }
   ],
   "source": [
    "data_lm = (TextList.from_csv(Path('.'), FN, cols='text') #, max_vocab=100000, min_freq=2)\n",
    "           #Inputs: all the text files in path\n",
    "            # .filter_by_folder(include=['.']) \n",
    "           #We may have other temp folders that contain text files so we only keep what's in train and test\n",
    "            .split_by_rand_pct(0.1)\n",
    "           #We randomly split and keep 10% (10,000 reviews) for validation\n",
    "            .label_for_lm()           \n",
    "           #We want to do a language model so we label accordingly\n",
    "            .databunch(bs=bs))\n",
    "data_lm.save('Reuters_basic_data_lm.pkl')\n",
    "print('done')"
   ]
  },
  {
   "cell_type": "code",
   "execution_count": 5,
   "metadata": {
    "colab": {},
    "colab_type": "code",
    "id": "c-5E5Z1QYttW"
   },
   "outputs": [],
   "source": [
    "data_lm = load_data(Path('.'), 'Reuters_basic_data_lm.pkl', bs=bs)"
   ]
  },
  {
   "cell_type": "code",
   "execution_count": 6,
   "metadata": {
    "colab": {
     "base_uri": "https://localhost:8080/",
     "height": 255
    },
    "colab_type": "code",
    "id": "cR0kfvvcYtwN",
    "outputId": "d01327d0-6ad1-40cd-ba93-86f4313e0b9d"
   },
   "outputs": [
    {
     "data": {
      "text/html": [
       "<table border=\"1\" class=\"dataframe\">\n",
       "  <thead>\n",
       "    <tr style=\"text-align: right;\">\n",
       "      <th>idx</th>\n",
       "      <th>text</th>\n",
       "    </tr>\n",
       "  </thead>\n",
       "  <tbody>\n",
       "    <tr>\n",
       "      <td>0</td>\n",
       "      <td>mln dlrs in the 26 weeks ended xxmaj december 28 from xxunk mln a year earlier although pre - tax profit rose 9.1 pct to xxunk mln from xxunk mln . xxmaj net would have risen 10.1 pct but for the increase in company tax to 49 pct from 46 and the imposition of the tax on fringe benefits , paid by employers and not the xxunk , the company</td>\n",
       "    </tr>\n",
       "    <tr>\n",
       "      <td>1</td>\n",
       "      <td>triggered by the strong yen . xxmaj officials said there are already signs of that . xxmaj more and more companies have announced plans to move production facilities offshore to take advantage of cheaper costs abroad , they said . xxup reuter xxbos xxup geodome &lt; xxup xxunk &gt; xxup to xxup start xxup mine xxup construction xxup hailey , xxmaj idaho , xxmaj march 20 - xxmaj geodome xxmaj</td>\n",
       "    </tr>\n",
       "    <tr>\n",
       "      <td>2</td>\n",
       "      <td>'s budget proposals for 1988 - 1992 would cut farm program spending an additional 24 billion dlrs . xxmaj in 1987 , foreign economic growth is expected to remain close to 2.6 pct , the same as in 1986 , but above the 2.4 pct average of 1980 - 86 , it said . xxmaj partially because of this improvement , xxup u.s. export volume is expected to rise in</td>\n",
       "    </tr>\n",
       "    <tr>\n",
       "      <td>3</td>\n",
       "      <td>retain operating links with their xxup u.s. delivery network , generating traffic for the former parent companies without them having to tie up capital in xxmaj canada . xxmaj the nature of the business is that incremental traffic is incremental revenue , xxmaj hine said . xxmaj it 's sort of a sausage maker business where you put in place the sausage xxunk , and the more sausage you can</td>\n",
       "    </tr>\n",
       "    <tr>\n",
       "      <td>4</td>\n",
       "      <td>very vital waterway of the world , he said on xxup nbc television 's xxmaj meet the xxmaj press . xxmaj the xxmaj state xxmaj department said xxmaj friday xxmaj iran has been informed about xxup u.s. concern over the threat to oil shipments in the xxmaj gulf . xxmaj the xxunk was sent through xxmaj switzerland , which represents xxmaj american interests in xxmaj iran . xxmaj iran on</td>\n",
       "    </tr>\n",
       "  </tbody>\n",
       "</table>"
      ],
      "text/plain": [
       "<IPython.core.display.HTML object>"
      ]
     },
     "metadata": {},
     "output_type": "display_data"
    }
   ],
   "source": [
    "data_lm.show_batch()"
   ]
  },
  {
   "cell_type": "code",
   "execution_count": 7,
   "metadata": {
    "colab": {},
    "colab_type": "code",
    "id": "tUBtDtABZmpD"
   },
   "outputs": [],
   "source": [
    "# download pre-trained (Wikipedia) model and create learner\n",
    "learn_lm = language_model_learner(data_lm, AWD_LSTM, drop_mult=0.3, wd=0.1)"
   ]
  },
  {
   "cell_type": "code",
   "execution_count": 8,
   "metadata": {
    "colab": {
     "base_uri": "https://localhost:8080/",
     "height": 85
    },
    "colab_type": "code",
    "id": "tafa_fDpykBD",
    "outputId": "e25ddea4-3b05-462a-f2e9-eaf87269d4d1"
   },
   "outputs": [
    {
     "name": "stdout",
     "output_type": "stream",
     "text": [
      "The European Commission on Political Affairs , Part 2 of the European Convention on the Rights of Persons , August 12 , 2001 , by the European Commission on Civil Rights\n",
      "The European Commission on International Affairs , KLM , by Robert Brown , ICC , in January . The report stated that Heinrich Brown was the meeting 's director of technical research ,\n",
      "The European Commission on International Cooperation in Europe , August 1995 and December 1993 in the US , Great Britain and France , USA and the United States , Canada\n",
      "The European Commission on International Law ( UN ) introduced the International Trade Commission Act , Anglo - American International Law Commission ( UN ) , on 12 July\n"
     ]
    }
   ],
   "source": [
    "# test wikidata lang model\n",
    "TEXT = \"The European Commission\"\n",
    "N_WORDS = 40\n",
    "N_SENTENCES = 4\n",
    "print(\"\\n\".join(learn_lm.predict(TEXT, N_WORDS, temperature=0.75) for _ in range(N_SENTENCES)))"
   ]
  },
  {
   "cell_type": "code",
   "execution_count": 9,
   "metadata": {
    "colab": {
     "base_uri": "https://localhost:8080/",
     "height": 34
    },
    "colab_type": "code",
    "id": "CsrmrimRZmsL",
    "outputId": "60c0d76d-de67-4668-c10a-a51e7f692297"
   },
   "outputs": [
    {
     "data": {
      "text/html": [],
      "text/plain": [
       "<IPython.core.display.HTML object>"
      ]
     },
     "metadata": {},
     "output_type": "display_data"
    },
    {
     "name": "stdout",
     "output_type": "stream",
     "text": [
      "LR Finder is complete, type {learner_name}.recorder.plot() to see the graph.\n"
     ]
    }
   ],
   "source": [
    "learn_lm.lr_find()"
   ]
  },
  {
   "cell_type": "code",
   "execution_count": 10,
   "metadata": {
    "colab": {
     "base_uri": "https://localhost:8080/",
     "height": 283
    },
    "colab_type": "code",
    "id": "IMu32xgxZmvZ",
    "outputId": "1f11a5dd-ce73-47f0-ed04-084fdd86733b"
   },
   "outputs": [
    {
     "data": {
      "image/png": "[encoded data removed]",
      "text/plain": [
       "<Figure size 432x288 with 1 Axes>"
      ]
     },
     "metadata": {
      "needs_background": "light"
     },
     "output_type": "display_data"
    }
   ],
   "source": [
    "learn_lm.recorder.plot(skip_end=15)"
   ]
  },
  {
   "cell_type": "code",
   "execution_count": 11,
   "metadata": {
    "colab": {
     "base_uri": "https://localhost:8080/",
     "height": 80
    },
    "colab_type": "code",
    "id": "yYVsfD0qZmyx",
    "outputId": "c08f1ca3-68ec-4445-bffa-f2db12a912ca"
   },
   "outputs": [
    {
     "data": {
      "text/html": [
       "<table border=\"1\" class=\"dataframe\">\n",
       "  <thead>\n",
       "    <tr style=\"text-align: left;\">\n",
       "      <th>epoch</th>\n",
       "      <th>train_loss</th>\n",
       "      <th>valid_loss</th>\n",
       "      <th>accuracy</th>\n",
       "      <th>time</th>\n",
       "    </tr>\n",
       "  </thead>\n",
       "  <tbody>\n",
       "    <tr>\n",
       "      <td>0</td>\n",
       "      <td>4.048079</td>\n",
       "      <td>3.021713</td>\n",
       "      <td>0.485714</td>\n",
       "      <td>00:48</td>\n",
       "    </tr>\n",
       "    <tr>\n",
       "      <td>1</td>\n",
       "      <td>3.282450</td>\n",
       "      <td>1.832164</td>\n",
       "      <td>0.614286</td>\n",
       "      <td>00:48</td>\n",
       "    </tr>\n",
       "  </tbody>\n",
       "</table>"
      ],
      "text/plain": [
       "<IPython.core.display.HTML object>"
      ]
     },
     "metadata": {},
     "output_type": "display_data"
    }
   ],
   "source": [
    "learn_lm.fit_one_cycle(2, 7e-2, moms=(0.8,0.7))"
   ]
  },
  {
   "cell_type": "code",
   "execution_count": 12,
   "metadata": {
    "colab": {},
    "colab_type": "code",
    "id": "f8TaD2DjZm9j"
   },
   "outputs": [],
   "source": [
    "learn=learn_lm\n",
    "learn.unfreeze()"
   ]
  },
  {
   "cell_type": "code",
   "execution_count": 13,
   "metadata": {
    "colab": {
     "base_uri": "https://localhost:8080/",
     "height": 300
    },
    "colab_type": "code",
    "id": "rLIQqUijKUAR",
    "outputId": "35af5c8d-57a9-49e1-fb19-bb28e739d72e"
   },
   "outputs": [
    {
     "data": {
      "text/html": [],
      "text/plain": [
       "<IPython.core.display.HTML object>"
      ]
     },
     "metadata": {},
     "output_type": "display_data"
    },
    {
     "name": "stdout",
     "output_type": "stream",
     "text": [
      "LR Finder is complete, type {learner_name}.recorder.plot() to see the graph.\n"
     ]
    },
    {
     "data": {
      "image/png": "[encoded data removed]",
      "text/plain": [
       "<Figure size 432x288 with 1 Axes>"
      ]
     },
     "metadata": {
      "needs_background": "light"
     },
     "output_type": "display_data"
    }
   ],
   "source": [
    "learn.lr_find()\n",
    "learn.recorder.plot(skip_end=15)"
   ]
  },
  {
   "cell_type": "code",
   "execution_count": 14,
   "metadata": {
    "colab": {
     "base_uri": "https://localhost:8080/",
     "height": 143
    },
    "colab_type": "code",
    "id": "vmwu1gS6jLI3",
    "outputId": "03463226-5bf5-46cb-d249-f15eb2636c84"
   },
   "outputs": [
    {
     "data": {
      "text/html": [
       "<table border=\"1\" class=\"dataframe\">\n",
       "  <thead>\n",
       "    <tr style=\"text-align: left;\">\n",
       "      <th>epoch</th>\n",
       "      <th>train_loss</th>\n",
       "      <th>valid_loss</th>\n",
       "      <th>accuracy</th>\n",
       "      <th>time</th>\n",
       "    </tr>\n",
       "  </thead>\n",
       "  <tbody>\n",
       "    <tr>\n",
       "      <td>0</td>\n",
       "      <td>2.859962</td>\n",
       "      <td>1.720679</td>\n",
       "      <td>0.685714</td>\n",
       "      <td>01:01</td>\n",
       "    </tr>\n",
       "    <tr>\n",
       "      <td>1</td>\n",
       "      <td>2.769725</td>\n",
       "      <td>1.653447</td>\n",
       "      <td>0.714286</td>\n",
       "      <td>01:01</td>\n",
       "    </tr>\n",
       "    <tr>\n",
       "      <td>2</td>\n",
       "      <td>2.621275</td>\n",
       "      <td>1.625703</td>\n",
       "      <td>0.742857</td>\n",
       "      <td>01:02</td>\n",
       "    </tr>\n",
       "    <tr>\n",
       "      <td>3</td>\n",
       "      <td>2.547477</td>\n",
       "      <td>1.628361</td>\n",
       "      <td>0.742857</td>\n",
       "      <td>01:02</td>\n",
       "    </tr>\n",
       "    <tr>\n",
       "      <td>4</td>\n",
       "      <td>2.426707</td>\n",
       "      <td>1.618090</td>\n",
       "      <td>0.757143</td>\n",
       "      <td>01:02</td>\n",
       "    </tr>\n",
       "  </tbody>\n",
       "</table>"
      ],
      "text/plain": [
       "<IPython.core.display.HTML object>"
      ]
     },
     "metadata": {},
     "output_type": "display_data"
    }
   ],
   "source": [
    "epochs = 5 # orig: 10\n",
    "learn.fit_one_cycle(epochs, slice(1e-3/(2.6**4), 1e-3) , moms=(0.8,0.7))"
   ]
  },
  {
   "cell_type": "code",
   "execution_count": 15,
   "metadata": {
    "colab": {},
    "colab_type": "code",
    "id": "y8Ce6YpUjLPQ"
   },
   "outputs": [
    {
     "data": {
      "text/plain": [
       "LanguageLearner(data=TextLMDataBunch;\n",
       "\n",
       "Train: LabelList (10231 items)\n",
       "x: LMTextList\n",
       "xxbos xxup fairfax xxup says xxup higher xxup tax xxup hits xxup first xxup half xxup earnings xxup sydney , xxmaj march 19 - xxmaj media group xxmaj john xxmaj fairfax xxmaj ltd < xxup xxunk > said that its flat first half net profit partly reflected the impact of changes in the xxmaj australian tax system . xxmaj fairfax earlier reported net earnings edged up 2.3 pct to 25.94 mln dlrs in the 26 weeks ended xxmaj december 28 from xxunk mln a year earlier although pre - tax profit rose 9.1 pct to xxunk mln from xxunk mln . xxmaj net would have risen 10.1 pct but for the increase in company tax to 49 pct from 46 and the imposition of the tax on fringe benefits , paid by employers and not the xxunk , the company said in a statement . xxmaj fairfax also pointed to the cyclical downturn in revenue growth in the television industry as another reason for the flat first half earnings . xxmaj it said it considered the result satisfactory in view of these factors . xxmaj fairfax said its flagship dailies , xxmaj the xxmaj sydney xxmaj morning xxmaj herald and the xxmaj melbourne xxmaj age , boosted advertising volume , as did the xxmaj australian xxmaj financial xxmaj review , and posted extremely satisfactory performances . xxmaj magazines also performed strongly . xxmaj but an 8.9 pct rise in television costs outweighed a 4.0 pct rise in revenue , it said . xxmaj fairfax said a fall in net interest also contributed to net earnings because group borrowings were reduced following the receipt of a xxunk mln dlr capital dividend from < xxmaj australian xxmaj associated xxmaj press xxmaj pty xxmaj ltd > ( xxup xxunk ) after the sale of xxup xxunk 's b shares in xxmaj reuters xxmaj holdings xxmaj plc < xxup xxunk xxmaj this accounted for the 89.32 mln dlr extraordinary profit . xxmaj fairfax said it is too early to predict results for the full year . xxmaj increased borrowings after the recent 320 mln dlr acquisition of the xxup xxunk - xxmaj seven television station in xxmaj melbourne will hit earnings but networking with the xxmaj channel xxmaj xxunk in xxmaj sydney and xxmaj brisbane will produce some offsetting cost savings . xxup reuter,xxbos xxup britoil xxup plc < xxup xxunk > 1986 xxup yr xxup london , xxmaj march 19 - xxmaj shr xxunk vs xxunk xxmaj final div 6p , making xxunk vs 13p . xxmaj pre - tax profit 134 mln stg vs 759 mln . xxmaj net profit 33 mln vs 253 mln . xxmaj turnover 978 mln stg vs 1.80 billion . xxmaj extraordinary debit 50 mln vs nil . xxmaj operating profit 149 mln stg vs 756 mln . xxmaj exceptional debit on rationalisation programme 12 mln vs nil xxmaj petroleum xxmaj revenue xxmaj taxes 77 mln vs 319 mln , xxup u.k. xxmaj corporation tax and overseas tax 24 mln vs 187 mln , xxmaj note - xxmaj the net effect of accounting changes in 1986 was to reduce after tax profits by 47 mln stg . xxmaj retained earnings for prior years were increased by 209 mln . xxmaj extraordinary debit of 50 mln stg related to the decision to seek a buyer for the company 's xxup u.s. xxmaj assets . xxup reuter,xxbos ( xxup xxunk xxup for xxup release xxup at 1130 xxup gmt xxup xxunk xxup march 19 ) xxrep 6 * xxup uk xxup feb xxup adjusted xxup unemployment xxup fell 44,100 xxup total 3.07 xxup mln xxup or 11.1 xxup pct - xxup official,xxbos xxrep 6 * xxup uk xxup unit xxup wage / xxup labour xxup costs xxup rose 3.3 xxup pct xxup in xxup three xxup months xxup ending xxup jan - xxup official xxmaj blah blah blah .,xxbos xxrep 6 * xxup uk xxup average xxup earnings xxup rose 7.6 xxup pct xxup in xxup january , xxup underlying xxup rise 7.5 xxup pct - xxup official xxmaj blah blah blah .\n",
       "y: LMLabelList\n",
       ",,,,\n",
       "Path: .;\n",
       "\n",
       "Valid: LabelList (1136 items)\n",
       "x: LMTextList\n",
       "xxbos xxup leaseway xxup transportation < xxup ltc > xxup completes xxup unit xxup sale xxup cleveland , xxmaj june 18 - xxmaj leaseway xxmaj transportation xxmaj corp said it has completed the previously - announced sale of its xxmaj leaseway of xxmaj puerto xxmaj rico xxmaj inc subsidiary to xxmaj xxunk xxmaj central xxmaj federal xxmaj savings xxmaj bank for undisclosed terms . xxmaj the company said the sale satisfied a condition for its proposed acquisition by an investor group led by xxmaj citicorp < xxup xxunk xxmaj reuter,xxbos xxup compromise xxup seen xxup likely xxup over xxup conoco - xxup statoil xxup dispute xxup oslo , xxmaj june 1 - xxmaj norway is expected to seek a compromise solution to defuse a row between xxmaj den xxmaj norske xxmaj stats xxmaj oljeselskap a / s < xxup stat.ol > ( xxmaj statoil ) and xxmaj conoco xxmaj norge a / s over which firm will operate the xxmaj xxunk oil field , government sources said . xxmaj the sources , who asked not to be named , said the government will likely recommend that xxmaj conoco be allowed to continue as the field 's operator through the development phase , with xxmaj statoil taking over only after production starts in the early 1990s . xxmaj oil xxmaj minister xxmaj xxunk xxmaj xxunk told xxmaj reuters the government had today xxunk the xxmaj xxunk matter but that no final decision had been taken and several questions remained unresolved . xxmaj it was unlikely the government would announce its decision on xxmaj xxunk operatorship until after xxmaj thursday 's cabinet meeting and after discussing a proposed solution with both companies , the sources added . xxmaj this spring xxmaj norway 's state - owned oil company xxmaj statoil exercised an option in the xxmaj xxunk field exploration license that , if approved by the government , would allow it to relieve xxmaj conoco as xxmaj xxunk operator , a move sharply criticised by xxmaj conoco . xxmaj xxunk is often cited by the government and industry as the most likely candidate for the first field development project on the xxmaj haltenbanken exploration tract off central xxmaj norway . xxmaj reuter,xxbos xxup fed xxup expected xxup to xxup add xxup reserves xxup new xxup york , xxmaj march 11 - xxmaj the xxmaj federal xxmaj reserve is expected to intervene in the government securities market to add temporary reserves via customer or system repurchase agreements , economists said . xxmaj most economists said the xxmaj fed will inject reserves indirectly via customer repurchases , but they added that the xxmaj fed might xxunk for a direct injection of reserves via overnight system repurchases . xxmaj federal funds opened at 6 - 3 / 8 pct and eased to 6 - 5 / 16 pct in early trading . xxmaj funds averaged xxunk pct yesterday . xxmaj reuter,xxbos xxup xxunk xxup corp < xxup xxunk > xxup 3rd xxup qtr xxup jan 31 xxup net xxup irving , xxmaj texas , xxmaj march 6 - xxmaj shr 51 cts vs 44 cts xxmaj net xxunk vs xxunk xxmaj sales xxunk mln vs 98.2 mln xxmaj nine mths xxmaj shr 1.62 dlrs vs 1.39 dlrs xxmaj net 15.0 mln vs 13.6 mln xxmaj sales xxunk mln vs xxunk mln xxmaj reuter,xxbos xxup xxunk xxup paper xxup mills xxup co < xxup xxunk > xxup 2nd xxup qtr xxup net xxup xxunk , xxup wis . , xxmaj march 17 - xxmaj period ended xxmaj feb 28 xxmaj shr 61 cts vs 56 cts xxmaj net xxunk vs xxunk xxmaj sales 60.4 mln vs 55.8 mln xxmaj six mths xxmaj shr 1.27 dlrs vs 1.15 dlrs xxmaj net xxunk vs xxunk xxmaj sales 122.8 mln vs xxunk mln xxup note : xxmaj per - share data restated for 10 pct stock dividends paid to holders of record xxmaj dec 26 , 1986 and xxmaj dec 26 , 1985 xxmaj reuter\n",
       "y: LMLabelList\n",
       ",,,,\n",
       "Path: .;\n",
       "\n",
       "Test: None, model=SequentialRNN(\n",
       "  (0): AWD_LSTM(\n",
       "    (encoder): Embedding(18248, 400, padding_idx=1)\n",
       "    (encoder_dp): EmbeddingDropout(\n",
       "      (emb): Embedding(18248, 400, padding_idx=1)\n",
       "    )\n",
       "    (rnns): ModuleList(\n",
       "      (0): WeightDropout(\n",
       "        (module): LSTM(400, 1152, batch_first=True)\n",
       "      )\n",
       "      (1): WeightDropout(\n",
       "        (module): LSTM(1152, 1152, batch_first=True)\n",
       "      )\n",
       "      (2): WeightDropout(\n",
       "        (module): LSTM(1152, 400, batch_first=True)\n",
       "      )\n",
       "    )\n",
       "    (input_dp): RNNDropout()\n",
       "    (hidden_dps): ModuleList(\n",
       "      (0): RNNDropout()\n",
       "      (1): RNNDropout()\n",
       "      (2): RNNDropout()\n",
       "    )\n",
       "  )\n",
       "  (1): LinearDecoder(\n",
       "    (decoder): Linear(in_features=400, out_features=18248, bias=True)\n",
       "    (output_dp): RNNDropout()\n",
       "  )\n",
       "), opt_func=functools.partial(<class 'torch.optim.adam.Adam'>, betas=(0.9, 0.99)), loss_func=FlattenedLoss of CrossEntropyLoss(), metrics=[<function accuracy at 0x7fe0db3c3b70>], true_wd=True, bn_wd=True, wd=0.1, train_bn=True, path=PosixPath('.'), model_dir='models', callback_fns=[functools.partial(<class 'fastai.basic_train.Recorder'>, add_time=True, silent=False)], callbacks=[RNNTrainer\n",
       "learn: ...\n",
       "alpha: 2.0\n",
       "beta: 1.0], layer_groups=[Sequential(\n",
       "  (0): WeightDropout(\n",
       "    (module): LSTM(400, 1152, batch_first=True)\n",
       "  )\n",
       "  (1): RNNDropout()\n",
       "), Sequential(\n",
       "  (0): WeightDropout(\n",
       "    (module): LSTM(1152, 1152, batch_first=True)\n",
       "  )\n",
       "  (1): RNNDropout()\n",
       "), Sequential(\n",
       "  (0): WeightDropout(\n",
       "    (module): LSTM(1152, 400, batch_first=True)\n",
       "  )\n",
       "  (1): RNNDropout()\n",
       "), Sequential(\n",
       "  (0): Embedding(18248, 400, padding_idx=1)\n",
       "  (1): EmbeddingDropout(\n",
       "    (emb): Embedding(18248, 400, padding_idx=1)\n",
       "  )\n",
       "  (2): LinearDecoder(\n",
       "    (decoder): Linear(in_features=400, out_features=18248, bias=True)\n",
       "    (output_dp): RNNDropout()\n",
       "  )\n",
       ")], add_time=True, silent=None)"
      ]
     },
     "execution_count": 15,
     "metadata": {},
     "output_type": "execute_result"
    }
   ],
   "source": [
    "learn.save('fine_tuned-Reuters-basic')\n",
    "learn.load('fine_tuned-Reuters-basic')"
   ]
  },
  {
   "cell_type": "code",
   "execution_count": 16,
   "metadata": {
    "colab": {
     "base_uri": "https://localhost:8080/",
     "height": 102
    },
    "colab_type": "code",
    "id": "s-n0VSRajLSs",
    "outputId": "73be9ccc-977f-4fd6-f203-427926c6b1e5"
   },
   "outputs": [
    {
     "name": "stdout",
     "output_type": "stream",
     "text": [
      "The European Commission AGREES TO BUY EC SUGAR MARKET BRUSSELS , March 19 - The European Community Commission ( EC ) has approved a tender in the EC for\n",
      "The European Commission APPROVES EC COMMISSION BRUSSELS , March 11 - The EC Commission has approved the European Community Commission ( EC ) this year to allow the EC to\n",
      "The European Commission APPROVES EC OILS TAX BRUSSELS , April 13 - The EC Commission has accepted a proposal for 1987 tax cuts on vegetable oils and fats , but EC diplomats said\n",
      "The European Commission BUYS VAN ARNHEM , IN EC LONDON , March 12 - The U.S. And West African States have purchased the world 's largest foreign exchange , <\n",
      "The European Commission HAS NO PLANS TO CUT PRIME RATES FRANKFURT , April 7 - British Prime Minister Margaret Thatcher said he would not comment on the bank 's\n"
     ]
    }
   ],
   "source": [
    "# test lang model\n",
    "TEXT = \"The European Commission\"\n",
    "N_WORDS = 40\n",
    "N_SENTENCES = 5\n",
    "print(\"\\n\".join(learn.predict(TEXT, N_WORDS, temperature=0.75) for _ in range(N_SENTENCES)))\n"
   ]
  },
  {
   "cell_type": "code",
   "execution_count": 17,
   "metadata": {
    "colab": {},
    "colab_type": "code",
    "id": "tumpLk48jLVy"
   },
   "outputs": [],
   "source": [
    "learn.save_encoder('fine_tuned_enc-Reuters-basic')\n"
   ]
  },
  {
   "cell_type": "markdown",
   "metadata": {
    "colab_type": "text",
    "id": "TKgiUzG3K-1w"
   },
   "source": [
    "## Train a classifier"
   ]
  },
  {
   "cell_type": "markdown",
   "metadata": {
    "colab_type": "text",
    "id": "TMB5GXLhLN28"
   },
   "source": [
    "As we are using multi-label classification, we define our own metrics (fastai doesn't support multi-label well yet)"
   ]
  },
  {
   "cell_type": "code",
   "execution_count": 18,
   "metadata": {
    "colab": {},
    "colab_type": "code",
    "id": "DpDdcNM6pxhw"
   },
   "outputs": [],
   "source": [
    "def my_prc(log_preds, targs, thresh=0.5, epsilon=1e-8):\n",
    "    pred_pos = (log_preds > thresh).float()\n",
    "    tpos = torch.mul((targs == pred_pos).float(), targs.float())\n",
    "    return (tpos.sum()/(pred_pos.sum() + epsilon))#.item()\n",
    "  \n",
    "def my_rec(log_preds, targs, thresh=0.5, epsilon=1e-8):\n",
    "    pred_pos = (log_preds > thresh).float()\n",
    "    tpos = torch.mul((targs == pred_pos).float(), targs.float())\n",
    "    return (tpos.sum()/(targs.sum() + epsilon))\n",
    "\n",
    "thresh=0.001\n",
    "acc_0001 = partial(accuracy_thresh, thresh=thresh)\n",
    "prc_0001 = partial(my_prc, thresh=thresh)\n",
    "rec_0001 = partial(my_rec, thresh=thresh)\n",
    "f_0001 = partial(fbeta, thresh=thresh, beta=1)\n",
    "\n",
    "\n",
    "thresh=0.01\n",
    "acc_001 = partial(accuracy_thresh, thresh=thresh)\n",
    "prc_001 = partial(my_prc, thresh=thresh)\n",
    "rec_001 = partial(my_rec, thresh=thresh)\n",
    "f_001 = partial(fbeta, thresh=thresh, beta=1)\n",
    "\n",
    "thresh=0.05\n",
    "acc_005 = partial(accuracy_thresh, thresh=thresh)\n",
    "prc_005 = partial(my_prc, thresh=thresh)\n",
    "rec_005 = partial(my_rec, thresh=thresh)\n",
    "f_005 = partial(fbeta, thresh=thresh, beta=1)\n",
    "\n",
    "thresh=0.1\n",
    "acc_01 = partial(accuracy_thresh, thresh=thresh)\n",
    "prc_01 = partial(my_prc, thresh=thresh)\n",
    "rec_01 = partial(my_rec, thresh=thresh)\n",
    "f_01 = partial(fbeta, thresh=thresh, beta=1)\n",
    "\n",
    "thresh=0.2\n",
    "acc_02 = partial(accuracy_thresh, thresh=thresh)\n",
    "prc_02 = partial(my_prc, thresh=thresh)\n",
    "rec_02 = partial(my_rec, thresh=thresh)\n",
    "f_02 = partial(fbeta, thresh=thresh, beta=1)\n",
    "\n",
    "thresh=0.3\n",
    "acc_03 = partial(accuracy_thresh, thresh=thresh)\n",
    "prc_03 = partial(my_prc, thresh=thresh)\n",
    "rec_03 = partial(my_rec, thresh=thresh)\n",
    "f_03 = partial(fbeta, thresh=thresh, beta=1)\n",
    "\n",
    "thresh=0.4\n",
    "acc_04 = partial(accuracy_thresh, thresh=thresh)\n",
    "prc_04 = partial(my_prc, thresh=thresh)\n",
    "rec_04 = partial(my_rec, thresh=thresh)\n",
    "f_04 = partial(fbeta, thresh=thresh, beta=1)\n",
    "\n",
    "thresh=0.5\n",
    "acc_05 = partial(accuracy_thresh, thresh=thresh)\n",
    "prc_05 = partial(my_prc, thresh=thresh)\n",
    "rec_05 = partial(my_rec, thresh=thresh)\n",
    "f_05 = partial(fbeta, thresh=thresh, beta=1)\n"
   ]
  },
  {
   "cell_type": "code",
   "execution_count": 19,
   "metadata": {
    "colab": {},
    "colab_type": "code",
    "id": "R6SRdQxPh8oZ"
   },
   "outputs": [],
   "source": [
    "## make small subsample in order to train faster\n",
    "df = pd.read_csv(FN)\n",
    "df = df[['text','labels']]\n"
   ]
  },
  {
   "cell_type": "code",
   "execution_count": 40,
   "metadata": {},
   "outputs": [],
   "source": [
    "\n",
    "df = df[pd.notnull(df['labels'])]\n",
    "len(df)\n",
    "df.to_csv('a.csv')\n"
   ]
  },
  {
   "cell_type": "code",
   "execution_count": 41,
   "metadata": {
    "colab": {},
    "colab_type": "code",
    "id": "_RLVSPKWjLZO"
   },
   "outputs": [],
   "source": [
    "data_clas = (TextList.from_csv(Path('.'), FN, vocab=data_lm.vocab, cols='text')\n",
    "             #grab all the text files in path\n",
    "             #wohlg: .split_by_folder(valid='test')\n",
    "             .split_by_rand_pct()\n",
    "             #split by train and valid folder (that only keeps 'train' and 'test' so no need to filter)             \n",
    "             #wohlg: .label_from_folder(classes=['neg', 'pos'])\n",
    "             .label_from_df(cols='labels', label_delim=';')\n",
    "             #label them all with their folders\n",
    "             .databunch(bs=bs))\n",
    "\n",
    "data_clas.save('data_clas-basic.pkl')"
   ]
  },
  {
   "cell_type": "code",
   "execution_count": 42,
   "metadata": {},
   "outputs": [
    {
     "name": "stdout",
     "output_type": "stream",
     "text": [
      "18248\n",
      "['xxunk', 'xxpad', 'xxbos', 'xxeos', 'xxfld', 'xxmaj', 'xxup', 'xxrep', 'xxwrep', 'the', ',', '.', 'of', 'to', 'in', 'and', 'said', 'a', '-', 'mln']\n"
     ]
    }
   ],
   "source": [
    "print(len(data_lm.vocab.itos))\n",
    "print(data_lm.vocab.itos[:20])"
   ]
  },
  {
   "cell_type": "code",
   "execution_count": 43,
   "metadata": {
    "colab": {},
    "colab_type": "code",
    "id": "lLq_pAhSjLe2"
   },
   "outputs": [],
   "source": [
    "data_clas = load_data(Path('.'), 'data_clas-basic.pkl', bs=bs)"
   ]
  },
  {
   "cell_type": "code",
   "execution_count": 44,
   "metadata": {
    "colab": {
     "base_uri": "https://localhost:8080/",
     "height": 289
    },
    "colab_type": "code",
    "id": "bIC3m4atjLcQ",
    "outputId": "567af202-1871-4ecb-8ef9-30ff5a7e09cd"
   },
   "outputs": [
    {
     "data": {
      "text/html": [
       "<table border=\"1\" class=\"dataframe\">\n",
       "  <thead>\n",
       "    <tr style=\"text-align: right;\">\n",
       "      <th>text</th>\n",
       "      <th>target</th>\n",
       "    </tr>\n",
       "  </thead>\n",
       "  <tbody>\n",
       "    <tr>\n",
       "      <td>xxbos xxup u.s. xxup supply / xxup demand xxup detailed xxup by xxup usda xxmaj washington , xxmaj april 9 - xxmaj the xxup u.s. xxmaj agriculture xxmaj department made the following supply / demand projections for the 1986 / 87 seasons , in mln bushels , with comparisons , unless noted -- xxup corn -- 1986 / 87 1985 / 86 04 / 09 / 87 03 / 09</td>\n",
       "      <td>103;109;112;113;118;19;42;45;56;59;67;68;81;98</td>\n",
       "    </tr>\n",
       "    <tr>\n",
       "      <td>xxbos xxup talking xxup point / xxup borg - xxup warner xxup corp &lt; xxup bor &gt; xxmaj by xxmaj patti xxmaj domm , xxmaj reuters xxmaj new xxmaj york , xxmaj march 31 - xxmaj borg - xxmaj warner xxmaj corp will vigorously resist xxup gaf xxmaj corp 's xxunk - per - share takeover offer , but the xxmaj midwest conglomerate may fall prey to another offer ,</td>\n",
       "      <td>77</td>\n",
       "    </tr>\n",
       "    <tr>\n",
       "      <td>xxbos xxup illinois xxup co - xxup op xxup futures xxup dissolution xxup vote xxup set xxmaj by xxmaj keith xxmaj xxunk xxup chicago , xxmaj march 24 - xxmaj the shareholders of xxmaj illinois xxmaj cooperative xxmaj futures xxmaj co. , the futures trading arm of many xxmaj midwest farm cooperatives for more than 25 years , will vote xxmaj wednesday on its possible dissolution . xxmaj the directors</td>\n",
       "      <td>59</td>\n",
       "    </tr>\n",
       "    <tr>\n",
       "      <td>xxbos xxup economic xxup spotlight - xxup polish xxup sanctions xxmaj by xxmaj xxunk xxmaj xxunk , xxmaj reuters xxup warsaw , xxmaj march 5 - xxmaj poland says xxup u.s. xxmaj sanctions have cost its economy 15 billion dlrs and has made clear it wants xxmaj washington to take a lead in repairing the damage after lifting remaining restrictions two weeks ago . xxmaj polish officials are unable to</td>\n",
       "      <td>117</td>\n",
       "    </tr>\n",
       "    <tr>\n",
       "      <td>xxbos xxup u.s. xxup may xxup have xxup to xxup act xxup to xxup support xxup dollar xxup by xxup peter xxup torday , xxup reuters xxup washington , xxmaj april 29 - xxmaj the prospect of renewed assaults on the dollar might force the xxmaj united xxmaj states eventually to unveil xxunk measures to bolster support for its currency , monetary analysts and economists said . xxmaj treasury xxmaj</td>\n",
       "      <td>2;74</td>\n",
       "    </tr>\n",
       "  </tbody>\n",
       "</table>"
      ],
      "text/plain": [
       "<IPython.core.display.HTML object>"
      ]
     },
     "metadata": {},
     "output_type": "display_data"
    }
   ],
   "source": [
    "data_clas.show_batch()\n",
    "#data_clas.label_list\n"
   ]
  },
  {
   "cell_type": "code",
   "execution_count": 45,
   "metadata": {
    "colab": {},
    "colab_type": "code",
    "id": "cyWs6u1vl6mX"
   },
   "outputs": [],
   "source": [
    "learn = text_classifier_learner(data_clas, AWD_LSTM, drop_mult=0.5, wd=0.1)\n",
    "#learn.metrics = [accuracy_thresh, custom_precision, custom_recall, \n",
    "#                 acc_01, f_score_01, acc_02, f_score_02, acc_03, f_score_03 ]\n",
    "learn.metrics = [accuracy_thresh, \n",
    "                 acc_0001, prc_0001, rec_0001, f_0001,\n",
    "                 acc_001, prc_001, rec_001, f_001,\n",
    "                 acc_005, prc_005, rec_005, f_005,\n",
    "                 acc_01, prc_01, rec_01, f_01,\n",
    "                 acc_02, prc_02, rec_02, f_02,\n",
    "                 acc_03, prc_03, rec_03, f_03,\n",
    "                 acc_04, prc_04, rec_04, f_04,\n",
    "                 acc_05, prc_05, rec_05, f_05 ]\n",
    "#!mv *pth models\n",
    "learn.load_encoder('fine_tuned_enc-Reuters-basic')\n"
   ]
  },
  {
   "cell_type": "code",
   "execution_count": 46,
   "metadata": {},
   "outputs": [
    {
     "name": "stdout",
     "output_type": "stream",
     "text": [
      "FlattenedLoss of BCEWithLogitsLoss()\n",
      "BCEWithLogitsLoss()\n"
     ]
    }
   ],
   "source": [
    "print(learn.loss_func)\n",
    "print(learn.loss_func.func)"
   ]
  },
  {
   "cell_type": "code",
   "execution_count": 47,
   "metadata": {
    "colab": {
     "base_uri": "https://localhost:8080/",
     "height": 34
    },
    "colab_type": "code",
    "id": "X5sGGcAUl6ps",
    "outputId": "33e0a7c9-12fc-4b66-c5f3-9ab79d8fbb8c"
   },
   "outputs": [
    {
     "data": {
      "text/html": [],
      "text/plain": [
       "<IPython.core.display.HTML object>"
      ]
     },
     "metadata": {},
     "output_type": "display_data"
    },
    {
     "name": "stdout",
     "output_type": "stream",
     "text": [
      "LR Finder is complete, type {learner_name}.recorder.plot() to see the graph.\n"
     ]
    }
   ],
   "source": [
    "learn.lr_find()"
   ]
  },
  {
   "cell_type": "code",
   "execution_count": 48,
   "metadata": {
    "colab": {
     "base_uri": "https://localhost:8080/",
     "height": 283
    },
    "colab_type": "code",
    "id": "4TaL4rGml6tD",
    "outputId": "2aec03fe-986a-4755-c392-975e6e45e1a3"
   },
   "outputs": [
    {
     "data": {
      "image/png": "[encoded data removed]",
      "text/plain": [
       "<Figure size 432x288 with 1 Axes>"
      ]
     },
     "metadata": {
      "needs_background": "light"
     },
     "output_type": "display_data"
    }
   ],
   "source": [
    "learn.recorder.plot()"
   ]
  },
  {
   "cell_type": "code",
   "execution_count": 49,
   "metadata": {
    "colab": {
     "base_uri": "https://localhost:8080/",
     "height": 80
    },
    "colab_type": "code",
    "id": "BrPh0yRdl6zX",
    "outputId": "841c115e-7e18-4b30-a3d5-7932cd83968e",
    "scrolled": true
   },
   "outputs": [
    {
     "data": {
      "text/html": [
       "<table border=\"1\" class=\"dataframe\">\n",
       "  <thead>\n",
       "    <tr style=\"text-align: left;\">\n",
       "      <th>epoch</th>\n",
       "      <th>train_loss</th>\n",
       "      <th>valid_loss</th>\n",
       "      <th>accuracy_thresh</th>\n",
       "      <th>accuracy_thresh</th>\n",
       "      <th>my_prc</th>\n",
       "      <th>my_rec</th>\n",
       "      <th>fbeta</th>\n",
       "      <th>accuracy_thresh</th>\n",
       "      <th>my_prc</th>\n",
       "      <th>my_rec</th>\n",
       "      <th>fbeta</th>\n",
       "      <th>accuracy_thresh</th>\n",
       "      <th>my_prc</th>\n",
       "      <th>my_rec</th>\n",
       "      <th>fbeta</th>\n",
       "      <th>accuracy_thresh</th>\n",
       "      <th>my_prc</th>\n",
       "      <th>my_rec</th>\n",
       "      <th>fbeta</th>\n",
       "      <th>accuracy_thresh</th>\n",
       "      <th>my_prc</th>\n",
       "      <th>my_rec</th>\n",
       "      <th>fbeta</th>\n",
       "      <th>accuracy_thresh</th>\n",
       "      <th>my_prc</th>\n",
       "      <th>my_rec</th>\n",
       "      <th>fbeta</th>\n",
       "      <th>accuracy_thresh</th>\n",
       "      <th>my_prc</th>\n",
       "      <th>my_rec</th>\n",
       "      <th>fbeta</th>\n",
       "      <th>accuracy_thresh</th>\n",
       "      <th>my_prc</th>\n",
       "      <th>my_rec</th>\n",
       "      <th>fbeta</th>\n",
       "      <th>time</th>\n",
       "    </tr>\n",
       "  </thead>\n",
       "  <tbody>\n",
       "    <tr>\n",
       "      <td>0</td>\n",
       "      <td>0.037397</td>\n",
       "      <td>0.030284</td>\n",
       "      <td>0.991611</td>\n",
       "      <td>0.575922</td>\n",
       "      <td>0.672944</td>\n",
       "      <td>0.488792</td>\n",
       "      <td>0.055279</td>\n",
       "      <td>0.889794</td>\n",
       "      <td>0.674194</td>\n",
       "      <td>0.488389</td>\n",
       "      <td>0.191539</td>\n",
       "      <td>0.967227</td>\n",
       "      <td>0.682910</td>\n",
       "      <td>0.487390</td>\n",
       "      <td>0.412890</td>\n",
       "      <td>0.979631</td>\n",
       "      <td>0.692514</td>\n",
       "      <td>0.484515</td>\n",
       "      <td>0.506344</td>\n",
       "      <td>0.986054</td>\n",
       "      <td>0.708374</td>\n",
       "      <td>0.478800</td>\n",
       "      <td>0.542485</td>\n",
       "      <td>0.988886</td>\n",
       "      <td>0.726233</td>\n",
       "      <td>0.474816</td>\n",
       "      <td>0.552678</td>\n",
       "      <td>0.990590</td>\n",
       "      <td>0.741064</td>\n",
       "      <td>0.468084</td>\n",
       "      <td>0.549876</td>\n",
       "      <td>0.991611</td>\n",
       "      <td>0.762793</td>\n",
       "      <td>0.464588</td>\n",
       "      <td>0.544009</td>\n",
       "      <td>00:25</td>\n",
       "    </tr>\n",
       "    <tr>\n",
       "      <td>1</td>\n",
       "      <td>0.023061</td>\n",
       "      <td>0.015433</td>\n",
       "      <td>0.995355</td>\n",
       "      <td>0.716276</td>\n",
       "      <td>0.885532</td>\n",
       "      <td>0.687236</td>\n",
       "      <td>0.090114</td>\n",
       "      <td>0.938732</td>\n",
       "      <td>0.886083</td>\n",
       "      <td>0.685543</td>\n",
       "      <td>0.444654</td>\n",
       "      <td>0.982120</td>\n",
       "      <td>0.889072</td>\n",
       "      <td>0.679740</td>\n",
       "      <td>0.682352</td>\n",
       "      <td>0.989520</td>\n",
       "      <td>0.894257</td>\n",
       "      <td>0.672795</td>\n",
       "      <td>0.750134</td>\n",
       "      <td>0.993616</td>\n",
       "      <td>0.903077</td>\n",
       "      <td>0.660401</td>\n",
       "      <td>0.787588</td>\n",
       "      <td>0.994922</td>\n",
       "      <td>0.909539</td>\n",
       "      <td>0.648730</td>\n",
       "      <td>0.784376</td>\n",
       "      <td>0.995270</td>\n",
       "      <td>0.914502</td>\n",
       "      <td>0.636048</td>\n",
       "      <td>0.760499</td>\n",
       "      <td>0.995355</td>\n",
       "      <td>0.922020</td>\n",
       "      <td>0.625236</td>\n",
       "      <td>0.734593</td>\n",
       "      <td>00:26</td>\n",
       "    </tr>\n",
       "  </tbody>\n",
       "</table>"
      ],
      "text/plain": [
       "<IPython.core.display.HTML object>"
      ]
     },
     "metadata": {},
     "output_type": "display_data"
    }
   ],
   "source": [
    "learn.fit_one_cycle(2, slice(2e-2,2e-1), moms=(0.8,0.7))"
   ]
  },
  {
   "cell_type": "code",
   "execution_count": 50,
   "metadata": {
    "colab": {},
    "colab_type": "code",
    "id": "Go03WwP9l62p"
   },
   "outputs": [],
   "source": [
    "learn.save('first-basic')"
   ]
  },
  {
   "cell_type": "code",
   "execution_count": 51,
   "metadata": {
    "colab": {},
    "colab_type": "code",
    "id": "Nim2xtSDl65f"
   },
   "outputs": [
    {
     "data": {
      "text/plain": [
       "RNNLearner(data=TextClasDataBunch;\n",
       "\n",
       "Train: LabelList (9081 items)\n",
       "x: TextList\n",
       "xxbos xxup britoil xxup plc < xxup xxunk > 1986 xxup yr xxup london , xxmaj march 19 - xxmaj shr xxunk vs xxunk xxmaj final div 6p , making xxunk vs 13p . xxmaj pre - tax profit 134 mln stg vs 759 mln . xxmaj net profit 33 mln vs 253 mln . xxmaj turnover 978 mln stg vs 1.80 billion . xxmaj extraordinary debit 50 mln vs nil . xxmaj operating profit 149 mln stg vs 756 mln . xxmaj exceptional debit on rationalisation programme 12 mln vs nil xxmaj petroleum xxmaj revenue xxmaj taxes 77 mln vs 319 mln , xxup u.k. xxmaj corporation tax and overseas tax 24 mln vs 187 mln , xxmaj note - xxmaj the net effect of accounting changes in 1986 was to reduce after tax profits by 47 mln stg . xxmaj retained earnings for prior years were increased by 209 mln . xxmaj extraordinary debit of 50 mln stg related to the decision to seek a buyer for the company 's xxup u.s. xxmaj assets . xxup reuter,xxbos ( xxup xxunk xxup for xxup release xxup at 1130 xxup gmt xxup xxunk xxup march 19 ) xxrep 6 * xxup uk xxup feb xxup adjusted xxup unemployment xxup fell 44,100 xxup total 3.07 xxup mln xxup or 11.1 xxup pct - xxup official,xxbos xxrep 6 * xxup uk xxup unit xxup wage / xxup labour xxup costs xxup rose 3.3 xxup pct xxup in xxup three xxup months xxup ending xxup jan - xxup official xxmaj blah blah blah .,xxbos xxrep 6 * xxup uk xxup average xxup earnings xxup rose 7.6 xxup pct xxup in xxup january , xxup underlying xxup rise 7.5 xxup pct - xxup official xxmaj blah blah blah .,xxbos xxrep 6 * xxup u.k. xxup february xxup adjusted xxup sterling xxup m3 xxup rises 2 - 1 / 4 xxup pct , xxup m0 xxup down 3 / 4 xxup to xxup one xxup pct - xxup official xxmaj blah blah blah .\n",
       "y: MultiCategoryList\n",
       "35,114,10,10,70\n",
       "Path: .;\n",
       "\n",
       "Valid: LabelList (2270 items)\n",
       "x: TextList\n",
       "xxbos xxup dollar xxup general xxup corp < xxup xxunk > xxup 4th xxup qtr xxup net xxup xxunk , xxmaj march 11 - xxmaj shr 13 cts vs 40 cts xxmaj net xxunk vs xxunk xxmaj revs xxunk mln vs xxunk mln xxmaj year xxmaj shr 23 cts vs 95 cts xxmaj net xxunk vs 17.8 mln xxmaj revs xxunk mln vs xxunk mln xxmaj reuter,xxbos xxrep 6 * xxup api xxup says xxup distillate xxup stocks xxup up 2.85 xxup mln xxup bbls , xxup gasoline xxup off 2.37 xxup mln , xxup crude xxup off 1.13 xxup mln xxmaj blah blah blah .,xxbos xxup square d xxup corp < xxup xxunk > xxup 1st xxup qtr xxup net xxup palatine , xxup ill . , xxmaj april 13 - xxmaj shr 79 cts vs 73 cts xxmaj net xxunk vs xxunk xxmaj sales xxunk mln vs xxunk mln xxmaj reuter,xxbos xxup bp xxup australia xxup reports 16.15 xxup mln xxup dlr xxup year xxup loss xxup melbourne , xxmaj march 27 - xxmaj the < xxmaj british xxmaj petroleum xxmaj co of xxmaj australia xxmaj ltd > reported a 16.15 mln dlr net loss for 1986 against a xxunk mln dlr profit in 1985 after sales fell to 2.27 billion dlrs from 2.94 billion . xxmaj the xxmaj british xxmaj petroleum xxmaj co xxmaj plc < xxup bp.l > unit attributed the deficit to stock losses arising from the drop in crude prices in the first half , when it made a xxunk mln dlr loss . xxmaj it said government compensation , in the form of subsidies to refiners to partially cover stock losses , together with improved crude prices in the second half , enabled the group 's oil business to make a modest pre - tax profit . xxup bp xxmaj australia said it had not recommended a dividend . xxmaj commenting on the year 's performance , the company said it suspended operations at the 60 pct - owned xxmaj xxunk xxmaj nickel mine because of losses sustained from declining nickel prices . xxmaj the results also included an 11.3 mln dlr extraordinary writedown on the value of the laid - up oil exploration xxunk xxmaj regional xxmaj endeavour . xxup bp xxmaj australia said it had sold its 33 - 1 / 3 stake in chemical maker < xxup xxunk and xxmaj farmers xxmaj ltd > yielding an extraordinary profit of 18.9 mln dlrs and expected to finalise the sale of the 80 pct - owned < xxmaj xxunk xxmaj nitrogen xxmaj co > in the first half of 1987 . xxup reuter,xxbos xxup opec xxup may xxup have xxup to xxup meet xxup to xxup firm xxup prices - xxup analysts xxup by xxup ted xxup d'afflisio , xxmaj reuters xxup new xxup york , xxmaj feb 26 - xxup opec may be forced to meet before a scheduled xxmaj june session to xxunk its production cutting agreement if the organization wants to halt the current slide in oil prices , oil industry analysts said . xxmaj the movement to higher oil prices was never to be as easy as xxup opec thought . xxmaj they may need an emergency meeting to sort out the problems , said xxmaj daniel xxmaj yergin , director of xxmaj cambridge xxmaj energy xxmaj research xxmaj associates , xxup xxunk . xxmaj analysts and oil industry sources said the problem xxup opec faces is excess oil supply in world oil markets . xxup opec 's problem is not a price problem but a production issue and must be addressed in that way , said xxmaj paul xxmaj mlotok , oil analyst with xxmaj salomon xxmaj brothers xxmaj inc. xxmaj he said the market 's earlier optimism about xxup opec and its ability to keep production under control have given way to a pessimistic outlook that the organization must address soon if it wishes to regain the initiative in oil prices . xxmaj but some other analysts were uncertain that even an emergency meeting would address the problem of xxup opec production above the 15.8 mln bpd quota set last xxmaj december . xxup opec has to learn that in a buyers market you can not have deemed quotas , fixed prices and set differentials , said the regional manager for one of the major oil companies who spoke on condition that he not be named . xxmaj the market is now trying to xxunk them that lesson again , he added . xxmaj david xxup t. xxmaj mizrahi , editor of xxmaj mideast reports , expects xxup opec to meet before xxmaj june , although not immediately . xxmaj however , he is not optimistic that xxup opec can address its principal problems . xxmaj they will not meet now as they try to take advantage of the winter demand to sell their oil , but in late xxmaj march and xxmaj april when demand xxunk , xxmaj mizrahi said . xxmaj but xxmaj mizrahi said that xxup opec is unlikely to do anything more than xxunk its agreement to keep output at 15.8 mln bpd . xxmaj analysts said that the next two months will be critical for xxup opec 's ability to hold together prices and output . xxup opec must hold to its pact for the next six to eight weeks since buyers will come back into the market then , said xxmaj dillard xxmaj xxunk of xxmaj petroleum xxmaj analysis xxmaj ltd in xxmaj new xxmaj york . xxmaj but xxmaj xxunk xxmaj xxunk - xxmaj xxunk of xxmaj harvard xxmaj university 's xxmaj energy and xxmaj environment xxmaj policy xxmaj center said that the demand for xxup opec oil has been rising through the first quarter and this may have prompted excesses in its production . xxmaj demand for their ( xxup opec ) oil is clearly above 15.8 mln bpd and is probably closer to 17 mln bpd or higher now so what we are seeing characterized as cheating is xxup opec meeting this demand through current production , he told xxmaj reuters in a telephone interview . xxmaj reuter\n",
       "y: MultiCategoryList\n",
       "35,30;84,35,35,30\n",
       "Path: .;\n",
       "\n",
       "Test: None, model=SequentialRNN(\n",
       "  (0): MultiBatchEncoder(\n",
       "    (module): AWD_LSTM(\n",
       "      (encoder): Embedding(18248, 400, padding_idx=1)\n",
       "      (encoder_dp): EmbeddingDropout(\n",
       "        (emb): Embedding(18248, 400, padding_idx=1)\n",
       "      )\n",
       "      (rnns): ModuleList(\n",
       "        (0): WeightDropout(\n",
       "          (module): LSTM(400, 1152, batch_first=True)\n",
       "        )\n",
       "        (1): WeightDropout(\n",
       "          (module): LSTM(1152, 1152, batch_first=True)\n",
       "        )\n",
       "        (2): WeightDropout(\n",
       "          (module): LSTM(1152, 400, batch_first=True)\n",
       "        )\n",
       "      )\n",
       "      (input_dp): RNNDropout()\n",
       "      (hidden_dps): ModuleList(\n",
       "        (0): RNNDropout()\n",
       "        (1): RNNDropout()\n",
       "        (2): RNNDropout()\n",
       "      )\n",
       "    )\n",
       "  )\n",
       "  (1): PoolingLinearClassifier(\n",
       "    (layers): Sequential(\n",
       "      (0): BatchNorm1d(1200, eps=1e-05, momentum=0.1, affine=True, track_running_stats=True)\n",
       "      (1): Dropout(p=0.2)\n",
       "      (2): Linear(in_features=1200, out_features=50, bias=True)\n",
       "      (3): ReLU(inplace)\n",
       "      (4): BatchNorm1d(50, eps=1e-05, momentum=0.1, affine=True, track_running_stats=True)\n",
       "      (5): Dropout(p=0.1)\n",
       "      (6): Linear(in_features=50, out_features=114, bias=True)\n",
       "    )\n",
       "  )\n",
       "), opt_func=functools.partial(<class 'torch.optim.adam.Adam'>, betas=(0.9, 0.99)), loss_func=FlattenedLoss of BCEWithLogitsLoss(), metrics=[<function accuracy_thresh at 0x7fe0db3c3bf8>, functools.partial(<function accuracy_thresh at 0x7fe0db3c3bf8>, thresh=0.001), functools.partial(<function my_prc at 0x7fe0d94db510>, thresh=0.001), functools.partial(<function my_rec at 0x7fe0d94dbd90>, thresh=0.001), functools.partial(<function fbeta at 0x7fe13923ed08>, thresh=0.001, beta=1), functools.partial(<function accuracy_thresh at 0x7fe0db3c3bf8>, thresh=0.01), functools.partial(<function my_prc at 0x7fe0d94db510>, thresh=0.01), functools.partial(<function my_rec at 0x7fe0d94dbd90>, thresh=0.01), functools.partial(<function fbeta at 0x7fe13923ed08>, thresh=0.01, beta=1), functools.partial(<function accuracy_thresh at 0x7fe0db3c3bf8>, thresh=0.05), functools.partial(<function my_prc at 0x7fe0d94db510>, thresh=0.05), functools.partial(<function my_rec at 0x7fe0d94dbd90>, thresh=0.05), functools.partial(<function fbeta at 0x7fe13923ed08>, thresh=0.05, beta=1), functools.partial(<function accuracy_thresh at 0x7fe0db3c3bf8>, thresh=0.1), functools.partial(<function my_prc at 0x7fe0d94db510>, thresh=0.1), functools.partial(<function my_rec at 0x7fe0d94dbd90>, thresh=0.1), functools.partial(<function fbeta at 0x7fe13923ed08>, thresh=0.1, beta=1), functools.partial(<function accuracy_thresh at 0x7fe0db3c3bf8>, thresh=0.2), functools.partial(<function my_prc at 0x7fe0d94db510>, thresh=0.2), functools.partial(<function my_rec at 0x7fe0d94dbd90>, thresh=0.2), functools.partial(<function fbeta at 0x7fe13923ed08>, thresh=0.2, beta=1), functools.partial(<function accuracy_thresh at 0x7fe0db3c3bf8>, thresh=0.3), functools.partial(<function my_prc at 0x7fe0d94db510>, thresh=0.3), functools.partial(<function my_rec at 0x7fe0d94dbd90>, thresh=0.3), functools.partial(<function fbeta at 0x7fe13923ed08>, thresh=0.3, beta=1), functools.partial(<function accuracy_thresh at 0x7fe0db3c3bf8>, thresh=0.4), functools.partial(<function my_prc at 0x7fe0d94db510>, thresh=0.4), functools.partial(<function my_rec at 0x7fe0d94dbd90>, thresh=0.4), functools.partial(<function fbeta at 0x7fe13923ed08>, thresh=0.4, beta=1), functools.partial(<function accuracy_thresh at 0x7fe0db3c3bf8>, thresh=0.5), functools.partial(<function my_prc at 0x7fe0d94db510>, thresh=0.5), functools.partial(<function my_rec at 0x7fe0d94dbd90>, thresh=0.5), functools.partial(<function fbeta at 0x7fe13923ed08>, thresh=0.5, beta=1)], true_wd=True, bn_wd=True, wd=0.1, train_bn=True, path=PosixPath('.'), model_dir='models', callback_fns=[functools.partial(<class 'fastai.basic_train.Recorder'>, add_time=True, silent=False)], callbacks=[RNNTrainer\n",
       "learn: ...\n",
       "alpha: 2.0\n",
       "beta: 1.0], layer_groups=[Sequential(\n",
       "  (0): Embedding(18248, 400, padding_idx=1)\n",
       "  (1): EmbeddingDropout(\n",
       "    (emb): Embedding(18248, 400, padding_idx=1)\n",
       "  )\n",
       "), Sequential(\n",
       "  (0): WeightDropout(\n",
       "    (module): LSTM(400, 1152, batch_first=True)\n",
       "  )\n",
       "  (1): RNNDropout()\n",
       "), Sequential(\n",
       "  (0): WeightDropout(\n",
       "    (module): LSTM(1152, 1152, batch_first=True)\n",
       "  )\n",
       "  (1): RNNDropout()\n",
       "), Sequential(\n",
       "  (0): WeightDropout(\n",
       "    (module): LSTM(1152, 400, batch_first=True)\n",
       "  )\n",
       "  (1): RNNDropout()\n",
       "), Sequential(\n",
       "  (0): PoolingLinearClassifier(\n",
       "    (layers): Sequential(\n",
       "      (0): BatchNorm1d(1200, eps=1e-05, momentum=0.1, affine=True, track_running_stats=True)\n",
       "      (1): Dropout(p=0.2)\n",
       "      (2): Linear(in_features=1200, out_features=50, bias=True)\n",
       "      (3): ReLU(inplace)\n",
       "      (4): BatchNorm1d(50, eps=1e-05, momentum=0.1, affine=True, track_running_stats=True)\n",
       "      (5): Dropout(p=0.1)\n",
       "      (6): Linear(in_features=50, out_features=114, bias=True)\n",
       "    )\n",
       "  )\n",
       ")], add_time=True, silent=None)"
      ]
     },
     "execution_count": 51,
     "metadata": {},
     "output_type": "execute_result"
    }
   ],
   "source": [
    "learn.load('first-basic')"
   ]
  },
  {
   "cell_type": "markdown",
   "metadata": {
    "colab_type": "text",
    "id": "D-rmBz8xMJMJ"
   },
   "source": [
    "Why gradual unfreeze? Give example of Image detection."
   ]
  },
  {
   "cell_type": "code",
   "execution_count": 52,
   "metadata": {
    "colab": {},
    "colab_type": "code",
    "id": "TdYFyLlkl69M"
   },
   "outputs": [],
   "source": [
    "learn.freeze_to(-2)"
   ]
  },
  {
   "cell_type": "code",
   "execution_count": 53,
   "metadata": {
    "colab": {
     "base_uri": "https://localhost:8080/",
     "height": 300
    },
    "colab_type": "code",
    "id": "pOwJWQYNzZ5L",
    "outputId": "bc50453b-db43-40f9-95f5-459eacc4b4bf"
   },
   "outputs": [
    {
     "data": {
      "text/html": [],
      "text/plain": [
       "<IPython.core.display.HTML object>"
      ]
     },
     "metadata": {},
     "output_type": "display_data"
    },
    {
     "name": "stdout",
     "output_type": "stream",
     "text": [
      "LR Finder is complete, type {learner_name}.recorder.plot() to see the graph.\n"
     ]
    },
    {
     "data": {
      "image/png": "[encoded data removed]",
      "text/plain": [
       "<Figure size 432x288 with 1 Axes>"
      ]
     },
     "metadata": {
      "needs_background": "light"
     },
     "output_type": "display_data"
    }
   ],
   "source": [
    "learn.lr_find()\n",
    "learn.recorder.plot()"
   ]
  },
  {
   "cell_type": "code",
   "execution_count": 54,
   "metadata": {
    "colab": {
     "base_uri": "https://localhost:8080/",
     "height": 126
    },
    "colab_type": "code",
    "id": "dMGZ4kn2zUm4",
    "outputId": "fdc1c8a9-6b83-41c4-b6f2-4ae2eb922072"
   },
   "outputs": [
    {
     "data": {
      "text/html": [
       "<table border=\"1\" class=\"dataframe\">\n",
       "  <thead>\n",
       "    <tr style=\"text-align: left;\">\n",
       "      <th>epoch</th>\n",
       "      <th>train_loss</th>\n",
       "      <th>valid_loss</th>\n",
       "      <th>accuracy_thresh</th>\n",
       "      <th>accuracy_thresh</th>\n",
       "      <th>my_prc</th>\n",
       "      <th>my_rec</th>\n",
       "      <th>fbeta</th>\n",
       "      <th>accuracy_thresh</th>\n",
       "      <th>my_prc</th>\n",
       "      <th>my_rec</th>\n",
       "      <th>fbeta</th>\n",
       "      <th>accuracy_thresh</th>\n",
       "      <th>my_prc</th>\n",
       "      <th>my_rec</th>\n",
       "      <th>fbeta</th>\n",
       "      <th>accuracy_thresh</th>\n",
       "      <th>my_prc</th>\n",
       "      <th>my_rec</th>\n",
       "      <th>fbeta</th>\n",
       "      <th>accuracy_thresh</th>\n",
       "      <th>my_prc</th>\n",
       "      <th>my_rec</th>\n",
       "      <th>fbeta</th>\n",
       "      <th>accuracy_thresh</th>\n",
       "      <th>my_prc</th>\n",
       "      <th>my_rec</th>\n",
       "      <th>fbeta</th>\n",
       "      <th>accuracy_thresh</th>\n",
       "      <th>my_prc</th>\n",
       "      <th>my_rec</th>\n",
       "      <th>fbeta</th>\n",
       "      <th>accuracy_thresh</th>\n",
       "      <th>my_prc</th>\n",
       "      <th>my_rec</th>\n",
       "      <th>fbeta</th>\n",
       "      <th>time</th>\n",
       "    </tr>\n",
       "  </thead>\n",
       "  <tbody>\n",
       "    <tr>\n",
       "      <td>0</td>\n",
       "      <td>0.020105</td>\n",
       "      <td>0.014669</td>\n",
       "      <td>0.995529</td>\n",
       "      <td>0.748072</td>\n",
       "      <td>0.875212</td>\n",
       "      <td>0.714726</td>\n",
       "      <td>0.111000</td>\n",
       "      <td>0.941746</td>\n",
       "      <td>0.875927</td>\n",
       "      <td>0.713759</td>\n",
       "      <td>0.490048</td>\n",
       "      <td>0.981359</td>\n",
       "      <td>0.881445</td>\n",
       "      <td>0.710067</td>\n",
       "      <td>0.683162</td>\n",
       "      <td>0.989362</td>\n",
       "      <td>0.885688</td>\n",
       "      <td>0.705668</td>\n",
       "      <td>0.753553</td>\n",
       "      <td>0.993690</td>\n",
       "      <td>0.896131</td>\n",
       "      <td>0.692880</td>\n",
       "      <td>0.799660</td>\n",
       "      <td>0.994899</td>\n",
       "      <td>0.907415</td>\n",
       "      <td>0.681919</td>\n",
       "      <td>0.799177</td>\n",
       "      <td>0.995336</td>\n",
       "      <td>0.912441</td>\n",
       "      <td>0.670211</td>\n",
       "      <td>0.783431</td>\n",
       "      <td>0.995529</td>\n",
       "      <td>0.919904</td>\n",
       "      <td>0.658930</td>\n",
       "      <td>0.762642</td>\n",
       "      <td>00:33</td>\n",
       "    </tr>\n",
       "    <tr>\n",
       "      <td>1</td>\n",
       "      <td>0.018207</td>\n",
       "      <td>0.013722</td>\n",
       "      <td>0.995822</td>\n",
       "      <td>0.778209</td>\n",
       "      <td>0.886946</td>\n",
       "      <td>0.734279</td>\n",
       "      <td>0.120335</td>\n",
       "      <td>0.949366</td>\n",
       "      <td>0.888194</td>\n",
       "      <td>0.733615</td>\n",
       "      <td>0.503874</td>\n",
       "      <td>0.984268</td>\n",
       "      <td>0.892191</td>\n",
       "      <td>0.731272</td>\n",
       "      <td>0.715546</td>\n",
       "      <td>0.990818</td>\n",
       "      <td>0.893438</td>\n",
       "      <td>0.724669</td>\n",
       "      <td>0.779280</td>\n",
       "      <td>0.994161</td>\n",
       "      <td>0.899043</td>\n",
       "      <td>0.713260</td>\n",
       "      <td>0.808124</td>\n",
       "      <td>0.995251</td>\n",
       "      <td>0.903497</td>\n",
       "      <td>0.703833</td>\n",
       "      <td>0.810715</td>\n",
       "      <td>0.995749</td>\n",
       "      <td>0.912545</td>\n",
       "      <td>0.691668</td>\n",
       "      <td>0.803016</td>\n",
       "      <td>0.995822</td>\n",
       "      <td>0.919306</td>\n",
       "      <td>0.681741</td>\n",
       "      <td>0.784093</td>\n",
       "      <td>00:31</td>\n",
       "    </tr>\n",
       "    <tr>\n",
       "      <td>2</td>\n",
       "      <td>0.016774</td>\n",
       "      <td>0.012915</td>\n",
       "      <td>0.995970</td>\n",
       "      <td>0.793786</td>\n",
       "      <td>0.882627</td>\n",
       "      <td>0.752942</td>\n",
       "      <td>0.135917</td>\n",
       "      <td>0.955464</td>\n",
       "      <td>0.883547</td>\n",
       "      <td>0.752003</td>\n",
       "      <td>0.566504</td>\n",
       "      <td>0.985331</td>\n",
       "      <td>0.887418</td>\n",
       "      <td>0.749260</td>\n",
       "      <td>0.740066</td>\n",
       "      <td>0.991359</td>\n",
       "      <td>0.890361</td>\n",
       "      <td>0.746047</td>\n",
       "      <td>0.797588</td>\n",
       "      <td>0.994300</td>\n",
       "      <td>0.897567</td>\n",
       "      <td>0.738759</td>\n",
       "      <td>0.820926</td>\n",
       "      <td>0.995367</td>\n",
       "      <td>0.902017</td>\n",
       "      <td>0.730748</td>\n",
       "      <td>0.823299</td>\n",
       "      <td>0.995799</td>\n",
       "      <td>0.906663</td>\n",
       "      <td>0.720829</td>\n",
       "      <td>0.813850</td>\n",
       "      <td>0.995970</td>\n",
       "      <td>0.912255</td>\n",
       "      <td>0.713877</td>\n",
       "      <td>0.794610</td>\n",
       "      <td>00:33</td>\n",
       "    </tr>\n",
       "    <tr>\n",
       "      <td>3</td>\n",
       "      <td>0.016102</td>\n",
       "      <td>0.012785</td>\n",
       "      <td>0.995993</td>\n",
       "      <td>0.798651</td>\n",
       "      <td>0.885495</td>\n",
       "      <td>0.752559</td>\n",
       "      <td>0.143055</td>\n",
       "      <td>0.955360</td>\n",
       "      <td>0.886072</td>\n",
       "      <td>0.751922</td>\n",
       "      <td>0.566415</td>\n",
       "      <td>0.985389</td>\n",
       "      <td>0.889000</td>\n",
       "      <td>0.750039</td>\n",
       "      <td>0.739622</td>\n",
       "      <td>0.991425</td>\n",
       "      <td>0.892118</td>\n",
       "      <td>0.744908</td>\n",
       "      <td>0.797794</td>\n",
       "      <td>0.994416</td>\n",
       "      <td>0.897026</td>\n",
       "      <td>0.738014</td>\n",
       "      <td>0.825505</td>\n",
       "      <td>0.995440</td>\n",
       "      <td>0.903921</td>\n",
       "      <td>0.727119</td>\n",
       "      <td>0.824472</td>\n",
       "      <td>0.995869</td>\n",
       "      <td>0.912302</td>\n",
       "      <td>0.716004</td>\n",
       "      <td>0.817347</td>\n",
       "      <td>0.995993</td>\n",
       "      <td>0.916615</td>\n",
       "      <td>0.706542</td>\n",
       "      <td>0.797279</td>\n",
       "      <td>00:27</td>\n",
       "    </tr>\n",
       "  </tbody>\n",
       "</table>"
      ],
      "text/plain": [
       "<IPython.core.display.HTML object>"
      ]
     },
     "metadata": {},
     "output_type": "display_data"
    }
   ],
   "source": [
    "learn.fit_one_cycle(4, slice(2e-3/(2.6**4),2e-3), moms=(0.8,0.7))"
   ]
  },
  {
   "cell_type": "code",
   "execution_count": 57,
   "metadata": {
    "colab": {},
    "colab_type": "code",
    "id": "kzbQqXfll7CT"
   },
   "outputs": [],
   "source": [
    "learn.save('second-basic')"
   ]
  },
  {
   "cell_type": "code",
   "execution_count": 56,
   "metadata": {
    "colab": {},
    "colab_type": "code",
    "id": "AvF4OP0Ml7AY"
   },
   "outputs": [
    {
     "data": {
      "text/plain": [
       "RNNLearner(data=TextClasDataBunch;\n",
       "\n",
       "Train: LabelList (9081 items)\n",
       "x: TextList\n",
       "xxbos xxup britoil xxup plc < xxup xxunk > 1986 xxup yr xxup london , xxmaj march 19 - xxmaj shr xxunk vs xxunk xxmaj final div 6p , making xxunk vs 13p . xxmaj pre - tax profit 134 mln stg vs 759 mln . xxmaj net profit 33 mln vs 253 mln . xxmaj turnover 978 mln stg vs 1.80 billion . xxmaj extraordinary debit 50 mln vs nil . xxmaj operating profit 149 mln stg vs 756 mln . xxmaj exceptional debit on rationalisation programme 12 mln vs nil xxmaj petroleum xxmaj revenue xxmaj taxes 77 mln vs 319 mln , xxup u.k. xxmaj corporation tax and overseas tax 24 mln vs 187 mln , xxmaj note - xxmaj the net effect of accounting changes in 1986 was to reduce after tax profits by 47 mln stg . xxmaj retained earnings for prior years were increased by 209 mln . xxmaj extraordinary debit of 50 mln stg related to the decision to seek a buyer for the company 's xxup u.s. xxmaj assets . xxup reuter,xxbos ( xxup xxunk xxup for xxup release xxup at 1130 xxup gmt xxup xxunk xxup march 19 ) xxrep 6 * xxup uk xxup feb xxup adjusted xxup unemployment xxup fell 44,100 xxup total 3.07 xxup mln xxup or 11.1 xxup pct - xxup official,xxbos xxrep 6 * xxup uk xxup unit xxup wage / xxup labour xxup costs xxup rose 3.3 xxup pct xxup in xxup three xxup months xxup ending xxup jan - xxup official xxmaj blah blah blah .,xxbos xxrep 6 * xxup uk xxup average xxup earnings xxup rose 7.6 xxup pct xxup in xxup january , xxup underlying xxup rise 7.5 xxup pct - xxup official xxmaj blah blah blah .,xxbos xxrep 6 * xxup u.k. xxup february xxup adjusted xxup sterling xxup m3 xxup rises 2 - 1 / 4 xxup pct , xxup m0 xxup down 3 / 4 xxup to xxup one xxup pct - xxup official xxmaj blah blah blah .\n",
       "y: MultiCategoryList\n",
       "35,114,10,10,70\n",
       "Path: .;\n",
       "\n",
       "Valid: LabelList (2270 items)\n",
       "x: TextList\n",
       "xxbos xxup dollar xxup general xxup corp < xxup xxunk > xxup 4th xxup qtr xxup net xxup xxunk , xxmaj march 11 - xxmaj shr 13 cts vs 40 cts xxmaj net xxunk vs xxunk xxmaj revs xxunk mln vs xxunk mln xxmaj year xxmaj shr 23 cts vs 95 cts xxmaj net xxunk vs 17.8 mln xxmaj revs xxunk mln vs xxunk mln xxmaj reuter,xxbos xxrep 6 * xxup api xxup says xxup distillate xxup stocks xxup up 2.85 xxup mln xxup bbls , xxup gasoline xxup off 2.37 xxup mln , xxup crude xxup off 1.13 xxup mln xxmaj blah blah blah .,xxbos xxup square d xxup corp < xxup xxunk > xxup 1st xxup qtr xxup net xxup palatine , xxup ill . , xxmaj april 13 - xxmaj shr 79 cts vs 73 cts xxmaj net xxunk vs xxunk xxmaj sales xxunk mln vs xxunk mln xxmaj reuter,xxbos xxup bp xxup australia xxup reports 16.15 xxup mln xxup dlr xxup year xxup loss xxup melbourne , xxmaj march 27 - xxmaj the < xxmaj british xxmaj petroleum xxmaj co of xxmaj australia xxmaj ltd > reported a 16.15 mln dlr net loss for 1986 against a xxunk mln dlr profit in 1985 after sales fell to 2.27 billion dlrs from 2.94 billion . xxmaj the xxmaj british xxmaj petroleum xxmaj co xxmaj plc < xxup bp.l > unit attributed the deficit to stock losses arising from the drop in crude prices in the first half , when it made a xxunk mln dlr loss . xxmaj it said government compensation , in the form of subsidies to refiners to partially cover stock losses , together with improved crude prices in the second half , enabled the group 's oil business to make a modest pre - tax profit . xxup bp xxmaj australia said it had not recommended a dividend . xxmaj commenting on the year 's performance , the company said it suspended operations at the 60 pct - owned xxmaj xxunk xxmaj nickel mine because of losses sustained from declining nickel prices . xxmaj the results also included an 11.3 mln dlr extraordinary writedown on the value of the laid - up oil exploration xxunk xxmaj regional xxmaj endeavour . xxup bp xxmaj australia said it had sold its 33 - 1 / 3 stake in chemical maker < xxup xxunk and xxmaj farmers xxmaj ltd > yielding an extraordinary profit of 18.9 mln dlrs and expected to finalise the sale of the 80 pct - owned < xxmaj xxunk xxmaj nitrogen xxmaj co > in the first half of 1987 . xxup reuter,xxbos xxup opec xxup may xxup have xxup to xxup meet xxup to xxup firm xxup prices - xxup analysts xxup by xxup ted xxup d'afflisio , xxmaj reuters xxup new xxup york , xxmaj feb 26 - xxup opec may be forced to meet before a scheduled xxmaj june session to xxunk its production cutting agreement if the organization wants to halt the current slide in oil prices , oil industry analysts said . xxmaj the movement to higher oil prices was never to be as easy as xxup opec thought . xxmaj they may need an emergency meeting to sort out the problems , said xxmaj daniel xxmaj yergin , director of xxmaj cambridge xxmaj energy xxmaj research xxmaj associates , xxup xxunk . xxmaj analysts and oil industry sources said the problem xxup opec faces is excess oil supply in world oil markets . xxup opec 's problem is not a price problem but a production issue and must be addressed in that way , said xxmaj paul xxmaj mlotok , oil analyst with xxmaj salomon xxmaj brothers xxmaj inc. xxmaj he said the market 's earlier optimism about xxup opec and its ability to keep production under control have given way to a pessimistic outlook that the organization must address soon if it wishes to regain the initiative in oil prices . xxmaj but some other analysts were uncertain that even an emergency meeting would address the problem of xxup opec production above the 15.8 mln bpd quota set last xxmaj december . xxup opec has to learn that in a buyers market you can not have deemed quotas , fixed prices and set differentials , said the regional manager for one of the major oil companies who spoke on condition that he not be named . xxmaj the market is now trying to xxunk them that lesson again , he added . xxmaj david xxup t. xxmaj mizrahi , editor of xxmaj mideast reports , expects xxup opec to meet before xxmaj june , although not immediately . xxmaj however , he is not optimistic that xxup opec can address its principal problems . xxmaj they will not meet now as they try to take advantage of the winter demand to sell their oil , but in late xxmaj march and xxmaj april when demand xxunk , xxmaj mizrahi said . xxmaj but xxmaj mizrahi said that xxup opec is unlikely to do anything more than xxunk its agreement to keep output at 15.8 mln bpd . xxmaj analysts said that the next two months will be critical for xxup opec 's ability to hold together prices and output . xxup opec must hold to its pact for the next six to eight weeks since buyers will come back into the market then , said xxmaj dillard xxmaj xxunk of xxmaj petroleum xxmaj analysis xxmaj ltd in xxmaj new xxmaj york . xxmaj but xxmaj xxunk xxmaj xxunk - xxmaj xxunk of xxmaj harvard xxmaj university 's xxmaj energy and xxmaj environment xxmaj policy xxmaj center said that the demand for xxup opec oil has been rising through the first quarter and this may have prompted excesses in its production . xxmaj demand for their ( xxup opec ) oil is clearly above 15.8 mln bpd and is probably closer to 17 mln bpd or higher now so what we are seeing characterized as cheating is xxup opec meeting this demand through current production , he told xxmaj reuters in a telephone interview . xxmaj reuter\n",
       "y: MultiCategoryList\n",
       "35,30;84,35,35,30\n",
       "Path: .;\n",
       "\n",
       "Test: None, model=SequentialRNN(\n",
       "  (0): MultiBatchEncoder(\n",
       "    (module): AWD_LSTM(\n",
       "      (encoder): Embedding(18248, 400, padding_idx=1)\n",
       "      (encoder_dp): EmbeddingDropout(\n",
       "        (emb): Embedding(18248, 400, padding_idx=1)\n",
       "      )\n",
       "      (rnns): ModuleList(\n",
       "        (0): WeightDropout(\n",
       "          (module): LSTM(400, 1152, batch_first=True)\n",
       "        )\n",
       "        (1): WeightDropout(\n",
       "          (module): LSTM(1152, 1152, batch_first=True)\n",
       "        )\n",
       "        (2): WeightDropout(\n",
       "          (module): LSTM(1152, 400, batch_first=True)\n",
       "        )\n",
       "      )\n",
       "      (input_dp): RNNDropout()\n",
       "      (hidden_dps): ModuleList(\n",
       "        (0): RNNDropout()\n",
       "        (1): RNNDropout()\n",
       "        (2): RNNDropout()\n",
       "      )\n",
       "    )\n",
       "  )\n",
       "  (1): PoolingLinearClassifier(\n",
       "    (layers): Sequential(\n",
       "      (0): BatchNorm1d(1200, eps=1e-05, momentum=0.1, affine=True, track_running_stats=True)\n",
       "      (1): Dropout(p=0.2)\n",
       "      (2): Linear(in_features=1200, out_features=50, bias=True)\n",
       "      (3): ReLU(inplace)\n",
       "      (4): BatchNorm1d(50, eps=1e-05, momentum=0.1, affine=True, track_running_stats=True)\n",
       "      (5): Dropout(p=0.1)\n",
       "      (6): Linear(in_features=50, out_features=114, bias=True)\n",
       "    )\n",
       "  )\n",
       "), opt_func=functools.partial(<class 'torch.optim.adam.Adam'>, betas=(0.9, 0.99)), loss_func=FlattenedLoss of BCEWithLogitsLoss(), metrics=[<function accuracy_thresh at 0x7fe0db3c3bf8>, functools.partial(<function accuracy_thresh at 0x7fe0db3c3bf8>, thresh=0.001), functools.partial(<function my_prc at 0x7fe0d94db510>, thresh=0.001), functools.partial(<function my_rec at 0x7fe0d94dbd90>, thresh=0.001), functools.partial(<function fbeta at 0x7fe13923ed08>, thresh=0.001, beta=1), functools.partial(<function accuracy_thresh at 0x7fe0db3c3bf8>, thresh=0.01), functools.partial(<function my_prc at 0x7fe0d94db510>, thresh=0.01), functools.partial(<function my_rec at 0x7fe0d94dbd90>, thresh=0.01), functools.partial(<function fbeta at 0x7fe13923ed08>, thresh=0.01, beta=1), functools.partial(<function accuracy_thresh at 0x7fe0db3c3bf8>, thresh=0.05), functools.partial(<function my_prc at 0x7fe0d94db510>, thresh=0.05), functools.partial(<function my_rec at 0x7fe0d94dbd90>, thresh=0.05), functools.partial(<function fbeta at 0x7fe13923ed08>, thresh=0.05, beta=1), functools.partial(<function accuracy_thresh at 0x7fe0db3c3bf8>, thresh=0.1), functools.partial(<function my_prc at 0x7fe0d94db510>, thresh=0.1), functools.partial(<function my_rec at 0x7fe0d94dbd90>, thresh=0.1), functools.partial(<function fbeta at 0x7fe13923ed08>, thresh=0.1, beta=1), functools.partial(<function accuracy_thresh at 0x7fe0db3c3bf8>, thresh=0.2), functools.partial(<function my_prc at 0x7fe0d94db510>, thresh=0.2), functools.partial(<function my_rec at 0x7fe0d94dbd90>, thresh=0.2), functools.partial(<function fbeta at 0x7fe13923ed08>, thresh=0.2, beta=1), functools.partial(<function accuracy_thresh at 0x7fe0db3c3bf8>, thresh=0.3), functools.partial(<function my_prc at 0x7fe0d94db510>, thresh=0.3), functools.partial(<function my_rec at 0x7fe0d94dbd90>, thresh=0.3), functools.partial(<function fbeta at 0x7fe13923ed08>, thresh=0.3, beta=1), functools.partial(<function accuracy_thresh at 0x7fe0db3c3bf8>, thresh=0.4), functools.partial(<function my_prc at 0x7fe0d94db510>, thresh=0.4), functools.partial(<function my_rec at 0x7fe0d94dbd90>, thresh=0.4), functools.partial(<function fbeta at 0x7fe13923ed08>, thresh=0.4, beta=1), functools.partial(<function accuracy_thresh at 0x7fe0db3c3bf8>, thresh=0.5), functools.partial(<function my_prc at 0x7fe0d94db510>, thresh=0.5), functools.partial(<function my_rec at 0x7fe0d94dbd90>, thresh=0.5), functools.partial(<function fbeta at 0x7fe13923ed08>, thresh=0.5, beta=1)], true_wd=True, bn_wd=True, wd=0.1, train_bn=True, path=PosixPath('.'), model_dir='models', callback_fns=[functools.partial(<class 'fastai.basic_train.Recorder'>, add_time=True, silent=False)], callbacks=[RNNTrainer\n",
       "learn: ...\n",
       "alpha: 2.0\n",
       "beta: 1.0], layer_groups=[Sequential(\n",
       "  (0): Embedding(18248, 400, padding_idx=1)\n",
       "  (1): EmbeddingDropout(\n",
       "    (emb): Embedding(18248, 400, padding_idx=1)\n",
       "  )\n",
       "), Sequential(\n",
       "  (0): WeightDropout(\n",
       "    (module): LSTM(400, 1152, batch_first=True)\n",
       "  )\n",
       "  (1): RNNDropout()\n",
       "), Sequential(\n",
       "  (0): WeightDropout(\n",
       "    (module): LSTM(1152, 1152, batch_first=True)\n",
       "  )\n",
       "  (1): RNNDropout()\n",
       "), Sequential(\n",
       "  (0): WeightDropout(\n",
       "    (module): LSTM(1152, 400, batch_first=True)\n",
       "  )\n",
       "  (1): RNNDropout()\n",
       "), Sequential(\n",
       "  (0): PoolingLinearClassifier(\n",
       "    (layers): Sequential(\n",
       "      (0): BatchNorm1d(1200, eps=1e-05, momentum=0.1, affine=True, track_running_stats=True)\n",
       "      (1): Dropout(p=0.2)\n",
       "      (2): Linear(in_features=1200, out_features=50, bias=True)\n",
       "      (3): ReLU(inplace)\n",
       "      (4): BatchNorm1d(50, eps=1e-05, momentum=0.1, affine=True, track_running_stats=True)\n",
       "      (5): Dropout(p=0.1)\n",
       "      (6): Linear(in_features=50, out_features=114, bias=True)\n",
       "    )\n",
       "  )\n",
       ")], add_time=True, silent=None)"
      ]
     },
     "execution_count": 56,
     "metadata": {},
     "output_type": "execute_result"
    }
   ],
   "source": [
    "learn.load('second-basic')"
   ]
  },
  {
   "cell_type": "code",
   "execution_count": 59,
   "metadata": {},
   "outputs": [
    {
     "data": {
      "text/html": [],
      "text/plain": [
       "<IPython.core.display.HTML object>"
      ]
     },
     "metadata": {},
     "output_type": "display_data"
    },
    {
     "name": "stdout",
     "output_type": "stream",
     "text": [
      "LR Finder is complete, type {learner_name}.recorder.plot() to see the graph.\n"
     ]
    },
    {
     "data": {
      "image/png": "[encoded data removed]",
      "text/plain": [
       "<Figure size 432x288 with 1 Axes>"
      ]
     },
     "metadata": {
      "needs_background": "light"
     },
     "output_type": "display_data"
    }
   ],
   "source": [
    "learn.lr_find()\n",
    "learn.recorder.plot()"
   ]
  },
  {
   "cell_type": "code",
   "execution_count": 60,
   "metadata": {},
   "outputs": [
    {
     "data": {
      "text/html": [
       "<table border=\"1\" class=\"dataframe\">\n",
       "  <thead>\n",
       "    <tr style=\"text-align: left;\">\n",
       "      <th>epoch</th>\n",
       "      <th>train_loss</th>\n",
       "      <th>valid_loss</th>\n",
       "      <th>accuracy_thresh</th>\n",
       "      <th>accuracy_thresh</th>\n",
       "      <th>my_prc</th>\n",
       "      <th>my_rec</th>\n",
       "      <th>fbeta</th>\n",
       "      <th>accuracy_thresh</th>\n",
       "      <th>my_prc</th>\n",
       "      <th>my_rec</th>\n",
       "      <th>fbeta</th>\n",
       "      <th>accuracy_thresh</th>\n",
       "      <th>my_prc</th>\n",
       "      <th>my_rec</th>\n",
       "      <th>fbeta</th>\n",
       "      <th>accuracy_thresh</th>\n",
       "      <th>my_prc</th>\n",
       "      <th>my_rec</th>\n",
       "      <th>fbeta</th>\n",
       "      <th>accuracy_thresh</th>\n",
       "      <th>my_prc</th>\n",
       "      <th>my_rec</th>\n",
       "      <th>fbeta</th>\n",
       "      <th>accuracy_thresh</th>\n",
       "      <th>my_prc</th>\n",
       "      <th>my_rec</th>\n",
       "      <th>fbeta</th>\n",
       "      <th>accuracy_thresh</th>\n",
       "      <th>my_prc</th>\n",
       "      <th>my_rec</th>\n",
       "      <th>fbeta</th>\n",
       "      <th>accuracy_thresh</th>\n",
       "      <th>my_prc</th>\n",
       "      <th>my_rec</th>\n",
       "      <th>fbeta</th>\n",
       "      <th>time</th>\n",
       "    </tr>\n",
       "  </thead>\n",
       "  <tbody>\n",
       "    <tr>\n",
       "      <td>0</td>\n",
       "      <td>0.017143</td>\n",
       "      <td>0.013728</td>\n",
       "      <td>0.995769</td>\n",
       "      <td>0.831942</td>\n",
       "      <td>0.847947</td>\n",
       "      <td>0.776414</td>\n",
       "      <td>0.162353</td>\n",
       "      <td>0.960434</td>\n",
       "      <td>0.849156</td>\n",
       "      <td>0.775800</td>\n",
       "      <td>0.573864</td>\n",
       "      <td>0.985629</td>\n",
       "      <td>0.852183</td>\n",
       "      <td>0.771063</td>\n",
       "      <td>0.747715</td>\n",
       "      <td>0.990621</td>\n",
       "      <td>0.855773</td>\n",
       "      <td>0.770257</td>\n",
       "      <td>0.793185</td>\n",
       "      <td>0.993566</td>\n",
       "      <td>0.862630</td>\n",
       "      <td>0.762477</td>\n",
       "      <td>0.817013</td>\n",
       "      <td>0.994841</td>\n",
       "      <td>0.868393</td>\n",
       "      <td>0.755898</td>\n",
       "      <td>0.822136</td>\n",
       "      <td>0.995436</td>\n",
       "      <td>0.873341</td>\n",
       "      <td>0.748706</td>\n",
       "      <td>0.817488</td>\n",
       "      <td>0.995769</td>\n",
       "      <td>0.879377</td>\n",
       "      <td>0.741874</td>\n",
       "      <td>0.809804</td>\n",
       "      <td>00:34</td>\n",
       "    </tr>\n",
       "    <tr>\n",
       "      <td>1</td>\n",
       "      <td>0.015096</td>\n",
       "      <td>0.011267</td>\n",
       "      <td>0.996383</td>\n",
       "      <td>0.853760</td>\n",
       "      <td>0.890359</td>\n",
       "      <td>0.786931</td>\n",
       "      <td>0.233355</td>\n",
       "      <td>0.964503</td>\n",
       "      <td>0.891064</td>\n",
       "      <td>0.786931</td>\n",
       "      <td>0.623085</td>\n",
       "      <td>0.988079</td>\n",
       "      <td>0.892687</td>\n",
       "      <td>0.784389</td>\n",
       "      <td>0.774873</td>\n",
       "      <td>0.992631</td>\n",
       "      <td>0.894832</td>\n",
       "      <td>0.780509</td>\n",
       "      <td>0.823694</td>\n",
       "      <td>0.995166</td>\n",
       "      <td>0.900803</td>\n",
       "      <td>0.774418</td>\n",
       "      <td>0.850332</td>\n",
       "      <td>0.995954</td>\n",
       "      <td>0.904674</td>\n",
       "      <td>0.766480</td>\n",
       "      <td>0.850318</td>\n",
       "      <td>0.996290</td>\n",
       "      <td>0.909844</td>\n",
       "      <td>0.760053</td>\n",
       "      <td>0.845860</td>\n",
       "      <td>0.996383</td>\n",
       "      <td>0.917269</td>\n",
       "      <td>0.753109</td>\n",
       "      <td>0.831421</td>\n",
       "      <td>00:33</td>\n",
       "    </tr>\n",
       "  </tbody>\n",
       "</table>"
      ],
      "text/plain": [
       "<IPython.core.display.HTML object>"
      ]
     },
     "metadata": {},
     "output_type": "display_data"
    }
   ],
   "source": [
    "learn.fit_one_cycle(2, slice(1e-2/(2.6**4),1e-2), moms=(0.8,0.7))"
   ]
  },
  {
   "cell_type": "code",
   "execution_count": 61,
   "metadata": {
    "colab": {},
    "colab_type": "code",
    "id": "wIdm-jGQl6wV"
   },
   "outputs": [],
   "source": [
    "learn.freeze_to(-3)"
   ]
  },
  {
   "cell_type": "code",
   "execution_count": 62,
   "metadata": {
    "colab": {},
    "colab_type": "code",
    "id": "G6S95Yyczw98"
   },
   "outputs": [
    {
     "data": {
      "text/html": [],
      "text/plain": [
       "<IPython.core.display.HTML object>"
      ]
     },
     "metadata": {},
     "output_type": "display_data"
    },
    {
     "name": "stdout",
     "output_type": "stream",
     "text": [
      "LR Finder is complete, type {learner_name}.recorder.plot() to see the graph.\n"
     ]
    },
    {
     "data": {
      "image/png": "[encoded data removed]",
      "text/plain": [
       "<Figure size 432x288 with 1 Axes>"
      ]
     },
     "metadata": {
      "needs_background": "light"
     },
     "output_type": "display_data"
    }
   ],
   "source": [
    "learn.lr_find()\n",
    "learn.recorder.plot()"
   ]
  },
  {
   "cell_type": "code",
   "execution_count": 63,
   "metadata": {
    "colab": {},
    "colab_type": "code",
    "id": "saqmt2ujzxLf"
   },
   "outputs": [
    {
     "data": {
      "text/html": [
       "<table border=\"1\" class=\"dataframe\">\n",
       "  <thead>\n",
       "    <tr style=\"text-align: left;\">\n",
       "      <th>epoch</th>\n",
       "      <th>train_loss</th>\n",
       "      <th>valid_loss</th>\n",
       "      <th>accuracy_thresh</th>\n",
       "      <th>accuracy_thresh</th>\n",
       "      <th>my_prc</th>\n",
       "      <th>my_rec</th>\n",
       "      <th>fbeta</th>\n",
       "      <th>accuracy_thresh</th>\n",
       "      <th>my_prc</th>\n",
       "      <th>my_rec</th>\n",
       "      <th>fbeta</th>\n",
       "      <th>accuracy_thresh</th>\n",
       "      <th>my_prc</th>\n",
       "      <th>my_rec</th>\n",
       "      <th>fbeta</th>\n",
       "      <th>accuracy_thresh</th>\n",
       "      <th>my_prc</th>\n",
       "      <th>my_rec</th>\n",
       "      <th>fbeta</th>\n",
       "      <th>accuracy_thresh</th>\n",
       "      <th>my_prc</th>\n",
       "      <th>my_rec</th>\n",
       "      <th>fbeta</th>\n",
       "      <th>accuracy_thresh</th>\n",
       "      <th>my_prc</th>\n",
       "      <th>my_rec</th>\n",
       "      <th>fbeta</th>\n",
       "      <th>accuracy_thresh</th>\n",
       "      <th>my_prc</th>\n",
       "      <th>my_rec</th>\n",
       "      <th>fbeta</th>\n",
       "      <th>accuracy_thresh</th>\n",
       "      <th>my_prc</th>\n",
       "      <th>my_rec</th>\n",
       "      <th>fbeta</th>\n",
       "      <th>time</th>\n",
       "    </tr>\n",
       "  </thead>\n",
       "  <tbody>\n",
       "    <tr>\n",
       "      <td>0</td>\n",
       "      <td>0.014393</td>\n",
       "      <td>0.011049</td>\n",
       "      <td>0.996375</td>\n",
       "      <td>0.855004</td>\n",
       "      <td>0.870739</td>\n",
       "      <td>0.814121</td>\n",
       "      <td>0.205166</td>\n",
       "      <td>0.965430</td>\n",
       "      <td>0.870577</td>\n",
       "      <td>0.813534</td>\n",
       "      <td>0.634251</td>\n",
       "      <td>0.987391</td>\n",
       "      <td>0.872224</td>\n",
       "      <td>0.811999</td>\n",
       "      <td>0.773785</td>\n",
       "      <td>0.992132</td>\n",
       "      <td>0.875857</td>\n",
       "      <td>0.808635</td>\n",
       "      <td>0.823663</td>\n",
       "      <td>0.994891</td>\n",
       "      <td>0.880302</td>\n",
       "      <td>0.802679</td>\n",
       "      <td>0.854015</td>\n",
       "      <td>0.995823</td>\n",
       "      <td>0.888139</td>\n",
       "      <td>0.794561</td>\n",
       "      <td>0.859978</td>\n",
       "      <td>0.996225</td>\n",
       "      <td>0.895200</td>\n",
       "      <td>0.787628</td>\n",
       "      <td>0.857074</td>\n",
       "      <td>0.996375</td>\n",
       "      <td>0.900419</td>\n",
       "      <td>0.781705</td>\n",
       "      <td>0.844632</td>\n",
       "      <td>00:42</td>\n",
       "    </tr>\n",
       "    <tr>\n",
       "      <td>1</td>\n",
       "      <td>0.013443</td>\n",
       "      <td>0.010584</td>\n",
       "      <td>0.996565</td>\n",
       "      <td>0.882491</td>\n",
       "      <td>0.884649</td>\n",
       "      <td>0.815412</td>\n",
       "      <td>0.254449</td>\n",
       "      <td>0.971953</td>\n",
       "      <td>0.885547</td>\n",
       "      <td>0.815412</td>\n",
       "      <td>0.664573</td>\n",
       "      <td>0.989667</td>\n",
       "      <td>0.887759</td>\n",
       "      <td>0.814056</td>\n",
       "      <td>0.799067</td>\n",
       "      <td>0.993149</td>\n",
       "      <td>0.892092</td>\n",
       "      <td>0.812102</td>\n",
       "      <td>0.837043</td>\n",
       "      <td>0.995382</td>\n",
       "      <td>0.896831</td>\n",
       "      <td>0.807089</td>\n",
       "      <td>0.861545</td>\n",
       "      <td>0.996132</td>\n",
       "      <td>0.903423</td>\n",
       "      <td>0.802927</td>\n",
       "      <td>0.866167</td>\n",
       "      <td>0.996483</td>\n",
       "      <td>0.906684</td>\n",
       "      <td>0.797306</td>\n",
       "      <td>0.864169</td>\n",
       "      <td>0.996565</td>\n",
       "      <td>0.912489</td>\n",
       "      <td>0.792998</td>\n",
       "      <td>0.851854</td>\n",
       "      <td>00:46</td>\n",
       "    </tr>\n",
       "    <tr>\n",
       "      <td>2</td>\n",
       "      <td>0.011672</td>\n",
       "      <td>0.010475</td>\n",
       "      <td>0.996642</td>\n",
       "      <td>0.869024</td>\n",
       "      <td>0.883963</td>\n",
       "      <td>0.823026</td>\n",
       "      <td>0.229039</td>\n",
       "      <td>0.969758</td>\n",
       "      <td>0.885209</td>\n",
       "      <td>0.823026</td>\n",
       "      <td>0.661909</td>\n",
       "      <td>0.988971</td>\n",
       "      <td>0.887438</td>\n",
       "      <td>0.821614</td>\n",
       "      <td>0.797665</td>\n",
       "      <td>0.992812</td>\n",
       "      <td>0.891768</td>\n",
       "      <td>0.818990</td>\n",
       "      <td>0.836099</td>\n",
       "      <td>0.995255</td>\n",
       "      <td>0.898341</td>\n",
       "      <td>0.811359</td>\n",
       "      <td>0.863379</td>\n",
       "      <td>0.996112</td>\n",
       "      <td>0.903876</td>\n",
       "      <td>0.804897</td>\n",
       "      <td>0.869156</td>\n",
       "      <td>0.996503</td>\n",
       "      <td>0.907750</td>\n",
       "      <td>0.798585</td>\n",
       "      <td>0.867202</td>\n",
       "      <td>0.996642</td>\n",
       "      <td>0.912252</td>\n",
       "      <td>0.791564</td>\n",
       "      <td>0.854371</td>\n",
       "      <td>00:48</td>\n",
       "    </tr>\n",
       "  </tbody>\n",
       "</table>"
      ],
      "text/plain": [
       "<IPython.core.display.HTML object>"
      ]
     },
     "metadata": {},
     "output_type": "display_data"
    }
   ],
   "source": [
    "learn.fit_one_cycle(3, slice(1e-3/(2.6**4),1e-3), moms=(0.8,0.7))"
   ]
  },
  {
   "cell_type": "markdown",
   "metadata": {
    "colab_type": "text",
    "id": "_nTxCsG_9qpc"
   },
   "source": []
  },
  {
   "cell_type": "code",
   "execution_count": 64,
   "metadata": {
    "colab": {},
    "colab_type": "code",
    "id": "RE0TtGjRmPKC"
   },
   "outputs": [],
   "source": [
    "learn.save('third-basic')"
   ]
  },
  {
   "cell_type": "code",
   "execution_count": 65,
   "metadata": {
    "colab": {},
    "colab_type": "code",
    "id": "LC6BWsAnmPNY"
   },
   "outputs": [],
   "source": [
    "learn.load('third-basic');"
   ]
  },
  {
   "cell_type": "code",
   "execution_count": 66,
   "metadata": {
    "colab": {},
    "colab_type": "code",
    "id": "GUKluTG6mPQo"
   },
   "outputs": [],
   "source": [
    "learn.unfreeze()"
   ]
  },
  {
   "cell_type": "code",
   "execution_count": 67,
   "metadata": {
    "colab": {},
    "colab_type": "code",
    "id": "H6x85WK80lCW"
   },
   "outputs": [
    {
     "data": {
      "text/html": [],
      "text/plain": [
       "<IPython.core.display.HTML object>"
      ]
     },
     "metadata": {},
     "output_type": "display_data"
    },
    {
     "name": "stdout",
     "output_type": "stream",
     "text": [
      "LR Finder is complete, type {learner_name}.recorder.plot() to see the graph.\n"
     ]
    },
    {
     "data": {
      "image/png": "[encoded data removed]",
      "text/plain": [
       "<Figure size 432x288 with 1 Axes>"
      ]
     },
     "metadata": {
      "needs_background": "light"
     },
     "output_type": "display_data"
    }
   ],
   "source": [
    "learn.lr_find()\n",
    "learn.recorder.plot()"
   ]
  },
  {
   "cell_type": "code",
   "execution_count": 83,
   "metadata": {
    "colab": {},
    "colab_type": "code",
    "id": "SvuUa_8d0lX1",
    "scrolled": true
   },
   "outputs": [
    {
     "data": {
      "text/html": [
       "<table border=\"1\" class=\"dataframe\">\n",
       "  <thead>\n",
       "    <tr style=\"text-align: left;\">\n",
       "      <th>epoch</th>\n",
       "      <th>train_loss</th>\n",
       "      <th>valid_loss</th>\n",
       "      <th>accuracy_thresh</th>\n",
       "      <th>accuracy_thresh</th>\n",
       "      <th>my_prc</th>\n",
       "      <th>my_rec</th>\n",
       "      <th>fbeta</th>\n",
       "      <th>accuracy_thresh</th>\n",
       "      <th>my_prc</th>\n",
       "      <th>my_rec</th>\n",
       "      <th>fbeta</th>\n",
       "      <th>accuracy_thresh</th>\n",
       "      <th>my_prc</th>\n",
       "      <th>my_rec</th>\n",
       "      <th>fbeta</th>\n",
       "      <th>accuracy_thresh</th>\n",
       "      <th>my_prc</th>\n",
       "      <th>my_rec</th>\n",
       "      <th>fbeta</th>\n",
       "      <th>accuracy_thresh</th>\n",
       "      <th>my_prc</th>\n",
       "      <th>my_rec</th>\n",
       "      <th>fbeta</th>\n",
       "      <th>accuracy_thresh</th>\n",
       "      <th>my_prc</th>\n",
       "      <th>my_rec</th>\n",
       "      <th>fbeta</th>\n",
       "      <th>accuracy_thresh</th>\n",
       "      <th>my_prc</th>\n",
       "      <th>my_rec</th>\n",
       "      <th>fbeta</th>\n",
       "      <th>accuracy_thresh</th>\n",
       "      <th>my_prc</th>\n",
       "      <th>my_rec</th>\n",
       "      <th>fbeta</th>\n",
       "      <th>time</th>\n",
       "    </tr>\n",
       "  </thead>\n",
       "  <tbody>\n",
       "    <tr>\n",
       "      <td>0</td>\n",
       "      <td>0.008662</td>\n",
       "      <td>0.008565</td>\n",
       "      <td>0.997558</td>\n",
       "      <td>0.922796</td>\n",
       "      <td>0.928551</td>\n",
       "      <td>0.861630</td>\n",
       "      <td>0.357243</td>\n",
       "      <td>0.982854</td>\n",
       "      <td>0.929208</td>\n",
       "      <td>0.860730</td>\n",
       "      <td>0.759793</td>\n",
       "      <td>0.993508</td>\n",
       "      <td>0.929236</td>\n",
       "      <td>0.858015</td>\n",
       "      <td>0.859968</td>\n",
       "      <td>0.995459</td>\n",
       "      <td>0.931015</td>\n",
       "      <td>0.856723</td>\n",
       "      <td>0.886094</td>\n",
       "      <td>0.996781</td>\n",
       "      <td>0.933417</td>\n",
       "      <td>0.853497</td>\n",
       "      <td>0.904000</td>\n",
       "      <td>0.997253</td>\n",
       "      <td>0.936270</td>\n",
       "      <td>0.847407</td>\n",
       "      <td>0.908195</td>\n",
       "      <td>0.997469</td>\n",
       "      <td>0.939127</td>\n",
       "      <td>0.842343</td>\n",
       "      <td>0.906480</td>\n",
       "      <td>0.997558</td>\n",
       "      <td>0.941589</td>\n",
       "      <td>0.838588</td>\n",
       "      <td>0.901585</td>\n",
       "      <td>01:04</td>\n",
       "    </tr>\n",
       "    <tr>\n",
       "      <td>1</td>\n",
       "      <td>0.007344</td>\n",
       "      <td>0.008404</td>\n",
       "      <td>0.997535</td>\n",
       "      <td>0.918425</td>\n",
       "      <td>0.921252</td>\n",
       "      <td>0.867532</td>\n",
       "      <td>0.342265</td>\n",
       "      <td>0.981865</td>\n",
       "      <td>0.921252</td>\n",
       "      <td>0.867532</td>\n",
       "      <td>0.758540</td>\n",
       "      <td>0.992859</td>\n",
       "      <td>0.923800</td>\n",
       "      <td>0.865972</td>\n",
       "      <td>0.853737</td>\n",
       "      <td>0.995119</td>\n",
       "      <td>0.925426</td>\n",
       "      <td>0.864026</td>\n",
       "      <td>0.882246</td>\n",
       "      <td>0.996611</td>\n",
       "      <td>0.929492</td>\n",
       "      <td>0.860586</td>\n",
       "      <td>0.902684</td>\n",
       "      <td>0.997225</td>\n",
       "      <td>0.933423</td>\n",
       "      <td>0.856410</td>\n",
       "      <td>0.908432</td>\n",
       "      <td>0.997446</td>\n",
       "      <td>0.936301</td>\n",
       "      <td>0.849645</td>\n",
       "      <td>0.906610</td>\n",
       "      <td>0.997535</td>\n",
       "      <td>0.939093</td>\n",
       "      <td>0.847157</td>\n",
       "      <td>0.902617</td>\n",
       "      <td>00:51</td>\n",
       "    </tr>\n",
       "  </tbody>\n",
       "</table>"
      ],
      "text/plain": [
       "<IPython.core.display.HTML object>"
      ]
     },
     "metadata": {},
     "output_type": "display_data"
    }
   ],
   "source": [
    "learn.fit_one_cycle(2, slice(1e-3/(2.6**4),1e-3), moms=(0.8,0.7))"
   ]
  },
  {
   "cell_type": "code",
   "execution_count": 84,
   "metadata": {},
   "outputs": [],
   "source": [
    "learn.save('final-basic')"
   ]
  },
  {
   "cell_type": "code",
   "execution_count": 85,
   "metadata": {},
   "outputs": [
    {
     "name": "stdout",
     "output_type": "stream",
     "text": [
      "done\n"
     ]
    }
   ],
   "source": [
    "print('done')"
   ]
  },
  {
   "cell_type": "markdown",
   "metadata": {
    "colab_type": "text",
    "id": "BgRSroymx2aW"
   },
   "source": [
    "## Evaluate the results\n",
    "Based on: https://www.kaggle.com/nadjetba/text-to-meaning-with-multi-label-classification?scriptVersionId=12686831"
   ]
  },
  {
   "cell_type": "code",
   "execution_count": 86,
   "metadata": {
    "colab": {},
    "colab_type": "code",
    "id": "4ZW6Z54KmPXL"
   },
   "outputs": [],
   "source": [
    "y_pred, y_true =  learn.get_preds()"
   ]
  },
  {
   "cell_type": "code",
   "execution_count": 87,
   "metadata": {
    "colab": {},
    "colab_type": "code",
    "id": "m8uWkV70mPao"
   },
   "outputs": [],
   "source": [
    "from sklearn.metrics import precision_score, recall_score, accuracy_score, f1_score\n",
    "from sklearn.metrics import classification_report"
   ]
  },
  {
   "cell_type": "code",
   "execution_count": 92,
   "metadata": {
    "colab": {
     "base_uri": "https://localhost:8080/",
     "height": 34
    },
    "colab_type": "code",
    "id": "RJNZFPmhyP4G",
    "outputId": "6ea31d9a-31bf-4979-ff6f-c826933a8b9c"
   },
   "outputs": [
    {
     "name": "stdout",
     "output_type": "stream",
     "text": [
      "F1 (micro) 0.882563551736484\n",
      "P (micro) 0.8996350364963503\n",
      "R (micro) 0.8661278988053408\n",
      "\n",
      "F1 (macro) 0.34949724542586336\n",
      "P (macro) 0.40028247438787923\n",
      "R (macro)  0.3338385764172072\n"
     ]
    }
   ],
   "source": [
    "thresh = 0.42\n",
    "\n",
    "print(\"F1 (micro)\", f1_score(y_true, y_pred>thresh, average='micro'))\n",
    "print(\"P (micro)\", precision_score(y_true, y_pred>thresh, average='micro'))\n",
    "print(\"R (micro)\", recall_score(y_true, y_pred>thresh, average='micro'))\n",
    "\n",
    "print(\"\\nF1 (macro)\", f1_score(y_true, y_pred>thresh, average='macro'))\n",
    "print(\"P (macro)\", precision_score(y_true, y_pred>thresh, average='macro'))\n",
    "print(\"R (macro) \", recall_score(y_true, y_pred>thresh, average='macro'))\n"
   ]
  },
  {
   "cell_type": "code",
   "execution_count": 89,
   "metadata": {
    "colab": {
     "base_uri": "https://localhost:8080/",
     "height": 101
    },
    "colab_type": "code",
    "id": "QUI7_WQRyv4J",
    "outputId": "08d0724c-e9a3-45c0-a82c-a83ed5f63caa"
   },
   "outputs": [
    {
     "data": {
      "text/plain": [
       "0.3536620247948922"
      ]
     },
     "execution_count": 89,
     "metadata": {},
     "output_type": "execute_result"
    }
   ],
   "source": [
    "f1_score(y_true, y_pred>thresh, average='macro')"
   ]
  },
  {
   "cell_type": "code",
   "execution_count": 90,
   "metadata": {},
   "outputs": [
    {
     "data": {
      "text/plain": [
       "((2270, 114), (2270, 114))"
      ]
     },
     "execution_count": 90,
     "metadata": {},
     "output_type": "execute_result"
    }
   ],
   "source": [
    "y_true_n = y_true.numpy()\n",
    "scores = y_pred.numpy()\n",
    "scores.shape, y_true_n.shape"
   ]
  },
  {
   "cell_type": "code",
   "execution_count": 91,
   "metadata": {},
   "outputs": [
    {
     "name": "stdout",
     "output_type": "stream",
     "text": [
      "Precision at: 1:    0.9462555066079296\n",
      "Recall at: 1:    0.8586691490105588\n",
      "\n",
      "Precision at: 2:    0.55\n",
      "Recall at: 2:    0.939328019019649\n",
      "\n",
      "Precision at: 3:    0.38311306901616404\n",
      "Recall at: 3:    0.9589810153136146\n",
      "\n",
      "Precision at: 4:    0.2922907488986784\n",
      "Recall at: 4:    0.966844975875813\n",
      "\n",
      "Precision at: 5:    0.2377092511013158\n",
      "Recall at: 5:    0.9748056079994404\n",
      "\n",
      "Precision at: 6:    0.20000000000000615\n",
      "Recall at: 6:    0.979106181385917\n",
      "\n",
      "Precision at: 7:    0.17249842668345552\n",
      "Recall at: 7:    0.9824248304314381\n",
      "\n"
     ]
    }
   ],
   "source": [
    "## precision at k\n",
    "def tmp_precision(actual, predicted):\n",
    "    #print(predicted)\n",
    "    actual_one = np.where(actual == 1)[0]\n",
    "    #print(actual_one)\n",
    "    #print(type(actual_one))\n",
    "    \n",
    "    act_set = set(list(actual_one))\n",
    "    pred_set = set(predicted[:k])\n",
    "    result = len(act_set & pred_set) / float(k)\n",
    "    return result\n",
    "\n",
    "def tmp_recall(actual, predicted):\n",
    "    actual_one = np.where(actual == 1)[0]\n",
    "    \n",
    "    act_set = set(actual_one)\n",
    "    pred_set = set(predicted[:k])\n",
    "    result = len(act_set & pred_set) / float(len(act_set))\n",
    "    return result\n",
    "\n",
    "## sort indizes in descending order\n",
    "scores_idx_sorted = (-scores).argsort() \n",
    "    \n",
    "#print(precs)\n",
    "for i in range(7):\n",
    "    k = i+1\n",
    "    \n",
    "    precs, recas = [], []\n",
    "    for i in range(len(y_true_n)):\n",
    "        precs.append( tmp_precision(y_true_n[i], scores_idx_sorted[i]) )\n",
    "        recas.append( tmp_recall(y_true_n[i], scores_idx_sorted[i]) )\n",
    "    \n",
    "    print(\"Precision at: %d:   \" % (k,), sum(precs)/len(precs))\n",
    "    print(\"Recall at: %d:   \" % (k,), sum(recas)/len(recas))\n",
    "    print()"
   ]
  },
  {
   "cell_type": "code",
   "execution_count": 74,
   "metadata": {
    "colab": {
     "base_uri": "https://localhost:8080/",
     "height": 12586
    },
    "colab_type": "code",
    "id": "Xq1DCPsCycGp",
    "outputId": "48d0e050-1f2d-47ab-f756-e9a962536abe"
   },
   "outputs": [
    {
     "name": "stdout",
     "output_type": "stream",
     "text": [
      "              precision    recall  f1-score   support\n",
      "\n",
      "           1       0.00      0.00      0.00         0\n",
      "          10       0.60      1.00      0.75         3\n",
      "         100       0.00      0.00      0.00         0\n",
      "         101       0.00      0.00      0.00         3\n",
      "         102       0.00      0.00      0.00         0\n",
      "         103       0.27      0.43      0.33         7\n",
      "         104       0.00      0.00      0.00         0\n",
      "         105       0.00      0.00      0.00         1\n",
      "         106       0.59      0.83      0.69        12\n",
      "         107       0.50      1.00      0.67         3\n",
      "         108       0.33      0.33      0.33         3\n",
      "         109       0.62      0.57      0.59        14\n",
      "          11       0.00      0.00      0.00         0\n",
      "         110       1.00      0.67      0.80         3\n",
      "         111       0.00      0.00      0.00         0\n",
      "         112       0.17      0.33      0.22        12\n",
      "         113       0.38      0.75      0.50        28\n",
      "         114       0.55      0.94      0.70        17\n",
      "         115       0.00      0.00      0.00         0\n",
      "         116       0.44      0.77      0.56        22\n",
      "         117       0.72      0.91      0.80       109\n",
      "         118       0.58      0.37      0.45        19\n",
      "         119       0.00      0.00      0.00         0\n",
      "          12       0.67      0.96      0.79        23\n",
      "         120       0.40      0.67      0.50         3\n",
      "          13       0.00      0.00      0.00         2\n",
      "          14       0.33      0.67      0.44         3\n",
      "          15       0.60      0.97      0.74       100\n",
      "          16       0.00      0.00      0.00         3\n",
      "          18       0.33      1.00      0.50        14\n",
      "          19       0.39      0.82      0.52        45\n",
      "           2       0.49      0.94      0.64        47\n",
      "          20       0.00      0.00      0.00         6\n",
      "          21       0.17      0.12      0.14         8\n",
      "          22       0.52      0.92      0.67        12\n",
      "          23       0.00      0.00      0.00         2\n",
      "          24       0.50      0.50      0.50         8\n",
      "          25       0.00      0.00      0.00         0\n",
      "          27       0.91      0.94      0.93        34\n",
      "          28       0.33      0.89      0.48        18\n",
      "          29       0.00      0.00      0.00         1\n",
      "           3       0.00      0.00      0.00         0\n",
      "          30       0.80      0.98      0.88       135\n",
      "          31       0.60      0.60      0.60        10\n",
      "          33       0.00      0.00      0.00         2\n",
      "          34       0.00      0.00      0.00         2\n",
      "          35       0.98      0.99      0.99       797\n",
      "          36       0.00      0.00      0.00         1\n",
      "          37       0.10      1.00      0.18         1\n",
      "          38       0.26      1.00      0.41         6\n",
      "           4       0.00      0.00      0.00         2\n",
      "          40       0.21      0.71      0.32         7\n",
      "          41       0.00      0.00      0.00         0\n",
      "          42       0.00      0.00      0.00         1\n",
      "          43       0.00      0.00      0.00         0\n",
      "          44       0.36      0.71      0.48         7\n",
      "          45       0.25      0.64      0.36        11\n",
      "          46       0.00      0.00      0.00         0\n",
      "          47       1.00      0.08      0.15        12\n",
      "          48       0.00      0.00      0.00         0\n",
      "          49       0.00      0.00      0.00         0\n",
      "           5       0.00      0.00      0.00         1\n",
      "          50       0.60      0.92      0.73        13\n",
      "          51       0.00      0.00      0.00         0\n",
      "          52       0.00      0.00      0.00         1\n",
      "          53       0.00      0.00      0.00         1\n",
      "          54       0.65      0.75      0.70        20\n",
      "          55       0.00      0.00      0.00         0\n",
      "          56       0.37      0.94      0.53        53\n",
      "          58       0.00      0.00      0.00         0\n",
      "          59       0.67      0.98      0.79       123\n",
      "           6       0.00      0.00      0.00         3\n",
      "          60       0.43      0.50      0.46         6\n",
      "          61       0.00      0.00      0.00         0\n",
      "          62       0.00      0.00      0.00         8\n",
      "          63       0.00      0.00      0.00         2\n",
      "          65       0.00      0.00      0.00         2\n",
      "          66       0.17      0.57      0.27        14\n",
      "          67       0.20      0.50      0.29         4\n",
      "          68       0.14      0.33      0.20         6\n",
      "          69       0.00      0.00      0.00         0\n",
      "           7       0.67      0.71      0.69        17\n",
      "          70       0.54      0.88      0.67        34\n",
      "          71       0.00      0.00      0.00         3\n",
      "          72       0.00      0.00      0.00         3\n",
      "          73       0.00      0.00      0.00         0\n",
      "          74       0.73      0.99      0.84       171\n",
      "          75       0.23      0.72      0.35        18\n",
      "          76       0.88      0.78      0.82         9\n",
      "          77       0.90      0.99      0.94       474\n",
      "          78       0.00      0.00      0.00         1\n",
      "          79       0.60      0.88      0.71        34\n",
      "           8       0.38      0.60      0.46         5\n",
      "          80       0.00      0.00      0.00         3\n",
      "          81       0.46      0.98      0.63        62\n",
      "          82       0.00      0.00      0.00         1\n",
      "          83       0.00      0.00      0.00         3\n",
      "          84       0.67      0.73      0.70        11\n",
      "          85       0.33      0.50      0.40         2\n",
      "          86       0.73      0.85      0.79        52\n",
      "          87       0.00      0.00      0.00         1\n",
      "          88       0.75      0.81      0.78        37\n",
      "          89       0.00      0.00      0.00         0\n",
      "           9       0.00      0.00      0.00         1\n",
      "          91       0.00      0.00      0.00         0\n",
      "          92       0.00      0.00      0.00         1\n",
      "          93       0.55      0.80      0.65        15\n",
      "          94       0.29      0.50      0.36         4\n",
      "          95       0.73      0.69      0.71        16\n",
      "          96       0.00      0.00      0.00         0\n",
      "          97       0.00      0.00      0.00         0\n",
      "          98       0.51      0.90      0.65        30\n",
      "          99       0.00      0.00      0.00         2\n",
      "       docid       0.00      0.00      0.00         0\n",
      "\n",
      "   micro avg       0.69      0.90      0.78      2846\n",
      "   macro avg       0.26      0.38      0.30      2846\n",
      "weighted avg       0.74      0.90      0.80      2846\n",
      " samples avg       0.82      0.94      0.86      2846\n",
      "\n"
     ]
    },
    {
     "name": "stderr",
     "output_type": "stream",
     "text": [
      "/home/wohlg/anaconda3/envs/fastai/lib/python3.7/site-packages/sklearn/metrics/classification.py:1437: UndefinedMetricWarning: Precision and F-score are ill-defined and being set to 0.0 in labels with no predicted samples.\n",
      "  'precision', 'predicted', average, warn_for)\n",
      "/home/wohlg/anaconda3/envs/fastai/lib/python3.7/site-packages/sklearn/metrics/classification.py:1439: UndefinedMetricWarning: Recall and F-score are ill-defined and being set to 0.0 in labels with no true samples.\n",
      "  'recall', 'true', average, warn_for)\n",
      "/home/wohlg/anaconda3/envs/fastai/lib/python3.7/site-packages/sklearn/metrics/classification.py:1437: UndefinedMetricWarning: Precision and F-score are ill-defined and being set to 0.0 in samples with no predicted labels.\n",
      "  'precision', 'predicted', average, warn_for)\n"
     ]
    }
   ],
   "source": [
    "metrics = classification_report(y_true_n, scores>thresh, target_names=data_clas.valid_ds.classes)\n",
    "print(metrics)"
   ]
  }
 ],
 "metadata": {
  "accelerator": "GPU",
  "colab": {
   "name": "fastai-JRC-EN-multilabel.ipynb",
   "provenance": [],
   "toc_visible": true,
   "version": "0.3.2"
  },
  "kernelspec": {
   "display_name": "Python 3",
   "language": "python",
   "name": "python3"
  },
  "language_info": {
   "codemirror_mode": {
    "name": "ipython",
    "version": 3
   },
   "file_extension": ".py",
   "mimetype": "text/x-python",
   "name": "python",
   "nbconvert_exporter": "python",
   "pygments_lexer": "ipython3",
   "version": "3.7.3"
  }
 },
 "nbformat": 4,
 "nbformat_minor": 1
}
