{
 "cells": [
  {
   "cell_type": "markdown",
   "metadata": {},
   "source": [
    "# KED Microthesauri"
   ]
  },
  {
   "cell_type": "code",
   "execution_count": 32,
   "metadata": {
    "colab": {},
    "colab_type": "code",
    "id": "xtVSwdpfxk84"
   },
   "outputs": [],
   "source": [
    "# init\n",
    "%reload_ext autoreload\n",
    "%autoreload 2\n",
    "%matplotlib inline\n",
    "\n",
    "from fastai.text import *\n",
    "import pandas as pd\n",
    "from pathlib import Path\n",
    "\n",
    "bs = 32"
   ]
  },
  {
   "cell_type": "code",
   "execution_count": 33,
   "metadata": {},
   "outputs": [],
   "source": [
    "# combine to two df\n",
    "\n",
    "FN = '../ked_data/converted_prep_mt.csv'\n"
   ]
  },
  {
   "cell_type": "markdown",
   "metadata": {
    "colab_type": "text",
    "id": "fbtKesuhJrPC"
   },
   "source": [
    "## Reuse Fine-tuned of the language model \n"
   ]
  },
  {
   "cell_type": "code",
   "execution_count": 17,
   "metadata": {
    "colab": {},
    "colab_type": "code",
    "id": "c-5E5Z1QYttW"
   },
   "outputs": [],
   "source": [
    "data_lm = load_data(Path('.'), 'data_lm.pkl', bs=bs)"
   ]
  },
  {
   "cell_type": "code",
   "execution_count": 34,
   "metadata": {
    "scrolled": true
   },
   "outputs": [
    {
     "data": {
      "text/html": [
       "<table border=\"1\" class=\"dataframe\">\n",
       "  <thead>\n",
       "    <tr style=\"text-align: right;\">\n",
       "      <th>idx</th>\n",
       "      <th>text</th>\n",
       "    </tr>\n",
       "  </thead>\n",
       "  <tbody>\n",
       "    <tr>\n",
       "      <td>0</td>\n",
       "      <td>communitys creditor institution agree agreement &lt; date &gt; enter budget reserve relate lending guarantee operation country mechanism guarantee draw cash resource &lt; reference &gt; council &lt; legalact &gt; euratom decision eec euratom system community resource guarantee fund constitute payment resource whereas fund interest resource amount recover default debtor fund guarantee whereas reference practice institution ratio % guarantee fund resource guarantee liability increase interest whereas payment guarantee fund % amount operation</td>\n",
       "    </tr>\n",
       "    <tr>\n",
       "      <td>1</td>\n",
       "      <td>piece knit crochet fabric form manufacture yarn â manufacture fibre card comb process material textile pulp chapter &lt; reference &gt; apparel knit crochet manufacture yarn women clothe clothing accessory baby embroider manufacture yarn manufacture value use % price product ex equipment fabric cover foil polyester manufacture yarn manufacture value use % price product handkerchief scarf muffler mantilla veil â manufacture yarn manufacture value use % price product manufacture unbleache yarn</td>\n",
       "    </tr>\n",
       "    <tr>\n",
       "      <td>2</td>\n",
       "      <td>infringement intensity instruction dealer arrangement concern supply bonus policy end &lt; date &gt; mid -&lt;date &gt; infringement lift concern bonus policy regard element sale opel dealer mid end &lt; date &gt; infringement provision account consideration commission increase amount % euro amount eur euro determination account attenuate factor case commission argument opel nederland bv action factor commission conclusion argument duration infringement account respect duration commission inspection &lt; date &gt; opel nederland</td>\n",
       "    </tr>\n",
       "    <tr>\n",
       "      <td>3</td>\n",
       "      <td>limit result confidence level % difference result series analysis laboratory application method mixture case test report state analysis conduct accordance method detail pretreatment result mean accuracy &gt; table &gt; method acetate fibre method field application method removal matter mixture acetate wool animal hair silk cotton flax hemp jute abaca alfa coir broom ramie sisal cupro protein acrylic polyamide nylon polyester circumstance method acetate fibre xxunk surface principle dissolve mass mixture</td>\n",
       "    </tr>\n",
       "    <tr>\n",
       "      <td>4</td>\n",
       "      <td>date &gt; p derogation &lt; reference &gt; apply concern subunit pig kill examination sample accordance instruction competent authority application preventive kill pig suspect contaminate asf virus accordance &lt; reference &gt; sampling concern subunit measure prejudice examination sample hold carry accordance instruction competent authority collect ileum swine fever community reference laboratory licence sample asf virus member state sample eu copy import permit laboratory transport envelope package fluorescein isothiocyanate xxbos council decision</td>\n",
       "    </tr>\n",
       "  </tbody>\n",
       "</table>"
      ],
      "text/plain": [
       "<IPython.core.display.HTML object>"
      ]
     },
     "metadata": {},
     "output_type": "display_data"
    }
   ],
   "source": [
    "data_lm.show_batch()"
   ]
  },
  {
   "cell_type": "markdown",
   "metadata": {
    "colab_type": "text",
    "id": "TKgiUzG3K-1w"
   },
   "source": [
    "## Train a classifier"
   ]
  },
  {
   "cell_type": "markdown",
   "metadata": {
    "colab_type": "text",
    "id": "TMB5GXLhLN28"
   },
   "source": [
    "As we are using multi-label classification, we define our own metrics (fastai doesn't support multi-label well yet)"
   ]
  },
  {
   "cell_type": "code",
   "execution_count": 35,
   "metadata": {
    "colab": {},
    "colab_type": "code",
    "id": "DpDdcNM6pxhw"
   },
   "outputs": [],
   "source": [
    "def my_prc(log_preds, targs, thresh=0.5, epsilon=1e-8):\n",
    "    pred_pos = (log_preds > thresh).float()\n",
    "    tpos = torch.mul((targs == pred_pos).float(), targs.float())\n",
    "    return (tpos.sum()/(pred_pos.sum() + epsilon))#.item()\n",
    "  \n",
    "def my_rec(log_preds, targs, thresh=0.5, epsilon=1e-8):\n",
    "    pred_pos = (log_preds > thresh).float()\n",
    "    tpos = torch.mul((targs == pred_pos).float(), targs.float())\n",
    "    return (tpos.sum()/(targs.sum() + epsilon))\n",
    "\n",
    "thresh=0.001\n",
    "acc_0001 = partial(accuracy_thresh, thresh=thresh)\n",
    "prc_0001 = partial(my_prc, thresh=thresh)\n",
    "rec_0001 = partial(my_rec, thresh=thresh)\n",
    "f_0001 = partial(fbeta, thresh=thresh, beta=1)\n",
    "\n",
    "\n",
    "thresh=0.01\n",
    "acc_001 = partial(accuracy_thresh, thresh=thresh)\n",
    "prc_001 = partial(my_prc, thresh=thresh)\n",
    "rec_001 = partial(my_rec, thresh=thresh)\n",
    "f_001 = partial(fbeta, thresh=thresh, beta=1)\n",
    "\n",
    "thresh=0.05\n",
    "acc_005 = partial(accuracy_thresh, thresh=thresh)\n",
    "prc_005 = partial(my_prc, thresh=thresh)\n",
    "rec_005 = partial(my_rec, thresh=thresh)\n",
    "f_005 = partial(fbeta, thresh=thresh, beta=1)\n",
    "\n",
    "thresh=0.1\n",
    "acc_01 = partial(accuracy_thresh, thresh=thresh)\n",
    "prc_01 = partial(my_prc, thresh=thresh)\n",
    "rec_01 = partial(my_rec, thresh=thresh)\n",
    "f_01 = partial(fbeta, thresh=thresh, beta=1)\n",
    "\n",
    "thresh=0.2\n",
    "acc_02 = partial(accuracy_thresh, thresh=thresh)\n",
    "prc_02 = partial(my_prc, thresh=thresh)\n",
    "rec_02 = partial(my_rec, thresh=thresh)\n",
    "f_02 = partial(fbeta, thresh=thresh, beta=1)\n",
    "\n",
    "thresh=0.3\n",
    "acc_03 = partial(accuracy_thresh, thresh=thresh)\n",
    "prc_03 = partial(my_prc, thresh=thresh)\n",
    "rec_03 = partial(my_rec, thresh=thresh)\n",
    "f_03 = partial(fbeta, thresh=thresh, beta=1)\n",
    "\n",
    "thresh=0.4\n",
    "acc_04 = partial(accuracy_thresh, thresh=thresh)\n",
    "prc_04 = partial(my_prc, thresh=thresh)\n",
    "rec_04 = partial(my_rec, thresh=thresh)\n",
    "f_04 = partial(fbeta, thresh=thresh, beta=1)\n",
    "\n",
    "thresh=0.5\n",
    "acc_05 = partial(accuracy_thresh, thresh=thresh)\n",
    "prc_05 = partial(my_prc, thresh=thresh)\n",
    "rec_05 = partial(my_rec, thresh=thresh)\n",
    "f_05 = partial(fbeta, thresh=thresh, beta=1)\n"
   ]
  },
  {
   "cell_type": "code",
   "execution_count": 8,
   "metadata": {},
   "outputs": [
    {
     "name": "stdout",
     "output_type": "stream",
     "text": [
      "../ked_data/converted_prep_mt.csv\n"
     ]
    }
   ],
   "source": [
    "print(FN)"
   ]
  },
  {
   "cell_type": "code",
   "execution_count": 9,
   "metadata": {
    "colab": {},
    "colab_type": "code",
    "id": "_RLVSPKWjLZO"
   },
   "outputs": [],
   "source": [
    "data_clas = (TextList.from_csv(Path('.'), FN, vocab=data_lm.vocab, cols='text')\n",
    "             #grab all the text files in path\n",
    "             #wohlg: .split_by_folder(valid='test')\n",
    "             .split_by_rand_pct()\n",
    "             #split by train and valid folder (that only keeps 'train' and 'test' so no need to filter)             \n",
    "             #wohlg: .label_from_folder(classes=['neg', 'pos'])\n",
    "             .label_from_df(cols='labels', label_delim=';')\n",
    "             #label them all with their folders\n",
    "             .databunch(bs=bs))\n",
    "\n",
    "data_clas.save('data_clas_mt.pkl')"
   ]
  },
  {
   "cell_type": "code",
   "execution_count": 10,
   "metadata": {},
   "outputs": [
    {
     "name": "stdout",
     "output_type": "stream",
     "text": [
      "60000\n",
      "['xxunk', 'xxpad', 'xxbos', 'xxeos', 'xxfld', 'xxmaj', 'xxup', 'xxrep', 'xxwrep', '>', '<', 'reference', 'date', 'legalact', 'commission', 'state', 'member', 'community', 'product', 'decision']\n"
     ]
    }
   ],
   "source": [
    "print(len(data_lm.vocab.itos))\n",
    "print(data_lm.vocab.itos[:20])"
   ]
  },
  {
   "cell_type": "code",
   "execution_count": 36,
   "metadata": {
    "colab": {},
    "colab_type": "code",
    "id": "lLq_pAhSjLe2"
   },
   "outputs": [],
   "source": [
    "data_clas = load_data(Path('.'), 'data_clas_mt.pkl', bs=bs)"
   ]
  },
  {
   "cell_type": "code",
   "execution_count": 15,
   "metadata": {
    "colab": {
     "base_uri": "https://localhost:8080/",
     "height": 289
    },
    "colab_type": "code",
    "id": "bIC3m4atjLcQ",
    "outputId": "567af202-1871-4ecb-8ef9-30ff5a7e09cd"
   },
   "outputs": [
    {
     "data": {
      "text/html": [
       "<table border=\"1\" class=\"dataframe\">\n",
       "  <thead>\n",
       "    <tr style=\"text-align: right;\">\n",
       "      <th>text</th>\n",
       "      <th>target</th>\n",
       "    </tr>\n",
       "  </thead>\n",
       "  <tbody>\n",
       "    <tr>\n",
       "      <td>xxbos section commission content â volume section commission â title surplus â title revenue person work institution community body â title revenue operation institution â title contribution refund connection community agreement programme â title interest payment â title borrow lending operation â revenue â title xx expenditure allocate policy area â chapter xx expenditure allocate policy area â title affair â chapter expenditure affair policy area â chapter union â</td>\n",
       "      <td>100177;100205</td>\n",
       "    </tr>\n",
       "    <tr>\n",
       "      <td>xxbos commission &lt; legalact &gt; eec &lt; date &gt; provision implementation council &lt; legalact &gt; eec community custom code commission community treaty community regard council &lt; legalact &gt; eec community custom code [ ] hereinafter refer code &lt; reference &gt; thereof [ ] whereas custom legislation instrument whereas time code modification legislation coherent simplify plug whereas community legislation area reason adoption code legislation whereas bring &lt; legalact &gt; custom implement</td>\n",
       "      <td>100175;100178;100192</td>\n",
       "    </tr>\n",
       "    <tr>\n",
       "      <td>xxbos commission &lt; legalact &gt; &lt; date &gt; progress th time council &lt; legalact &gt; approximation law &lt; legalact &gt; provision relate classification package substance commission community treaty community council &lt; legalact &gt; &lt; date &gt; approximation law &lt; legalact &gt; provision relate classification package substance commission &lt; legalact &gt; thereof whereas eec contain list substance classification procedure respect substance list number substance commission accordance abovementione &lt; legalact &gt; measure</td>\n",
       "      <td>100175;100196;100220;100244</td>\n",
       "    </tr>\n",
       "    <tr>\n",
       "      <td>xxbos commission &lt; legalact &gt; progress time council &lt; legalact &gt; approximation law &lt; legalact &gt; provision relate classification package substance commission community treaty community regard council &lt; legalact &gt; &lt; date &gt; approximation law &lt; legalact &gt; provision relate classification package substance &lt; legalact &gt; eec thereof p whereas &lt; reference &gt; council &lt; legalact &gt; &lt; date &gt; approximation law &lt; legalact &gt; provision relate classification package preparation</td>\n",
       "      <td>100175;100196;100220;100244</td>\n",
       "    </tr>\n",
       "    <tr>\n",
       "      <td>xxbos parliament council &lt; date &gt; recognition qualification eea relevance parliament council union regard treaty community &lt; reference &gt; sentence &lt; reference &gt; regard proposal commission [ ] regard opinion committee [ ] act accordance procedure &lt; reference &gt; treaty [ ] whereas pursuant &lt; reference &gt; treaty abolition member state obstacle movement person service objective community member state pursue profession selfemploy capacity member state qualification addition &lt; reference &gt;</td>\n",
       "      <td>100215;100216;100232</td>\n",
       "    </tr>\n",
       "  </tbody>\n",
       "</table>"
      ],
      "text/plain": [
       "<IPython.core.display.HTML object>"
      ]
     },
     "metadata": {},
     "output_type": "display_data"
    }
   ],
   "source": [
    "data_clas.show_batch()"
   ]
  },
  {
   "cell_type": "code",
   "execution_count": 37,
   "metadata": {
    "colab": {},
    "colab_type": "code",
    "id": "cyWs6u1vl6mX"
   },
   "outputs": [],
   "source": [
    "learn = text_classifier_learner(data_clas, AWD_LSTM, drop_mult=0.5, wd=0.1)\n",
    "#learn.metrics = [accuracy_thresh, custom_precision, custom_recall, \n",
    "#                 acc_01, f_score_01, acc_02, f_score_02, acc_03, f_score_03 ]\n",
    "learn.metrics = [accuracy_thresh, \n",
    "                 acc_0001, prc_0001, rec_0001, f_0001,\n",
    "                 acc_001, prc_001, rec_001, f_001,\n",
    "                 acc_005, prc_005, rec_005, f_005,\n",
    "                 acc_01, prc_01, rec_01, f_01,\n",
    "                 acc_02, prc_02, rec_02, f_02,\n",
    "                 acc_03, prc_03, rec_03, f_03,\n",
    "                 acc_04, prc_04, rec_04, f_04,\n",
    "                 acc_05, prc_05, rec_05, f_05 ]\n",
    "#!mv *pth models\n",
    "learn.load_encoder('fine_tuned_enc-KED-prep')\n"
   ]
  },
  {
   "cell_type": "code",
   "execution_count": 7,
   "metadata": {},
   "outputs": [
    {
     "name": "stdout",
     "output_type": "stream",
     "text": [
      "FlattenedLoss of BCEWithLogitsLoss()\n",
      "BCEWithLogitsLoss()\n"
     ]
    }
   ],
   "source": [
    "print(learn.loss_func)\n",
    "print(learn.loss_func.func)"
   ]
  },
  {
   "cell_type": "code",
   "execution_count": 18,
   "metadata": {
    "colab": {
     "base_uri": "https://localhost:8080/",
     "height": 34
    },
    "colab_type": "code",
    "id": "X5sGGcAUl6ps",
    "outputId": "33e0a7c9-12fc-4b66-c5f3-9ab79d8fbb8c"
   },
   "outputs": [
    {
     "data": {
      "text/html": [],
      "text/plain": [
       "<IPython.core.display.HTML object>"
      ]
     },
     "metadata": {},
     "output_type": "display_data"
    },
    {
     "name": "stdout",
     "output_type": "stream",
     "text": [
      "LR Finder is complete, type {learner_name}.recorder.plot() to see the graph.\n"
     ]
    }
   ],
   "source": [
    "learn.lr_find()"
   ]
  },
  {
   "cell_type": "code",
   "execution_count": 19,
   "metadata": {
    "colab": {
     "base_uri": "https://localhost:8080/",
     "height": 283
    },
    "colab_type": "code",
    "id": "4TaL4rGml6tD",
    "outputId": "2aec03fe-986a-4755-c392-975e6e45e1a3"
   },
   "outputs": [
    {
     "data": {
      "image/png": "[encoded data removed]",
      "text/plain": [
       "<Figure size 432x288 with 1 Axes>"
      ]
     },
     "metadata": {
      "needs_background": "light"
     },
     "output_type": "display_data"
    }
   ],
   "source": [
    "learn.recorder.plot()"
   ]
  },
  {
   "cell_type": "code",
   "execution_count": 20,
   "metadata": {
    "colab": {
     "base_uri": "https://localhost:8080/",
     "height": 80
    },
    "colab_type": "code",
    "id": "BrPh0yRdl6zX",
    "outputId": "841c115e-7e18-4b30-a3d5-7932cd83968e",
    "scrolled": true
   },
   "outputs": [
    {
     "data": {
      "text/html": [
       "<table border=\"1\" class=\"dataframe\">\n",
       "  <thead>\n",
       "    <tr style=\"text-align: left;\">\n",
       "      <th>epoch</th>\n",
       "      <th>train_loss</th>\n",
       "      <th>valid_loss</th>\n",
       "      <th>accuracy_thresh</th>\n",
       "      <th>accuracy_thresh</th>\n",
       "      <th>my_prc</th>\n",
       "      <th>my_rec</th>\n",
       "      <th>fbeta</th>\n",
       "      <th>accuracy_thresh</th>\n",
       "      <th>my_prc</th>\n",
       "      <th>my_rec</th>\n",
       "      <th>fbeta</th>\n",
       "      <th>accuracy_thresh</th>\n",
       "      <th>my_prc</th>\n",
       "      <th>my_rec</th>\n",
       "      <th>fbeta</th>\n",
       "      <th>accuracy_thresh</th>\n",
       "      <th>my_prc</th>\n",
       "      <th>my_rec</th>\n",
       "      <th>fbeta</th>\n",
       "      <th>accuracy_thresh</th>\n",
       "      <th>my_prc</th>\n",
       "      <th>my_rec</th>\n",
       "      <th>fbeta</th>\n",
       "      <th>accuracy_thresh</th>\n",
       "      <th>my_prc</th>\n",
       "      <th>my_rec</th>\n",
       "      <th>fbeta</th>\n",
       "      <th>accuracy_thresh</th>\n",
       "      <th>my_prc</th>\n",
       "      <th>my_rec</th>\n",
       "      <th>fbeta</th>\n",
       "      <th>accuracy_thresh</th>\n",
       "      <th>my_prc</th>\n",
       "      <th>my_rec</th>\n",
       "      <th>fbeta</th>\n",
       "      <th>time</th>\n",
       "    </tr>\n",
       "  </thead>\n",
       "  <tbody>\n",
       "    <tr>\n",
       "      <td>0</td>\n",
       "      <td>0.109410</td>\n",
       "      <td>0.120245</td>\n",
       "      <td>0.961365</td>\n",
       "      <td>0.207606</td>\n",
       "      <td>0.610366</td>\n",
       "      <td>0.281403</td>\n",
       "      <td>0.091867</td>\n",
       "      <td>0.605257</td>\n",
       "      <td>0.610726</td>\n",
       "      <td>0.279807</td>\n",
       "      <td>0.173938</td>\n",
       "      <td>0.850912</td>\n",
       "      <td>0.614756</td>\n",
       "      <td>0.271879</td>\n",
       "      <td>0.320372</td>\n",
       "      <td>0.912989</td>\n",
       "      <td>0.620013</td>\n",
       "      <td>0.263376</td>\n",
       "      <td>0.402171</td>\n",
       "      <td>0.947403</td>\n",
       "      <td>0.632701</td>\n",
       "      <td>0.246553</td>\n",
       "      <td>0.453026</td>\n",
       "      <td>0.957509</td>\n",
       "      <td>0.641245</td>\n",
       "      <td>0.228033</td>\n",
       "      <td>0.439070</td>\n",
       "      <td>0.960584</td>\n",
       "      <td>0.653374</td>\n",
       "      <td>0.213573</td>\n",
       "      <td>0.389932</td>\n",
       "      <td>0.961365</td>\n",
       "      <td>0.667477</td>\n",
       "      <td>0.198656</td>\n",
       "      <td>0.328431</td>\n",
       "      <td>05:42</td>\n",
       "    </tr>\n",
       "    <tr>\n",
       "      <td>1</td>\n",
       "      <td>0.098715</td>\n",
       "      <td>0.094445</td>\n",
       "      <td>0.968173</td>\n",
       "      <td>0.320614</td>\n",
       "      <td>0.649165</td>\n",
       "      <td>0.380769</td>\n",
       "      <td>0.106664</td>\n",
       "      <td>0.674284</td>\n",
       "      <td>0.651131</td>\n",
       "      <td>0.379299</td>\n",
       "      <td>0.197142</td>\n",
       "      <td>0.870128</td>\n",
       "      <td>0.656290</td>\n",
       "      <td>0.370505</td>\n",
       "      <td>0.339693</td>\n",
       "      <td>0.919960</td>\n",
       "      <td>0.666227</td>\n",
       "      <td>0.360137</td>\n",
       "      <td>0.418613</td>\n",
       "      <td>0.950797</td>\n",
       "      <td>0.685108</td>\n",
       "      <td>0.340335</td>\n",
       "      <td>0.480175</td>\n",
       "      <td>0.961611</td>\n",
       "      <td>0.699777</td>\n",
       "      <td>0.319631</td>\n",
       "      <td>0.485549</td>\n",
       "      <td>0.966154</td>\n",
       "      <td>0.715095</td>\n",
       "      <td>0.300863</td>\n",
       "      <td>0.463348</td>\n",
       "      <td>0.968173</td>\n",
       "      <td>0.731471</td>\n",
       "      <td>0.281747</td>\n",
       "      <td>0.426521</td>\n",
       "      <td>06:13</td>\n",
       "    </tr>\n",
       "    <tr>\n",
       "      <td>2</td>\n",
       "      <td>0.085113</td>\n",
       "      <td>0.077601</td>\n",
       "      <td>0.972984</td>\n",
       "      <td>0.353948</td>\n",
       "      <td>0.772056</td>\n",
       "      <td>0.425594</td>\n",
       "      <td>0.110315</td>\n",
       "      <td>0.733400</td>\n",
       "      <td>0.772796</td>\n",
       "      <td>0.423245</td>\n",
       "      <td>0.230663</td>\n",
       "      <td>0.906618</td>\n",
       "      <td>0.778297</td>\n",
       "      <td>0.416079</td>\n",
       "      <td>0.423527</td>\n",
       "      <td>0.944502</td>\n",
       "      <td>0.784841</td>\n",
       "      <td>0.406372</td>\n",
       "      <td>0.518759</td>\n",
       "      <td>0.965106</td>\n",
       "      <td>0.797184</td>\n",
       "      <td>0.387976</td>\n",
       "      <td>0.580856</td>\n",
       "      <td>0.971251</td>\n",
       "      <td>0.807296</td>\n",
       "      <td>0.367924</td>\n",
       "      <td>0.581905</td>\n",
       "      <td>0.973055</td>\n",
       "      <td>0.817059</td>\n",
       "      <td>0.351928</td>\n",
       "      <td>0.552448</td>\n",
       "      <td>0.972984</td>\n",
       "      <td>0.827647</td>\n",
       "      <td>0.334028</td>\n",
       "      <td>0.501673</td>\n",
       "      <td>06:45</td>\n",
       "    </tr>\n",
       "  </tbody>\n",
       "</table>"
      ],
      "text/plain": [
       "<IPython.core.display.HTML object>"
      ]
     },
     "metadata": {},
     "output_type": "display_data"
    }
   ],
   "source": [
    "learn.fit_one_cycle(3, slice(1e-1,1e-1), moms=(0.8,0.7))"
   ]
  },
  {
   "cell_type": "code",
   "execution_count": 21,
   "metadata": {
    "colab": {},
    "colab_type": "code",
    "id": "Go03WwP9l62p"
   },
   "outputs": [],
   "source": [
    "learn.save('first_mt')"
   ]
  },
  {
   "cell_type": "code",
   "execution_count": null,
   "metadata": {
    "colab": {},
    "colab_type": "code",
    "id": "Nim2xtSDl65f"
   },
   "outputs": [],
   "source": [
    "learn.load('first_mt')"
   ]
  },
  {
   "cell_type": "code",
   "execution_count": 9,
   "metadata": {
    "colab": {},
    "colab_type": "code",
    "id": "TdYFyLlkl69M"
   },
   "outputs": [],
   "source": [
    "learn.freeze_to(-2)"
   ]
  },
  {
   "cell_type": "code",
   "execution_count": 24,
   "metadata": {
    "colab": {
     "base_uri": "https://localhost:8080/",
     "height": 300
    },
    "colab_type": "code",
    "id": "pOwJWQYNzZ5L",
    "outputId": "bc50453b-db43-40f9-95f5-459eacc4b4bf"
   },
   "outputs": [
    {
     "data": {
      "text/html": [],
      "text/plain": [
       "<IPython.core.display.HTML object>"
      ]
     },
     "metadata": {},
     "output_type": "display_data"
    },
    {
     "name": "stdout",
     "output_type": "stream",
     "text": [
      "LR Finder is complete, type {learner_name}.recorder.plot() to see the graph.\n"
     ]
    },
    {
     "data": {
      "image/png": "[encoded data removed]",
      "text/plain": [
       "<Figure size 432x288 with 1 Axes>"
      ]
     },
     "metadata": {
      "needs_background": "light"
     },
     "output_type": "display_data"
    }
   ],
   "source": [
    "learn.lr_find()\n",
    "learn.recorder.plot()"
   ]
  },
  {
   "cell_type": "code",
   "execution_count": 10,
   "metadata": {
    "colab": {
     "base_uri": "https://localhost:8080/",
     "height": 126
    },
    "colab_type": "code",
    "id": "dMGZ4kn2zUm4",
    "outputId": "fdc1c8a9-6b83-41c4-b6f2-4ae2eb922072"
   },
   "outputs": [
    {
     "data": {
      "text/html": [
       "<table border=\"1\" class=\"dataframe\">\n",
       "  <thead>\n",
       "    <tr style=\"text-align: left;\">\n",
       "      <th>epoch</th>\n",
       "      <th>train_loss</th>\n",
       "      <th>valid_loss</th>\n",
       "      <th>accuracy_thresh</th>\n",
       "      <th>accuracy_thresh</th>\n",
       "      <th>my_prc</th>\n",
       "      <th>my_rec</th>\n",
       "      <th>fbeta</th>\n",
       "      <th>accuracy_thresh</th>\n",
       "      <th>my_prc</th>\n",
       "      <th>my_rec</th>\n",
       "      <th>fbeta</th>\n",
       "      <th>accuracy_thresh</th>\n",
       "      <th>my_prc</th>\n",
       "      <th>my_rec</th>\n",
       "      <th>fbeta</th>\n",
       "      <th>accuracy_thresh</th>\n",
       "      <th>my_prc</th>\n",
       "      <th>my_rec</th>\n",
       "      <th>fbeta</th>\n",
       "      <th>accuracy_thresh</th>\n",
       "      <th>my_prc</th>\n",
       "      <th>my_rec</th>\n",
       "      <th>fbeta</th>\n",
       "      <th>accuracy_thresh</th>\n",
       "      <th>my_prc</th>\n",
       "      <th>my_rec</th>\n",
       "      <th>fbeta</th>\n",
       "      <th>accuracy_thresh</th>\n",
       "      <th>my_prc</th>\n",
       "      <th>my_rec</th>\n",
       "      <th>fbeta</th>\n",
       "      <th>accuracy_thresh</th>\n",
       "      <th>my_prc</th>\n",
       "      <th>my_rec</th>\n",
       "      <th>fbeta</th>\n",
       "      <th>time</th>\n",
       "    </tr>\n",
       "  </thead>\n",
       "  <tbody>\n",
       "    <tr>\n",
       "      <td>0</td>\n",
       "      <td>0.082355</td>\n",
       "      <td>0.076454</td>\n",
       "      <td>0.973352</td>\n",
       "      <td>0.358656</td>\n",
       "      <td>0.784163</td>\n",
       "      <td>0.427391</td>\n",
       "      <td>0.110762</td>\n",
       "      <td>0.742062</td>\n",
       "      <td>0.784705</td>\n",
       "      <td>0.425485</td>\n",
       "      <td>0.234405</td>\n",
       "      <td>0.909907</td>\n",
       "      <td>0.791236</td>\n",
       "      <td>0.418706</td>\n",
       "      <td>0.429844</td>\n",
       "      <td>0.945957</td>\n",
       "      <td>0.795486</td>\n",
       "      <td>0.409430</td>\n",
       "      <td>0.523418</td>\n",
       "      <td>0.966304</td>\n",
       "      <td>0.805482</td>\n",
       "      <td>0.391232</td>\n",
       "      <td>0.588547</td>\n",
       "      <td>0.971926</td>\n",
       "      <td>0.814831</td>\n",
       "      <td>0.372449</td>\n",
       "      <td>0.585193</td>\n",
       "      <td>0.973484</td>\n",
       "      <td>0.824353</td>\n",
       "      <td>0.354734</td>\n",
       "      <td>0.551466</td>\n",
       "      <td>0.973352</td>\n",
       "      <td>0.836979</td>\n",
       "      <td>0.337650</td>\n",
       "      <td>0.501113</td>\n",
       "      <td>07:01</td>\n",
       "    </tr>\n",
       "    <tr>\n",
       "      <td>1</td>\n",
       "      <td>0.077760</td>\n",
       "      <td>0.072927</td>\n",
       "      <td>0.974562</td>\n",
       "      <td>0.416348</td>\n",
       "      <td>0.783746</td>\n",
       "      <td>0.470722</td>\n",
       "      <td>0.121328</td>\n",
       "      <td>0.770574</td>\n",
       "      <td>0.784608</td>\n",
       "      <td>0.469210</td>\n",
       "      <td>0.257507</td>\n",
       "      <td>0.916684</td>\n",
       "      <td>0.789481</td>\n",
       "      <td>0.462054</td>\n",
       "      <td>0.452793</td>\n",
       "      <td>0.948647</td>\n",
       "      <td>0.796644</td>\n",
       "      <td>0.453954</td>\n",
       "      <td>0.542082</td>\n",
       "      <td>0.966896</td>\n",
       "      <td>0.806729</td>\n",
       "      <td>0.435339</td>\n",
       "      <td>0.602113</td>\n",
       "      <td>0.972760</td>\n",
       "      <td>0.816046</td>\n",
       "      <td>0.420010</td>\n",
       "      <td>0.608909</td>\n",
       "      <td>0.974598</td>\n",
       "      <td>0.825919</td>\n",
       "      <td>0.403336</td>\n",
       "      <td>0.586199</td>\n",
       "      <td>0.974562</td>\n",
       "      <td>0.835458</td>\n",
       "      <td>0.387166</td>\n",
       "      <td>0.545048</td>\n",
       "      <td>05:45</td>\n",
       "    </tr>\n",
       "    <tr>\n",
       "      <td>2</td>\n",
       "      <td>0.075349</td>\n",
       "      <td>0.071953</td>\n",
       "      <td>0.974970</td>\n",
       "      <td>0.389056</td>\n",
       "      <td>0.788981</td>\n",
       "      <td>0.478499</td>\n",
       "      <td>0.116466</td>\n",
       "      <td>0.757108</td>\n",
       "      <td>0.790552</td>\n",
       "      <td>0.476022</td>\n",
       "      <td>0.248102</td>\n",
       "      <td>0.914895</td>\n",
       "      <td>0.795594</td>\n",
       "      <td>0.468490</td>\n",
       "      <td>0.449657</td>\n",
       "      <td>0.948703</td>\n",
       "      <td>0.801896</td>\n",
       "      <td>0.461035</td>\n",
       "      <td>0.544344</td>\n",
       "      <td>0.967522</td>\n",
       "      <td>0.812949</td>\n",
       "      <td>0.443990</td>\n",
       "      <td>0.609679</td>\n",
       "      <td>0.973238</td>\n",
       "      <td>0.821668</td>\n",
       "      <td>0.426995</td>\n",
       "      <td>0.616308</td>\n",
       "      <td>0.974869</td>\n",
       "      <td>0.830488</td>\n",
       "      <td>0.409709</td>\n",
       "      <td>0.592879</td>\n",
       "      <td>0.974970</td>\n",
       "      <td>0.840610</td>\n",
       "      <td>0.392461</td>\n",
       "      <td>0.552768</td>\n",
       "      <td>05:44</td>\n",
       "    </tr>\n",
       "  </tbody>\n",
       "</table>"
      ],
      "text/plain": [
       "<IPython.core.display.HTML object>"
      ]
     },
     "metadata": {},
     "output_type": "display_data"
    }
   ],
   "source": [
    "learn.fit_one_cycle(3, slice(2e-3/(2.6**4),2e-3), moms=(0.8,0.7))"
   ]
  },
  {
   "cell_type": "code",
   "execution_count": 11,
   "metadata": {
    "colab": {},
    "colab_type": "code",
    "id": "kzbQqXfll7CT"
   },
   "outputs": [],
   "source": [
    "learn.save('second_mt')"
   ]
  },
  {
   "cell_type": "code",
   "execution_count": 21,
   "metadata": {
    "colab": {},
    "colab_type": "code",
    "id": "AvF4OP0Ml7AY"
   },
   "outputs": [
    {
     "data": {
      "text/plain": [
       "RNNLearner(data=TextClasDataBunch;\n",
       "\n",
       "Train: LabelList (15613 items)\n",
       "x: TextList\n",
       "xxbos council < legalact > euratom guarantee fund action council union regard treaty community < reference > thereof regard treaty energy community < reference > thereof regard proposal commission regard opinion parliament opinion court auditor budget community increase risk result guarantee cover loan country council < date > conclude consideration prudent management discipline call mechanism fund set order cover risk loan guarantee cover loan country project country meet guarantee fund communitys creditor institution agree agreement < date > enter budget reserve relate lending guarantee operation country mechanism guarantee draw cash resource < reference > council < legalact > euratom decision eec euratom system community resource guarantee fund constitute payment resource whereas fund interest resource amount recover default debtor fund guarantee whereas reference practice institution ratio % guarantee fund resource guarantee liability increase interest whereas payment guarantee fund % amount operation attain target amount arrangement payment target amount provision rate review guarantee fund target amount pay budget community management guarantee fund investment bank management fund audit court auditor accordance procedure court auditor commission investment bank treaty power pursuant < reference > ec treaty < reference > eaec treaty adoption < legalact > < reference > guarantee fund hereinafter fund resource repay xxunk event default loan grant guarantee community lending guarantee operation paragraph hereinafter refer operation country financing project country fund payment budget community interest fund resource amount recover default debtor fund guarantee < reference > fund level hereinafter target amount target amount % capital liability arise operation increase interest end year target amount statement revenue budget community < reference > payment provide < reference > % capital value operation fund target amount provision rate fund reach target amount case payment fund accordance arrangement < reference > result activation guarantee default resource fund % target amount rate provision operation % target amount reach default target amount reach amount activation guarantee activation guarantee default resource fund fall % target amount commission report measure fund < reference > commission management fund eib behalf commission year send parliament council court auditor report situation fund management year < reference > revenue expenditure account balance sheet relate fund community revenue expenditure account balance sheet commission submit report function fund < reference > < legalact > day publication community < reference > operation commit < date > < legalact > entirety member state council president k kinkel p < legalact > amend < legalact > euratom page journal payment stipulate indent < reference > payment fund accordance arrangement operation concern community lending operation guarantee body tranche cover b community lending operation guarantee body framework facility spread number year purpose operation point comission procedure payment fund decision amount pay fund calculate basis amount operation council operation point b payment fund tranche basis amount statement attach commission proposal light council decision commission procedure payment fund decision begin year operation program year subsequent year commission payment procedure year amount pay fund correct difference record december year estimate basis payment figure loan sign year difference year rise payment year payment procedure commission situation regard performance operation payment commitment deadline take acount calculate payment start year operation way operation council < date > commission start procedure payment fund entry force accordance arrangement precede paragraph example operation loan balance payment country guarantee consortium bank finance purchase food product country example type operation euratom loan country guarantee eib loan country latin asia xxunk country ceec,xxbos council decision < date > xxunk amount development fund acp state hand country department eec council community treaty community agreement administration community aid sign hereinafter call agreement < reference > proposal commission surinam state country territory community virtue decision request accede convention lomã © pursuant < reference > thereof whereas council minister request state deposit instrument accession secretariat council convention lomã © july < date><date > < reference > agreement amount country territory < reference > b agreement provide state subparagraph paragraph < reference > text < reference > b agreement text > pic file= t < reference > decision force < date > < reference > decision community < date > council president j silkin < date > p < date > p,xxbos commission < legalact > < date > progress council < legalact > eec relate driver seat forestry tractor eea relevance commission community treaty community council < legalact > < date > approximation law member state relate typeapproval forestry tractor < legalact > ec parliament council thereof regard council < legalact > < date > approximation law member state relate driver seat forestry tractor < legalact > ec < reference > thereof order safety specify detail driver seat measure accordance opinion committee adaptation progress < reference > < legalact > < reference > item < date > < legalact > position seat lengthwise axis pass seat reference point plane tractor pass centre wheel mm plane member state ec typeapproval issue document < reference > typeapproval respect tractor prohibit entry service tractor question meet requirement < legalact > member state indent < reference > respect type tractor meet < legalact > eec < legalact > typeapproval respect type tractor meet < legalact > eec amend < legalact > < reference > member state force law < legalact > provision comply < legalact > < date > commission thereof member state provision reference < legalact > accompany reference occasion publication member state reference member state commission text provision law adopt field < legalact > < reference > < legalact > force th day publication community < reference > < legalact > address member state < date > commission martin member commission < date > p < date > p < date > p,xxbos commission decision < date > terminate examination procedure concern obstacle trade consist trade practice relation import sorbitol ec commission community treaty community council < legalact > ec < date > community procedure field policy order exercise communitys trade rule world trade organisation < legalact > ec particular < reference > thereof consult committee background < date > company cerestar bv lodge complaint pursuant < reference > < legalact > ec community sale sorbitol brazil hinder number obstacle trade < reference > < legalact > ec allege obstacle trade introduction < date > government exterior accordance comunicado decex < date > licensing procedure contravention provision wto agreement import licensing procedure b allege andor refusal authority import licence relation enter brazil price implementation price reference price valuation system complainant lack transparency import licensing system wto commission complaint contain evidence justify initiation examination procedure < reference > < legalact > ec correspond community b investigation report examination procedure conclusion price system breach < reference > xi gatt restriction duty charge import licence importation product territory party wto justification b < reference > agreement agriculture reason agreement measure control extent protect life health addition import licensing system price requirement appear breach agreement import licensing procedure application manner effect import wto restriction moreover system measure scope duration measure addition list product submit licensing application license import price month b < reference > x gatt manner regard legislation custom valuation scope implementation reference price basis render manner system agreement implementation < reference > vii agreement tariff xxunk valuation agreement examination procedure contest practice cause trade effect < reference > trade barrier < legalact > tbr inter alia export sorbitol community market development end investigation basis investigation commission decision < date > wto settlement procedure import regime wto consultation regard sorbitol product consultation price import result community industry ability enter market import valuation system order comply obligation wto agreement decision < date > commission cerestar examination procedure monitor effect change system period month date entry force decision period commission service pursue exchange letter community industry basis information industry commission dispute barrier trade importation sorbitol conclusion view analysis cerestar examination procedure situation regard obstacle face trade sorbitol examination procedure decide examination procedure concern obstacle trade < legalact > ec consist trade practice relation import sorbitol hereby terminate < reference > prejudice decision commission import brazil textile product commission member commission < date > p < date > p < date > p < date > p < date > p,xxbos decision < date > concern reimbursement competent institution member state cost incur member state procedure refer < reference > < legalact > eec ec commission community security worker regard < reference > council < legalact > eec security scheme person family move community deal question arise < legalact > eec < legalact > regard < reference > < legalact > eec task procedure refer < reference > < legalact > eec fall institution procedure simplification promote reimbursement benefit insure person increase possibility procedure increase limit decision < date > decision act accordance < reference > < legalact > eec decide provision < reference > < legalact > eec amount cost stay amount fix member state eur purpose provision refer point amount cost rate month reimbursement decision force day month publication community chairman commission arno bokeloh < date > p\n",
       "y: MultiCategoryList\n",
       "100171;100174;100177;100200;100229,100171;100176;100198;100282;100284,100238;100249;100261,100192;100193;100194;100256;100257;100279;100282;100283,100169;100175;100183;100200;100214;100233\n",
       "Path: .;\n",
       "\n",
       "Valid: LabelList (3903 items)\n",
       "x: TextList\n",
       "xxbos agreement form exchange letter community people algeria import community fruit salad algeria letter ° sir view implement % reduction custom duty cooperation agreement conclude community people algeria clarification exchange concern condition import community fruit salad fall code ex algeria inform government measure quantity supply community < date > december year end government declare export community product effect operation control sociã © tã © gestion veloppement des industry alimentaire sogedia society administration development foodstuff industry guarantee quantity meet accordance procedure agriculture commission community way derogation < reference > cooperation agreement form exchange letter denounce party denunciation year grateful agreement community please assurance consideration government people algeria letter ° sir honour receipt letter today word view implement % reduction custom duty cooperation agreement conclude community people algeria clarification exchange concern condition import community fruit salad fall code ex algeria inform government measure quantity supply community < date > december year end government declare export community product effect operation control sociã © tã © gestion veloppement des industry alimentaire sogedia society administration development foodstuff industry guarantee quantity meet accordance procedure agriculture commission community way derogation < reference > cooperation agreement form exchange letter denounce party denunciation year grateful agreement community agreement community state % reduction custom duty apply < date > december year quantity fruit salad algeria letter please assurance consideration behalf community,xxbos decision committee < date > agreement committee regard agreement area protocol agreement area hereinafter agreement < reference > thereof whereas agreement amend decision committee < date > commission ec prodcom list product council < legalact > eec agreement < reference > point council < legalact > eec agreement commission < legalact > ec product council < legalact > eec l < date > p < legalact > ec icelandic language union < reference > decision force < date > provide notification < reference > agreement eea committee < reference > decision section union < date > committee president h prinz von liechtenstein < date > p < date > p requirement indicate,xxbos decision joint committee agreement recognition community state america < date > relate list conformity assessment body compatibility emc ec committee regard agreement recognition community state america < reference > whereas committee decision list conformity assessment body decide conformity assessment body list conformity assessment body section compatibility scope term product conformity procedure conformity assessment body party maintain decision committee behalf party agreement decision date signature sign washington < date > jame sanford behalf state america sign brussel < date > community conformity assessment body conformity assessment body section compatibility xxunk â istituto italiano marchio di qualitã milano tel + fax +,xxbos council decision < date > conclusion protocol agreement trade traderelate matter community coal steel community romania europe agreement community member state romania ec council union regard treaty community < reference > conjunction < reference > conclusion council place copenhagen < date > regard proposal commission behalf community protocol agreement trade traderelate matter agreement romania protocol decide < reference > protocol agreement trade traderelate matter community coal steel community romania europe agreement community member state romania hereby community protocol attach decision < reference > president council person sign protocol behalf community president council notification < reference > protocol behalf community < date > council president claes,xxbos commission decision procedure conformity construction product pursuant < reference > council kit wall cladding document number eea relevance ec commission community treaty community council < legalact > < date > approximation law < legalact > provision member state relate construction product eec particular < reference > thereof whereas commission procedure < reference > conformity product procedure safety decide product family product existence production control system responsibility manufacturer condition attestation conformity reason relate compliance criterion mention < reference > intervention certification body < reference > procedure specification product family product specification procedure < reference > describe detail < legalact > therefore procedure reference product family product preference system procedure < reference > correspond system possibility surveillance possibility section procedure refer < reference > b correspond system section possibility surveillance section measure decision accordance opinion committee construction decision < reference > product family product conformity procedure addition factory production control system manufacturer certification body surveillance production control product < reference > procedure conformity mandate approval < reference > decision address member state < date > commission member commission < date > p < date > p kit wall finish wall note product intend use family task body system attestation conformity product family kit cladding system conformity product use list request specify follow system attestation conformity approval > table > system + < legalact > eec possibility certification factory production control body basis inspection factory production control surveillance assessment approval factory production control specification system performance member state requirement characteristic < reference > clause < date > document case verification manufacturer declare performance product family kit cladding system conformity product use list request specify follow system attestation conformity approval > table > system eec sample system possibility system possibility specification system performance member state requirement characteristic < reference > clause < date > document case verification manufacturer declare performance product respect\n",
       "y: MultiCategoryList\n",
       "100170;100192;100257,100176;100190;100191;100196;100260;100268,100175;100176;100261;100272;100279;100282;100283,100170;100176;100282;100283,100196;100261;100273\n",
       "Path: .;\n",
       "\n",
       "Test: None, model=SequentialRNN(\n",
       "  (0): MultiBatchEncoder(\n",
       "    (module): AWD_LSTM(\n",
       "      (encoder): Embedding(60000, 400, padding_idx=1)\n",
       "      (encoder_dp): EmbeddingDropout(\n",
       "        (emb): Embedding(60000, 400, padding_idx=1)\n",
       "      )\n",
       "      (rnns): ModuleList(\n",
       "        (0): WeightDropout(\n",
       "          (module): LSTM(400, 1152, batch_first=True)\n",
       "        )\n",
       "        (1): WeightDropout(\n",
       "          (module): LSTM(1152, 1152, batch_first=True)\n",
       "        )\n",
       "        (2): WeightDropout(\n",
       "          (module): LSTM(1152, 400, batch_first=True)\n",
       "        )\n",
       "      )\n",
       "      (input_dp): RNNDropout()\n",
       "      (hidden_dps): ModuleList(\n",
       "        (0): RNNDropout()\n",
       "        (1): RNNDropout()\n",
       "        (2): RNNDropout()\n",
       "      )\n",
       "    )\n",
       "  )\n",
       "  (1): PoolingLinearClassifier(\n",
       "    (layers): Sequential(\n",
       "      (0): BatchNorm1d(1200, eps=1e-05, momentum=0.1, affine=True, track_running_stats=True)\n",
       "      (1): Dropout(p=0.2)\n",
       "      (2): Linear(in_features=1200, out_features=50, bias=True)\n",
       "      (3): ReLU(inplace)\n",
       "      (4): BatchNorm1d(50, eps=1e-05, momentum=0.1, affine=True, track_running_stats=True)\n",
       "      (5): Dropout(p=0.1)\n",
       "      (6): Linear(in_features=50, out_features=126, bias=True)\n",
       "    )\n",
       "  )\n",
       "), opt_func=functools.partial(<class 'torch.optim.adam.Adam'>, betas=(0.9, 0.99)), loss_func=FlattenedLoss of BCEWithLogitsLoss(), metrics=[<function accuracy_thresh at 0x7f3ca533abf8>, functools.partial(<function accuracy_thresh at 0x7f3ca533abf8>, thresh=0.001), functools.partial(<function my_prc at 0x7f3ca24b7d90>, thresh=0.001), functools.partial(<function my_rec at 0x7f3ca24b7d08>, thresh=0.001), functools.partial(<function fbeta at 0x7f3cf77efd08>, thresh=0.001, beta=1), functools.partial(<function accuracy_thresh at 0x7f3ca533abf8>, thresh=0.01), functools.partial(<function my_prc at 0x7f3ca24b7d90>, thresh=0.01), functools.partial(<function my_rec at 0x7f3ca24b7d08>, thresh=0.01), functools.partial(<function fbeta at 0x7f3cf77efd08>, thresh=0.01, beta=1), functools.partial(<function accuracy_thresh at 0x7f3ca533abf8>, thresh=0.05), functools.partial(<function my_prc at 0x7f3ca24b7d90>, thresh=0.05), functools.partial(<function my_rec at 0x7f3ca24b7d08>, thresh=0.05), functools.partial(<function fbeta at 0x7f3cf77efd08>, thresh=0.05, beta=1), functools.partial(<function accuracy_thresh at 0x7f3ca533abf8>, thresh=0.1), functools.partial(<function my_prc at 0x7f3ca24b7d90>, thresh=0.1), functools.partial(<function my_rec at 0x7f3ca24b7d08>, thresh=0.1), functools.partial(<function fbeta at 0x7f3cf77efd08>, thresh=0.1, beta=1), functools.partial(<function accuracy_thresh at 0x7f3ca533abf8>, thresh=0.2), functools.partial(<function my_prc at 0x7f3ca24b7d90>, thresh=0.2), functools.partial(<function my_rec at 0x7f3ca24b7d08>, thresh=0.2), functools.partial(<function fbeta at 0x7f3cf77efd08>, thresh=0.2, beta=1), functools.partial(<function accuracy_thresh at 0x7f3ca533abf8>, thresh=0.3), functools.partial(<function my_prc at 0x7f3ca24b7d90>, thresh=0.3), functools.partial(<function my_rec at 0x7f3ca24b7d08>, thresh=0.3), functools.partial(<function fbeta at 0x7f3cf77efd08>, thresh=0.3, beta=1), functools.partial(<function accuracy_thresh at 0x7f3ca533abf8>, thresh=0.4), functools.partial(<function my_prc at 0x7f3ca24b7d90>, thresh=0.4), functools.partial(<function my_rec at 0x7f3ca24b7d08>, thresh=0.4), functools.partial(<function fbeta at 0x7f3cf77efd08>, thresh=0.4, beta=1), functools.partial(<function accuracy_thresh at 0x7f3ca533abf8>, thresh=0.5), functools.partial(<function my_prc at 0x7f3ca24b7d90>, thresh=0.5), functools.partial(<function my_rec at 0x7f3ca24b7d08>, thresh=0.5), functools.partial(<function fbeta at 0x7f3cf77efd08>, thresh=0.5, beta=1)], true_wd=True, bn_wd=True, wd=0.1, train_bn=True, path=PosixPath('.'), model_dir='models', callback_fns=[functools.partial(<class 'fastai.basic_train.Recorder'>, add_time=True, silent=False)], callbacks=[RNNTrainer\n",
       "learn: ...\n",
       "alpha: 2.0\n",
       "beta: 1.0], layer_groups=[Sequential(\n",
       "  (0): Embedding(60000, 400, padding_idx=1)\n",
       "  (1): EmbeddingDropout(\n",
       "    (emb): Embedding(60000, 400, padding_idx=1)\n",
       "  )\n",
       "), Sequential(\n",
       "  (0): WeightDropout(\n",
       "    (module): LSTM(400, 1152, batch_first=True)\n",
       "  )\n",
       "  (1): RNNDropout()\n",
       "), Sequential(\n",
       "  (0): WeightDropout(\n",
       "    (module): LSTM(1152, 1152, batch_first=True)\n",
       "  )\n",
       "  (1): RNNDropout()\n",
       "), Sequential(\n",
       "  (0): WeightDropout(\n",
       "    (module): LSTM(1152, 400, batch_first=True)\n",
       "  )\n",
       "  (1): RNNDropout()\n",
       "), Sequential(\n",
       "  (0): PoolingLinearClassifier(\n",
       "    (layers): Sequential(\n",
       "      (0): BatchNorm1d(1200, eps=1e-05, momentum=0.1, affine=True, track_running_stats=True)\n",
       "      (1): Dropout(p=0.2)\n",
       "      (2): Linear(in_features=1200, out_features=50, bias=True)\n",
       "      (3): ReLU(inplace)\n",
       "      (4): BatchNorm1d(50, eps=1e-05, momentum=0.1, affine=True, track_running_stats=True)\n",
       "      (5): Dropout(p=0.1)\n",
       "      (6): Linear(in_features=50, out_features=126, bias=True)\n",
       "    )\n",
       "  )\n",
       ")], add_time=True, silent=None)"
      ]
     },
     "execution_count": 21,
     "metadata": {},
     "output_type": "execute_result"
    }
   ],
   "source": [
    "learn.load('second_mt')"
   ]
  },
  {
   "cell_type": "code",
   "execution_count": 22,
   "metadata": {
    "colab": {},
    "colab_type": "code",
    "id": "wIdm-jGQl6wV"
   },
   "outputs": [],
   "source": [
    "learn.freeze_to(-3)"
   ]
  },
  {
   "cell_type": "code",
   "execution_count": 14,
   "metadata": {
    "colab": {},
    "colab_type": "code",
    "id": "G6S95Yyczw98"
   },
   "outputs": [
    {
     "data": {
      "text/html": [],
      "text/plain": [
       "<IPython.core.display.HTML object>"
      ]
     },
     "metadata": {},
     "output_type": "display_data"
    },
    {
     "name": "stdout",
     "output_type": "stream",
     "text": [
      "LR Finder is complete, type {learner_name}.recorder.plot() to see the graph.\n"
     ]
    },
    {
     "data": {
      "image/png": "[encoded data removed]",
      "text/plain": [
       "<Figure size 432x288 with 1 Axes>"
      ]
     },
     "metadata": {
      "needs_background": "light"
     },
     "output_type": "display_data"
    }
   ],
   "source": [
    "learn.lr_find()\n",
    "learn.recorder.plot()"
   ]
  },
  {
   "cell_type": "code",
   "execution_count": 23,
   "metadata": {
    "colab": {},
    "colab_type": "code",
    "id": "saqmt2ujzxLf"
   },
   "outputs": [
    {
     "data": {
      "text/html": [
       "<table border=\"1\" class=\"dataframe\">\n",
       "  <thead>\n",
       "    <tr style=\"text-align: left;\">\n",
       "      <th>epoch</th>\n",
       "      <th>train_loss</th>\n",
       "      <th>valid_loss</th>\n",
       "      <th>accuracy_thresh</th>\n",
       "      <th>accuracy_thresh</th>\n",
       "      <th>my_prc</th>\n",
       "      <th>my_rec</th>\n",
       "      <th>fbeta</th>\n",
       "      <th>accuracy_thresh</th>\n",
       "      <th>my_prc</th>\n",
       "      <th>my_rec</th>\n",
       "      <th>fbeta</th>\n",
       "      <th>accuracy_thresh</th>\n",
       "      <th>my_prc</th>\n",
       "      <th>my_rec</th>\n",
       "      <th>fbeta</th>\n",
       "      <th>accuracy_thresh</th>\n",
       "      <th>my_prc</th>\n",
       "      <th>my_rec</th>\n",
       "      <th>fbeta</th>\n",
       "      <th>accuracy_thresh</th>\n",
       "      <th>my_prc</th>\n",
       "      <th>my_rec</th>\n",
       "      <th>fbeta</th>\n",
       "      <th>accuracy_thresh</th>\n",
       "      <th>my_prc</th>\n",
       "      <th>my_rec</th>\n",
       "      <th>fbeta</th>\n",
       "      <th>accuracy_thresh</th>\n",
       "      <th>my_prc</th>\n",
       "      <th>my_rec</th>\n",
       "      <th>fbeta</th>\n",
       "      <th>accuracy_thresh</th>\n",
       "      <th>my_prc</th>\n",
       "      <th>my_rec</th>\n",
       "      <th>fbeta</th>\n",
       "      <th>time</th>\n",
       "    </tr>\n",
       "  </thead>\n",
       "  <tbody>\n",
       "    <tr>\n",
       "      <td>0</td>\n",
       "      <td>0.077913</td>\n",
       "      <td>0.071360</td>\n",
       "      <td>0.975192</td>\n",
       "      <td>0.428271</td>\n",
       "      <td>0.775356</td>\n",
       "      <td>0.502576</td>\n",
       "      <td>0.126279</td>\n",
       "      <td>0.769241</td>\n",
       "      <td>0.776501</td>\n",
       "      <td>0.500814</td>\n",
       "      <td>0.261877</td>\n",
       "      <td>0.915564</td>\n",
       "      <td>0.782583</td>\n",
       "      <td>0.493367</td>\n",
       "      <td>0.456270</td>\n",
       "      <td>0.948153</td>\n",
       "      <td>0.787767</td>\n",
       "      <td>0.484693</td>\n",
       "      <td>0.546958</td>\n",
       "      <td>0.967213</td>\n",
       "      <td>0.797441</td>\n",
       "      <td>0.467393</td>\n",
       "      <td>0.613724</td>\n",
       "      <td>0.972896</td>\n",
       "      <td>0.808068</td>\n",
       "      <td>0.447705</td>\n",
       "      <td>0.622516</td>\n",
       "      <td>0.974905</td>\n",
       "      <td>0.818137</td>\n",
       "      <td>0.431802</td>\n",
       "      <td>0.606038</td>\n",
       "      <td>0.975192</td>\n",
       "      <td>0.827382</td>\n",
       "      <td>0.414789</td>\n",
       "      <td>0.571126</td>\n",
       "      <td>07:07</td>\n",
       "    </tr>\n",
       "    <tr>\n",
       "      <td>1</td>\n",
       "      <td>0.074643</td>\n",
       "      <td>0.068615</td>\n",
       "      <td>0.976052</td>\n",
       "      <td>0.414073</td>\n",
       "      <td>0.795451</td>\n",
       "      <td>0.509819</td>\n",
       "      <td>0.122936</td>\n",
       "      <td>0.769423</td>\n",
       "      <td>0.796185</td>\n",
       "      <td>0.508319</td>\n",
       "      <td>0.264120</td>\n",
       "      <td>0.921176</td>\n",
       "      <td>0.801017</td>\n",
       "      <td>0.501502</td>\n",
       "      <td>0.473405</td>\n",
       "      <td>0.952528</td>\n",
       "      <td>0.805758</td>\n",
       "      <td>0.494018</td>\n",
       "      <td>0.567194</td>\n",
       "      <td>0.969655</td>\n",
       "      <td>0.817682</td>\n",
       "      <td>0.477635</td>\n",
       "      <td>0.630421</td>\n",
       "      <td>0.974509</td>\n",
       "      <td>0.828557</td>\n",
       "      <td>0.461509</td>\n",
       "      <td>0.634142</td>\n",
       "      <td>0.976013</td>\n",
       "      <td>0.837391</td>\n",
       "      <td>0.444683</td>\n",
       "      <td>0.612952</td>\n",
       "      <td>0.976052</td>\n",
       "      <td>0.845316</td>\n",
       "      <td>0.428774</td>\n",
       "      <td>0.577945</td>\n",
       "      <td>09:01</td>\n",
       "    </tr>\n",
       "    <tr>\n",
       "      <td>2</td>\n",
       "      <td>0.070535</td>\n",
       "      <td>0.066070</td>\n",
       "      <td>0.976933</td>\n",
       "      <td>0.436252</td>\n",
       "      <td>0.801157</td>\n",
       "      <td>0.534635</td>\n",
       "      <td>0.128845</td>\n",
       "      <td>0.780191</td>\n",
       "      <td>0.802024</td>\n",
       "      <td>0.532969</td>\n",
       "      <td>0.275170</td>\n",
       "      <td>0.924055</td>\n",
       "      <td>0.807260</td>\n",
       "      <td>0.526737</td>\n",
       "      <td>0.484508</td>\n",
       "      <td>0.954551</td>\n",
       "      <td>0.813017</td>\n",
       "      <td>0.519168</td>\n",
       "      <td>0.581025</td>\n",
       "      <td>0.970584</td>\n",
       "      <td>0.823302</td>\n",
       "      <td>0.501270</td>\n",
       "      <td>0.644244</td>\n",
       "      <td>0.975294</td>\n",
       "      <td>0.835126</td>\n",
       "      <td>0.484914</td>\n",
       "      <td>0.651386</td>\n",
       "      <td>0.976756</td>\n",
       "      <td>0.843595</td>\n",
       "      <td>0.469450</td>\n",
       "      <td>0.634082</td>\n",
       "      <td>0.976933</td>\n",
       "      <td>0.850106</td>\n",
       "      <td>0.453289</td>\n",
       "      <td>0.602848</td>\n",
       "      <td>08:59</td>\n",
       "    </tr>\n",
       "    <tr>\n",
       "      <td>3</td>\n",
       "      <td>0.065954</td>\n",
       "      <td>0.065202</td>\n",
       "      <td>0.977291</td>\n",
       "      <td>0.467136</td>\n",
       "      <td>0.804910</td>\n",
       "      <td>0.541991</td>\n",
       "      <td>0.135106</td>\n",
       "      <td>0.794257</td>\n",
       "      <td>0.805843</td>\n",
       "      <td>0.540789</td>\n",
       "      <td>0.287234</td>\n",
       "      <td>0.927933</td>\n",
       "      <td>0.809055</td>\n",
       "      <td>0.534762</td>\n",
       "      <td>0.496834</td>\n",
       "      <td>0.956076</td>\n",
       "      <td>0.814236</td>\n",
       "      <td>0.528302</td>\n",
       "      <td>0.589347</td>\n",
       "      <td>0.971302</td>\n",
       "      <td>0.826197</td>\n",
       "      <td>0.512588</td>\n",
       "      <td>0.652228</td>\n",
       "      <td>0.975643</td>\n",
       "      <td>0.835961</td>\n",
       "      <td>0.498574</td>\n",
       "      <td>0.655817</td>\n",
       "      <td>0.977156</td>\n",
       "      <td>0.845254</td>\n",
       "      <td>0.483430</td>\n",
       "      <td>0.640256</td>\n",
       "      <td>0.977291</td>\n",
       "      <td>0.853505</td>\n",
       "      <td>0.468641</td>\n",
       "      <td>0.609916</td>\n",
       "      <td>08:55</td>\n",
       "    </tr>\n",
       "  </tbody>\n",
       "</table>"
      ],
      "text/plain": [
       "<IPython.core.display.HTML object>"
      ]
     },
     "metadata": {},
     "output_type": "display_data"
    }
   ],
   "source": [
    "learn.fit_one_cycle(4, slice(2e-3/(2.6**4),2e-3), moms=(0.8,0.7))"
   ]
  },
  {
   "cell_type": "code",
   "execution_count": 24,
   "metadata": {
    "colab": {},
    "colab_type": "code",
    "id": "RE0TtGjRmPKC"
   },
   "outputs": [],
   "source": [
    "learn.save('third_mt')"
   ]
  },
  {
   "cell_type": "code",
   "execution_count": 25,
   "metadata": {
    "colab": {},
    "colab_type": "code",
    "id": "LC6BWsAnmPNY"
   },
   "outputs": [
    {
     "name": "stderr",
     "output_type": "stream",
     "text": [
      "/home/wohlg/anaconda3/envs/fastai/lib/python3.7/site-packages/fastai/basic_train.py:326: UserWarning: Wasn't able to properly load the optimizer state again.\n",
      "  except: warn(\"Wasn't able to properly load the optimizer state again.\")\n"
     ]
    },
    {
     "data": {
      "text/plain": [
       "RNNLearner(data=TextClasDataBunch;\n",
       "\n",
       "Train: LabelList (15613 items)\n",
       "x: TextList\n",
       "xxbos council < legalact > euratom guarantee fund action council union regard treaty community < reference > thereof regard treaty energy community < reference > thereof regard proposal commission regard opinion parliament opinion court auditor budget community increase risk result guarantee cover loan country council < date > conclude consideration prudent management discipline call mechanism fund set order cover risk loan guarantee cover loan country project country meet guarantee fund communitys creditor institution agree agreement < date > enter budget reserve relate lending guarantee operation country mechanism guarantee draw cash resource < reference > council < legalact > euratom decision eec euratom system community resource guarantee fund constitute payment resource whereas fund interest resource amount recover default debtor fund guarantee whereas reference practice institution ratio % guarantee fund resource guarantee liability increase interest whereas payment guarantee fund % amount operation attain target amount arrangement payment target amount provision rate review guarantee fund target amount pay budget community management guarantee fund investment bank management fund audit court auditor accordance procedure court auditor commission investment bank treaty power pursuant < reference > ec treaty < reference > eaec treaty adoption < legalact > < reference > guarantee fund hereinafter fund resource repay xxunk event default loan grant guarantee community lending guarantee operation paragraph hereinafter refer operation country financing project country fund payment budget community interest fund resource amount recover default debtor fund guarantee < reference > fund level hereinafter target amount target amount % capital liability arise operation increase interest end year target amount statement revenue budget community < reference > payment provide < reference > % capital value operation fund target amount provision rate fund reach target amount case payment fund accordance arrangement < reference > result activation guarantee default resource fund % target amount rate provision operation % target amount reach default target amount reach amount activation guarantee activation guarantee default resource fund fall % target amount commission report measure fund < reference > commission management fund eib behalf commission year send parliament council court auditor report situation fund management year < reference > revenue expenditure account balance sheet relate fund community revenue expenditure account balance sheet commission submit report function fund < reference > < legalact > day publication community < reference > operation commit < date > < legalact > entirety member state council president k kinkel p < legalact > amend < legalact > euratom page journal payment stipulate indent < reference > payment fund accordance arrangement operation concern community lending operation guarantee body tranche cover b community lending operation guarantee body framework facility spread number year purpose operation point comission procedure payment fund decision amount pay fund calculate basis amount operation council operation point b payment fund tranche basis amount statement attach commission proposal light council decision commission procedure payment fund decision begin year operation program year subsequent year commission payment procedure year amount pay fund correct difference record december year estimate basis payment figure loan sign year difference year rise payment year payment procedure commission situation regard performance operation payment commitment deadline take acount calculate payment start year operation way operation council < date > commission start procedure payment fund entry force accordance arrangement precede paragraph example operation loan balance payment country guarantee consortium bank finance purchase food product country example type operation euratom loan country guarantee eib loan country latin asia xxunk country ceec,xxbos council decision < date > xxunk amount development fund acp state hand country department eec council community treaty community agreement administration community aid sign hereinafter call agreement < reference > proposal commission surinam state country territory community virtue decision request accede convention lomã © pursuant < reference > thereof whereas council minister request state deposit instrument accession secretariat council convention lomã © july < date><date > < reference > agreement amount country territory < reference > b agreement provide state subparagraph paragraph < reference > text < reference > b agreement text > pic file= t < reference > decision force < date > < reference > decision community < date > council president j silkin < date > p < date > p,xxbos commission < legalact > < date > progress council < legalact > eec relate driver seat forestry tractor eea relevance commission community treaty community council < legalact > < date > approximation law member state relate typeapproval forestry tractor < legalact > ec parliament council thereof regard council < legalact > < date > approximation law member state relate driver seat forestry tractor < legalact > ec < reference > thereof order safety specify detail driver seat measure accordance opinion committee adaptation progress < reference > < legalact > < reference > item < date > < legalact > position seat lengthwise axis pass seat reference point plane tractor pass centre wheel mm plane member state ec typeapproval issue document < reference > typeapproval respect tractor prohibit entry service tractor question meet requirement < legalact > member state indent < reference > respect type tractor meet < legalact > eec < legalact > typeapproval respect type tractor meet < legalact > eec amend < legalact > < reference > member state force law < legalact > provision comply < legalact > < date > commission thereof member state provision reference < legalact > accompany reference occasion publication member state reference member state commission text provision law adopt field < legalact > < reference > < legalact > force th day publication community < reference > < legalact > address member state < date > commission martin member commission < date > p < date > p < date > p,xxbos commission decision < date > terminate examination procedure concern obstacle trade consist trade practice relation import sorbitol ec commission community treaty community council < legalact > ec < date > community procedure field policy order exercise communitys trade rule world trade organisation < legalact > ec particular < reference > thereof consult committee background < date > company cerestar bv lodge complaint pursuant < reference > < legalact > ec community sale sorbitol brazil hinder number obstacle trade < reference > < legalact > ec allege obstacle trade introduction < date > government exterior accordance comunicado decex < date > licensing procedure contravention provision wto agreement import licensing procedure b allege andor refusal authority import licence relation enter brazil price implementation price reference price valuation system complainant lack transparency import licensing system wto commission complaint contain evidence justify initiation examination procedure < reference > < legalact > ec correspond community b investigation report examination procedure conclusion price system breach < reference > xi gatt restriction duty charge import licence importation product territory party wto justification b < reference > agreement agriculture reason agreement measure control extent protect life health addition import licensing system price requirement appear breach agreement import licensing procedure application manner effect import wto restriction moreover system measure scope duration measure addition list product submit licensing application license import price month b < reference > x gatt manner regard legislation custom valuation scope implementation reference price basis render manner system agreement implementation < reference > vii agreement tariff xxunk valuation agreement examination procedure contest practice cause trade effect < reference > trade barrier < legalact > tbr inter alia export sorbitol community market development end investigation basis investigation commission decision < date > wto settlement procedure import regime wto consultation regard sorbitol product consultation price import result community industry ability enter market import valuation system order comply obligation wto agreement decision < date > commission cerestar examination procedure monitor effect change system period month date entry force decision period commission service pursue exchange letter community industry basis information industry commission dispute barrier trade importation sorbitol conclusion view analysis cerestar examination procedure situation regard obstacle face trade sorbitol examination procedure decide examination procedure concern obstacle trade < legalact > ec consist trade practice relation import sorbitol hereby terminate < reference > prejudice decision commission import brazil textile product commission member commission < date > p < date > p < date > p < date > p < date > p,xxbos decision < date > concern reimbursement competent institution member state cost incur member state procedure refer < reference > < legalact > eec ec commission community security worker regard < reference > council < legalact > eec security scheme person family move community deal question arise < legalact > eec < legalact > regard < reference > < legalact > eec task procedure refer < reference > < legalact > eec fall institution procedure simplification promote reimbursement benefit insure person increase possibility procedure increase limit decision < date > decision act accordance < reference > < legalact > eec decide provision < reference > < legalact > eec amount cost stay amount fix member state eur purpose provision refer point amount cost rate month reimbursement decision force day month publication community chairman commission arno bokeloh < date > p\n",
       "y: MultiCategoryList\n",
       "100171;100174;100177;100200;100229,100171;100176;100198;100282;100284,100238;100249;100261,100192;100193;100194;100256;100257;100279;100282;100283,100169;100175;100183;100200;100214;100233\n",
       "Path: .;\n",
       "\n",
       "Valid: LabelList (3903 items)\n",
       "x: TextList\n",
       "xxbos agreement form exchange letter community people algeria import community fruit salad algeria letter ° sir view implement % reduction custom duty cooperation agreement conclude community people algeria clarification exchange concern condition import community fruit salad fall code ex algeria inform government measure quantity supply community < date > december year end government declare export community product effect operation control sociã © tã © gestion veloppement des industry alimentaire sogedia society administration development foodstuff industry guarantee quantity meet accordance procedure agriculture commission community way derogation < reference > cooperation agreement form exchange letter denounce party denunciation year grateful agreement community please assurance consideration government people algeria letter ° sir honour receipt letter today word view implement % reduction custom duty cooperation agreement conclude community people algeria clarification exchange concern condition import community fruit salad fall code ex algeria inform government measure quantity supply community < date > december year end government declare export community product effect operation control sociã © tã © gestion veloppement des industry alimentaire sogedia society administration development foodstuff industry guarantee quantity meet accordance procedure agriculture commission community way derogation < reference > cooperation agreement form exchange letter denounce party denunciation year grateful agreement community agreement community state % reduction custom duty apply < date > december year quantity fruit salad algeria letter please assurance consideration behalf community,xxbos decision committee < date > agreement committee regard agreement area protocol agreement area hereinafter agreement < reference > thereof whereas agreement amend decision committee < date > commission ec prodcom list product council < legalact > eec agreement < reference > point council < legalact > eec agreement commission < legalact > ec product council < legalact > eec l < date > p < legalact > ec icelandic language union < reference > decision force < date > provide notification < reference > agreement eea committee < reference > decision section union < date > committee president h prinz von liechtenstein < date > p < date > p requirement indicate,xxbos decision joint committee agreement recognition community state america < date > relate list conformity assessment body compatibility emc ec committee regard agreement recognition community state america < reference > whereas committee decision list conformity assessment body decide conformity assessment body list conformity assessment body section compatibility scope term product conformity procedure conformity assessment body party maintain decision committee behalf party agreement decision date signature sign washington < date > jame sanford behalf state america sign brussel < date > community conformity assessment body conformity assessment body section compatibility xxunk â istituto italiano marchio di qualitã milano tel + fax +,xxbos council decision < date > conclusion protocol agreement trade traderelate matter community coal steel community romania europe agreement community member state romania ec council union regard treaty community < reference > conjunction < reference > conclusion council place copenhagen < date > regard proposal commission behalf community protocol agreement trade traderelate matter agreement romania protocol decide < reference > protocol agreement trade traderelate matter community coal steel community romania europe agreement community member state romania hereby community protocol attach decision < reference > president council person sign protocol behalf community president council notification < reference > protocol behalf community < date > council president claes,xxbos commission decision procedure conformity construction product pursuant < reference > council kit wall cladding document number eea relevance ec commission community treaty community council < legalact > < date > approximation law < legalact > provision member state relate construction product eec particular < reference > thereof whereas commission procedure < reference > conformity product procedure safety decide product family product existence production control system responsibility manufacturer condition attestation conformity reason relate compliance criterion mention < reference > intervention certification body < reference > procedure specification product family product specification procedure < reference > describe detail < legalact > therefore procedure reference product family product preference system procedure < reference > correspond system possibility surveillance possibility section procedure refer < reference > b correspond system section possibility surveillance section measure decision accordance opinion committee construction decision < reference > product family product conformity procedure addition factory production control system manufacturer certification body surveillance production control product < reference > procedure conformity mandate approval < reference > decision address member state < date > commission member commission < date > p < date > p kit wall finish wall note product intend use family task body system attestation conformity product family kit cladding system conformity product use list request specify follow system attestation conformity approval > table > system + < legalact > eec possibility certification factory production control body basis inspection factory production control surveillance assessment approval factory production control specification system performance member state requirement characteristic < reference > clause < date > document case verification manufacturer declare performance product family kit cladding system conformity product use list request specify follow system attestation conformity approval > table > system eec sample system possibility system possibility specification system performance member state requirement characteristic < reference > clause < date > document case verification manufacturer declare performance product respect\n",
       "y: MultiCategoryList\n",
       "100170;100192;100257,100176;100190;100191;100196;100260;100268,100175;100176;100261;100272;100279;100282;100283,100170;100176;100282;100283,100196;100261;100273\n",
       "Path: .;\n",
       "\n",
       "Test: None, model=SequentialRNN(\n",
       "  (0): MultiBatchEncoder(\n",
       "    (module): AWD_LSTM(\n",
       "      (encoder): Embedding(60000, 400, padding_idx=1)\n",
       "      (encoder_dp): EmbeddingDropout(\n",
       "        (emb): Embedding(60000, 400, padding_idx=1)\n",
       "      )\n",
       "      (rnns): ModuleList(\n",
       "        (0): WeightDropout(\n",
       "          (module): LSTM(400, 1152, batch_first=True)\n",
       "        )\n",
       "        (1): WeightDropout(\n",
       "          (module): LSTM(1152, 1152, batch_first=True)\n",
       "        )\n",
       "        (2): WeightDropout(\n",
       "          (module): LSTM(1152, 400, batch_first=True)\n",
       "        )\n",
       "      )\n",
       "      (input_dp): RNNDropout()\n",
       "      (hidden_dps): ModuleList(\n",
       "        (0): RNNDropout()\n",
       "        (1): RNNDropout()\n",
       "        (2): RNNDropout()\n",
       "      )\n",
       "    )\n",
       "  )\n",
       "  (1): PoolingLinearClassifier(\n",
       "    (layers): Sequential(\n",
       "      (0): BatchNorm1d(1200, eps=1e-05, momentum=0.1, affine=True, track_running_stats=True)\n",
       "      (1): Dropout(p=0.2)\n",
       "      (2): Linear(in_features=1200, out_features=50, bias=True)\n",
       "      (3): ReLU(inplace)\n",
       "      (4): BatchNorm1d(50, eps=1e-05, momentum=0.1, affine=True, track_running_stats=True)\n",
       "      (5): Dropout(p=0.1)\n",
       "      (6): Linear(in_features=50, out_features=126, bias=True)\n",
       "    )\n",
       "  )\n",
       "), opt_func=functools.partial(<class 'torch.optim.adam.Adam'>, betas=(0.9, 0.99)), loss_func=FlattenedLoss of BCEWithLogitsLoss(), metrics=[<function accuracy_thresh at 0x7f3ca533abf8>, functools.partial(<function accuracy_thresh at 0x7f3ca533abf8>, thresh=0.001), functools.partial(<function my_prc at 0x7f3ca24b7d90>, thresh=0.001), functools.partial(<function my_rec at 0x7f3ca24b7d08>, thresh=0.001), functools.partial(<function fbeta at 0x7f3cf77efd08>, thresh=0.001, beta=1), functools.partial(<function accuracy_thresh at 0x7f3ca533abf8>, thresh=0.01), functools.partial(<function my_prc at 0x7f3ca24b7d90>, thresh=0.01), functools.partial(<function my_rec at 0x7f3ca24b7d08>, thresh=0.01), functools.partial(<function fbeta at 0x7f3cf77efd08>, thresh=0.01, beta=1), functools.partial(<function accuracy_thresh at 0x7f3ca533abf8>, thresh=0.05), functools.partial(<function my_prc at 0x7f3ca24b7d90>, thresh=0.05), functools.partial(<function my_rec at 0x7f3ca24b7d08>, thresh=0.05), functools.partial(<function fbeta at 0x7f3cf77efd08>, thresh=0.05, beta=1), functools.partial(<function accuracy_thresh at 0x7f3ca533abf8>, thresh=0.1), functools.partial(<function my_prc at 0x7f3ca24b7d90>, thresh=0.1), functools.partial(<function my_rec at 0x7f3ca24b7d08>, thresh=0.1), functools.partial(<function fbeta at 0x7f3cf77efd08>, thresh=0.1, beta=1), functools.partial(<function accuracy_thresh at 0x7f3ca533abf8>, thresh=0.2), functools.partial(<function my_prc at 0x7f3ca24b7d90>, thresh=0.2), functools.partial(<function my_rec at 0x7f3ca24b7d08>, thresh=0.2), functools.partial(<function fbeta at 0x7f3cf77efd08>, thresh=0.2, beta=1), functools.partial(<function accuracy_thresh at 0x7f3ca533abf8>, thresh=0.3), functools.partial(<function my_prc at 0x7f3ca24b7d90>, thresh=0.3), functools.partial(<function my_rec at 0x7f3ca24b7d08>, thresh=0.3), functools.partial(<function fbeta at 0x7f3cf77efd08>, thresh=0.3, beta=1), functools.partial(<function accuracy_thresh at 0x7f3ca533abf8>, thresh=0.4), functools.partial(<function my_prc at 0x7f3ca24b7d90>, thresh=0.4), functools.partial(<function my_rec at 0x7f3ca24b7d08>, thresh=0.4), functools.partial(<function fbeta at 0x7f3cf77efd08>, thresh=0.4, beta=1), functools.partial(<function accuracy_thresh at 0x7f3ca533abf8>, thresh=0.5), functools.partial(<function my_prc at 0x7f3ca24b7d90>, thresh=0.5), functools.partial(<function my_rec at 0x7f3ca24b7d08>, thresh=0.5), functools.partial(<function fbeta at 0x7f3cf77efd08>, thresh=0.5, beta=1)], true_wd=True, bn_wd=True, wd=0.1, train_bn=True, path=PosixPath('.'), model_dir='models', callback_fns=[functools.partial(<class 'fastai.basic_train.Recorder'>, add_time=True, silent=False)], callbacks=[RNNTrainer\n",
       "learn: ...\n",
       "alpha: 2.0\n",
       "beta: 1.0], layer_groups=[Sequential(\n",
       "  (0): Embedding(60000, 400, padding_idx=1)\n",
       "  (1): EmbeddingDropout(\n",
       "    (emb): Embedding(60000, 400, padding_idx=1)\n",
       "  )\n",
       "), Sequential(\n",
       "  (0): WeightDropout(\n",
       "    (module): LSTM(400, 1152, batch_first=True)\n",
       "  )\n",
       "  (1): RNNDropout()\n",
       "), Sequential(\n",
       "  (0): WeightDropout(\n",
       "    (module): LSTM(1152, 1152, batch_first=True)\n",
       "  )\n",
       "  (1): RNNDropout()\n",
       "), Sequential(\n",
       "  (0): WeightDropout(\n",
       "    (module): LSTM(1152, 400, batch_first=True)\n",
       "  )\n",
       "  (1): RNNDropout()\n",
       "), Sequential(\n",
       "  (0): PoolingLinearClassifier(\n",
       "    (layers): Sequential(\n",
       "      (0): BatchNorm1d(1200, eps=1e-05, momentum=0.1, affine=True, track_running_stats=True)\n",
       "      (1): Dropout(p=0.2)\n",
       "      (2): Linear(in_features=1200, out_features=50, bias=True)\n",
       "      (3): ReLU(inplace)\n",
       "      (4): BatchNorm1d(50, eps=1e-05, momentum=0.1, affine=True, track_running_stats=True)\n",
       "      (5): Dropout(p=0.1)\n",
       "      (6): Linear(in_features=50, out_features=126, bias=True)\n",
       "    )\n",
       "  )\n",
       ")], add_time=True, silent=None)"
      ]
     },
     "execution_count": 25,
     "metadata": {},
     "output_type": "execute_result"
    }
   ],
   "source": [
    "learn.load('third_mt')"
   ]
  },
  {
   "cell_type": "code",
   "execution_count": 26,
   "metadata": {
    "colab": {},
    "colab_type": "code",
    "id": "GUKluTG6mPQo"
   },
   "outputs": [],
   "source": [
    "learn.unfreeze()"
   ]
  },
  {
   "cell_type": "code",
   "execution_count": 27,
   "metadata": {
    "colab": {},
    "colab_type": "code",
    "id": "H6x85WK80lCW"
   },
   "outputs": [
    {
     "data": {
      "text/html": [],
      "text/plain": [
       "<IPython.core.display.HTML object>"
      ]
     },
     "metadata": {},
     "output_type": "display_data"
    },
    {
     "name": "stdout",
     "output_type": "stream",
     "text": [
      "LR Finder is complete, type {learner_name}.recorder.plot() to see the graph.\n"
     ]
    },
    {
     "data": {
      "image/png": "[encoded data removed]",
      "text/plain": [
       "<Figure size 432x288 with 1 Axes>"
      ]
     },
     "metadata": {
      "needs_background": "light"
     },
     "output_type": "display_data"
    }
   ],
   "source": [
    "learn.lr_find()\n",
    "learn.recorder.plot()"
   ]
  },
  {
   "cell_type": "code",
   "execution_count": null,
   "metadata": {
    "colab": {},
    "colab_type": "code",
    "id": "SvuUa_8d0lX1",
    "scrolled": false
   },
   "outputs": [
    {
     "data": {
      "text/html": [
       "\n",
       "    <div>\n",
       "        <style>\n",
       "            /* Turns off some styling */\n",
       "            progress {\n",
       "                /* gets rid of default border in Firefox and Opera. */\n",
       "                border: none;\n",
       "                /* Needs to be in here for Safari polyfill so background images work as expected. */\n",
       "                background-size: auto;\n",
       "            }\n",
       "            .progress-bar-interrupted, .progress-bar-interrupted::-webkit-progress-bar {\n",
       "                background: #F44336;\n",
       "            }\n",
       "        </style>\n",
       "      <progress value='1' class='' max='15', style='width:300px; height:20px; vertical-align: middle;'></progress>\n",
       "      6.67% [1/15 09:20<2:10:43]\n",
       "    </div>\n",
       "    \n",
       "<table border=\"1\" class=\"dataframe\">\n",
       "  <thead>\n",
       "    <tr style=\"text-align: left;\">\n",
       "      <th>epoch</th>\n",
       "      <th>train_loss</th>\n",
       "      <th>valid_loss</th>\n",
       "      <th>accuracy_thresh</th>\n",
       "      <th>accuracy_thresh</th>\n",
       "      <th>my_prc</th>\n",
       "      <th>my_rec</th>\n",
       "      <th>fbeta</th>\n",
       "      <th>accuracy_thresh</th>\n",
       "      <th>my_prc</th>\n",
       "      <th>my_rec</th>\n",
       "      <th>fbeta</th>\n",
       "      <th>accuracy_thresh</th>\n",
       "      <th>my_prc</th>\n",
       "      <th>my_rec</th>\n",
       "      <th>fbeta</th>\n",
       "      <th>accuracy_thresh</th>\n",
       "      <th>my_prc</th>\n",
       "      <th>my_rec</th>\n",
       "      <th>fbeta</th>\n",
       "      <th>accuracy_thresh</th>\n",
       "      <th>my_prc</th>\n",
       "      <th>my_rec</th>\n",
       "      <th>fbeta</th>\n",
       "      <th>accuracy_thresh</th>\n",
       "      <th>my_prc</th>\n",
       "      <th>my_rec</th>\n",
       "      <th>fbeta</th>\n",
       "      <th>accuracy_thresh</th>\n",
       "      <th>my_prc</th>\n",
       "      <th>my_rec</th>\n",
       "      <th>fbeta</th>\n",
       "      <th>accuracy_thresh</th>\n",
       "      <th>my_prc</th>\n",
       "      <th>my_rec</th>\n",
       "      <th>fbeta</th>\n",
       "      <th>time</th>\n",
       "    </tr>\n",
       "  </thead>\n",
       "  <tbody>\n",
       "    <tr>\n",
       "      <td>0</td>\n",
       "      <td>0.065666</td>\n",
       "      <td>0.065039</td>\n",
       "      <td>0.977333</td>\n",
       "      <td>0.459106</td>\n",
       "      <td>0.801154</td>\n",
       "      <td>0.547397</td>\n",
       "      <td>0.133200</td>\n",
       "      <td>0.790599</td>\n",
       "      <td>0.801710</td>\n",
       "      <td>0.545974</td>\n",
       "      <td>0.283934</td>\n",
       "      <td>0.926762</td>\n",
       "      <td>0.806048</td>\n",
       "      <td>0.540193</td>\n",
       "      <td>0.493797</td>\n",
       "      <td>0.955590</td>\n",
       "      <td>0.812417</td>\n",
       "      <td>0.532088</td>\n",
       "      <td>0.588042</td>\n",
       "      <td>0.971040</td>\n",
       "      <td>0.823414</td>\n",
       "      <td>0.517699</td>\n",
       "      <td>0.650898</td>\n",
       "      <td>0.975674</td>\n",
       "      <td>0.833943</td>\n",
       "      <td>0.502812</td>\n",
       "      <td>0.658604</td>\n",
       "      <td>0.977120</td>\n",
       "      <td>0.842488</td>\n",
       "      <td>0.488035</td>\n",
       "      <td>0.642767</td>\n",
       "      <td>0.977333</td>\n",
       "      <td>0.850812</td>\n",
       "      <td>0.471688</td>\n",
       "      <td>0.614558</td>\n",
       "      <td>09:20</td>\n",
       "    </tr>\n",
       "  </tbody>\n",
       "</table><p>\n",
       "\n",
       "    <div>\n",
       "        <style>\n",
       "            /* Turns off some styling */\n",
       "            progress {\n",
       "                /* gets rid of default border in Firefox and Opera. */\n",
       "                border: none;\n",
       "                /* Needs to be in here for Safari polyfill so background images work as expected. */\n",
       "                background-size: auto;\n",
       "            }\n",
       "            .progress-bar-interrupted, .progress-bar-interrupted::-webkit-progress-bar {\n",
       "                background: #F44336;\n",
       "            }\n",
       "        </style>\n",
       "      <progress value='78' class='' max='487', style='width:300px; height:20px; vertical-align: middle;'></progress>\n",
       "      16.02% [78/487 01:53<09:57 0.0657]\n",
       "    </div>\n",
       "    "
      ],
      "text/plain": [
       "<IPython.core.display.HTML object>"
      ]
     },
     "metadata": {},
     "output_type": "display_data"
    }
   ],
   "source": [
    "learn.fit_one_cycle(15, slice(1e-3/(2.6**4),1e-3), moms=(0.8,0.7)) \n"
   ]
  },
  {
   "cell_type": "code",
   "execution_count": null,
   "metadata": {},
   "outputs": [],
   "source": [
    "learn.save('final_mt')"
   ]
  },
  {
   "cell_type": "code",
   "execution_count": 38,
   "metadata": {},
   "outputs": [
    {
     "data": {
      "text/plain": [
       "RNNLearner(data=TextClasDataBunch;\n",
       "\n",
       "Train: LabelList (15613 items)\n",
       "x: TextList\n",
       "xxbos council < legalact > euratom guarantee fund action council union regard treaty community < reference > thereof regard treaty energy community < reference > thereof regard proposal commission regard opinion parliament opinion court auditor budget community increase risk result guarantee cover loan country council < date > conclude consideration prudent management discipline call mechanism fund set order cover risk loan guarantee cover loan country project country meet guarantee fund communitys creditor institution agree agreement < date > enter budget reserve relate lending guarantee operation country mechanism guarantee draw cash resource < reference > council < legalact > euratom decision eec euratom system community resource guarantee fund constitute payment resource whereas fund interest resource amount recover default debtor fund guarantee whereas reference practice institution ratio % guarantee fund resource guarantee liability increase interest whereas payment guarantee fund % amount operation attain target amount arrangement payment target amount provision rate review guarantee fund target amount pay budget community management guarantee fund investment bank management fund audit court auditor accordance procedure court auditor commission investment bank treaty power pursuant < reference > ec treaty < reference > eaec treaty adoption < legalact > < reference > guarantee fund hereinafter fund resource repay xxunk event default loan grant guarantee community lending guarantee operation paragraph hereinafter refer operation country financing project country fund payment budget community interest fund resource amount recover default debtor fund guarantee < reference > fund level hereinafter target amount target amount % capital liability arise operation increase interest end year target amount statement revenue budget community < reference > payment provide < reference > % capital value operation fund target amount provision rate fund reach target amount case payment fund accordance arrangement < reference > result activation guarantee default resource fund % target amount rate provision operation % target amount reach default target amount reach amount activation guarantee activation guarantee default resource fund fall % target amount commission report measure fund < reference > commission management fund eib behalf commission year send parliament council court auditor report situation fund management year < reference > revenue expenditure account balance sheet relate fund community revenue expenditure account balance sheet commission submit report function fund < reference > < legalact > day publication community < reference > operation commit < date > < legalact > entirety member state council president k kinkel p < legalact > amend < legalact > euratom page journal payment stipulate indent < reference > payment fund accordance arrangement operation concern community lending operation guarantee body tranche cover b community lending operation guarantee body framework facility spread number year purpose operation point comission procedure payment fund decision amount pay fund calculate basis amount operation council operation point b payment fund tranche basis amount statement attach commission proposal light council decision commission procedure payment fund decision begin year operation program year subsequent year commission payment procedure year amount pay fund correct difference record december year estimate basis payment figure loan sign year difference year rise payment year payment procedure commission situation regard performance operation payment commitment deadline take acount calculate payment start year operation way operation council < date > commission start procedure payment fund entry force accordance arrangement precede paragraph example operation loan balance payment country guarantee consortium bank finance purchase food product country example type operation euratom loan country guarantee eib loan country latin asia xxunk country ceec,xxbos council decision < date > xxunk amount development fund acp state hand country department eec council community treaty community agreement administration community aid sign hereinafter call agreement < reference > proposal commission surinam state country territory community virtue decision request accede convention lomã © pursuant < reference > thereof whereas council minister request state deposit instrument accession secretariat council convention lomã © july < date><date > < reference > agreement amount country territory < reference > b agreement provide state subparagraph paragraph < reference > text < reference > b agreement text > pic file= t < reference > decision force < date > < reference > decision community < date > council president j silkin < date > p < date > p,xxbos commission < legalact > < date > progress council < legalact > eec relate driver seat forestry tractor eea relevance commission community treaty community council < legalact > < date > approximation law member state relate typeapproval forestry tractor < legalact > ec parliament council thereof regard council < legalact > < date > approximation law member state relate driver seat forestry tractor < legalact > ec < reference > thereof order safety specify detail driver seat measure accordance opinion committee adaptation progress < reference > < legalact > < reference > item < date > < legalact > position seat lengthwise axis pass seat reference point plane tractor pass centre wheel mm plane member state ec typeapproval issue document < reference > typeapproval respect tractor prohibit entry service tractor question meet requirement < legalact > member state indent < reference > respect type tractor meet < legalact > eec < legalact > typeapproval respect type tractor meet < legalact > eec amend < legalact > < reference > member state force law < legalact > provision comply < legalact > < date > commission thereof member state provision reference < legalact > accompany reference occasion publication member state reference member state commission text provision law adopt field < legalact > < reference > < legalact > force th day publication community < reference > < legalact > address member state < date > commission martin member commission < date > p < date > p < date > p,xxbos commission decision < date > terminate examination procedure concern obstacle trade consist trade practice relation import sorbitol ec commission community treaty community council < legalact > ec < date > community procedure field policy order exercise communitys trade rule world trade organisation < legalact > ec particular < reference > thereof consult committee background < date > company cerestar bv lodge complaint pursuant < reference > < legalact > ec community sale sorbitol brazil hinder number obstacle trade < reference > < legalact > ec allege obstacle trade introduction < date > government exterior accordance comunicado decex < date > licensing procedure contravention provision wto agreement import licensing procedure b allege andor refusal authority import licence relation enter brazil price implementation price reference price valuation system complainant lack transparency import licensing system wto commission complaint contain evidence justify initiation examination procedure < reference > < legalact > ec correspond community b investigation report examination procedure conclusion price system breach < reference > xi gatt restriction duty charge import licence importation product territory party wto justification b < reference > agreement agriculture reason agreement measure control extent protect life health addition import licensing system price requirement appear breach agreement import licensing procedure application manner effect import wto restriction moreover system measure scope duration measure addition list product submit licensing application license import price month b < reference > x gatt manner regard legislation custom valuation scope implementation reference price basis render manner system agreement implementation < reference > vii agreement tariff xxunk valuation agreement examination procedure contest practice cause trade effect < reference > trade barrier < legalact > tbr inter alia export sorbitol community market development end investigation basis investigation commission decision < date > wto settlement procedure import regime wto consultation regard sorbitol product consultation price import result community industry ability enter market import valuation system order comply obligation wto agreement decision < date > commission cerestar examination procedure monitor effect change system period month date entry force decision period commission service pursue exchange letter community industry basis information industry commission dispute barrier trade importation sorbitol conclusion view analysis cerestar examination procedure situation regard obstacle face trade sorbitol examination procedure decide examination procedure concern obstacle trade < legalact > ec consist trade practice relation import sorbitol hereby terminate < reference > prejudice decision commission import brazil textile product commission member commission < date > p < date > p < date > p < date > p < date > p,xxbos decision < date > concern reimbursement competent institution member state cost incur member state procedure refer < reference > < legalact > eec ec commission community security worker regard < reference > council < legalact > eec security scheme person family move community deal question arise < legalact > eec < legalact > regard < reference > < legalact > eec task procedure refer < reference > < legalact > eec fall institution procedure simplification promote reimbursement benefit insure person increase possibility procedure increase limit decision < date > decision act accordance < reference > < legalact > eec decide provision < reference > < legalact > eec amount cost stay amount fix member state eur purpose provision refer point amount cost rate month reimbursement decision force day month publication community chairman commission arno bokeloh < date > p\n",
       "y: MultiCategoryList\n",
       "100171;100174;100177;100200;100229,100171;100176;100198;100282;100284,100238;100249;100261,100192;100193;100194;100256;100257;100279;100282;100283,100169;100175;100183;100200;100214;100233\n",
       "Path: .;\n",
       "\n",
       "Valid: LabelList (3903 items)\n",
       "x: TextList\n",
       "xxbos agreement form exchange letter community people algeria import community fruit salad algeria letter ° sir view implement % reduction custom duty cooperation agreement conclude community people algeria clarification exchange concern condition import community fruit salad fall code ex algeria inform government measure quantity supply community < date > december year end government declare export community product effect operation control sociã © tã © gestion veloppement des industry alimentaire sogedia society administration development foodstuff industry guarantee quantity meet accordance procedure agriculture commission community way derogation < reference > cooperation agreement form exchange letter denounce party denunciation year grateful agreement community please assurance consideration government people algeria letter ° sir honour receipt letter today word view implement % reduction custom duty cooperation agreement conclude community people algeria clarification exchange concern condition import community fruit salad fall code ex algeria inform government measure quantity supply community < date > december year end government declare export community product effect operation control sociã © tã © gestion veloppement des industry alimentaire sogedia society administration development foodstuff industry guarantee quantity meet accordance procedure agriculture commission community way derogation < reference > cooperation agreement form exchange letter denounce party denunciation year grateful agreement community agreement community state % reduction custom duty apply < date > december year quantity fruit salad algeria letter please assurance consideration behalf community,xxbos decision committee < date > agreement committee regard agreement area protocol agreement area hereinafter agreement < reference > thereof whereas agreement amend decision committee < date > commission ec prodcom list product council < legalact > eec agreement < reference > point council < legalact > eec agreement commission < legalact > ec product council < legalact > eec l < date > p < legalact > ec icelandic language union < reference > decision force < date > provide notification < reference > agreement eea committee < reference > decision section union < date > committee president h prinz von liechtenstein < date > p < date > p requirement indicate,xxbos decision joint committee agreement recognition community state america < date > relate list conformity assessment body compatibility emc ec committee regard agreement recognition community state america < reference > whereas committee decision list conformity assessment body decide conformity assessment body list conformity assessment body section compatibility scope term product conformity procedure conformity assessment body party maintain decision committee behalf party agreement decision date signature sign washington < date > jame sanford behalf state america sign brussel < date > community conformity assessment body conformity assessment body section compatibility xxunk â istituto italiano marchio di qualitã milano tel + fax +,xxbos council decision < date > conclusion protocol agreement trade traderelate matter community coal steel community romania europe agreement community member state romania ec council union regard treaty community < reference > conjunction < reference > conclusion council place copenhagen < date > regard proposal commission behalf community protocol agreement trade traderelate matter agreement romania protocol decide < reference > protocol agreement trade traderelate matter community coal steel community romania europe agreement community member state romania hereby community protocol attach decision < reference > president council person sign protocol behalf community president council notification < reference > protocol behalf community < date > council president claes,xxbos commission decision procedure conformity construction product pursuant < reference > council kit wall cladding document number eea relevance ec commission community treaty community council < legalact > < date > approximation law < legalact > provision member state relate construction product eec particular < reference > thereof whereas commission procedure < reference > conformity product procedure safety decide product family product existence production control system responsibility manufacturer condition attestation conformity reason relate compliance criterion mention < reference > intervention certification body < reference > procedure specification product family product specification procedure < reference > describe detail < legalact > therefore procedure reference product family product preference system procedure < reference > correspond system possibility surveillance possibility section procedure refer < reference > b correspond system section possibility surveillance section measure decision accordance opinion committee construction decision < reference > product family product conformity procedure addition factory production control system manufacturer certification body surveillance production control product < reference > procedure conformity mandate approval < reference > decision address member state < date > commission member commission < date > p < date > p kit wall finish wall note product intend use family task body system attestation conformity product family kit cladding system conformity product use list request specify follow system attestation conformity approval > table > system + < legalact > eec possibility certification factory production control body basis inspection factory production control surveillance assessment approval factory production control specification system performance member state requirement characteristic < reference > clause < date > document case verification manufacturer declare performance product family kit cladding system conformity product use list request specify follow system attestation conformity approval > table > system eec sample system possibility system possibility specification system performance member state requirement characteristic < reference > clause < date > document case verification manufacturer declare performance product respect\n",
       "y: MultiCategoryList\n",
       "100170;100192;100257,100176;100190;100191;100196;100260;100268,100175;100176;100261;100272;100279;100282;100283,100170;100176;100282;100283,100196;100261;100273\n",
       "Path: .;\n",
       "\n",
       "Test: None, model=SequentialRNN(\n",
       "  (0): MultiBatchEncoder(\n",
       "    (module): AWD_LSTM(\n",
       "      (encoder): Embedding(60000, 400, padding_idx=1)\n",
       "      (encoder_dp): EmbeddingDropout(\n",
       "        (emb): Embedding(60000, 400, padding_idx=1)\n",
       "      )\n",
       "      (rnns): ModuleList(\n",
       "        (0): WeightDropout(\n",
       "          (module): LSTM(400, 1152, batch_first=True)\n",
       "        )\n",
       "        (1): WeightDropout(\n",
       "          (module): LSTM(1152, 1152, batch_first=True)\n",
       "        )\n",
       "        (2): WeightDropout(\n",
       "          (module): LSTM(1152, 400, batch_first=True)\n",
       "        )\n",
       "      )\n",
       "      (input_dp): RNNDropout()\n",
       "      (hidden_dps): ModuleList(\n",
       "        (0): RNNDropout()\n",
       "        (1): RNNDropout()\n",
       "        (2): RNNDropout()\n",
       "      )\n",
       "    )\n",
       "  )\n",
       "  (1): PoolingLinearClassifier(\n",
       "    (layers): Sequential(\n",
       "      (0): BatchNorm1d(1200, eps=1e-05, momentum=0.1, affine=True, track_running_stats=True)\n",
       "      (1): Dropout(p=0.2)\n",
       "      (2): Linear(in_features=1200, out_features=50, bias=True)\n",
       "      (3): ReLU(inplace)\n",
       "      (4): BatchNorm1d(50, eps=1e-05, momentum=0.1, affine=True, track_running_stats=True)\n",
       "      (5): Dropout(p=0.1)\n",
       "      (6): Linear(in_features=50, out_features=126, bias=True)\n",
       "    )\n",
       "  )\n",
       "), opt_func=functools.partial(<class 'torch.optim.adam.Adam'>, betas=(0.9, 0.99)), loss_func=FlattenedLoss of BCEWithLogitsLoss(), metrics=[<function accuracy_thresh at 0x7f3ca533abf8>, functools.partial(<function accuracy_thresh at 0x7f3ca533abf8>, thresh=0.001), functools.partial(<function my_prc at 0x7f3ca3362510>, thresh=0.001), functools.partial(<function my_rec at 0x7f3ca2075c80>, thresh=0.001), functools.partial(<function fbeta at 0x7f3cf77efd08>, thresh=0.001, beta=1), functools.partial(<function accuracy_thresh at 0x7f3ca533abf8>, thresh=0.01), functools.partial(<function my_prc at 0x7f3ca3362510>, thresh=0.01), functools.partial(<function my_rec at 0x7f3ca2075c80>, thresh=0.01), functools.partial(<function fbeta at 0x7f3cf77efd08>, thresh=0.01, beta=1), functools.partial(<function accuracy_thresh at 0x7f3ca533abf8>, thresh=0.05), functools.partial(<function my_prc at 0x7f3ca3362510>, thresh=0.05), functools.partial(<function my_rec at 0x7f3ca2075c80>, thresh=0.05), functools.partial(<function fbeta at 0x7f3cf77efd08>, thresh=0.05, beta=1), functools.partial(<function accuracy_thresh at 0x7f3ca533abf8>, thresh=0.1), functools.partial(<function my_prc at 0x7f3ca3362510>, thresh=0.1), functools.partial(<function my_rec at 0x7f3ca2075c80>, thresh=0.1), functools.partial(<function fbeta at 0x7f3cf77efd08>, thresh=0.1, beta=1), functools.partial(<function accuracy_thresh at 0x7f3ca533abf8>, thresh=0.2), functools.partial(<function my_prc at 0x7f3ca3362510>, thresh=0.2), functools.partial(<function my_rec at 0x7f3ca2075c80>, thresh=0.2), functools.partial(<function fbeta at 0x7f3cf77efd08>, thresh=0.2, beta=1), functools.partial(<function accuracy_thresh at 0x7f3ca533abf8>, thresh=0.3), functools.partial(<function my_prc at 0x7f3ca3362510>, thresh=0.3), functools.partial(<function my_rec at 0x7f3ca2075c80>, thresh=0.3), functools.partial(<function fbeta at 0x7f3cf77efd08>, thresh=0.3, beta=1), functools.partial(<function accuracy_thresh at 0x7f3ca533abf8>, thresh=0.4), functools.partial(<function my_prc at 0x7f3ca3362510>, thresh=0.4), functools.partial(<function my_rec at 0x7f3ca2075c80>, thresh=0.4), functools.partial(<function fbeta at 0x7f3cf77efd08>, thresh=0.4, beta=1), functools.partial(<function accuracy_thresh at 0x7f3ca533abf8>, thresh=0.5), functools.partial(<function my_prc at 0x7f3ca3362510>, thresh=0.5), functools.partial(<function my_rec at 0x7f3ca2075c80>, thresh=0.5), functools.partial(<function fbeta at 0x7f3cf77efd08>, thresh=0.5, beta=1)], true_wd=True, bn_wd=True, wd=0.1, train_bn=True, path=PosixPath('.'), model_dir='models', callback_fns=[functools.partial(<class 'fastai.basic_train.Recorder'>, add_time=True, silent=False)], callbacks=[RNNTrainer\n",
       "learn: ...\n",
       "alpha: 2.0\n",
       "beta: 1.0], layer_groups=[Sequential(\n",
       "  (0): Embedding(60000, 400, padding_idx=1)\n",
       "  (1): EmbeddingDropout(\n",
       "    (emb): Embedding(60000, 400, padding_idx=1)\n",
       "  )\n",
       "), Sequential(\n",
       "  (0): WeightDropout(\n",
       "    (module): LSTM(400, 1152, batch_first=True)\n",
       "  )\n",
       "  (1): RNNDropout()\n",
       "), Sequential(\n",
       "  (0): WeightDropout(\n",
       "    (module): LSTM(1152, 1152, batch_first=True)\n",
       "  )\n",
       "  (1): RNNDropout()\n",
       "), Sequential(\n",
       "  (0): WeightDropout(\n",
       "    (module): LSTM(1152, 400, batch_first=True)\n",
       "  )\n",
       "  (1): RNNDropout()\n",
       "), Sequential(\n",
       "  (0): PoolingLinearClassifier(\n",
       "    (layers): Sequential(\n",
       "      (0): BatchNorm1d(1200, eps=1e-05, momentum=0.1, affine=True, track_running_stats=True)\n",
       "      (1): Dropout(p=0.2)\n",
       "      (2): Linear(in_features=1200, out_features=50, bias=True)\n",
       "      (3): ReLU(inplace)\n",
       "      (4): BatchNorm1d(50, eps=1e-05, momentum=0.1, affine=True, track_running_stats=True)\n",
       "      (5): Dropout(p=0.1)\n",
       "      (6): Linear(in_features=50, out_features=126, bias=True)\n",
       "    )\n",
       "  )\n",
       ")], add_time=True, silent=None)"
      ]
     },
     "execution_count": 38,
     "metadata": {},
     "output_type": "execute_result"
    }
   ],
   "source": [
    "learn.load('final_mt')\n"
   ]
  },
  {
   "cell_type": "code",
   "execution_count": 45,
   "metadata": {
    "scrolled": true
   },
   "outputs": [
    {
     "data": {
      "text/html": [],
      "text/plain": [
       "<IPython.core.display.HTML object>"
      ]
     },
     "metadata": {},
     "output_type": "display_data"
    },
    {
     "name": "stdout",
     "output_type": "stream",
     "text": [
      "LR Finder is complete, type {learner_name}.recorder.plot() to see the graph.\n"
     ]
    },
    {
     "data": {
      "image/png": "[encoded data removed]",
      "text/plain": [
       "<Figure size 432x288 with 1 Axes>"
      ]
     },
     "metadata": {
      "needs_background": "light"
     },
     "output_type": "display_data"
    }
   ],
   "source": [
    "learn.load('final_mt')\n",
    "\n",
    "learn.lr_find()\n",
    "learn.recorder.plot()"
   ]
  },
  {
   "cell_type": "code",
   "execution_count": 46,
   "metadata": {
    "scrolled": true
   },
   "outputs": [
    {
     "data": {
      "text/html": [
       "<table border=\"1\" class=\"dataframe\">\n",
       "  <thead>\n",
       "    <tr style=\"text-align: left;\">\n",
       "      <th>epoch</th>\n",
       "      <th>train_loss</th>\n",
       "      <th>valid_loss</th>\n",
       "      <th>accuracy_thresh</th>\n",
       "      <th>accuracy_thresh</th>\n",
       "      <th>my_prc</th>\n",
       "      <th>my_rec</th>\n",
       "      <th>fbeta</th>\n",
       "      <th>accuracy_thresh</th>\n",
       "      <th>my_prc</th>\n",
       "      <th>my_rec</th>\n",
       "      <th>fbeta</th>\n",
       "      <th>accuracy_thresh</th>\n",
       "      <th>my_prc</th>\n",
       "      <th>my_rec</th>\n",
       "      <th>fbeta</th>\n",
       "      <th>accuracy_thresh</th>\n",
       "      <th>my_prc</th>\n",
       "      <th>my_rec</th>\n",
       "      <th>fbeta</th>\n",
       "      <th>accuracy_thresh</th>\n",
       "      <th>my_prc</th>\n",
       "      <th>my_rec</th>\n",
       "      <th>fbeta</th>\n",
       "      <th>accuracy_thresh</th>\n",
       "      <th>my_prc</th>\n",
       "      <th>my_rec</th>\n",
       "      <th>fbeta</th>\n",
       "      <th>accuracy_thresh</th>\n",
       "      <th>my_prc</th>\n",
       "      <th>my_rec</th>\n",
       "      <th>fbeta</th>\n",
       "      <th>accuracy_thresh</th>\n",
       "      <th>my_prc</th>\n",
       "      <th>my_rec</th>\n",
       "      <th>fbeta</th>\n",
       "      <th>time</th>\n",
       "    </tr>\n",
       "  </thead>\n",
       "  <tbody>\n",
       "    <tr>\n",
       "      <td>0</td>\n",
       "      <td>0.052654</td>\n",
       "      <td>0.061341</td>\n",
       "      <td>0.979425</td>\n",
       "      <td>0.572378</td>\n",
       "      <td>0.809147</td>\n",
       "      <td>0.609953</td>\n",
       "      <td>0.168885</td>\n",
       "      <td>0.842083</td>\n",
       "      <td>0.809706</td>\n",
       "      <td>0.608890</td>\n",
       "      <td>0.350959</td>\n",
       "      <td>0.942116</td>\n",
       "      <td>0.813228</td>\n",
       "      <td>0.603848</td>\n",
       "      <td>0.553287</td>\n",
       "      <td>0.962652</td>\n",
       "      <td>0.818091</td>\n",
       "      <td>0.597088</td>\n",
       "      <td>0.633335</td>\n",
       "      <td>0.974090</td>\n",
       "      <td>0.826936</td>\n",
       "      <td>0.585478</td>\n",
       "      <td>0.682357</td>\n",
       "      <td>0.977630</td>\n",
       "      <td>0.835819</td>\n",
       "      <td>0.571928</td>\n",
       "      <td>0.691378</td>\n",
       "      <td>0.979039</td>\n",
       "      <td>0.843477</td>\n",
       "      <td>0.559435</td>\n",
       "      <td>0.683665</td>\n",
       "      <td>0.979425</td>\n",
       "      <td>0.849802</td>\n",
       "      <td>0.549114</td>\n",
       "      <td>0.665389</td>\n",
       "      <td>07:35</td>\n",
       "    </tr>\n",
       "    <tr>\n",
       "      <td>1</td>\n",
       "      <td>0.052818</td>\n",
       "      <td>0.061058</td>\n",
       "      <td>0.979344</td>\n",
       "      <td>0.538509</td>\n",
       "      <td>0.804951</td>\n",
       "      <td>0.611585</td>\n",
       "      <td>0.155518</td>\n",
       "      <td>0.828683</td>\n",
       "      <td>0.805775</td>\n",
       "      <td>0.610893</td>\n",
       "      <td>0.329123</td>\n",
       "      <td>0.938891</td>\n",
       "      <td>0.809726</td>\n",
       "      <td>0.605674</td>\n",
       "      <td>0.541141</td>\n",
       "      <td>0.961362</td>\n",
       "      <td>0.815662</td>\n",
       "      <td>0.599558</td>\n",
       "      <td>0.626086</td>\n",
       "      <td>0.973626</td>\n",
       "      <td>0.824790</td>\n",
       "      <td>0.588135</td>\n",
       "      <td>0.681132</td>\n",
       "      <td>0.977465</td>\n",
       "      <td>0.834519</td>\n",
       "      <td>0.573904</td>\n",
       "      <td>0.691222</td>\n",
       "      <td>0.978863</td>\n",
       "      <td>0.842560</td>\n",
       "      <td>0.562003</td>\n",
       "      <td>0.683733</td>\n",
       "      <td>0.979344</td>\n",
       "      <td>0.849692</td>\n",
       "      <td>0.549958</td>\n",
       "      <td>0.665588</td>\n",
       "      <td>06:04</td>\n",
       "    </tr>\n",
       "    <tr>\n",
       "      <td>2</td>\n",
       "      <td>0.051061</td>\n",
       "      <td>0.060814</td>\n",
       "      <td>0.979419</td>\n",
       "      <td>0.550285</td>\n",
       "      <td>0.814042</td>\n",
       "      <td>0.603366</td>\n",
       "      <td>0.158307</td>\n",
       "      <td>0.839678</td>\n",
       "      <td>0.814780</td>\n",
       "      <td>0.602156</td>\n",
       "      <td>0.340996</td>\n",
       "      <td>0.943000</td>\n",
       "      <td>0.818438</td>\n",
       "      <td>0.597134</td>\n",
       "      <td>0.555047</td>\n",
       "      <td>0.963451</td>\n",
       "      <td>0.822140</td>\n",
       "      <td>0.590187</td>\n",
       "      <td>0.636183</td>\n",
       "      <td>0.974501</td>\n",
       "      <td>0.831913</td>\n",
       "      <td>0.578541</td>\n",
       "      <td>0.684943</td>\n",
       "      <td>0.978031</td>\n",
       "      <td>0.840532</td>\n",
       "      <td>0.567052</td>\n",
       "      <td>0.693148</td>\n",
       "      <td>0.979222</td>\n",
       "      <td>0.848282</td>\n",
       "      <td>0.555405</td>\n",
       "      <td>0.683122</td>\n",
       "      <td>0.979419</td>\n",
       "      <td>0.855578</td>\n",
       "      <td>0.542893</td>\n",
       "      <td>0.661143</td>\n",
       "      <td>07:21</td>\n",
       "    </tr>\n",
       "    <tr>\n",
       "      <td>3</td>\n",
       "      <td>0.052029</td>\n",
       "      <td>0.060846</td>\n",
       "      <td>0.979499</td>\n",
       "      <td>0.564320</td>\n",
       "      <td>0.815726</td>\n",
       "      <td>0.604055</td>\n",
       "      <td>0.163244</td>\n",
       "      <td>0.845613</td>\n",
       "      <td>0.816324</td>\n",
       "      <td>0.602311</td>\n",
       "      <td>0.349912</td>\n",
       "      <td>0.944798</td>\n",
       "      <td>0.819724</td>\n",
       "      <td>0.597272</td>\n",
       "      <td>0.562418</td>\n",
       "      <td>0.964391</td>\n",
       "      <td>0.824975</td>\n",
       "      <td>0.590620</td>\n",
       "      <td>0.640500</td>\n",
       "      <td>0.974863</td>\n",
       "      <td>0.834010</td>\n",
       "      <td>0.579214</td>\n",
       "      <td>0.687353</td>\n",
       "      <td>0.978175</td>\n",
       "      <td>0.842599</td>\n",
       "      <td>0.567345</td>\n",
       "      <td>0.694360</td>\n",
       "      <td>0.979356</td>\n",
       "      <td>0.849497</td>\n",
       "      <td>0.555058</td>\n",
       "      <td>0.684127</td>\n",
       "      <td>0.979499</td>\n",
       "      <td>0.855722</td>\n",
       "      <td>0.543269</td>\n",
       "      <td>0.663027</td>\n",
       "      <td>06:46</td>\n",
       "    </tr>\n",
       "  </tbody>\n",
       "</table>"
      ],
      "text/plain": [
       "<IPython.core.display.HTML object>"
      ]
     },
     "metadata": {},
     "output_type": "display_data"
    }
   ],
   "source": [
    "learn.fit_one_cycle(4, slice(2e-3/(2.6**4),2e-3), moms=(0.8,0.7), wd=0.1) "
   ]
  },
  {
   "cell_type": "code",
   "execution_count": 47,
   "metadata": {},
   "outputs": [],
   "source": [
    "learn.save('post_final_mt')"
   ]
  },
  {
   "cell_type": "code",
   "execution_count": 82,
   "metadata": {},
   "outputs": [
    {
     "data": {
      "text/plain": [
       "RNNLearner(data=TextClasDataBunch;\n",
       "\n",
       "Train: LabelList (14016 items)\n",
       "x: TextList\n",
       "xxbos commission community com proposal < legalact > parliament council recognition navigability licence inland memorandum context people commission attach importance simplify community law clearer citizen opportunity chance use aim provision time instrument research work instrument rule reason codification rule community law transparent < date > commission instruct staff act amendment stress requirement department endeavour interval text community rule conclusion presidency council stress importance codification certainty law matter time codification compliance community procedure change substance instrument codification parliament council commission agreement date < date > procedure adoption codification instrument purpose proposal codification < legalact > < date > recognition navigability licence inland < legalact > act incorporate proposal content act hence bring amendment require codification exercise codification proposal basis consolidation official language < legalact > instrument office official publication community system number correlation number show contain codify < legalact > proposal < legalact > parliament council recognition navigability licence inland parliament council union regard treaty community < reference > thereof regard proposal commission opinion committee opinion committee region act accordance procedure < reference > treaty whereas recognition navigability licence inland interest clarity rationality codify < legalact > recognition navigability licence inland view safety inland navigation community < legalact > recital circumstance condition member state passage vessel < legalact > obligation member state relate timelimit transposition law < legalact > < legalact > < reference > < legalact > vessel use transport weight ton pusher craft inland vessel use transport passenger waterway < legalact > provision lay < legalact > inspection agreement transport rhine < legalact > < reference > member state require lie procedure issue navigability licence member state < legalact > vessel inland waterway territory navigability licence member state vessel register home port member state owner vessel member state member state issue navigability licence vessel member state power body navigability licence official community language information use system < reference > paragraph member state waterway navigability licence issue member state accordance basis issue licence issue extend year issue pursuant < legalact > inspection evidence paragraph duration member state specification inspection comply certificate refer subparagraph paragraph proof member state vessel define adnr comply lay agreement proof authorisation agreement vessel requirement inspection waterway community evidence compliance requirement certificate refer subparagraph paragraph condition transport community meet requirement proof compliance requirement authorisation refer paragraph member state fulfilment maritime condition require vessel member state commission list commission < legalact > < reference > member state navigability licence issue member state passage vessel inspection condition danger correct equipment inspection requirement navigability licence document refer < reference > case member state passage vessel intention defect authority member state navigability licence document issue reason decision passage vessel measure implementation < legalact > state detail reason base decision party concern time remedy law force member state timelimit exercise remedy < reference><legalact > list repeal obligation member state relate timelimit transposition law < legalact > reference repeal < legalact > reference < legalact > accordance correlation < reference > < legalact > force twentieth day publication union < legalact > art < reference > < legalact > address member state parliament council president < legalact > information licence information category compulsory sign name authority body issue document title document number issue state name domicile owner vessel name place number registration home port construction type utilisation length metre breadth metre depth waterline metre ton displacement metre indication mark authorise number passenger power engine hp freeboard centimetre declaration vessel certify navigation condition indication navigation restriction date expiry date issue authority body issue licence repeal < legalact > amendment < legalact > list timelimit transposition law < legalact > timelimit transposition < legalact > < date > < legalact > < date > correlation table < legalact > < legalact > < reference > com pv conclusion carry communication commission parliament council codification – acquis communautaire com see proposal,xxbos parliament council < date > concern post worker framework provision service parliament council union regard treaty community < reference > thereof regard proposal commission opinion committee act accordance procedure < reference > b treaty whereas < reference > treaty abolition member state obstacle movement person service community provision service restriction base nationality residence requirement prohibit treaty effect end period completion market environment provision service prompt number undertaking post employee work member state whereas provision service form performance work account direction contract party service hireout worker use framework contract promotion provision service climate competition measure guarantee respect worker whereas employment relationship raise problem regard legislation employment relationship interest party term condition employment relationship envisage convention < date > law obligation sign member state enter force majority member state whereas convention rule choice law party whereas absence choice contract accord < reference > law country employee work performance contract country employee country law country place business engage situate circumstance contract country case contract law country < reference > convention choice law party result employee protection afford mandatory rule law < reference > absence choice < reference > convention lay condition effect law declare rule law country law member state worker whereas precedence community law < reference > convention application provision relation matter lie choiceoflaw rule obligation contain institution community law implementation act community law preclude member state legislation agreement enter employer person employer member state whereas community law forbid member state guarantee observance rule mean whereas law member state order lie rule minimum protection host country worker perform work territory member state service coordination community law whereas core rule provider service duration worker lay case assembly installation provision rate pay holiday whereas application provision concern rate pay holiday length post month member state condition derogate provision concern rate pay possibility derogation agreement whereas amount work member state provision concern rate pay holiday rule protection force host country application term condition employment worker whereas community treatment member state whereas provision community law < legalact > obligation recognition existence employment undertaking application member state law concern hireout worker employment territory therein framework provision service < legalact > affect agreement community country law member state concern access territory thirdcountry provider service whereas < legalact > law relate entry residence access employment thirdcountry worker council < legalact > < date > application security scheme person family move community provision regard security benefit contribution < legalact > prejudice law member state concern action interest trade profession body member state application < legalact > member state remedy event failure comply < legalact > guarantee application end provision collaboration commission member state whereas year adoption < legalact > commission rule < legalact > view amendment adopt < legalact > < reference > scope < legalact > member state framework provision service post worker accordance paragraph territory member state < legalact > undertakings personnel undertaking refer paragraph measure post worker territory member state account direction contract post party service member state employment relationship post worker period post worker establishment group territory member state employment relationship post worker period post employment undertake placement agency hire worker member state employment relationship employment undertake placement agency worker period post state treatment member state < reference > definition < legalact > post worker period carry work member state definition worker apply law member state territory worker post term condition employment member state law employment relationship refer < reference > guarantee worker post term condition employment cover matter member state work law < legalact > provision agreement arbitration award declare paragraph insofar concern activity work period rest period pay holiday rate pay rate point retirement pension scheme condition hireout worker supply worker employment health safety hygiene work measure term condition employment woman birth child people treatment man woman provision nondiscrimination purpose < legalact > rate pay paragraph law practice member state territory worker post case assembly installation contract supply use carry worker supply subparagraph paragraph period post day provision activity field build work list member state accordance tradition practice member state apply paragraph case length month member state law practice exemption subparagraph paragraph case decision member state paragraph agreement paragraph < reference > concern sector activity length month member state exemption grant subparagraph paragraph case ground amount work member state avail option subparagraph criterion work perform order consider length basis reference period year begin post calculation account period post fill post worker paragraph application term condition employment worker allowance wage pay reimbursement expenditure account expenditure travel board agreement arbitration award declare agreement arbitration award area profession industry concern absence system agreement arbitration award application subparagraph member state base agreement arbitration award area profession industry concern agreement conclude employer organization level territory application refer equality treatment matter list paragraph refer subparagraph position equality treatment undertaking position place question sector concern obligation post regard matter list paragraph obligation effect member state refer < reference > worker refer term condition worker member state work carry < legalact > application member state compliance undertakings state basis equality treatment term condition employment matter paragraph case policy provision term condition employment agreement arbitration award concern activity < reference > cooperation information purpose implement member state legislation practice designate liaison office competent body member state provision cooperation authority accordance legislation term condition employment refer cooperation consist reply reason authority information transnational xxunk worker abuse case activity commission authority subparagraph order examine difficulty application < reference > assistance charge member state measure information term condition employment refer < reference > member state member state commission liaison office competent body paragraph measure member state measure event failure comply < legalact > procedure worker enforcement obligation < legalact > < reference > jurisdiction order enforce term condition employment guarantee < reference > proceeding member state territory worker post prejudice convention jurisdiction institute state implementation member state law < legalact > provision comply < legalact > < date > commission thereof member state provision reference < legalact > reference occasion official publication reference member state < reference > commission review < date > commission operation < legalact > view amendment council < reference > < legalact > address member state parliament president k hã„nsch council president p opinion parliament < date > council position < date > decision parliament < date > council decision < date > p oj l edition p < legalact > amend activity mention < reference > indent work relate construction repair alteration demolition building work excavation building work element installation alteration renovation repair demolition maintenance paint cleaning work improvement,xxbos commission < legalact > < date > council < legalact > community procedure establishment maximum limit product foodstuff commission community treaty community council < legalact > < date > community procedure establishment maximum limit product foodstuff origin commission < legalact > < reference > thereof whereas limit substance use community product administration foodproduce whereas limit examination committee product relevant information concern safety substance consumer foodstuff impact processing foodstuff limit product foodstuff origin specify specie residue level meat tissue nature monitoring whereas control community legislation maximum limit target tissue kidney whereas carcase move trade maximum limit therefore muscle tissue whereas case product intend use bird lactate honey bee limit egg milk honey propane xxunk isobutane xxunk polyethylene glycol policresulen magnesium compound xxunk phenol insert < legalact > order completion study clorsulon vedaprofen < legalact > period day entry force < legalact > order member state adjustment authorization place product concern market grant accordance < legalact > take account provision < legalact > measure opinion committee product < reference > < legalact > hereto < reference > < legalact > force th day publication community < legalact > entirety member state < date > commission martin member commission l p journal oj l p oj l p modify chemical > table > compound > table > substance > table > b agent < date > benzenesulphonamide > table > antiinflammatory agent antiinflammatory agent < date > acid > table >,xxbos commission decision < date > condition import fishery aquaculture product originate commission community treaty community < legalact > < date > health condition production place market fishery product respect < reference > thereof whereas group commission conduct inspection visit condition fishery product store dispatch community provision legislation health inspection monitor product lay < legalact > whereas ministerio application law force procedure health certificate < legalact > definition model certificate requirement regard language grade person sign whereas < legalact > mark affix package product country approval number origin whereas < legalact > list establishment list basis communication inape commission compliance provision < reference > < legalact > inape assurance regard compliance rule chapter v requirement lay < legalact > approval establishment measure decision accordance opinion committee decision < reference > ministerio authority verify certify compliance product requirement < legalact > eec < reference > fishery aquaculture product originate condition consignment health certificate duly sign date comprise sheet accordance model hereto product list b hereto case freeze fishery product manufacture preserve food package word approval number origin letter < reference > certificate refer point < reference > language member state check carry certificate name capacity signature inape latter colour indication certificate < reference > decision < date > < reference > decision address member state < date > commission member commission l p oj l p > start > health certificate fishery aquaculture product originate community exception bivalve molluscs tunicate marine gastropod form reference country authority ministerio detail identify product description acquaculture product presentation product type treatment code number type packaging number package weight requisite storage transport temperature origin product name approval number inape export community destination product fishery acquaculture product dispatch transport name dispatcher name consignee place destination delete salt preserve health attestation official inspector hereby aquaculture product catch handle board accordance health rule lay < legalact > land handle package prepare process thaw store requirement chapter iv health control accordance chapter v package mark store transport accordance chapter vi vii viii toxic specie contain biotoxin chemical check fishery product < legalact > decision thereto inspector hereby declare provision < legalact > stamp signature certificate end > b establishment > table list factory vessel > table >,xxbos commission decision < date > condition import fishery aquaculture product originate south commission community treaty community < legalact > < date > health condition production place market fishery product respect < reference > thereof whereas group commission conduct inspection visit south condition fishery product store dispatch community provision south legislation health inspection monitor product lay < legalact > whereas bureau standard application law force procedure health certificate < legalact > definition model certificate requirement regard language grade person sign whereas < legalact > mark affix package product country approval number factory vessel freezer vessel whereas < legalact > list factory vessel list basis communication commission whereas compliance provision < reference > < legalact > sab assurance regard compliance rule chapter v requirement lay < legalact > approval establishment factory vessel freezer vessel measure decision accordance opinion committee decision < reference > bureau standard competent authority certify compliance product requirement < legalact > eec < reference > fishery aquaculture product originate africa condition consignment health certificate duly sign date comprise sheet accordance model hereto product factory vessel freezer list b hereto case freeze fishery product manufacture preserve food package word approval number factory vessel freezer vessel letter < reference > certificate refer point < reference > language member state check carry certificate name capacity signature representative bureau standard latter colour indication certificate < reference > decision < date > < reference > decision address member state < date > commission member commission l p oj l p > start > health certificate fishery aquaculture product originate south community exception bivalve molluscs tunicate marine gastropod form reference country dispatch south authority bureau standard detail identify product description acquaculture product presentation product type treatment code number type packaging number package weight requisite storage transport temperature origin product name approval number factory vessel freezer vessel sab export community destination product fishery acquaculture product dispatch transport name dispatcher name consignee place destination delete salt preserve health attestation official inspector hereby aquaculture product catch handle board accordance health rule lay < legalact > land handle package prepare process thaw store requirement chapter iv health control accordance chapter v package mark store transport accordance chapter vi vii viii toxic specie contain biotoxin chemical check fishery product < legalact > decision thereto inspector hereby declare provision < legalact > stamp signature certificate end > b list establishment > table > list factory vessel > table > list freezer vessel > table >\n",
       "y: MultiCategoryList\n",
       "100175;100237;100238;100240,100227;100233;100234;100236,100215;100244;100254,100192;100193;100252;100279;100282;100283,100192;100193;100252;100280;100282\n",
       "Path: .;\n",
       "\n",
       "Valid: LabelList (3503 items)\n",
       "x: TextList\n",
       "xxbos report officer case comp b repsol term reference officer competition < date > p draft decision commission < reference > < legalact > concern foreclosure competitor market distribution motor fuel service station spain term supply contract wholesale supplier xxunk sa < date > repsol cpp accordance < reference > < legalact > law time contract model use distribution fuel motor vehicle view clearance exemption < reference > ec treaty < date > commission community company observation notification response invitation observation party result applicability < date > < legalact > application repsol lapse < date > commission view decision chapter < legalact > < date > commission issue assessment < reference > < legalact > address repsol opportunity comment month submit commitment proposal < date > commission notice accord < reference > < legalact > union commission competition concern correspond remedy invite party comment response commission observation party effectiveness commitment remedy market foreclosure question < date > commission inform repsol observation hand thereof commitment proposal time commission conclusion view commitment propose repsol response assessment take account observation interest party prejudice < reference > action commission decision < reference > < legalact > violation community competition rule party remedy concern commission assessment decision commission process party inform commission access information propose commitment order meet concern commission case repsol submit declaration commission effect result market test light hear repsol respect brussel < date > serge durande oj < date > p oj < date > p cf decision < date > comp cocacola decision < date > comp dfb,xxbos commission < legalact > < date > < legalact > lay rule implement < legalact > organisation market regard market mechanism commission community treaty community council < legalact > < date > organisation market wine < reference > thereof title chapter commission < legalact > application aid scheme distillation wine alcohol chapter period distillation volume wine cover distillation contract approval date basis experience year period volume wine chapter percentage production producer distillation percentage year < legalact > accordance opinion management committee wine < legalact > < reference > < reference > a < legalact > paragraph distillation wine yield wine refer < reference > < legalact > period december year paragraph subparagraph volume wine yield producer contract percentage specify wine production declare year production year producer production year reference calculation percentage year percentage % paragraph member state contract declaration quantity % quantity contract declaration < reference > < legalact > force day publication union < legalact > entirety member state < date > commission member commission l < date > p oj l < date > p oj l < date > p oj l < date > p,xxbos commission decision < date > plan method detection confirmation disease repeal < legalact > commission community treaty community < legalact > < date > concern health condition place market aquaculture product < reference > thereof whereas plan method detection confirmation disease amend < legalact > time development amend sample plan method relate examination identification virus cause haemorrhagic septicaemia necrosis change accordance community reference laboratory disease < legalact > consult sample plan method detection confirmation disease introduce < legalact > sake clarity measure decision accordance opinion committee decision plan method detection confirmation haemorrhagic septicaemia necrosis < reference > decision < reference > decision address member state < date > commission david member commission l < date > p oj l < date > p oj l < date > p oj l < date > p oj l < date > p sample plan method detection confirmation haemorrhagic septicaemia necrosis introduction guideline requirement sample plan method detection confirmation presence haemorrhagic septicaemia necrosis integrate provision b < legalact > approval maintenance status zone farm zone provision aim diagnosis vhs recognition status zone farm zone accordance < reference > < legalact > towards authority control vhs laboratory personnel regard disease procedure principle application laboratory test evaluation result laboratory technique laboratory modification test describe use test provide sensitivity specificity plan method surveillance vhs order maintain status zone farm describe procedure confirmation vhs event suspicion criteria health inspection programme document freedom vhs ihn iv recommendation procedure vhs ihn virus titration susceptibility cell culture infection abbreviation list sample plan method vhs ihn surveillance order maintain status zone farm inspection sample provision health inspection collection selection sample surveillance farm zone order maintain status vhs health inspection sample tissue fluid farm zone order maintain status vhs ihn accordance b < legalact > summarise table b detail table b farm recommence activity egg zone farm comply requirement lay < legalact > ia iia inspection period water temperature ° farm year interval inspection month production unit presence attention pay water outlet area water fish sample rainbow trout fish specie sample rainbow sample specie vhsv ihnv specie sample water source production represent water source select fish way farm year class sample provision collection sample surveillance farm zone order maintain status vhs farm place supervision official service status vhs ihn subject surveillance programme year sign vhs ihn farm zone farm year control period achievement approve status absence sign vhs ihn sample examination accordance table sample examine describe iiv laboratory examination result vhs ihn model surveillance programme sample size health inspection programme document freedom vhs ihn year farm zone farm year control period achievement approve status absence sign vhs ihn sample examination accordance table b sample examine describe iiv laboratory examination result vhs ihn order health inspection programme service documentation freedom regard vhs ihn criterion guideline provision approval farm recommence activity egg zone farm recommence activity egg zone farm zone status accordance requirement lay < legalact > xxunk b xxunk b provision model b farm surveillance programme maintenance status vhs ihn order status zone farm vhs inspection sample examination accordance sample examine describe iiv laboratory examination regard agent vhs preparation shipment sample shipment transfer laboratory piece examine fish dissection tool transfer plastic tube contain transport medium ie cell culture medium % calf combination iu penicillin μg streptomycin μg efficiency material examine kidney addition heart xxunk case fluid piece fish tube contain transport medium pool sample tissue sample gram tube place container ice freeze block transportation laboratory temperature transit ice transport box freeze block examination hour collection sample case examination hour collection material examine protect transport medium temperature requirement transportation fish laboratory temperature requirement transportation fish paper capacity bag chill mention fish ship accordance transport < legalact > collection material accord agreement laboratory tissue examination preparation examination freeze case difficulty inoculate cell hour collection tissue sample freeze tissue specimen culture medium ° examination day tissue examination record detail reason freeze tissue sample homogenisation tissue tube transport medium fish mince sterile scissor scalpel removal body fish body cm viscera kidney sample fish cm specimen tissue specimen mince sterile scissor scalpel suspend transport medium ratio tissue material transport medium laboratory centrifugation homogenate centrifuge refrigerate centrifuge ° x g minute collect treat hour ° ° gentamicin mg ml sample medium treatment aim control contamination sample filtration membrane filter collect supernatant store ° hour sample examination difficulty inoculate cell hour collection tissue sample freeze supernatant ° examination day inoculation cell dilute pool serotype ipn virus incubate hour ° titre antiserum % test treatment inocula antiserum ipn virus aim prevent cpe ipn virus inoculate cell culture duration examination number case occurrence cpe vhsv ihnv sample production unit ipn treatment inocula antiserum virus examination cell culture medium xxunk fhm cell % ° medium supplement % bovine serum standard concentration cell cultivate recommend buffer medium bicarbonate medium use cultivation cell unit ph cell culture use inoculation tissue material inoculation cell culture suspension inoculate cell culture dilution ie dilution addition dilution thereof dilution tissue material cell culture medium cell line inoculate ratio size volume cell culture medium dilution cell line cm cell area correspond well -well cell culture tray utilise use cell culture recommend unit growth area incubation cell culture inoculate cell culture incubate ° day colour cell culture medium change medium acidification adjustment solution substance perform cell susceptibility virus infection month decrease cell susceptibility titration freeze stock vhsv ihnv perform verify susceptibility cell culture infection procedure iv microscopy culture occurrence cpe x magnification cpe observe virus identification procedure accord iiv subcultivation cpe incubation day subcultivation perform cell culture utilise cell area culture aliquot medium culture pool accord cell line day inoculation pool cell culture dilute describe % medium constitute culture inoculate cell culture inoculation preincubation dilution antiserum ipn virus dilution describe culture incubate day ° observation toxic cpe occur day incubation subcultivation stage cell day incubation toxic cpe day cell incubate achieve day inoculation evidence toxicity day incubation contamination treatment subcultivation centrifugation x g min ° filtration μm filter addition subcultivation procedure toxic cpe iv virus identification virus identification test evidence cpe culture medium examine follow technique neutralisation test identification virus week supernatant reference laboratory reference laboratory disease identification neutralisation cell collect centrifugation membrane filtration protein bind membrane dilute supernatant cell culture medium aliquot dilution mix minute ° reagent contain group antibody dilution serum contain group antibody dilution pool serotype xxunk dilution medium mixture culture inoculate μl incubate ° development cpe check describe vhsv strain neutralisation test isolate neutralisation test efficiency isolate identify xxunk cell density % confluence hour cultivation epc cell purpose adherence glass surface cell line fhm glass surface culture hour virus identify culture inoculate xxunk culture ratio incubate ° hour incubation culture rinse eagle mem fix % ice acetone stain xxunk ifat layer antibody reference quality reagent layer xxunk antiserum immunoglobulin use layer antisera test xxunk xxunk culture control test xxunk fitc recommend mount stain culture use glycerol saline examine ultraviolet light use x xxunk x lens aperture gt example technique efficiency plate coat dilution purify fraction antibody reference quality rinse buffer virus dilution step react coat antibody minute ° rinse xxunk buffer specificity correspond antibody minute ° rinse xxunk xxunk hour ° rinse bind enzyme visualise use elisa substrate xxunk base version example version efficiency inspection sample scheme zone farm control period achievement approve status vhs ihn > table > number pool table b inspection sample control period achievement approve status vhs farm zone document history freedom disease > table > number pool table inspection sample scheme zone farm zone order status vhs ihn > table > number pool procedure confirmation vhs ihn follow technique diagnosis vhs virus isolation virus identification b virus isolation virus identification technique confirmation case vhs ihn farm zone method b tissue material examination case material examination diagnosis virus isolation virus identification selection sample show sign ihn vhs examination preparation shipment sample lay collection material preparation examination iv virus identification b virus isolation virus identification selection sample preparation shipment sample lay collection material homogenisation centrifugation homogenate centrifuge refrigerate centrifuge ° x g minute treat hour ° eg gentamicin mg ml membrane protein bind membrane treatment antisera treat membrane filter suspension dilute cell culture medium aliquot mix minute ° list iiv cell culture medium inoculation cell culture xxunk mixture culture cell line inoculate μl incubation cell culture microscopy cell culture occurrence cpe x magnification cpe prevent antisera use virus prevent antisera virus identification procedure accord iiv perform subcultivation cpe day subcultivation perform culture inoculate supernatant medium accord technique supernatant prepare submit elisa accord iiv technique examination accord b hour sample result represent case vhs tissue material technique rtpcr section immunohistochemistry tissue material technique inoculation tissue material cell culture document history freedom vhs ihn zone farm guideline criterion official health inspection health inspection programme initiate eradication programme vhsv ihnv farm cleaning disinfection fallowe restock farm history vhsv infection health inspection programme inspection laboratory examination programme health inspection accord guideline inspection carry year tissue fluid sample farm sample prepare examination accord health inspection year farm zone farm recognition programme case vhs procedure titration susceptibility cell culture infection procedure titration isolate ihnv use isolate represent group virus eg vhsv pathogenic isolate rainbow freshwater marine isolate turbot ihnv rainbow trout strain europe welldefine isolate member state use reference isolate reference laboratory disease batch virus cell culture passage number propagate cell culture xxunk cell fhm cell ihnv cell culture medium % serum use xxunk inoculation cpe virus centrifugation cell culture x g minute filter sterilise ìm membrane filter distribute label xxunk virus ° week virus thaw water titrate respective cell line month susceptibility cell line decrease virus isolate thaw titrate titration procedure detail procedure time titration end point dilution step titre virus drop factor log titre cell line use surveillance cell line laboratory line keep year abbreviation xxunk xxunk effect crl community reference laboratory disease elisa assay epc xxunk xxunk xxunk fhm fathead fluorescein xxunk acid xxunk peroxidase immunofluorescence ifat fluorescent antibody test ihn necrosis ipn necrosis mem medium xxunk multiplicity infection phenylene diamine pb phosphate buffer rainbow gonad rtpcr reverse transcriptase polymerase chain reaction xxunk xxunk haemorrhagic septicaemia case fish area possibility reference laboratory regard cytotoxicity antisera specify reference laboratory regard cytotoxicity antisera specify reference laboratory regard cytotoxicity antisera,xxbos decision < date > access court auditor document court auditor community regard rule procedure < reference > thereof regard council < legalact > budget community < reference > thereof whereas < reference > purpose decision define condition limit procedure court auditor access document hold < reference > scope framework limit provision decision standard govern confidentiality audit information citizen union person register office member state access document court auditor condition limit decision court auditor condition limit access document person register office member state decision hold court auditor document possession decision prejudice access document court auditor instrument law community definition purpose decision document content medium party person entity court auditor member state community noncommunity institution body country < reference > exception court auditor access document disclosure protection interest security defence matter relation policy community member state privacy integrity accordance community legislation regard protection datum accordance rule confidentiality < reference > council < legalact > budget community correspond provision instrument community law court access observation access document use preparation observation court auditor access document disclosure protection interest person property court advice inspection investigation access document court auditor use relate matter decision disclosure document court auditor decisionmake process access document contain opinion use deliberation consultation court auditor decision concern disclosure document court auditor decisionmake process application concern document hold court auditor court author court auditor receipt application supply name person institution body application request document cover exception < reference > exception apply provision access lay council < legalact > exception court auditor access interest disclosure < reference > application access document write copy language refer < reference > ec treaty court auditor document applicant oblige state reason application < reference > process application access document director relation department receipt application action accord matter application director relation department consult member concern service datum protection officer document request release application access document work day registration application court auditor access document request access accordance < reference > write reply state reason refusal inform applicant ask court reconsider position accordance event application relate document number document court auditor solution case time limit paragraph work day advance reason < reference > reconsideration event refusal applicant work day court auditor court reconsider position failure court auditor reply time limit ask reconsideration < reference > processing request reconsideration request reconsideration president court auditor accord matter president court auditor member service datum protection officer document request release request reconsideration work day registration request court auditor access document request access accordance < reference > write reply state reason refusal event refusal court auditor remedy court auditor complaint condition < reference > ec treaty case example event application relate document number document time limit paragraph work day advance xxunk failure court auditor reply time limit reply recourse remedy paragraph < reference > access application applicant court auditor grant access premise court auditor copy case date time consultation director relation department cost copy charge cost copy consultation spot copy page access xxunk charge document court auditor obligation grant access request document inform applicant version applicant preference court document compile information request applicant < reference > reproduction document release accordance decision purpose court auditor authorisation decision prejudice exist rule copyright party reproduce release document < reference > provision decision court auditor < date > decision union force day month adoption court auditor weber president oj l < date > p oj l < date > p oj l < date > p oj l < date > p oj < date > p council < legalact > council < legalact > court auditor director relation department alcide luxembourg fax email xxunk @ xxunk dutch english slovak swedish,xxbos commission < legalact > < date > lay rule application poultrymeat sector import arrangement council < legalact > commission community treaty community council < legalact > < date > organisation market poultrymeat < reference > thereof regard council < legalact > < date > administration community tariff quota highquality beef pigmeat poultrymeat wheat meslin bran sharps < reference > thereof accession czech estonia cyprus latvia lithuania malta poland slovenia union < date > country tariff < legalact > condition compare member state operator country possibility accession order create disturbance market < date > tranche commission < legalact > allocation quantity procedure deadline submit application amendment adjustment measure < reference > < legalact > measure accordance opinion management committee poultrymeat egg < legalact > < reference > derogation < reference > < legalact > period < date><date > quota % period % period < date><date > derogation < reference > < legalact > period < date><date > licence application day < legalact > day publication union < legalact > entirety member state < date > commission member commission l < date > p < legalact > amend l < date > p < legalact > commission < legalact > < date > p < legalact > amend < legalact >\n",
       "y: MultiCategoryList\n",
       "100197;100220;100229;100231;100265,100175;100245;100250;100259,100215;100245;100250;100252,100174;100220,100191;100192;100254\n",
       "Path: .;\n",
       "\n",
       "Test: None, model=SequentialRNN(\n",
       "  (0): MultiBatchEncoder(\n",
       "    (module): AWD_LSTM(\n",
       "      (encoder): Embedding(60000, 400, padding_idx=1)\n",
       "      (encoder_dp): EmbeddingDropout(\n",
       "        (emb): Embedding(60000, 400, padding_idx=1)\n",
       "      )\n",
       "      (rnns): ModuleList(\n",
       "        (0): WeightDropout(\n",
       "          (module): LSTM(400, 1152, batch_first=True)\n",
       "        )\n",
       "        (1): WeightDropout(\n",
       "          (module): LSTM(1152, 1152, batch_first=True)\n",
       "        )\n",
       "        (2): WeightDropout(\n",
       "          (module): LSTM(1152, 400, batch_first=True)\n",
       "        )\n",
       "      )\n",
       "      (input_dp): RNNDropout()\n",
       "      (hidden_dps): ModuleList(\n",
       "        (0): RNNDropout()\n",
       "        (1): RNNDropout()\n",
       "        (2): RNNDropout()\n",
       "      )\n",
       "    )\n",
       "  )\n",
       "  (1): PoolingLinearClassifier(\n",
       "    (layers): Sequential(\n",
       "      (0): BatchNorm1d(1200, eps=1e-05, momentum=0.1, affine=True, track_running_stats=True)\n",
       "      (1): Dropout(p=0.2)\n",
       "      (2): Linear(in_features=1200, out_features=50, bias=True)\n",
       "      (3): ReLU(inplace)\n",
       "      (4): BatchNorm1d(50, eps=1e-05, momentum=0.1, affine=True, track_running_stats=True)\n",
       "      (5): Dropout(p=0.1)\n",
       "      (6): Linear(in_features=50, out_features=126, bias=True)\n",
       "    )\n",
       "  )\n",
       "), opt_func=functools.partial(<class 'torch.optim.adam.Adam'>, betas=(0.9, 0.99)), loss_func=FlattenedLoss of BCEWithLogitsLoss(), metrics=[<function accuracy_thresh at 0x7ff3935aeb70>, functools.partial(<function accuracy_thresh at 0x7ff3935aeb70>, thresh=0.001), functools.partial(<function my_prc at 0x7ff3198c0048>, thresh=0.001), functools.partial(<function my_rec at 0x7ff3198c0bf8>, thresh=0.001), functools.partial(<function fbeta at 0x7ff3f143ed08>, thresh=0.001, beta=1), functools.partial(<function accuracy_thresh at 0x7ff3935aeb70>, thresh=0.01), functools.partial(<function my_prc at 0x7ff3198c0048>, thresh=0.01), functools.partial(<function my_rec at 0x7ff3198c0bf8>, thresh=0.01), functools.partial(<function fbeta at 0x7ff3f143ed08>, thresh=0.01, beta=1), functools.partial(<function accuracy_thresh at 0x7ff3935aeb70>, thresh=0.05), functools.partial(<function my_prc at 0x7ff3198c0048>, thresh=0.05), functools.partial(<function my_rec at 0x7ff3198c0bf8>, thresh=0.05), functools.partial(<function fbeta at 0x7ff3f143ed08>, thresh=0.05, beta=1), functools.partial(<function accuracy_thresh at 0x7ff3935aeb70>, thresh=0.1), functools.partial(<function my_prc at 0x7ff3198c0048>, thresh=0.1), functools.partial(<function my_rec at 0x7ff3198c0bf8>, thresh=0.1), functools.partial(<function fbeta at 0x7ff3f143ed08>, thresh=0.1, beta=1), functools.partial(<function accuracy_thresh at 0x7ff3935aeb70>, thresh=0.2), functools.partial(<function my_prc at 0x7ff3198c0048>, thresh=0.2), functools.partial(<function my_rec at 0x7ff3198c0bf8>, thresh=0.2), functools.partial(<function fbeta at 0x7ff3f143ed08>, thresh=0.2, beta=1), functools.partial(<function accuracy_thresh at 0x7ff3935aeb70>, thresh=0.3), functools.partial(<function my_prc at 0x7ff3198c0048>, thresh=0.3), functools.partial(<function my_rec at 0x7ff3198c0bf8>, thresh=0.3), functools.partial(<function fbeta at 0x7ff3f143ed08>, thresh=0.3, beta=1), functools.partial(<function accuracy_thresh at 0x7ff3935aeb70>, thresh=0.4), functools.partial(<function my_prc at 0x7ff3198c0048>, thresh=0.4), functools.partial(<function my_rec at 0x7ff3198c0bf8>, thresh=0.4), functools.partial(<function fbeta at 0x7ff3f143ed08>, thresh=0.4, beta=1), functools.partial(<function accuracy_thresh at 0x7ff3935aeb70>, thresh=0.5), functools.partial(<function my_prc at 0x7ff3198c0048>, thresh=0.5), functools.partial(<function my_rec at 0x7ff3198c0bf8>, thresh=0.5), functools.partial(<function fbeta at 0x7ff3f143ed08>, thresh=0.5, beta=1)], true_wd=True, bn_wd=True, wd=0.1, train_bn=True, path=PosixPath('.'), model_dir='models', callback_fns=[functools.partial(<class 'fastai.basic_train.Recorder'>, add_time=True, silent=False)], callbacks=[RNNTrainer\n",
       "learn: ...\n",
       "alpha: 2.0\n",
       "beta: 1.0], layer_groups=[Sequential(\n",
       "  (0): Embedding(60000, 400, padding_idx=1)\n",
       "  (1): EmbeddingDropout(\n",
       "    (emb): Embedding(60000, 400, padding_idx=1)\n",
       "  )\n",
       "), Sequential(\n",
       "  (0): WeightDropout(\n",
       "    (module): LSTM(400, 1152, batch_first=True)\n",
       "  )\n",
       "  (1): RNNDropout()\n",
       "), Sequential(\n",
       "  (0): WeightDropout(\n",
       "    (module): LSTM(1152, 1152, batch_first=True)\n",
       "  )\n",
       "  (1): RNNDropout()\n",
       "), Sequential(\n",
       "  (0): WeightDropout(\n",
       "    (module): LSTM(1152, 400, batch_first=True)\n",
       "  )\n",
       "  (1): RNNDropout()\n",
       "), Sequential(\n",
       "  (0): PoolingLinearClassifier(\n",
       "    (layers): Sequential(\n",
       "      (0): BatchNorm1d(1200, eps=1e-05, momentum=0.1, affine=True, track_running_stats=True)\n",
       "      (1): Dropout(p=0.2)\n",
       "      (2): Linear(in_features=1200, out_features=50, bias=True)\n",
       "      (3): ReLU(inplace)\n",
       "      (4): BatchNorm1d(50, eps=1e-05, momentum=0.1, affine=True, track_running_stats=True)\n",
       "      (5): Dropout(p=0.1)\n",
       "      (6): Linear(in_features=50, out_features=126, bias=True)\n",
       "    )\n",
       "  )\n",
       ")], add_time=True, silent=None)"
      ]
     },
     "execution_count": 82,
     "metadata": {},
     "output_type": "execute_result"
    }
   ],
   "source": [
    "learn"
   ]
  },
  {
   "cell_type": "markdown",
   "metadata": {
    "colab_type": "text",
    "id": "oFyfcnOM90GN"
   },
   "source": []
  },
  {
   "cell_type": "markdown",
   "metadata": {
    "colab_type": "text",
    "id": "BgRSroymx2aW"
   },
   "source": [
    "## Evaluate the results\n",
    "Based on: https://www.kaggle.com/nadjetba/text-to-meaning-with-multi-label-classification?scriptVersionId=12686831"
   ]
  },
  {
   "cell_type": "code",
   "execution_count": 49,
   "metadata": {
    "colab": {},
    "colab_type": "code",
    "id": "4ZW6Z54KmPXL"
   },
   "outputs": [],
   "source": [
    "#learn.load('final_prep')\n",
    "# Predict on the validation dataset\n",
    "y_pred, y_true =  learn.get_preds()\n"
   ]
  },
  {
   "cell_type": "code",
   "execution_count": 50,
   "metadata": {
    "colab": {},
    "colab_type": "code",
    "id": "m8uWkV70mPao"
   },
   "outputs": [],
   "source": [
    "from sklearn.metrics import precision_score, recall_score, accuracy_score, f1_score\n",
    "from sklearn.metrics import classification_report"
   ]
  },
  {
   "cell_type": "code",
   "execution_count": null,
   "metadata": {
    "colab": {
     "base_uri": "https://localhost:8080/",
     "height": 34
    },
    "colab_type": "code",
    "id": "RJNZFPmhyP4G",
    "outputId": "6ea31d9a-31bf-4979-ff6f-c826933a8b9c"
   },
   "outputs": [],
   "source": [
    "thresh = 0.34\n",
    "\n",
    "\n",
    "print(\"F1 (micro)\", f1_score(y_true, y_pred>thresh, average='micro'))\n",
    "print(\"P (micro)\", precision_score(y_true, y_pred>thresh, average='micro'))\n",
    "print(\"R (micro)\", recall_score(y_true, y_pred>thresh, average='micro'))\n",
    "\n",
    "print(\"\\nF1 (macro)\", f1_score(y_true, y_pred>thresh, average='macro'))\n",
    "print(\"P (macro)\", precision_score(y_true, y_pred>thresh, average='macro'))\n",
    "print(\"R (macro) \", recall_score(y_true, y_pred>thresh, average='macro'))\n"
   ]
  },
  {
   "cell_type": "code",
   "execution_count": 52,
   "metadata": {
    "colab": {
     "base_uri": "https://localhost:8080/",
     "height": 101
    },
    "colab_type": "code",
    "id": "QUI7_WQRyv4J",
    "outputId": "08d0724c-e9a3-45c0-a82c-a83ed5f63caa"
   },
   "outputs": [
    {
     "data": {
      "text/plain": [
       "0.544224060411219"
      ]
     },
     "execution_count": 52,
     "metadata": {},
     "output_type": "execute_result"
    }
   ],
   "source": [
    "f1_score(y_true, y_pred>thresh, average='macro')"
   ]
  },
  {
   "cell_type": "code",
   "execution_count": 53,
   "metadata": {
    "colab": {
     "base_uri": "https://localhost:8080/",
     "height": 34
    },
    "colab_type": "code",
    "id": "OBTIZbtXyP04",
    "outputId": "63cd80a2-6e49-4634-8333-4f65abed9842"
   },
   "outputs": [
    {
     "data": {
      "text/plain": [
       "((3903, 126), (3903, 126))"
      ]
     },
     "execution_count": 53,
     "metadata": {},
     "output_type": "execute_result"
    }
   ],
   "source": [
    "y_true_n = y_true.numpy()\n",
    "scores = y_pred.numpy()\n",
    "scores.shape, y_true_n.shape"
   ]
  },
  {
   "cell_type": "code",
   "execution_count": 55,
   "metadata": {
    "colab": {
     "base_uri": "https://localhost:8080/",
     "height": 12586
    },
    "colab_type": "code",
    "id": "Xq1DCPsCycGp",
    "outputId": "48d0e050-1f2d-47ab-f756-e9a962536abe"
   },
   "outputs": [
    {
     "name": "stdout",
     "output_type": "stream",
     "text": [
      "              precision    recall  f1-score   support\n",
      "\n",
      "      100163       0.00      0.00      0.00        25\n",
      "      100164       0.00      0.00      0.00         0\n",
      "      100165       1.00      0.20      0.33         5\n",
      "      100166       0.00      0.00      0.00         4\n",
      "      100167       0.00      0.00      0.00        12\n",
      "      100168       0.73      0.52      0.60        95\n",
      "      100169       0.57      0.40      0.47       137\n",
      "      100170       0.66      0.72      0.69       308\n",
      "      100171       0.67      0.61      0.64       495\n",
      "      100172       0.32      0.30      0.31        30\n",
      "      100173       0.56      0.35      0.43        26\n",
      "      100174       0.77      0.72      0.75       259\n",
      "      100175       0.62      0.47      0.53       476\n",
      "      100176       0.72      0.76      0.74       825\n",
      "      100177       0.81      0.78      0.80       286\n",
      "      100178       0.40      0.08      0.13        25\n",
      "      100179       0.46      0.22      0.29        88\n",
      "      100180       0.56      0.39      0.46        61\n",
      "      100181       0.00      0.00      0.00        18\n",
      "      100182       1.00      0.24      0.38        17\n",
      "      100183       0.67      0.42      0.52        73\n",
      "      100184       0.73      0.37      0.49        43\n",
      "      100185       0.81      0.82      0.81       393\n",
      "      100186       0.36      0.12      0.18        34\n",
      "      100187       0.75      0.66      0.70        87\n",
      "      100188       0.00      0.00      0.00        12\n",
      "      100189       0.78      0.44      0.56        32\n",
      "      100190       0.76      0.55      0.64        99\n",
      "      100191       0.67      0.57      0.62       365\n",
      "      100192       0.79      0.83      0.81       560\n",
      "      100193       0.68      0.70      0.69       375\n",
      "      100194       0.60      0.66      0.63       384\n",
      "      100195       0.57      0.42      0.48       194\n",
      "      100196       0.72      0.73      0.73       454\n",
      "      100197       0.73      0.17      0.28        47\n",
      "      100198       0.75      0.41      0.53        44\n",
      "      100199       0.81      0.65      0.72        66\n",
      "      100200       0.69      0.45      0.54        85\n",
      "      100201       0.60      0.54      0.57        56\n",
      "      100202       0.85      0.56      0.67        52\n",
      "      100203       1.00      0.84      0.91        19\n",
      "      100204       0.74      0.57      0.64        30\n",
      "      100205       0.73      0.58      0.65        38\n",
      "      100206       0.94      0.79      0.86        97\n",
      "      100207       0.80      0.52      0.63        67\n",
      "      100208       0.00      0.00      0.00        10\n",
      "      100209       0.50      0.21      0.30        14\n",
      "      100210       0.69      0.39      0.50        28\n",
      "      100211       1.00      0.10      0.18        10\n",
      "      100212       0.61      0.39      0.48        90\n",
      "      100213       0.75      0.58      0.65        26\n",
      "      100214       0.87      0.79      0.83        58\n",
      "      100215       0.75      0.85      0.79       535\n",
      "      100216       0.54      0.24      0.33        29\n",
      "      100217       0.80      0.74      0.77        43\n",
      "      100218       0.62      0.43      0.51        23\n",
      "      100219       0.50      0.15      0.23        20\n",
      "      100220       0.51      0.19      0.28       100\n",
      "      100221       0.74      0.67      0.71       134\n",
      "      100222       0.57      0.39      0.46       208\n",
      "      100223       0.67      0.36      0.47       153\n",
      "      100224       0.56      0.56      0.56        55\n",
      "      100225       0.00      0.00      0.00         2\n",
      "      100226       0.58      0.52      0.55       114\n",
      "      100227       0.53      0.22      0.31        46\n",
      "      100228       1.00      0.40      0.57        15\n",
      "      100229       0.35      0.16      0.22        85\n",
      "      100230       0.52      0.32      0.39        73\n",
      "      100231       0.77      0.85      0.81       321\n",
      "      100232       0.61      0.50      0.55       107\n",
      "      100233       0.86      0.57      0.69        75\n",
      "      100234       0.79      0.52      0.63        50\n",
      "      100235       0.79      0.76      0.77        82\n",
      "      100236       0.73      0.32      0.44        25\n",
      "      100237       0.65      0.80      0.72       152\n",
      "      100238       0.70      0.79      0.74       232\n",
      "      100239       0.79      0.80      0.80       127\n",
      "      100240       0.79      0.81      0.80        95\n",
      "      100241       0.86      0.68      0.76        44\n",
      "      100242       0.77      0.79      0.78       238\n",
      "      100243       0.70      0.57      0.63        81\n",
      "      100244       0.84      0.82      0.83       269\n",
      "      100245       0.61      0.67      0.64       350\n",
      "      100246       0.69      0.72      0.71       127\n",
      "      100247       0.77      0.54      0.63        56\n",
      "      100248       0.68      0.67      0.68        39\n",
      "      100249       0.83      0.85      0.84       252\n",
      "      100250       0.79      0.84      0.81       525\n",
      "      100251       1.00      0.25      0.40        16\n",
      "      100252       0.97      0.87      0.92       239\n",
      "      100253       0.81      0.88      0.84       243\n",
      "      100254       0.81      0.90      0.85       234\n",
      "      100255       0.84      0.78      0.81       108\n",
      "      100256       0.80      0.74      0.77       107\n",
      "      100257       0.66      0.69      0.67       213\n",
      "      100258       0.64      0.29      0.40        85\n",
      "      100259       0.79      0.61      0.68       109\n",
      "      100260       0.52      0.18      0.27        60\n",
      "      100261       0.64      0.68      0.66       327\n",
      "      100262       0.71      0.50      0.59       110\n",
      "      100263       0.69      0.58      0.63        60\n",
      "      100264       0.96      0.57      0.72        47\n",
      "      100265       0.81      0.47      0.59        47\n",
      "      100266       0.88      0.73      0.80        60\n",
      "      100267       1.00      0.25      0.40         4\n",
      "      100268       0.57      0.23      0.33        69\n",
      "      100269       0.56      0.48      0.52       118\n",
      "      100270       0.75      0.62      0.68        85\n",
      "      100271       0.61      0.64      0.62        84\n",
      "      100272       0.64      0.46      0.54        54\n",
      "      100273       0.92      0.48      0.63        48\n",
      "      100274       0.50      0.14      0.21        22\n",
      "      100275       0.86      0.77      0.81        94\n",
      "      100276       0.67      0.05      0.09        44\n",
      "      100277       0.79      0.77      0.78       858\n",
      "      100278       0.57      0.66      0.62       122\n",
      "      100279       0.76      0.51      0.61       125\n",
      "      100280       0.74      0.72      0.73        93\n",
      "      100281       0.71      0.63      0.67       226\n",
      "      100282       0.82      0.84      0.83      1505\n",
      "      100283       0.83      0.87      0.85      1271\n",
      "      100284       1.00      0.24      0.38        17\n",
      "      100285       0.75      0.43      0.55        21\n",
      "      100286       0.00      0.00      0.00        12\n",
      "      100287       0.00      0.00      0.00         3\n",
      "      100288       0.58      0.24      0.34        29\n",
      "\n",
      "   micro avg       0.74      0.69      0.71     18985\n",
      "   macro avg       0.66      0.50      0.54     18985\n",
      "weighted avg       0.73      0.69      0.70     18985\n",
      " samples avg       0.75      0.69      0.69     18985\n",
      "\n"
     ]
    },
    {
     "name": "stderr",
     "output_type": "stream",
     "text": [
      "/home/wohlg/anaconda3/envs/fastai/lib/python3.7/site-packages/sklearn/metrics/classification.py:1437: UndefinedMetricWarning: Precision and F-score are ill-defined and being set to 0.0 in labels with no predicted samples.\n",
      "  'precision', 'predicted', average, warn_for)\n",
      "/home/wohlg/anaconda3/envs/fastai/lib/python3.7/site-packages/sklearn/metrics/classification.py:1439: UndefinedMetricWarning: Recall and F-score are ill-defined and being set to 0.0 in labels with no true samples.\n",
      "  'recall', 'true', average, warn_for)\n",
      "/home/wohlg/anaconda3/envs/fastai/lib/python3.7/site-packages/sklearn/metrics/classification.py:1437: UndefinedMetricWarning: Precision and F-score are ill-defined and being set to 0.0 in samples with no predicted labels.\n",
      "  'precision', 'predicted', average, warn_for)\n"
     ]
    }
   ],
   "source": [
    "metrics = classification_report(y_true_n, scores>thresh, target_names=data_clas.valid_ds.classes)\n",
    "print(metrics)"
   ]
  },
  {
   "cell_type": "code",
   "execution_count": 54,
   "metadata": {},
   "outputs": [
    {
     "name": "stdout",
     "output_type": "stream",
     "text": [
      "Precision at: 1:    0.9123750960799385\n",
      "Recall at: 1:    0.214903602105756\n",
      "\n",
      "Precision at: 2:    0.8484499103253907\n",
      "Recall at: 2:    0.38929237841613185\n",
      "\n",
      "Precision at: 3:    0.7838414894525534\n",
      "Recall at: 3:    0.5236187596102984\n",
      "\n",
      "Precision at: 4:    0.7220727645400974\n",
      "Recall at: 4:    0.6281592507188195\n",
      "\n",
      "Precision at: 5:    0.6622085575198555\n",
      "Recall at: 5:    0.7082466256947442\n",
      "\n",
      "Precision at: 6:    0.6043641643180447\n",
      "Recall at: 6:    0.7653198653198665\n",
      "\n",
      "Precision at: 7:    0.548003367373085\n",
      "Recall at: 7:    0.8028648736181402\n",
      "\n"
     ]
    }
   ],
   "source": [
    "## precision at k\n",
    "def tmp_precision(actual, predicted):\n",
    "    #print(predicted)\n",
    "    actual_one = np.where(actual == 1)[0]\n",
    "    #print(actual_one)\n",
    "    #print(type(actual_one))\n",
    "    \n",
    "    act_set = set(list(actual_one))\n",
    "    pred_set = set(predicted[:k])\n",
    "    result = len(act_set & pred_set) / float(k)\n",
    "    return result\n",
    "\n",
    "def tmp_recall(actual, predicted):\n",
    "    actual_one = np.where(actual == 1)[0]\n",
    "    \n",
    "    act_set = set(actual_one)\n",
    "    pred_set = set(predicted[:k])\n",
    "    result = len(act_set & pred_set) / float(len(act_set))\n",
    "    return result\n",
    "\n",
    "## sort indizes in descending order\n",
    "scores_idx_sorted = (-scores).argsort() \n",
    "    \n",
    "#print(precs)\n",
    "for i in range(7):\n",
    "    k = i+1\n",
    "    \n",
    "    precs, recas = [], []\n",
    "    for i in range(len(y_true_n)):\n",
    "        precs.append( tmp_precision(y_true_n[i], scores_idx_sorted[i]) )\n",
    "        recas.append( tmp_recall(y_true_n[i], scores_idx_sorted[i]) )\n",
    "    \n",
    "    print(\"Precision at: %d:   \" % (k,), sum(precs)/len(precs))\n",
    "    print(\"Recall at: %d:   \" % (k,), sum(recas)/len(recas))\n",
    "    print()"
   ]
  }
 ],
 "metadata": {
  "accelerator": "GPU",
  "colab": {
   "name": "fastai-JRC-EN-multilabel.ipynb",
   "provenance": [],
   "toc_visible": true,
   "version": "0.3.2"
  },
  "kernelspec": {
   "display_name": "Python 3",
   "language": "python",
   "name": "python3"
  },
  "language_info": {
   "codemirror_mode": {
    "name": "ipython",
    "version": 3
   },
   "file_extension": ".py",
   "mimetype": "text/x-python",
   "name": "python",
   "nbconvert_exporter": "python",
   "pygments_lexer": "ipython3",
   "version": "3.7.3"
  }
 },
 "nbformat": 4,
 "nbformat_minor": 1
}
