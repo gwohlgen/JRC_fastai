{
 "cells": [
  {
   "cell_type": "markdown",
   "metadata": {
    "colab_type": "text",
    "id": "mFOReymeH23M"
   },
   "source": [
    "## Reuters with preprocessed dataset"
   ]
  },
  {
   "cell_type": "code",
   "execution_count": 2,
   "metadata": {
    "colab": {},
    "colab_type": "code",
    "id": "xtVSwdpfxk84"
   },
   "outputs": [],
   "source": [
    "# init\n",
    "%reload_ext autoreload\n",
    "%autoreload 2\n",
    "%matplotlib inline\n",
    "\n",
    "from fastai.text import *\n",
    "import pandas as pd\n",
    "from pathlib import Path\n",
    "\n",
    "FN='../reuters_data/converted_prep.csv'\n",
    "bs = 32"
   ]
  },
  {
   "cell_type": "code",
   "execution_count": 3,
   "metadata": {
    "colab": {
     "base_uri": "https://localhost:8080/",
     "height": 111
    },
    "colab_type": "code",
    "id": "DK2YlnZ9xjau",
    "outputId": "b9c63357-57dc-441b-b988-f74f3b4d9be0"
   },
   "outputs": [
    {
     "name": "stdout",
     "output_type": "stream",
     "text": [
      "11351\n"
     ]
    },
    {
     "data": {
      "text/html": [
       "<div>\n",
       "<style scoped>\n",
       "    .dataframe tbody tr th:only-of-type {\n",
       "        vertical-align: middle;\n",
       "    }\n",
       "\n",
       "    .dataframe tbody tr th {\n",
       "        vertical-align: top;\n",
       "    }\n",
       "\n",
       "    .dataframe thead th {\n",
       "        text-align: right;\n",
       "    }\n",
       "</style>\n",
       "<table border=\"1\" class=\"dataframe\">\n",
       "  <thead>\n",
       "    <tr style=\"text-align: right;\">\n",
       "      <th></th>\n",
       "      <th>text</th>\n",
       "      <th>labels</th>\n",
       "    </tr>\n",
       "  </thead>\n",
       "  <tbody>\n",
       "    <tr>\n",
       "      <th>11346</th>\n",
       "      <td>intervention board detail ec sugar sale london...</td>\n",
       "      <td>88</td>\n",
       "    </tr>\n",
       "    <tr>\n",
       "      <th>11347</th>\n",
       "      <td>mead &lt; mea &gt; year dayton corp outlook paper ma...</td>\n",
       "      <td>35</td>\n",
       "    </tr>\n",
       "    <tr>\n",
       "      <th>11348</th>\n",
       "      <td>amertek inc &lt; atekf &gt; woodstock ontario profit...</td>\n",
       "      <td>35</td>\n",
       "    </tr>\n",
       "    <tr>\n",
       "      <th>11349</th>\n",
       "      <td>brown inc &lt; absb &gt; baltimore &lt;date&gt;shr ct vs c...</td>\n",
       "      <td>35</td>\n",
       "    </tr>\n",
       "    <tr>\n",
       "      <th>11350</th>\n",
       "      <td>town country jewelry tcjc &gt; chelsea mass &lt;date...</td>\n",
       "      <td>35</td>\n",
       "    </tr>\n",
       "  </tbody>\n",
       "</table>\n",
       "</div>"
      ],
      "text/plain": [
       "                                                    text labels\n",
       "11346  intervention board detail ec sugar sale london...     88\n",
       "11347  mead < mea > year dayton corp outlook paper ma...     35\n",
       "11348  amertek inc < atekf > woodstock ontario profit...     35\n",
       "11349  brown inc < absb > baltimore <date>shr ct vs c...     35\n",
       "11350  town country jewelry tcjc > chelsea mass <date...     35"
      ]
     },
     "execution_count": 3,
     "metadata": {},
     "output_type": "execute_result"
    }
   ],
   "source": [
    "df = pd.read_csv(FN)\n",
    "\n",
    "## keep only text and labels\n",
    "df = df[['text','labels']]\n",
    "print(len(df))\n",
    "df.tail()\n",
    "\n"
   ]
  },
  {
   "cell_type": "markdown",
   "metadata": {},
   "source": [
    "## import pandas_profiling\n",
    "df['split_labels'] = df.labels.str.split(';')\n",
    "pandas_profiling.ProfileReport(df)"
   ]
  },
  {
   "cell_type": "markdown",
   "metadata": {
    "colab_type": "text",
    "id": "fbtKesuhJrPC"
   },
   "source": [
    "## Fine-tuning of the language model"
   ]
  },
  {
   "cell_type": "code",
   "execution_count": 33,
   "metadata": {
    "colab": {
     "base_uri": "https://localhost:8080/",
     "height": 34
    },
    "colab_type": "code",
    "id": "V5uhH_-xWpp-",
    "outputId": "a8311bb9-3f24-47d8-caae-ad8f7b59b707"
   },
   "outputs": [
    {
     "name": "stdout",
     "output_type": "stream",
     "text": [
      "done\n"
     ]
    }
   ],
   "source": [
    "data_lm = (TextList.from_csv(Path('.'), FN, cols='text') #, max_vocab=100000, min_freq=2)\n",
    "           #Inputs: all the text files in path\n",
    "            # .filter_by_folder(include=['.']) \n",
    "           #We may have other temp folders that contain text files so we only keep what's in train and test\n",
    "            .split_by_rand_pct(0.1)\n",
    "           #We randomly split and keep 10% (10,000 reviews) for validation\n",
    "            .label_for_lm()           \n",
    "           #We want to do a language model so we label accordingly\n",
    "            .databunch(bs=bs))\n",
    "data_lm.save('Reuters_prep_data_lm.pkl')\n",
    "print('done')"
   ]
  },
  {
   "cell_type": "code",
   "execution_count": 34,
   "metadata": {
    "colab": {},
    "colab_type": "code",
    "id": "c-5E5Z1QYttW"
   },
   "outputs": [],
   "source": [
    "data_lm = load_data(Path('.'), 'Reuters_prep_data_lm.pkl', bs=bs)"
   ]
  },
  {
   "cell_type": "code",
   "execution_count": 35,
   "metadata": {
    "colab": {
     "base_uri": "https://localhost:8080/",
     "height": 255
    },
    "colab_type": "code",
    "id": "cR0kfvvcYtwN",
    "outputId": "d01327d0-6ad1-40cd-ba93-86f4313e0b9d"
   },
   "outputs": [
    {
     "data": {
      "text/html": [
       "<table border=\"1\" class=\"dataframe\">\n",
       "  <thead>\n",
       "    <tr style=\"text-align: right;\">\n",
       "      <th>idx</th>\n",
       "      <th>text</th>\n",
       "    </tr>\n",
       "  </thead>\n",
       "  <tbody>\n",
       "    <tr>\n",
       "      <td>0</td>\n",
       "      <td>magazine television cost pct rise revenue fairfax interest group receipt mln capital dividend &lt; associate press pty ltd &gt; xxunk sale xxunk b share reuter &lt; rtrsl &gt; account mln dlr profit fairfax predict result year increase borrowing mln dlr acquisition television station melbourne network channel sydney cost reuter xxbos britoil plc &lt; xxunk &gt; yr p div p vs profit mln profit mln vs mln turnover mln debit mln</td>\n",
       "    </tr>\n",
       "    <tr>\n",
       "      <td>1</td>\n",
       "      <td>comecon statement issue talk progress towards position meeting work decision principle relation approval community council minister executive committee comecon xxunk deputy director head bloc delegation reuter today session difference range question comecon insistence joint declaration stipulate berlin community question contain draft side diplomat include clause berlin xxunk agreement talk round trading xxunk september talk union relation ec trade comecon member state xxunk comecon year dlr trade deficit state half deficit</td>\n",
       "    </tr>\n",
       "    <tr>\n",
       "      <td>2</td>\n",
       "      <td>york time quote administration official sentiment industry paper quote industry semiconductor computer company newspaper figure opposition japan ltd &lt; itsut &gt; takeover bid &lt; fairchild semiconductor corp &gt; xxunk deal industry analyst move victory administration drive competition computer chip industry official reuter week commerce secretary malcolm defence secretary caspar weinberger fight plan sale xxunk schlumberger ltd &lt; slb &gt; japan computer maker source technology york time baldrige time limit takeover</td>\n",
       "    </tr>\n",
       "    <tr>\n",
       "      <td>3</td>\n",
       "      <td>drive concern letter intent exchange pct stock asset hemdale film hemdale entity disclosure sun reevaluate feasibility control company portion share balance xxunk time group plan control company change mind reuter xxbos xxunk inc &lt; xxunk &gt; rd net minneapolis minn profit ct vs loss profit vs loss sale mth shr profit vs loss profit vs loss sale mln vs reuter xxbos americus trust &lt; xxunk &gt; &lt; dividend york &lt;</td>\n",
       "    </tr>\n",
       "    <tr>\n",
       "      <td>4</td>\n",
       "      <td>shr ct vs revs mln vs mln avg shr vs reuter xxbos tin pact session week london session tin council itc hold tomorrow &lt; date &gt; member country debate sterling buffer stock price support scheme fail &lt; date &gt; session schedule &lt; date &gt; council pact beyond &lt; date &gt; allow expire year extension reuter xxbos tin council verdict appeal metal trading amt today appeal rule prevent petition tin council</td>\n",
       "    </tr>\n",
       "  </tbody>\n",
       "</table>"
      ],
      "text/plain": [
       "<IPython.core.display.HTML object>"
      ]
     },
     "metadata": {},
     "output_type": "display_data"
    }
   ],
   "source": [
    "data_lm.show_batch()"
   ]
  },
  {
   "cell_type": "code",
   "execution_count": 36,
   "metadata": {
    "colab": {},
    "colab_type": "code",
    "id": "tUBtDtABZmpD"
   },
   "outputs": [],
   "source": [
    "# download pre-trained (Wikipedia) model and create learner\n",
    "learn_lm = language_model_learner(data_lm, AWD_LSTM, drop_mult=0.3, wd=0.1)"
   ]
  },
  {
   "cell_type": "code",
   "execution_count": 37,
   "metadata": {
    "colab": {
     "base_uri": "https://localhost:8080/",
     "height": 85
    },
    "colab_type": "code",
    "id": "tafa_fDpykBD",
    "outputId": "e25ddea4-3b05-462a-f2e9-eaf87269d4d1"
   },
   "outputs": [
    {
     "name": "stdout",
     "output_type": "stream",
     "text": [
      "The European Commission National Association Competition Commission Report Study Commission Report ) ( July - September ) Rome Police Department General Assembly ( Dutch Republic )\n",
      "The European Commission European Union case International Trade Commission Commission Commission Inquiry Committee ( VOW ) European Commission Coordination Authority ( FAO ) European Commission\n",
      "The European Commission Meeting Production Commission Commission Commission Member ( ) Chairman Joseph IV President Jean - Pierre Joseph Du French Pierre Du Nord\n",
      "The European Commission Summer Council Summer Garden Revival Season One World Tour ( May - August ) ( September ) Paris - Le Bois Paris (\n"
     ]
    }
   ],
   "source": [
    "# test wikidata lang model\n",
    "TEXT = \"The European Commission\"\n",
    "N_WORDS = 40\n",
    "N_SENTENCES = 4\n",
    "print(\"\\n\".join(learn_lm.predict(TEXT, N_WORDS, temperature=0.75) for _ in range(N_SENTENCES)))"
   ]
  },
  {
   "cell_type": "code",
   "execution_count": 38,
   "metadata": {
    "colab": {
     "base_uri": "https://localhost:8080/",
     "height": 34
    },
    "colab_type": "code",
    "id": "CsrmrimRZmsL",
    "outputId": "60c0d76d-de67-4668-c10a-a51e7f692297"
   },
   "outputs": [
    {
     "data": {
      "text/html": [],
      "text/plain": [
       "<IPython.core.display.HTML object>"
      ]
     },
     "metadata": {},
     "output_type": "display_data"
    },
    {
     "name": "stdout",
     "output_type": "stream",
     "text": [
      "LR Finder is complete, type {learner_name}.recorder.plot() to see the graph.\n"
     ]
    }
   ],
   "source": [
    "learn_lm.lr_find()"
   ]
  },
  {
   "cell_type": "code",
   "execution_count": 39,
   "metadata": {
    "colab": {
     "base_uri": "https://localhost:8080/",
     "height": 283
    },
    "colab_type": "code",
    "id": "IMu32xgxZmvZ",
    "outputId": "1f11a5dd-ce73-47f0-ed04-084fdd86733b"
   },
   "outputs": [
    {
     "data": {
      "image/png": "[encoded data removed]",
      "text/plain": [
       "<Figure size 432x288 with 1 Axes>"
      ]
     },
     "metadata": {
      "needs_background": "light"
     },
     "output_type": "display_data"
    }
   ],
   "source": [
    "learn_lm.recorder.plot(skip_end=15)"
   ]
  },
  {
   "cell_type": "code",
   "execution_count": 40,
   "metadata": {
    "colab": {
     "base_uri": "https://localhost:8080/",
     "height": 80
    },
    "colab_type": "code",
    "id": "yYVsfD0qZmyx",
    "outputId": "c08f1ca3-68ec-4445-bffa-f2db12a912ca"
   },
   "outputs": [
    {
     "data": {
      "text/html": [
       "<table border=\"1\" class=\"dataframe\">\n",
       "  <thead>\n",
       "    <tr style=\"text-align: left;\">\n",
       "      <th>epoch</th>\n",
       "      <th>train_loss</th>\n",
       "      <th>valid_loss</th>\n",
       "      <th>accuracy</th>\n",
       "      <th>time</th>\n",
       "    </tr>\n",
       "  </thead>\n",
       "  <tbody>\n",
       "    <tr>\n",
       "      <td>0</td>\n",
       "      <td>5.514505</td>\n",
       "      <td>5.468198</td>\n",
       "      <td>0.285714</td>\n",
       "      <td>00:11</td>\n",
       "    </tr>\n",
       "    <tr>\n",
       "      <td>1</td>\n",
       "      <td>4.766319</td>\n",
       "      <td>4.781045</td>\n",
       "      <td>0.314286</td>\n",
       "      <td>00:11</td>\n",
       "    </tr>\n",
       "  </tbody>\n",
       "</table>"
      ],
      "text/plain": [
       "<IPython.core.display.HTML object>"
      ]
     },
     "metadata": {},
     "output_type": "display_data"
    }
   ],
   "source": [
    "learn_lm.fit_one_cycle(2, 7e-2, moms=(0.8,0.7))"
   ]
  },
  {
   "cell_type": "code",
   "execution_count": 42,
   "metadata": {
    "colab": {
     "base_uri": "https://localhost:8080/",
     "height": 300
    },
    "colab_type": "code",
    "id": "rLIQqUijKUAR",
    "outputId": "35af5c8d-57a9-49e1-fb19-bb28e739d72e"
   },
   "outputs": [
    {
     "data": {
      "text/html": [],
      "text/plain": [
       "<IPython.core.display.HTML object>"
      ]
     },
     "metadata": {},
     "output_type": "display_data"
    },
    {
     "name": "stdout",
     "output_type": "stream",
     "text": [
      "LR Finder is complete, type {learner_name}.recorder.plot() to see the graph.\n"
     ]
    },
    {
     "data": {
      "image/png": "[encoded data removed]",
      "text/plain": [
       "<Figure size 432x288 with 1 Axes>"
      ]
     },
     "metadata": {
      "needs_background": "light"
     },
     "output_type": "display_data"
    }
   ],
   "source": [
    "learn_lm.lr_find()\n",
    "learn_lm.recorder.plot(skip_end=15)"
   ]
  },
  {
   "cell_type": "code",
   "execution_count": 43,
   "metadata": {
    "colab": {
     "base_uri": "https://localhost:8080/",
     "height": 143
    },
    "colab_type": "code",
    "id": "vmwu1gS6jLI3",
    "outputId": "03463226-5bf5-46cb-d249-f15eb2636c84"
   },
   "outputs": [
    {
     "data": {
      "text/html": [
       "<table border=\"1\" class=\"dataframe\">\n",
       "  <thead>\n",
       "    <tr style=\"text-align: left;\">\n",
       "      <th>epoch</th>\n",
       "      <th>train_loss</th>\n",
       "      <th>valid_loss</th>\n",
       "      <th>accuracy</th>\n",
       "      <th>time</th>\n",
       "    </tr>\n",
       "  </thead>\n",
       "  <tbody>\n",
       "    <tr>\n",
       "      <td>0</td>\n",
       "      <td>4.328074</td>\n",
       "      <td>4.778875</td>\n",
       "      <td>0.300000</td>\n",
       "      <td>00:11</td>\n",
       "    </tr>\n",
       "    <tr>\n",
       "      <td>1</td>\n",
       "      <td>4.262118</td>\n",
       "      <td>4.634191</td>\n",
       "      <td>0.328571</td>\n",
       "      <td>00:11</td>\n",
       "    </tr>\n",
       "    <tr>\n",
       "      <td>2</td>\n",
       "      <td>4.257793</td>\n",
       "      <td>4.519869</td>\n",
       "      <td>0.328571</td>\n",
       "      <td>00:11</td>\n",
       "    </tr>\n",
       "    <tr>\n",
       "      <td>3</td>\n",
       "      <td>4.140695</td>\n",
       "      <td>4.427017</td>\n",
       "      <td>0.342857</td>\n",
       "      <td>00:11</td>\n",
       "    </tr>\n",
       "    <tr>\n",
       "      <td>4</td>\n",
       "      <td>4.085331</td>\n",
       "      <td>4.367096</td>\n",
       "      <td>0.342857</td>\n",
       "      <td>00:11</td>\n",
       "    </tr>\n",
       "    <tr>\n",
       "      <td>5</td>\n",
       "      <td>3.985366</td>\n",
       "      <td>4.405140</td>\n",
       "      <td>0.328571</td>\n",
       "      <td>00:11</td>\n",
       "    </tr>\n",
       "    <tr>\n",
       "      <td>6</td>\n",
       "      <td>3.894646</td>\n",
       "      <td>4.335707</td>\n",
       "      <td>0.328571</td>\n",
       "      <td>00:11</td>\n",
       "    </tr>\n",
       "    <tr>\n",
       "      <td>7</td>\n",
       "      <td>3.768609</td>\n",
       "      <td>4.335643</td>\n",
       "      <td>0.328571</td>\n",
       "      <td>00:11</td>\n",
       "    </tr>\n",
       "    <tr>\n",
       "      <td>8</td>\n",
       "      <td>3.765850</td>\n",
       "      <td>4.326796</td>\n",
       "      <td>0.328571</td>\n",
       "      <td>00:11</td>\n",
       "    </tr>\n",
       "    <tr>\n",
       "      <td>9</td>\n",
       "      <td>3.694419</td>\n",
       "      <td>4.334843</td>\n",
       "      <td>0.328571</td>\n",
       "      <td>00:11</td>\n",
       "    </tr>\n",
       "  </tbody>\n",
       "</table>"
      ],
      "text/plain": [
       "<IPython.core.display.HTML object>"
      ]
     },
     "metadata": {},
     "output_type": "display_data"
    }
   ],
   "source": [
    "epochs = 10 # orig: 10\n",
    "learn_lm.fit_one_cycle(epochs, slice(5e-3/(2.6**4), 5e-3) , moms=(0.8,0.7))"
   ]
  },
  {
   "cell_type": "code",
   "execution_count": 44,
   "metadata": {
    "colab": {},
    "colab_type": "code",
    "id": "y8Ce6YpUjLPQ"
   },
   "outputs": [
    {
     "data": {
      "text/plain": [
       "LanguageLearner(data=TextLMDataBunch;\n",
       "\n",
       "Train: LabelList (10216 items)\n",
       "x: LMTextList\n",
       "xxbos fairfax tax half < date > medium group john fairfax ltd < xxunk > profit impact change tax system net edge pct mln dlr week end < date > year profit rise pct mln net increase company tax pct imposition tax fringe benefit pay employer company statement fairfax downturn revenue growth television industry reason half consider result view factor fairfax sydney morning herald age advertising volume review post performance magazine television cost pct rise revenue fairfax interest group receipt mln capital dividend < associate press pty ltd > xxunk sale xxunk b share reuter < rtrsl > account mln dlr profit fairfax predict result year increase borrowing mln dlr acquisition television station melbourne network channel sydney cost reuter,xxbos britoil plc < xxunk > yr p div p vs profit mln profit mln vs mln turnover mln debit mln vs operate profit mln vs debit rationalisation programme mln vs petroleum revenue taxis mln vs mln corporation tax mln vs effect accounting change tax profit mln stg retain year increase mln debit mln stg relate decision buyer company asset reuter,xxbos embargo release gmt xxunk < date > * feb unemployment fall mln pctofficial,xxbos * unit wage labour cost rise month end xxunk blah,xxbos * average rise pct rise blah\n",
       "y: LMLabelList\n",
       ",,,,\n",
       "Path: .;\n",
       "\n",
       "Valid: LabelList (1135 items)\n",
       "x: LMTextList\n",
       "xxbos bsn < bsn > purchase xxunk < xxunk > stock dalla < date > bsn corp purchase xxunk stock market transaction bsn position ownership disclosure company position decrease number share add reuter,xxbos hollinger < xxunk > takeover toronto < date > hollinger inc acquisition inc owner language newspaper printing plant ontario company pct telegraph plc carle o'keefe ltd executive pierre executive la medium quebec unit effective < date > reuter,xxbos tultex < ttx > increase dividend ct vs ct july record < date > reuter,xxbos energy secretary houston < date > us department energy secretary john herrington chance depletion allowance oil gas producer add plan opposition member administration herrington oil executive xxunk meeting administration debate plan depletion allowance heavy oil industry subsidy agriculture industry herrington tax incentive oil industry issue week department energy release report security oil import response question mitchell energy development corp < mnd > chairman george mitchell herrington report oil import xxunk debate herrington speech herrington report show oil import fee herrington example dlr barrel tariff oil import nation product drop herrington president request security study action help oil industry understand problem prepare something herrington reuter,xxbos basin pipeline york < date > basin pipeline yesterday expectation crude oil shipment june schedule accord spokesman < tx > operator pipeline texaco pipeline co subsidiary project pipeline crude shipment schedule dan spokesman pipeline reopen sunday barrel crude oil day ship day steven increase crude oil schedule pipeline end june pipeline shut < date > xxunk cause flood river oklahoma border service saturday water river delay steven -inch steel river damage accord reuter\n",
       "y: LMLabelList\n",
       ",,,,\n",
       "Path: .;\n",
       "\n",
       "Test: None, model=SequentialRNN(\n",
       "  (0): AWD_LSTM(\n",
       "    (encoder): Embedding(8336, 400, padding_idx=1)\n",
       "    (encoder_dp): EmbeddingDropout(\n",
       "      (emb): Embedding(8336, 400, padding_idx=1)\n",
       "    )\n",
       "    (rnns): ModuleList(\n",
       "      (0): WeightDropout(\n",
       "        (module): LSTM(400, 1152, batch_first=True)\n",
       "      )\n",
       "      (1): WeightDropout(\n",
       "        (module): LSTM(1152, 1152, batch_first=True)\n",
       "      )\n",
       "      (2): WeightDropout(\n",
       "        (module): LSTM(1152, 400, batch_first=True)\n",
       "      )\n",
       "    )\n",
       "    (input_dp): RNNDropout()\n",
       "    (hidden_dps): ModuleList(\n",
       "      (0): RNNDropout()\n",
       "      (1): RNNDropout()\n",
       "      (2): RNNDropout()\n",
       "    )\n",
       "  )\n",
       "  (1): LinearDecoder(\n",
       "    (decoder): Linear(in_features=400, out_features=8336, bias=True)\n",
       "    (output_dp): RNNDropout()\n",
       "  )\n",
       "), opt_func=functools.partial(<class 'torch.optim.adam.Adam'>, betas=(0.9, 0.99)), loss_func=FlattenedLoss of CrossEntropyLoss(), metrics=[<function accuracy at 0x7fbadeee9b70>], true_wd=True, bn_wd=True, wd=0.1, train_bn=True, path=PosixPath('.'), model_dir='models', callback_fns=[functools.partial(<class 'fastai.basic_train.Recorder'>, add_time=True, silent=False)], callbacks=[RNNTrainer\n",
       "learn: ...\n",
       "alpha: 2.0\n",
       "beta: 1.0], layer_groups=[Sequential(\n",
       "  (0): WeightDropout(\n",
       "    (module): LSTM(400, 1152, batch_first=True)\n",
       "  )\n",
       "  (1): RNNDropout()\n",
       "), Sequential(\n",
       "  (0): WeightDropout(\n",
       "    (module): LSTM(1152, 1152, batch_first=True)\n",
       "  )\n",
       "  (1): RNNDropout()\n",
       "), Sequential(\n",
       "  (0): WeightDropout(\n",
       "    (module): LSTM(1152, 400, batch_first=True)\n",
       "  )\n",
       "  (1): RNNDropout()\n",
       "), Sequential(\n",
       "  (0): Embedding(8336, 400, padding_idx=1)\n",
       "  (1): EmbeddingDropout(\n",
       "    (emb): Embedding(8336, 400, padding_idx=1)\n",
       "  )\n",
       "  (2): LinearDecoder(\n",
       "    (decoder): Linear(in_features=400, out_features=8336, bias=True)\n",
       "    (output_dp): RNNDropout()\n",
       "  )\n",
       ")], add_time=True, silent=None)"
      ]
     },
     "execution_count": 44,
     "metadata": {},
     "output_type": "execute_result"
    }
   ],
   "source": [
    "learn_lm.save('fine_tuned-Reuters-prep')\n",
    "learn_lm.load('fine_tuned-Reuters-prep')"
   ]
  },
  {
   "cell_type": "raw",
   "metadata": {
    "colab": {
     "base_uri": "https://localhost:8080/",
     "height": 102
    },
    "colab_type": "code",
    "id": "s-n0VSRajLSs",
    "outputId": "73be9ccc-977f-4fd6-f203-427926c6b1e5"
   },
   "source": [
    "# test lang model\n",
    "TEXT = \"The European Commission\"\n",
    "N_WORDS = 40\n",
    "N_SENTENCES = 5\n",
    "print(\"\\n\".join(learn.predict(TEXT, N_WORDS, temperature=0.75) for _ in range(N_SENTENCES)))\n"
   ]
  },
  {
   "cell_type": "code",
   "execution_count": 47,
   "metadata": {
    "colab": {},
    "colab_type": "code",
    "id": "tumpLk48jLVy"
   },
   "outputs": [],
   "source": [
    "learn_lm.save_encoder('fine_tuned_enc-Reuters-prep')\n"
   ]
  },
  {
   "cell_type": "markdown",
   "metadata": {
    "colab_type": "text",
    "id": "TKgiUzG3K-1w"
   },
   "source": [
    "## Train a classifier"
   ]
  },
  {
   "cell_type": "markdown",
   "metadata": {
    "colab_type": "text",
    "id": "TMB5GXLhLN28"
   },
   "source": [
    "As we are using multi-label classification, we define our own metrics (fastai doesn't support multi-label well yet)"
   ]
  },
  {
   "cell_type": "code",
   "execution_count": 48,
   "metadata": {
    "colab": {},
    "colab_type": "code",
    "id": "DpDdcNM6pxhw"
   },
   "outputs": [],
   "source": [
    "def my_prc(log_preds, targs, thresh=0.5, epsilon=1e-8):\n",
    "    pred_pos = (log_preds > thresh).float()\n",
    "    tpos = torch.mul((targs == pred_pos).float(), targs.float())\n",
    "    return (tpos.sum()/(pred_pos.sum() + epsilon))#.item()\n",
    "  \n",
    "def my_rec(log_preds, targs, thresh=0.5, epsilon=1e-8):\n",
    "    pred_pos = (log_preds > thresh).float()\n",
    "    tpos = torch.mul((targs == pred_pos).float(), targs.float())\n",
    "    return (tpos.sum()/(targs.sum() + epsilon))\n",
    "\n",
    "thresh=0.001\n",
    "acc_0001 = partial(accuracy_thresh, thresh=thresh)\n",
    "prc_0001 = partial(my_prc, thresh=thresh)\n",
    "rec_0001 = partial(my_rec, thresh=thresh)\n",
    "f_0001 = partial(fbeta, thresh=thresh, beta=1)\n",
    "\n",
    "\n",
    "thresh=0.01\n",
    "acc_001 = partial(accuracy_thresh, thresh=thresh)\n",
    "prc_001 = partial(my_prc, thresh=thresh)\n",
    "rec_001 = partial(my_rec, thresh=thresh)\n",
    "f_001 = partial(fbeta, thresh=thresh, beta=1)\n",
    "\n",
    "thresh=0.05\n",
    "acc_005 = partial(accuracy_thresh, thresh=thresh)\n",
    "prc_005 = partial(my_prc, thresh=thresh)\n",
    "rec_005 = partial(my_rec, thresh=thresh)\n",
    "f_005 = partial(fbeta, thresh=thresh, beta=1)\n",
    "\n",
    "thresh=0.1\n",
    "acc_01 = partial(accuracy_thresh, thresh=thresh)\n",
    "prc_01 = partial(my_prc, thresh=thresh)\n",
    "rec_01 = partial(my_rec, thresh=thresh)\n",
    "f_01 = partial(fbeta, thresh=thresh, beta=1)\n",
    "\n",
    "thresh=0.2\n",
    "acc_02 = partial(accuracy_thresh, thresh=thresh)\n",
    "prc_02 = partial(my_prc, thresh=thresh)\n",
    "rec_02 = partial(my_rec, thresh=thresh)\n",
    "f_02 = partial(fbeta, thresh=thresh, beta=1)\n",
    "\n",
    "thresh=0.3\n",
    "acc_03 = partial(accuracy_thresh, thresh=thresh)\n",
    "prc_03 = partial(my_prc, thresh=thresh)\n",
    "rec_03 = partial(my_rec, thresh=thresh)\n",
    "f_03 = partial(fbeta, thresh=thresh, beta=1)\n",
    "\n",
    "thresh=0.4\n",
    "acc_04 = partial(accuracy_thresh, thresh=thresh)\n",
    "prc_04 = partial(my_prc, thresh=thresh)\n",
    "rec_04 = partial(my_rec, thresh=thresh)\n",
    "f_04 = partial(fbeta, thresh=thresh, beta=1)\n",
    "\n",
    "thresh=0.5\n",
    "acc_05 = partial(accuracy_thresh, thresh=thresh)\n",
    "prc_05 = partial(my_prc, thresh=thresh)\n",
    "rec_05 = partial(my_rec, thresh=thresh)\n",
    "f_05 = partial(fbeta, thresh=thresh, beta=1)\n"
   ]
  },
  {
   "cell_type": "code",
   "execution_count": 49,
   "metadata": {
    "colab": {},
    "colab_type": "code",
    "id": "R6SRdQxPh8oZ"
   },
   "outputs": [],
   "source": [
    "## make small subsample in order to train faster\n",
    "df = pd.read_csv(FN)\n",
    "df = df[['text','labels']]\n"
   ]
  },
  {
   "cell_type": "code",
   "execution_count": 51,
   "metadata": {
    "colab": {},
    "colab_type": "code",
    "id": "_RLVSPKWjLZO"
   },
   "outputs": [],
   "source": [
    "data_clas = (TextList.from_csv(Path('.'), FN, vocab=data_lm.vocab, cols='text')\n",
    "             #grab all the text files in path\n",
    "             #wohlg: .split_by_folder(valid='test')\n",
    "             .split_by_rand_pct()\n",
    "             #split by train and valid folder (that only keeps 'train' and 'test' so no need to filter)             \n",
    "             #wohlg: .label_from_folder(classes=['neg', 'pos'])\n",
    "             .label_from_df(cols='labels', label_delim=';')\n",
    "             #label them all with their folders\n",
    "             .databunch(bs=bs))\n",
    "\n",
    "data_clas.save('data_clas-prep.pkl')"
   ]
  },
  {
   "cell_type": "code",
   "execution_count": 52,
   "metadata": {},
   "outputs": [
    {
     "name": "stdout",
     "output_type": "stream",
     "text": [
      "8336\n",
      "['xxunk', 'xxpad', 'xxbos', 'xxeos', 'xxfld', 'xxmaj', 'xxup', 'xxrep', 'xxwrep', '>', '<', 'mln', 'reuter', 'date', 'vs', 'year', 'pct', 'dlr', 'share', 'company']\n"
     ]
    }
   ],
   "source": [
    "print(len(data_lm.vocab.itos))\n",
    "print(data_lm.vocab.itos[:20])"
   ]
  },
  {
   "cell_type": "code",
   "execution_count": 53,
   "metadata": {
    "colab": {},
    "colab_type": "code",
    "id": "lLq_pAhSjLe2"
   },
   "outputs": [],
   "source": [
    "data_clas = load_data(Path('.'), 'data_clas-prep.pkl', bs=bs)"
   ]
  },
  {
   "cell_type": "code",
   "execution_count": 56,
   "metadata": {
    "colab": {
     "base_uri": "https://localhost:8080/",
     "height": 289
    },
    "colab_type": "code",
    "id": "bIC3m4atjLcQ",
    "outputId": "567af202-1871-4ecb-8ef9-30ff5a7e09cd"
   },
   "outputs": [
    {
     "data": {
      "text/html": [
       "<table border=\"1\" class=\"dataframe\">\n",
       "  <thead>\n",
       "    <tr style=\"text-align: right;\">\n",
       "      <th>text</th>\n",
       "      <th>target</th>\n",
       "    </tr>\n",
       "  </thead>\n",
       "  <tbody>\n",
       "    <tr>\n",
       "      <td>xxbos detail washington &lt; date &gt; us agriculture department supply demand projection season mln bushel comparison note corn acreage acre plant yield bu supply bu stock production xxunk xinclude import corn cont usage feed ttl dom export total end stock farmer reser stock avgprice bu corn season begin acreage acre plant yield supply bu stck production xinclude import wheat cont usage food seed feed ttl dom export total end stock</td>\n",
       "      <td>103;109;112;113;118;19;42;45;56;59;67;68;81;98</td>\n",
       "    </tr>\n",
       "    <tr>\n",
       "      <td>xxbos price boost latin output reuter rio janeiro sugar producer rise world market price move boost production official trade source price rise cent lb month region cent production cost rise price place producer manuel rico consultant group caribbean sugar export country rico cent stimulate increase output producer measure increase production price mexico guatemala ecuador price production industry leader panama costa rica way price mateo vice president costa rica sugar cane</td>\n",
       "      <td>88</td>\n",
       "    </tr>\n",
       "    <tr>\n",
       "      <td>xxbos bank spell stephen juke reuter doha &lt; date &gt; bank profit gulf oil state qatar pressure bank xxunk region xxunk market result year decline profit bank operation case cushion drop increase market share &lt; qatar bank xxunk &gt; xxunk manager xxunk xxunk economy hope year bank qatar population xxunk workforce estimate xxunk bank operation banker capital recession year qatar difficulty marketing crude oil official price toll economy bank profitability</td>\n",
       "      <td>30</td>\n",
       "    </tr>\n",
       "    <tr>\n",
       "      <td>xxbos computer xxunk &lt; bolster hand lawrence edelman york &lt; date &gt; computer inc mln dlr merger corp &lt; eliminate company competition business machine corp &lt; ibm &gt; wall street analyst ibm force mainframe system software scott analyst donaldson jenrette combination company front computer associate company field analyst terence field segment market system utility software package boost productivity company datum processing facility increase speed power efficiency mainframe computer merger computer</td>\n",
       "      <td>77</td>\n",
       "    </tr>\n",
       "    <tr>\n",
       "      <td>xxbos leader challenge era irwin xxunk reuter washington &lt; date &gt; president reagan xxunk nation security market inherit agency insider trading scandal stock price gyration host uncertainty stem market david xxunk law professor university evanston ill name thursday chairman security exchange commission confirm senate john shad agency week record year chairman netherland sec year investigator probe xxunk insider trading scandal street investigation xxunk month number trader investment banking firm charge</td>\n",
       "      <td>77</td>\n",
       "    </tr>\n",
       "  </tbody>\n",
       "</table>"
      ],
      "text/plain": [
       "<IPython.core.display.HTML object>"
      ]
     },
     "metadata": {},
     "output_type": "display_data"
    }
   ],
   "source": [
    "data_clas.show_batch()\n",
    "#data_clas.label_list\n"
   ]
  },
  {
   "cell_type": "code",
   "execution_count": 57,
   "metadata": {
    "colab": {},
    "colab_type": "code",
    "id": "cyWs6u1vl6mX"
   },
   "outputs": [],
   "source": [
    "learn = text_classifier_learner(data_clas, AWD_LSTM, drop_mult=0.5, wd=0.1)\n",
    "#learn.metrics = [accuracy_thresh, custom_precision, custom_recall, \n",
    "#                 acc_01, f_score_01, acc_02, f_score_02, acc_03, f_score_03 ]\n",
    "learn.metrics = [accuracy_thresh, \n",
    "                 acc_0001, prc_0001, rec_0001, f_0001,\n",
    "                 acc_001, prc_001, rec_001, f_001,\n",
    "                 acc_005, prc_005, rec_005, f_005,\n",
    "                 acc_01, prc_01, rec_01, f_01,\n",
    "                 acc_02, prc_02, rec_02, f_02,\n",
    "                 acc_03, prc_03, rec_03, f_03,\n",
    "                 acc_04, prc_04, rec_04, f_04,\n",
    "                 acc_05, prc_05, rec_05, f_05 ]\n",
    "#!mv *pth models\n",
    "learn.load_encoder('fine_tuned_enc-Reuters-prep')\n"
   ]
  },
  {
   "cell_type": "code",
   "execution_count": 58,
   "metadata": {},
   "outputs": [
    {
     "name": "stdout",
     "output_type": "stream",
     "text": [
      "FlattenedLoss of BCEWithLogitsLoss()\n",
      "BCEWithLogitsLoss()\n"
     ]
    }
   ],
   "source": [
    "print(learn.loss_func)\n",
    "print(learn.loss_func.func)"
   ]
  },
  {
   "cell_type": "code",
   "execution_count": 59,
   "metadata": {
    "colab": {
     "base_uri": "https://localhost:8080/",
     "height": 34
    },
    "colab_type": "code",
    "id": "X5sGGcAUl6ps",
    "outputId": "33e0a7c9-12fc-4b66-c5f3-9ab79d8fbb8c"
   },
   "outputs": [
    {
     "data": {
      "text/html": [],
      "text/plain": [
       "<IPython.core.display.HTML object>"
      ]
     },
     "metadata": {},
     "output_type": "display_data"
    },
    {
     "name": "stdout",
     "output_type": "stream",
     "text": [
      "LR Finder is complete, type {learner_name}.recorder.plot() to see the graph.\n"
     ]
    }
   ],
   "source": [
    "learn.lr_find()"
   ]
  },
  {
   "cell_type": "code",
   "execution_count": 60,
   "metadata": {
    "colab": {
     "base_uri": "https://localhost:8080/",
     "height": 283
    },
    "colab_type": "code",
    "id": "4TaL4rGml6tD",
    "outputId": "2aec03fe-986a-4755-c392-975e6e45e1a3"
   },
   "outputs": [
    {
     "data": {
      "image/png": "[encoded data removed]",
      "text/plain": [
       "<Figure size 432x288 with 1 Axes>"
      ]
     },
     "metadata": {
      "needs_background": "light"
     },
     "output_type": "display_data"
    }
   ],
   "source": [
    "learn.recorder.plot()"
   ]
  },
  {
   "cell_type": "code",
   "execution_count": 61,
   "metadata": {
    "colab": {
     "base_uri": "https://localhost:8080/",
     "height": 80
    },
    "colab_type": "code",
    "id": "BrPh0yRdl6zX",
    "outputId": "841c115e-7e18-4b30-a3d5-7932cd83968e",
    "scrolled": true
   },
   "outputs": [
    {
     "data": {
      "text/html": [
       "<table border=\"1\" class=\"dataframe\">\n",
       "  <thead>\n",
       "    <tr style=\"text-align: left;\">\n",
       "      <th>epoch</th>\n",
       "      <th>train_loss</th>\n",
       "      <th>valid_loss</th>\n",
       "      <th>accuracy_thresh</th>\n",
       "      <th>accuracy_thresh</th>\n",
       "      <th>my_prc</th>\n",
       "      <th>my_rec</th>\n",
       "      <th>fbeta</th>\n",
       "      <th>accuracy_thresh</th>\n",
       "      <th>my_prc</th>\n",
       "      <th>my_rec</th>\n",
       "      <th>fbeta</th>\n",
       "      <th>accuracy_thresh</th>\n",
       "      <th>my_prc</th>\n",
       "      <th>my_rec</th>\n",
       "      <th>fbeta</th>\n",
       "      <th>accuracy_thresh</th>\n",
       "      <th>my_prc</th>\n",
       "      <th>my_rec</th>\n",
       "      <th>fbeta</th>\n",
       "      <th>accuracy_thresh</th>\n",
       "      <th>my_prc</th>\n",
       "      <th>my_rec</th>\n",
       "      <th>fbeta</th>\n",
       "      <th>accuracy_thresh</th>\n",
       "      <th>my_prc</th>\n",
       "      <th>my_rec</th>\n",
       "      <th>fbeta</th>\n",
       "      <th>accuracy_thresh</th>\n",
       "      <th>my_prc</th>\n",
       "      <th>my_rec</th>\n",
       "      <th>fbeta</th>\n",
       "      <th>accuracy_thresh</th>\n",
       "      <th>my_prc</th>\n",
       "      <th>my_rec</th>\n",
       "      <th>fbeta</th>\n",
       "      <th>time</th>\n",
       "    </tr>\n",
       "  </thead>\n",
       "  <tbody>\n",
       "    <tr>\n",
       "      <td>0</td>\n",
       "      <td>0.038606</td>\n",
       "      <td>0.053007</td>\n",
       "      <td>0.988924</td>\n",
       "      <td>0.913394</td>\n",
       "      <td>0.376430</td>\n",
       "      <td>0.061415</td>\n",
       "      <td>0.175766</td>\n",
       "      <td>0.975715</td>\n",
       "      <td>0.376418</td>\n",
       "      <td>0.060619</td>\n",
       "      <td>0.347320</td>\n",
       "      <td>0.986403</td>\n",
       "      <td>0.377182</td>\n",
       "      <td>0.058745</td>\n",
       "      <td>0.356959</td>\n",
       "      <td>0.987673</td>\n",
       "      <td>0.381533</td>\n",
       "      <td>0.057110</td>\n",
       "      <td>0.290194</td>\n",
       "      <td>0.988231</td>\n",
       "      <td>0.382788</td>\n",
       "      <td>0.053076</td>\n",
       "      <td>0.181441</td>\n",
       "      <td>0.988561</td>\n",
       "      <td>0.385227</td>\n",
       "      <td>0.050669</td>\n",
       "      <td>0.132616</td>\n",
       "      <td>0.988702</td>\n",
       "      <td>0.385182</td>\n",
       "      <td>0.047539</td>\n",
       "      <td>0.088563</td>\n",
       "      <td>0.988924</td>\n",
       "      <td>0.394971</td>\n",
       "      <td>0.045555</td>\n",
       "      <td>0.063914</td>\n",
       "      <td>00:08</td>\n",
       "    </tr>\n",
       "    <tr>\n",
       "      <td>1</td>\n",
       "      <td>0.025194</td>\n",
       "      <td>0.016118</td>\n",
       "      <td>0.994991</td>\n",
       "      <td>0.718184</td>\n",
       "      <td>0.823912</td>\n",
       "      <td>0.682204</td>\n",
       "      <td>0.123010</td>\n",
       "      <td>0.926820</td>\n",
       "      <td>0.824534</td>\n",
       "      <td>0.681431</td>\n",
       "      <td>0.415094</td>\n",
       "      <td>0.976500</td>\n",
       "      <td>0.833365</td>\n",
       "      <td>0.679576</td>\n",
       "      <td>0.611152</td>\n",
       "      <td>0.986022</td>\n",
       "      <td>0.837620</td>\n",
       "      <td>0.673016</td>\n",
       "      <td>0.682018</td>\n",
       "      <td>0.992000</td>\n",
       "      <td>0.852238</td>\n",
       "      <td>0.662544</td>\n",
       "      <td>0.742978</td>\n",
       "      <td>0.993829</td>\n",
       "      <td>0.866472</td>\n",
       "      <td>0.653884</td>\n",
       "      <td>0.748350</td>\n",
       "      <td>0.994610</td>\n",
       "      <td>0.878205</td>\n",
       "      <td>0.640664</td>\n",
       "      <td>0.734639</td>\n",
       "      <td>0.994991</td>\n",
       "      <td>0.886240</td>\n",
       "      <td>0.628585</td>\n",
       "      <td>0.713181</td>\n",
       "      <td>00:08</td>\n",
       "    </tr>\n",
       "  </tbody>\n",
       "</table>"
      ],
      "text/plain": [
       "<IPython.core.display.HTML object>"
      ]
     },
     "metadata": {},
     "output_type": "display_data"
    }
   ],
   "source": [
    "learn.fit_one_cycle(2, slice(2e-2,2e-1), moms=(0.8,0.7))"
   ]
  },
  {
   "cell_type": "code",
   "execution_count": 62,
   "metadata": {
    "colab": {},
    "colab_type": "code",
    "id": "Go03WwP9l62p"
   },
   "outputs": [],
   "source": [
    "learn.save('first-prep')"
   ]
  },
  {
   "cell_type": "code",
   "execution_count": 63,
   "metadata": {
    "colab": {},
    "colab_type": "code",
    "id": "Nim2xtSDl65f"
   },
   "outputs": [
    {
     "data": {
      "text/plain": [
       "RNNLearner(data=TextClasDataBunch;\n",
       "\n",
       "Train: LabelList (9081 items)\n",
       "x: TextList\n",
       "xxbos fairfax tax half < date > medium group john fairfax ltd < xxunk > profit impact change tax system net edge pct mln dlr week end < date > year profit rise pct mln net increase company tax pct imposition tax fringe benefit pay employer company statement fairfax downturn revenue growth television industry reason half consider result view factor fairfax sydney morning herald age advertising volume review post performance magazine television cost pct rise revenue fairfax interest group receipt mln capital dividend < associate press pty ltd > xxunk sale xxunk b share reuter < rtrsl > account mln dlr profit fairfax predict result year increase borrowing mln dlr acquisition television station melbourne network channel sydney cost reuter,xxbos britoil plc < xxunk > yr p div p vs profit mln profit mln vs mln turnover mln debit mln vs operate profit mln vs debit rationalisation programme mln vs petroleum revenue taxis mln vs mln corporation tax mln vs effect accounting change tax profit mln stg retain year increase mln debit mln stg relate decision buyer company asset reuter,xxbos embargo release gmt xxunk < date > * feb unemployment fall mln pctofficial,xxbos * unit wage labour cost rise month end xxunk blah,xxbos * average rise pct rise blah\n",
       "y: MultiCategoryList\n",
       "35,35,114,10,10\n",
       "Path: .;\n",
       "\n",
       "Valid: LabelList (2270 items)\n",
       "x: TextList\n",
       "xxbos investment firm < xxunk > stake washington < date > two investment firm investment fund control raise stake xxunk corp share total share pct file security exchange commission fidelity bermudabase firm fund buy share price range dlrs share fund control corp bostonbase investment firm affiliate fidelity share combine share fidelity reuter,xxbos xxunk profit help france < date > automobile xxunk rise sale car help profit year recovery year loss president jacque xxunk reporter weekend trial xxunk sport model forecast show improvement compare xxunk sa < xxunk > group increase share car market month year pct share year pct firm target raise share market france year pct problem produce vehicle meet demand xxunk problem xxup -pron- xxunk franc deficit mln help modernise range productivity xxunk indicate december xxunk profit franc weekend profit estimate optimism success xxunk market october europe month car register sale xxunk plant bois xxunk xxunk spain production target level car day car xxunk market model xxunk xxunk visa design compete renault volkswagen xxunk xxunk xxunk market share france pct month xxunk market reuter,xxbos japan gnp rise pct march tokyo < date > japan product gnp rise pct march quarter increase month planning agency december rise year end last < date > gnp rise pct increase year performance gnp contract government revise pct forecast economist yen slowdown growth demand increase pct march quarter pct year compare growth october < date > pct growth rate march quarter pct december term gnp rise pct march pct rise reflect price demand contribute percentage point gnp growth march trade point december demand point trade point contribution trade gnp quarter rise export account point fall import contribute export volume rise pct xxunk march import fall pct point contribution demand march gnp growth sector account sector knock sector contribution point capital consumer spending destocke point demand contribute percentage point growth trade knock point demand contribution trade point reuter,xxbos < xxunk > payout oak brook ill < date > freedom bank vote cash dividend cts share dividend cts share reuter,xxbos growth year basle switzerland < date > growth economy pct year pct year accord study group university institute blame slowdown outlook export cause dollar export year pct group demand pct year pct picture study investment plant equipment motor growth demand grow fast year pct rise year pct growth consumption fall year pct year consumption spending pct year consumer price rise year pct unemployment fall pct year pct reuter\n",
       "y: MultiCategoryList\n",
       "77,35,79,35,75;79;114;117\n",
       "Path: .;\n",
       "\n",
       "Test: None, model=SequentialRNN(\n",
       "  (0): MultiBatchEncoder(\n",
       "    (module): AWD_LSTM(\n",
       "      (encoder): Embedding(8336, 400, padding_idx=1)\n",
       "      (encoder_dp): EmbeddingDropout(\n",
       "        (emb): Embedding(8336, 400, padding_idx=1)\n",
       "      )\n",
       "      (rnns): ModuleList(\n",
       "        (0): WeightDropout(\n",
       "          (module): LSTM(400, 1152, batch_first=True)\n",
       "        )\n",
       "        (1): WeightDropout(\n",
       "          (module): LSTM(1152, 1152, batch_first=True)\n",
       "        )\n",
       "        (2): WeightDropout(\n",
       "          (module): LSTM(1152, 400, batch_first=True)\n",
       "        )\n",
       "      )\n",
       "      (input_dp): RNNDropout()\n",
       "      (hidden_dps): ModuleList(\n",
       "        (0): RNNDropout()\n",
       "        (1): RNNDropout()\n",
       "        (2): RNNDropout()\n",
       "      )\n",
       "    )\n",
       "  )\n",
       "  (1): PoolingLinearClassifier(\n",
       "    (layers): Sequential(\n",
       "      (0): BatchNorm1d(1200, eps=1e-05, momentum=0.1, affine=True, track_running_stats=True)\n",
       "      (1): Dropout(p=0.2)\n",
       "      (2): Linear(in_features=1200, out_features=50, bias=True)\n",
       "      (3): ReLU(inplace)\n",
       "      (4): BatchNorm1d(50, eps=1e-05, momentum=0.1, affine=True, track_running_stats=True)\n",
       "      (5): Dropout(p=0.1)\n",
       "      (6): Linear(in_features=50, out_features=119, bias=True)\n",
       "    )\n",
       "  )\n",
       "), opt_func=functools.partial(<class 'torch.optim.adam.Adam'>, betas=(0.9, 0.99)), loss_func=FlattenedLoss of BCEWithLogitsLoss(), metrics=[<function accuracy_thresh at 0x7fbadeee9bf8>, functools.partial(<function accuracy_thresh at 0x7fbadeee9bf8>, thresh=0.001), functools.partial(<function my_prc at 0x7fba8fd342f0>, thresh=0.001), functools.partial(<function my_rec at 0x7fba8fd341e0>, thresh=0.001), functools.partial(<function fbeta at 0x7fbb313a7d08>, thresh=0.001, beta=1), functools.partial(<function accuracy_thresh at 0x7fbadeee9bf8>, thresh=0.01), functools.partial(<function my_prc at 0x7fba8fd342f0>, thresh=0.01), functools.partial(<function my_rec at 0x7fba8fd341e0>, thresh=0.01), functools.partial(<function fbeta at 0x7fbb313a7d08>, thresh=0.01, beta=1), functools.partial(<function accuracy_thresh at 0x7fbadeee9bf8>, thresh=0.05), functools.partial(<function my_prc at 0x7fba8fd342f0>, thresh=0.05), functools.partial(<function my_rec at 0x7fba8fd341e0>, thresh=0.05), functools.partial(<function fbeta at 0x7fbb313a7d08>, thresh=0.05, beta=1), functools.partial(<function accuracy_thresh at 0x7fbadeee9bf8>, thresh=0.1), functools.partial(<function my_prc at 0x7fba8fd342f0>, thresh=0.1), functools.partial(<function my_rec at 0x7fba8fd341e0>, thresh=0.1), functools.partial(<function fbeta at 0x7fbb313a7d08>, thresh=0.1, beta=1), functools.partial(<function accuracy_thresh at 0x7fbadeee9bf8>, thresh=0.2), functools.partial(<function my_prc at 0x7fba8fd342f0>, thresh=0.2), functools.partial(<function my_rec at 0x7fba8fd341e0>, thresh=0.2), functools.partial(<function fbeta at 0x7fbb313a7d08>, thresh=0.2, beta=1), functools.partial(<function accuracy_thresh at 0x7fbadeee9bf8>, thresh=0.3), functools.partial(<function my_prc at 0x7fba8fd342f0>, thresh=0.3), functools.partial(<function my_rec at 0x7fba8fd341e0>, thresh=0.3), functools.partial(<function fbeta at 0x7fbb313a7d08>, thresh=0.3, beta=1), functools.partial(<function accuracy_thresh at 0x7fbadeee9bf8>, thresh=0.4), functools.partial(<function my_prc at 0x7fba8fd342f0>, thresh=0.4), functools.partial(<function my_rec at 0x7fba8fd341e0>, thresh=0.4), functools.partial(<function fbeta at 0x7fbb313a7d08>, thresh=0.4, beta=1), functools.partial(<function accuracy_thresh at 0x7fbadeee9bf8>, thresh=0.5), functools.partial(<function my_prc at 0x7fba8fd342f0>, thresh=0.5), functools.partial(<function my_rec at 0x7fba8fd341e0>, thresh=0.5), functools.partial(<function fbeta at 0x7fbb313a7d08>, thresh=0.5, beta=1)], true_wd=True, bn_wd=True, wd=0.1, train_bn=True, path=PosixPath('.'), model_dir='models', callback_fns=[functools.partial(<class 'fastai.basic_train.Recorder'>, add_time=True, silent=False)], callbacks=[RNNTrainer\n",
       "learn: ...\n",
       "alpha: 2.0\n",
       "beta: 1.0], layer_groups=[Sequential(\n",
       "  (0): Embedding(8336, 400, padding_idx=1)\n",
       "  (1): EmbeddingDropout(\n",
       "    (emb): Embedding(8336, 400, padding_idx=1)\n",
       "  )\n",
       "), Sequential(\n",
       "  (0): WeightDropout(\n",
       "    (module): LSTM(400, 1152, batch_first=True)\n",
       "  )\n",
       "  (1): RNNDropout()\n",
       "), Sequential(\n",
       "  (0): WeightDropout(\n",
       "    (module): LSTM(1152, 1152, batch_first=True)\n",
       "  )\n",
       "  (1): RNNDropout()\n",
       "), Sequential(\n",
       "  (0): WeightDropout(\n",
       "    (module): LSTM(1152, 400, batch_first=True)\n",
       "  )\n",
       "  (1): RNNDropout()\n",
       "), Sequential(\n",
       "  (0): PoolingLinearClassifier(\n",
       "    (layers): Sequential(\n",
       "      (0): BatchNorm1d(1200, eps=1e-05, momentum=0.1, affine=True, track_running_stats=True)\n",
       "      (1): Dropout(p=0.2)\n",
       "      (2): Linear(in_features=1200, out_features=50, bias=True)\n",
       "      (3): ReLU(inplace)\n",
       "      (4): BatchNorm1d(50, eps=1e-05, momentum=0.1, affine=True, track_running_stats=True)\n",
       "      (5): Dropout(p=0.1)\n",
       "      (6): Linear(in_features=50, out_features=119, bias=True)\n",
       "    )\n",
       "  )\n",
       ")], add_time=True, silent=None)"
      ]
     },
     "execution_count": 63,
     "metadata": {},
     "output_type": "execute_result"
    }
   ],
   "source": [
    "learn.load('first-prep')"
   ]
  },
  {
   "cell_type": "code",
   "execution_count": 64,
   "metadata": {
    "colab": {},
    "colab_type": "code",
    "id": "TdYFyLlkl69M"
   },
   "outputs": [],
   "source": [
    "learn.freeze_to(-2)"
   ]
  },
  {
   "cell_type": "code",
   "execution_count": 65,
   "metadata": {
    "colab": {
     "base_uri": "https://localhost:8080/",
     "height": 300
    },
    "colab_type": "code",
    "id": "pOwJWQYNzZ5L",
    "outputId": "bc50453b-db43-40f9-95f5-459eacc4b4bf"
   },
   "outputs": [
    {
     "data": {
      "text/html": [],
      "text/plain": [
       "<IPython.core.display.HTML object>"
      ]
     },
     "metadata": {},
     "output_type": "display_data"
    },
    {
     "name": "stdout",
     "output_type": "stream",
     "text": [
      "LR Finder is complete, type {learner_name}.recorder.plot() to see the graph.\n"
     ]
    },
    {
     "data": {
      "image/png": "[encoded data removed]",
      "text/plain": [
       "<Figure size 432x288 with 1 Axes>"
      ]
     },
     "metadata": {
      "needs_background": "light"
     },
     "output_type": "display_data"
    }
   ],
   "source": [
    "learn.lr_find()\n",
    "learn.recorder.plot()"
   ]
  },
  {
   "cell_type": "code",
   "execution_count": 67,
   "metadata": {
    "colab": {
     "base_uri": "https://localhost:8080/",
     "height": 126
    },
    "colab_type": "code",
    "id": "dMGZ4kn2zUm4",
    "outputId": "fdc1c8a9-6b83-41c4-b6f2-4ae2eb922072"
   },
   "outputs": [
    {
     "data": {
      "text/html": [
       "<table border=\"1\" class=\"dataframe\">\n",
       "  <thead>\n",
       "    <tr style=\"text-align: left;\">\n",
       "      <th>epoch</th>\n",
       "      <th>train_loss</th>\n",
       "      <th>valid_loss</th>\n",
       "      <th>accuracy_thresh</th>\n",
       "      <th>accuracy_thresh</th>\n",
       "      <th>my_prc</th>\n",
       "      <th>my_rec</th>\n",
       "      <th>fbeta</th>\n",
       "      <th>accuracy_thresh</th>\n",
       "      <th>my_prc</th>\n",
       "      <th>my_rec</th>\n",
       "      <th>fbeta</th>\n",
       "      <th>accuracy_thresh</th>\n",
       "      <th>my_prc</th>\n",
       "      <th>my_rec</th>\n",
       "      <th>fbeta</th>\n",
       "      <th>accuracy_thresh</th>\n",
       "      <th>my_prc</th>\n",
       "      <th>my_rec</th>\n",
       "      <th>fbeta</th>\n",
       "      <th>accuracy_thresh</th>\n",
       "      <th>my_prc</th>\n",
       "      <th>my_rec</th>\n",
       "      <th>fbeta</th>\n",
       "      <th>accuracy_thresh</th>\n",
       "      <th>my_prc</th>\n",
       "      <th>my_rec</th>\n",
       "      <th>fbeta</th>\n",
       "      <th>accuracy_thresh</th>\n",
       "      <th>my_prc</th>\n",
       "      <th>my_rec</th>\n",
       "      <th>fbeta</th>\n",
       "      <th>accuracy_thresh</th>\n",
       "      <th>my_prc</th>\n",
       "      <th>my_rec</th>\n",
       "      <th>fbeta</th>\n",
       "      <th>time</th>\n",
       "    </tr>\n",
       "  </thead>\n",
       "  <tbody>\n",
       "    <tr>\n",
       "      <td>0</td>\n",
       "      <td>0.023089</td>\n",
       "      <td>0.015211</td>\n",
       "      <td>0.995265</td>\n",
       "      <td>0.726891</td>\n",
       "      <td>0.878461</td>\n",
       "      <td>0.656663</td>\n",
       "      <td>0.102251</td>\n",
       "      <td>0.934324</td>\n",
       "      <td>0.878960</td>\n",
       "      <td>0.656663</td>\n",
       "      <td>0.407500</td>\n",
       "      <td>0.980817</td>\n",
       "      <td>0.883425</td>\n",
       "      <td>0.651054</td>\n",
       "      <td>0.629686</td>\n",
       "      <td>0.989283</td>\n",
       "      <td>0.889020</td>\n",
       "      <td>0.643349</td>\n",
       "      <td>0.710606</td>\n",
       "      <td>0.993696</td>\n",
       "      <td>0.896056</td>\n",
       "      <td>0.632712</td>\n",
       "      <td>0.759537</td>\n",
       "      <td>0.994932</td>\n",
       "      <td>0.903608</td>\n",
       "      <td>0.623272</td>\n",
       "      <td>0.760697</td>\n",
       "      <td>0.995228</td>\n",
       "      <td>0.914932</td>\n",
       "      <td>0.611084</td>\n",
       "      <td>0.735543</td>\n",
       "      <td>0.995265</td>\n",
       "      <td>0.921154</td>\n",
       "      <td>0.599480</td>\n",
       "      <td>0.703581</td>\n",
       "      <td>00:10</td>\n",
       "    </tr>\n",
       "    <tr>\n",
       "      <td>1</td>\n",
       "      <td>0.021024</td>\n",
       "      <td>0.014548</td>\n",
       "      <td>0.995439</td>\n",
       "      <td>0.729127</td>\n",
       "      <td>0.874142</td>\n",
       "      <td>0.681433</td>\n",
       "      <td>0.099466</td>\n",
       "      <td>0.936260</td>\n",
       "      <td>0.876189</td>\n",
       "      <td>0.680705</td>\n",
       "      <td>0.410221</td>\n",
       "      <td>0.981387</td>\n",
       "      <td>0.881905</td>\n",
       "      <td>0.677369</td>\n",
       "      <td>0.645453</td>\n",
       "      <td>0.989375</td>\n",
       "      <td>0.887164</td>\n",
       "      <td>0.670768</td>\n",
       "      <td>0.724003</td>\n",
       "      <td>0.993773</td>\n",
       "      <td>0.891778</td>\n",
       "      <td>0.658844</td>\n",
       "      <td>0.772637</td>\n",
       "      <td>0.995050</td>\n",
       "      <td>0.902630</td>\n",
       "      <td>0.649840</td>\n",
       "      <td>0.774597</td>\n",
       "      <td>0.995336</td>\n",
       "      <td>0.909603</td>\n",
       "      <td>0.634117</td>\n",
       "      <td>0.750186</td>\n",
       "      <td>0.995439</td>\n",
       "      <td>0.914763</td>\n",
       "      <td>0.625056</td>\n",
       "      <td>0.724299</td>\n",
       "      <td>00:10</td>\n",
       "    </tr>\n",
       "    <tr>\n",
       "      <td>2</td>\n",
       "      <td>0.018741</td>\n",
       "      <td>0.014140</td>\n",
       "      <td>0.995513</td>\n",
       "      <td>0.736294</td>\n",
       "      <td>0.871491</td>\n",
       "      <td>0.693310</td>\n",
       "      <td>0.099812</td>\n",
       "      <td>0.940310</td>\n",
       "      <td>0.872617</td>\n",
       "      <td>0.692555</td>\n",
       "      <td>0.420384</td>\n",
       "      <td>0.982486</td>\n",
       "      <td>0.876888</td>\n",
       "      <td>0.687949</td>\n",
       "      <td>0.663330</td>\n",
       "      <td>0.989831</td>\n",
       "      <td>0.879973</td>\n",
       "      <td>0.679303</td>\n",
       "      <td>0.735940</td>\n",
       "      <td>0.994059</td>\n",
       "      <td>0.890687</td>\n",
       "      <td>0.671146</td>\n",
       "      <td>0.783625</td>\n",
       "      <td>0.995117</td>\n",
       "      <td>0.898680</td>\n",
       "      <td>0.664000</td>\n",
       "      <td>0.779609</td>\n",
       "      <td>0.995428</td>\n",
       "      <td>0.904965</td>\n",
       "      <td>0.649588</td>\n",
       "      <td>0.758028</td>\n",
       "      <td>0.995513</td>\n",
       "      <td>0.911308</td>\n",
       "      <td>0.639809</td>\n",
       "      <td>0.732749</td>\n",
       "      <td>00:10</td>\n",
       "    </tr>\n",
       "    <tr>\n",
       "      <td>3</td>\n",
       "      <td>0.019579</td>\n",
       "      <td>0.013969</td>\n",
       "      <td>0.995565</td>\n",
       "      <td>0.747396</td>\n",
       "      <td>0.876872</td>\n",
       "      <td>0.691246</td>\n",
       "      <td>0.107707</td>\n",
       "      <td>0.941313</td>\n",
       "      <td>0.879032</td>\n",
       "      <td>0.690565</td>\n",
       "      <td>0.440886</td>\n",
       "      <td>0.982205</td>\n",
       "      <td>0.885264</td>\n",
       "      <td>0.687170</td>\n",
       "      <td>0.657414</td>\n",
       "      <td>0.989624</td>\n",
       "      <td>0.888756</td>\n",
       "      <td>0.681426</td>\n",
       "      <td>0.732647</td>\n",
       "      <td>0.993947</td>\n",
       "      <td>0.896470</td>\n",
       "      <td>0.668851</td>\n",
       "      <td>0.780974</td>\n",
       "      <td>0.995102</td>\n",
       "      <td>0.901962</td>\n",
       "      <td>0.658323</td>\n",
       "      <td>0.780668</td>\n",
       "      <td>0.995506</td>\n",
       "      <td>0.909229</td>\n",
       "      <td>0.650105</td>\n",
       "      <td>0.763051</td>\n",
       "      <td>0.995565</td>\n",
       "      <td>0.920546</td>\n",
       "      <td>0.639206</td>\n",
       "      <td>0.733490</td>\n",
       "      <td>00:10</td>\n",
       "    </tr>\n",
       "  </tbody>\n",
       "</table>"
      ],
      "text/plain": [
       "<IPython.core.display.HTML object>"
      ]
     },
     "metadata": {},
     "output_type": "display_data"
    }
   ],
   "source": [
    "learn.fit_one_cycle(4, slice(7e-4/(2.6**4),7e-4), moms=(0.8,0.7))"
   ]
  },
  {
   "cell_type": "code",
   "execution_count": 68,
   "metadata": {
    "colab": {},
    "colab_type": "code",
    "id": "kzbQqXfll7CT"
   },
   "outputs": [],
   "source": [
    "learn.save('second-prep')"
   ]
  },
  {
   "cell_type": "code",
   "execution_count": 69,
   "metadata": {
    "colab": {},
    "colab_type": "code",
    "id": "AvF4OP0Ml7AY"
   },
   "outputs": [
    {
     "data": {
      "text/plain": [
       "RNNLearner(data=TextClasDataBunch;\n",
       "\n",
       "Train: LabelList (9081 items)\n",
       "x: TextList\n",
       "xxbos fairfax tax half < date > medium group john fairfax ltd < xxunk > profit impact change tax system net edge pct mln dlr week end < date > year profit rise pct mln net increase company tax pct imposition tax fringe benefit pay employer company statement fairfax downturn revenue growth television industry reason half consider result view factor fairfax sydney morning herald age advertising volume review post performance magazine television cost pct rise revenue fairfax interest group receipt mln capital dividend < associate press pty ltd > xxunk sale xxunk b share reuter < rtrsl > account mln dlr profit fairfax predict result year increase borrowing mln dlr acquisition television station melbourne network channel sydney cost reuter,xxbos britoil plc < xxunk > yr p div p vs profit mln profit mln vs mln turnover mln debit mln vs operate profit mln vs debit rationalisation programme mln vs petroleum revenue taxis mln vs mln corporation tax mln vs effect accounting change tax profit mln stg retain year increase mln debit mln stg relate decision buyer company asset reuter,xxbos embargo release gmt xxunk < date > * feb unemployment fall mln pctofficial,xxbos * unit wage labour cost rise month end xxunk blah,xxbos * average rise pct rise blah\n",
       "y: MultiCategoryList\n",
       "35,35,114,10,10\n",
       "Path: .;\n",
       "\n",
       "Valid: LabelList (2270 items)\n",
       "x: TextList\n",
       "xxbos investment firm < xxunk > stake washington < date > two investment firm investment fund control raise stake xxunk corp share total share pct file security exchange commission fidelity bermudabase firm fund buy share price range dlrs share fund control corp bostonbase investment firm affiliate fidelity share combine share fidelity reuter,xxbos xxunk profit help france < date > automobile xxunk rise sale car help profit year recovery year loss president jacque xxunk reporter weekend trial xxunk sport model forecast show improvement compare xxunk sa < xxunk > group increase share car market month year pct share year pct firm target raise share market france year pct problem produce vehicle meet demand xxunk problem xxup -pron- xxunk franc deficit mln help modernise range productivity xxunk indicate december xxunk profit franc weekend profit estimate optimism success xxunk market october europe month car register sale xxunk plant bois xxunk xxunk spain production target level car day car xxunk market model xxunk xxunk visa design compete renault volkswagen xxunk xxunk xxunk market share france pct month xxunk market reuter,xxbos japan gnp rise pct march tokyo < date > japan product gnp rise pct march quarter increase month planning agency december rise year end last < date > gnp rise pct increase year performance gnp contract government revise pct forecast economist yen slowdown growth demand increase pct march quarter pct year compare growth october < date > pct growth rate march quarter pct december term gnp rise pct march pct rise reflect price demand contribute percentage point gnp growth march trade point december demand point trade point contribution trade gnp quarter rise export account point fall import contribute export volume rise pct xxunk march import fall pct point contribution demand march gnp growth sector account sector knock sector contribution point capital consumer spending destocke point demand contribute percentage point growth trade knock point demand contribution trade point reuter,xxbos < xxunk > payout oak brook ill < date > freedom bank vote cash dividend cts share dividend cts share reuter,xxbos growth year basle switzerland < date > growth economy pct year pct year accord study group university institute blame slowdown outlook export cause dollar export year pct group demand pct year pct picture study investment plant equipment motor growth demand grow fast year pct rise year pct growth consumption fall year pct year consumption spending pct year consumer price rise year pct unemployment fall pct year pct reuter\n",
       "y: MultiCategoryList\n",
       "77,35,79,35,75;79;114;117\n",
       "Path: .;\n",
       "\n",
       "Test: None, model=SequentialRNN(\n",
       "  (0): MultiBatchEncoder(\n",
       "    (module): AWD_LSTM(\n",
       "      (encoder): Embedding(8336, 400, padding_idx=1)\n",
       "      (encoder_dp): EmbeddingDropout(\n",
       "        (emb): Embedding(8336, 400, padding_idx=1)\n",
       "      )\n",
       "      (rnns): ModuleList(\n",
       "        (0): WeightDropout(\n",
       "          (module): LSTM(400, 1152, batch_first=True)\n",
       "        )\n",
       "        (1): WeightDropout(\n",
       "          (module): LSTM(1152, 1152, batch_first=True)\n",
       "        )\n",
       "        (2): WeightDropout(\n",
       "          (module): LSTM(1152, 400, batch_first=True)\n",
       "        )\n",
       "      )\n",
       "      (input_dp): RNNDropout()\n",
       "      (hidden_dps): ModuleList(\n",
       "        (0): RNNDropout()\n",
       "        (1): RNNDropout()\n",
       "        (2): RNNDropout()\n",
       "      )\n",
       "    )\n",
       "  )\n",
       "  (1): PoolingLinearClassifier(\n",
       "    (layers): Sequential(\n",
       "      (0): BatchNorm1d(1200, eps=1e-05, momentum=0.1, affine=True, track_running_stats=True)\n",
       "      (1): Dropout(p=0.2)\n",
       "      (2): Linear(in_features=1200, out_features=50, bias=True)\n",
       "      (3): ReLU(inplace)\n",
       "      (4): BatchNorm1d(50, eps=1e-05, momentum=0.1, affine=True, track_running_stats=True)\n",
       "      (5): Dropout(p=0.1)\n",
       "      (6): Linear(in_features=50, out_features=119, bias=True)\n",
       "    )\n",
       "  )\n",
       "), opt_func=functools.partial(<class 'torch.optim.adam.Adam'>, betas=(0.9, 0.99)), loss_func=FlattenedLoss of BCEWithLogitsLoss(), metrics=[<function accuracy_thresh at 0x7fbadeee9bf8>, functools.partial(<function accuracy_thresh at 0x7fbadeee9bf8>, thresh=0.001), functools.partial(<function my_prc at 0x7fba8fd342f0>, thresh=0.001), functools.partial(<function my_rec at 0x7fba8fd341e0>, thresh=0.001), functools.partial(<function fbeta at 0x7fbb313a7d08>, thresh=0.001, beta=1), functools.partial(<function accuracy_thresh at 0x7fbadeee9bf8>, thresh=0.01), functools.partial(<function my_prc at 0x7fba8fd342f0>, thresh=0.01), functools.partial(<function my_rec at 0x7fba8fd341e0>, thresh=0.01), functools.partial(<function fbeta at 0x7fbb313a7d08>, thresh=0.01, beta=1), functools.partial(<function accuracy_thresh at 0x7fbadeee9bf8>, thresh=0.05), functools.partial(<function my_prc at 0x7fba8fd342f0>, thresh=0.05), functools.partial(<function my_rec at 0x7fba8fd341e0>, thresh=0.05), functools.partial(<function fbeta at 0x7fbb313a7d08>, thresh=0.05, beta=1), functools.partial(<function accuracy_thresh at 0x7fbadeee9bf8>, thresh=0.1), functools.partial(<function my_prc at 0x7fba8fd342f0>, thresh=0.1), functools.partial(<function my_rec at 0x7fba8fd341e0>, thresh=0.1), functools.partial(<function fbeta at 0x7fbb313a7d08>, thresh=0.1, beta=1), functools.partial(<function accuracy_thresh at 0x7fbadeee9bf8>, thresh=0.2), functools.partial(<function my_prc at 0x7fba8fd342f0>, thresh=0.2), functools.partial(<function my_rec at 0x7fba8fd341e0>, thresh=0.2), functools.partial(<function fbeta at 0x7fbb313a7d08>, thresh=0.2, beta=1), functools.partial(<function accuracy_thresh at 0x7fbadeee9bf8>, thresh=0.3), functools.partial(<function my_prc at 0x7fba8fd342f0>, thresh=0.3), functools.partial(<function my_rec at 0x7fba8fd341e0>, thresh=0.3), functools.partial(<function fbeta at 0x7fbb313a7d08>, thresh=0.3, beta=1), functools.partial(<function accuracy_thresh at 0x7fbadeee9bf8>, thresh=0.4), functools.partial(<function my_prc at 0x7fba8fd342f0>, thresh=0.4), functools.partial(<function my_rec at 0x7fba8fd341e0>, thresh=0.4), functools.partial(<function fbeta at 0x7fbb313a7d08>, thresh=0.4, beta=1), functools.partial(<function accuracy_thresh at 0x7fbadeee9bf8>, thresh=0.5), functools.partial(<function my_prc at 0x7fba8fd342f0>, thresh=0.5), functools.partial(<function my_rec at 0x7fba8fd341e0>, thresh=0.5), functools.partial(<function fbeta at 0x7fbb313a7d08>, thresh=0.5, beta=1)], true_wd=True, bn_wd=True, wd=0.1, train_bn=True, path=PosixPath('.'), model_dir='models', callback_fns=[functools.partial(<class 'fastai.basic_train.Recorder'>, add_time=True, silent=False)], callbacks=[RNNTrainer\n",
       "learn: ...\n",
       "alpha: 2.0\n",
       "beta: 1.0], layer_groups=[Sequential(\n",
       "  (0): Embedding(8336, 400, padding_idx=1)\n",
       "  (1): EmbeddingDropout(\n",
       "    (emb): Embedding(8336, 400, padding_idx=1)\n",
       "  )\n",
       "), Sequential(\n",
       "  (0): WeightDropout(\n",
       "    (module): LSTM(400, 1152, batch_first=True)\n",
       "  )\n",
       "  (1): RNNDropout()\n",
       "), Sequential(\n",
       "  (0): WeightDropout(\n",
       "    (module): LSTM(1152, 1152, batch_first=True)\n",
       "  )\n",
       "  (1): RNNDropout()\n",
       "), Sequential(\n",
       "  (0): WeightDropout(\n",
       "    (module): LSTM(1152, 400, batch_first=True)\n",
       "  )\n",
       "  (1): RNNDropout()\n",
       "), Sequential(\n",
       "  (0): PoolingLinearClassifier(\n",
       "    (layers): Sequential(\n",
       "      (0): BatchNorm1d(1200, eps=1e-05, momentum=0.1, affine=True, track_running_stats=True)\n",
       "      (1): Dropout(p=0.2)\n",
       "      (2): Linear(in_features=1200, out_features=50, bias=True)\n",
       "      (3): ReLU(inplace)\n",
       "      (4): BatchNorm1d(50, eps=1e-05, momentum=0.1, affine=True, track_running_stats=True)\n",
       "      (5): Dropout(p=0.1)\n",
       "      (6): Linear(in_features=50, out_features=119, bias=True)\n",
       "    )\n",
       "  )\n",
       ")], add_time=True, silent=None)"
      ]
     },
     "execution_count": 69,
     "metadata": {},
     "output_type": "execute_result"
    }
   ],
   "source": [
    "learn.load('second-prep')"
   ]
  },
  {
   "cell_type": "code",
   "execution_count": 70,
   "metadata": {},
   "outputs": [
    {
     "data": {
      "text/html": [],
      "text/plain": [
       "<IPython.core.display.HTML object>"
      ]
     },
     "metadata": {},
     "output_type": "display_data"
    },
    {
     "name": "stdout",
     "output_type": "stream",
     "text": [
      "LR Finder is complete, type {learner_name}.recorder.plot() to see the graph.\n"
     ]
    },
    {
     "data": {
      "image/png": "[encoded data removed]",
      "text/plain": [
       "<Figure size 432x288 with 1 Axes>"
      ]
     },
     "metadata": {
      "needs_background": "light"
     },
     "output_type": "display_data"
    }
   ],
   "source": [
    "learn.lr_find()\n",
    "learn.recorder.plot()"
   ]
  },
  {
   "cell_type": "code",
   "execution_count": 71,
   "metadata": {},
   "outputs": [
    {
     "data": {
      "text/html": [
       "<table border=\"1\" class=\"dataframe\">\n",
       "  <thead>\n",
       "    <tr style=\"text-align: left;\">\n",
       "      <th>epoch</th>\n",
       "      <th>train_loss</th>\n",
       "      <th>valid_loss</th>\n",
       "      <th>accuracy_thresh</th>\n",
       "      <th>accuracy_thresh</th>\n",
       "      <th>my_prc</th>\n",
       "      <th>my_rec</th>\n",
       "      <th>fbeta</th>\n",
       "      <th>accuracy_thresh</th>\n",
       "      <th>my_prc</th>\n",
       "      <th>my_rec</th>\n",
       "      <th>fbeta</th>\n",
       "      <th>accuracy_thresh</th>\n",
       "      <th>my_prc</th>\n",
       "      <th>my_rec</th>\n",
       "      <th>fbeta</th>\n",
       "      <th>accuracy_thresh</th>\n",
       "      <th>my_prc</th>\n",
       "      <th>my_rec</th>\n",
       "      <th>fbeta</th>\n",
       "      <th>accuracy_thresh</th>\n",
       "      <th>my_prc</th>\n",
       "      <th>my_rec</th>\n",
       "      <th>fbeta</th>\n",
       "      <th>accuracy_thresh</th>\n",
       "      <th>my_prc</th>\n",
       "      <th>my_rec</th>\n",
       "      <th>fbeta</th>\n",
       "      <th>accuracy_thresh</th>\n",
       "      <th>my_prc</th>\n",
       "      <th>my_rec</th>\n",
       "      <th>fbeta</th>\n",
       "      <th>accuracy_thresh</th>\n",
       "      <th>my_prc</th>\n",
       "      <th>my_rec</th>\n",
       "      <th>fbeta</th>\n",
       "      <th>time</th>\n",
       "    </tr>\n",
       "  </thead>\n",
       "  <tbody>\n",
       "    <tr>\n",
       "      <td>0</td>\n",
       "      <td>0.021039</td>\n",
       "      <td>0.014302</td>\n",
       "      <td>0.995565</td>\n",
       "      <td>0.752582</td>\n",
       "      <td>0.888903</td>\n",
       "      <td>0.682655</td>\n",
       "      <td>0.112745</td>\n",
       "      <td>0.944856</td>\n",
       "      <td>0.889028</td>\n",
       "      <td>0.681104</td>\n",
       "      <td>0.448522</td>\n",
       "      <td>0.984223</td>\n",
       "      <td>0.894123</td>\n",
       "      <td>0.676277</td>\n",
       "      <td>0.673293</td>\n",
       "      <td>0.990501</td>\n",
       "      <td>0.896490</td>\n",
       "      <td>0.672134</td>\n",
       "      <td>0.747924</td>\n",
       "      <td>0.994184</td>\n",
       "      <td>0.909117</td>\n",
       "      <td>0.661270</td>\n",
       "      <td>0.784897</td>\n",
       "      <td>0.995243</td>\n",
       "      <td>0.913535</td>\n",
       "      <td>0.651522</td>\n",
       "      <td>0.783995</td>\n",
       "      <td>0.995558</td>\n",
       "      <td>0.920036</td>\n",
       "      <td>0.642403</td>\n",
       "      <td>0.766516</td>\n",
       "      <td>0.995565</td>\n",
       "      <td>0.929006</td>\n",
       "      <td>0.629664</td>\n",
       "      <td>0.738816</td>\n",
       "      <td>00:10</td>\n",
       "    </tr>\n",
       "    <tr>\n",
       "      <td>1</td>\n",
       "      <td>0.018670</td>\n",
       "      <td>0.012487</td>\n",
       "      <td>0.995939</td>\n",
       "      <td>0.803302</td>\n",
       "      <td>0.871759</td>\n",
       "      <td>0.739531</td>\n",
       "      <td>0.155156</td>\n",
       "      <td>0.959457</td>\n",
       "      <td>0.871646</td>\n",
       "      <td>0.738844</td>\n",
       "      <td>0.525036</td>\n",
       "      <td>0.987480</td>\n",
       "      <td>0.875694</td>\n",
       "      <td>0.736080</td>\n",
       "      <td>0.732031</td>\n",
       "      <td>0.992122</td>\n",
       "      <td>0.880172</td>\n",
       "      <td>0.731634</td>\n",
       "      <td>0.782230</td>\n",
       "      <td>0.994788</td>\n",
       "      <td>0.883344</td>\n",
       "      <td>0.722698</td>\n",
       "      <td>0.812013</td>\n",
       "      <td>0.995573</td>\n",
       "      <td>0.889186</td>\n",
       "      <td>0.713986</td>\n",
       "      <td>0.813473</td>\n",
       "      <td>0.995858</td>\n",
       "      <td>0.893540</td>\n",
       "      <td>0.706600</td>\n",
       "      <td>0.796549</td>\n",
       "      <td>0.995939</td>\n",
       "      <td>0.902874</td>\n",
       "      <td>0.699201</td>\n",
       "      <td>0.775376</td>\n",
       "      <td>00:10</td>\n",
       "    </tr>\n",
       "    <tr>\n",
       "      <td>2</td>\n",
       "      <td>0.017159</td>\n",
       "      <td>0.011081</td>\n",
       "      <td>0.996316</td>\n",
       "      <td>0.823500</td>\n",
       "      <td>0.891548</td>\n",
       "      <td>0.759971</td>\n",
       "      <td>0.165211</td>\n",
       "      <td>0.962270</td>\n",
       "      <td>0.891372</td>\n",
       "      <td>0.758518</td>\n",
       "      <td>0.559481</td>\n",
       "      <td>0.987521</td>\n",
       "      <td>0.893168</td>\n",
       "      <td>0.755287</td>\n",
       "      <td>0.741398</td>\n",
       "      <td>0.992470</td>\n",
       "      <td>0.894740</td>\n",
       "      <td>0.752062</td>\n",
       "      <td>0.800885</td>\n",
       "      <td>0.995317</td>\n",
       "      <td>0.902945</td>\n",
       "      <td>0.742403</td>\n",
       "      <td>0.833707</td>\n",
       "      <td>0.996117</td>\n",
       "      <td>0.912457</td>\n",
       "      <td>0.732373</td>\n",
       "      <td>0.836663</td>\n",
       "      <td>0.996372</td>\n",
       "      <td>0.922235</td>\n",
       "      <td>0.723498</td>\n",
       "      <td>0.828252</td>\n",
       "      <td>0.996316</td>\n",
       "      <td>0.926049</td>\n",
       "      <td>0.714425</td>\n",
       "      <td>0.803211</td>\n",
       "      <td>00:11</td>\n",
       "    </tr>\n",
       "  </tbody>\n",
       "</table>"
      ],
      "text/plain": [
       "<IPython.core.display.HTML object>"
      ]
     },
     "metadata": {},
     "output_type": "display_data"
    }
   ],
   "source": [
    "learn.fit_one_cycle(3, slice(1e-2/(2.6**4),1e-2), moms=(0.8,0.7))"
   ]
  },
  {
   "cell_type": "code",
   "execution_count": 72,
   "metadata": {
    "colab": {},
    "colab_type": "code",
    "id": "wIdm-jGQl6wV"
   },
   "outputs": [],
   "source": [
    "learn.freeze_to(-3)"
   ]
  },
  {
   "cell_type": "code",
   "execution_count": 73,
   "metadata": {
    "colab": {},
    "colab_type": "code",
    "id": "G6S95Yyczw98"
   },
   "outputs": [
    {
     "data": {
      "text/html": [],
      "text/plain": [
       "<IPython.core.display.HTML object>"
      ]
     },
     "metadata": {},
     "output_type": "display_data"
    },
    {
     "name": "stdout",
     "output_type": "stream",
     "text": [
      "LR Finder is complete, type {learner_name}.recorder.plot() to see the graph.\n"
     ]
    },
    {
     "data": {
      "image/png": "[encoded data removed]",
      "text/plain": [
       "<Figure size 432x288 with 1 Axes>"
      ]
     },
     "metadata": {
      "needs_background": "light"
     },
     "output_type": "display_data"
    }
   ],
   "source": [
    "learn.lr_find()\n",
    "learn.recorder.plot()"
   ]
  },
  {
   "cell_type": "code",
   "execution_count": 74,
   "metadata": {
    "colab": {},
    "colab_type": "code",
    "id": "saqmt2ujzxLf"
   },
   "outputs": [
    {
     "data": {
      "text/html": [
       "<table border=\"1\" class=\"dataframe\">\n",
       "  <thead>\n",
       "    <tr style=\"text-align: left;\">\n",
       "      <th>epoch</th>\n",
       "      <th>train_loss</th>\n",
       "      <th>valid_loss</th>\n",
       "      <th>accuracy_thresh</th>\n",
       "      <th>accuracy_thresh</th>\n",
       "      <th>my_prc</th>\n",
       "      <th>my_rec</th>\n",
       "      <th>fbeta</th>\n",
       "      <th>accuracy_thresh</th>\n",
       "      <th>my_prc</th>\n",
       "      <th>my_rec</th>\n",
       "      <th>fbeta</th>\n",
       "      <th>accuracy_thresh</th>\n",
       "      <th>my_prc</th>\n",
       "      <th>my_rec</th>\n",
       "      <th>fbeta</th>\n",
       "      <th>accuracy_thresh</th>\n",
       "      <th>my_prc</th>\n",
       "      <th>my_rec</th>\n",
       "      <th>fbeta</th>\n",
       "      <th>accuracy_thresh</th>\n",
       "      <th>my_prc</th>\n",
       "      <th>my_rec</th>\n",
       "      <th>fbeta</th>\n",
       "      <th>accuracy_thresh</th>\n",
       "      <th>my_prc</th>\n",
       "      <th>my_rec</th>\n",
       "      <th>fbeta</th>\n",
       "      <th>accuracy_thresh</th>\n",
       "      <th>my_prc</th>\n",
       "      <th>my_rec</th>\n",
       "      <th>fbeta</th>\n",
       "      <th>accuracy_thresh</th>\n",
       "      <th>my_prc</th>\n",
       "      <th>my_rec</th>\n",
       "      <th>fbeta</th>\n",
       "      <th>time</th>\n",
       "    </tr>\n",
       "  </thead>\n",
       "  <tbody>\n",
       "    <tr>\n",
       "      <td>0</td>\n",
       "      <td>0.016504</td>\n",
       "      <td>0.011197</td>\n",
       "      <td>0.996331</td>\n",
       "      <td>0.821527</td>\n",
       "      <td>0.899252</td>\n",
       "      <td>0.753492</td>\n",
       "      <td>0.171861</td>\n",
       "      <td>0.960445</td>\n",
       "      <td>0.899525</td>\n",
       "      <td>0.753078</td>\n",
       "      <td>0.559187</td>\n",
       "      <td>0.986980</td>\n",
       "      <td>0.900016</td>\n",
       "      <td>0.748686</td>\n",
       "      <td>0.733943</td>\n",
       "      <td>0.992182</td>\n",
       "      <td>0.904879</td>\n",
       "      <td>0.743764</td>\n",
       "      <td>0.793161</td>\n",
       "      <td>0.995336</td>\n",
       "      <td>0.913719</td>\n",
       "      <td>0.733609</td>\n",
       "      <td>0.829907</td>\n",
       "      <td>0.996061</td>\n",
       "      <td>0.919876</td>\n",
       "      <td>0.727403</td>\n",
       "      <td>0.831673</td>\n",
       "      <td>0.996369</td>\n",
       "      <td>0.930040</td>\n",
       "      <td>0.717151</td>\n",
       "      <td>0.818857</td>\n",
       "      <td>0.996331</td>\n",
       "      <td>0.934447</td>\n",
       "      <td>0.702698</td>\n",
       "      <td>0.797714</td>\n",
       "      <td>00:16</td>\n",
       "    </tr>\n",
       "    <tr>\n",
       "      <td>1</td>\n",
       "      <td>0.015485</td>\n",
       "      <td>0.011187</td>\n",
       "      <td>0.996339</td>\n",
       "      <td>0.816955</td>\n",
       "      <td>0.888971</td>\n",
       "      <td>0.764956</td>\n",
       "      <td>0.161061</td>\n",
       "      <td>0.960330</td>\n",
       "      <td>0.888861</td>\n",
       "      <td>0.764275</td>\n",
       "      <td>0.546745</td>\n",
       "      <td>0.986866</td>\n",
       "      <td>0.891129</td>\n",
       "      <td>0.761652</td>\n",
       "      <td>0.735705</td>\n",
       "      <td>0.991963</td>\n",
       "      <td>0.895781</td>\n",
       "      <td>0.758335</td>\n",
       "      <td>0.792515</td>\n",
       "      <td>0.995184</td>\n",
       "      <td>0.901117</td>\n",
       "      <td>0.746290</td>\n",
       "      <td>0.831320</td>\n",
       "      <td>0.996006</td>\n",
       "      <td>0.905552</td>\n",
       "      <td>0.735790</td>\n",
       "      <td>0.833687</td>\n",
       "      <td>0.996361</td>\n",
       "      <td>0.912297</td>\n",
       "      <td>0.726504</td>\n",
       "      <td>0.826005</td>\n",
       "      <td>0.996339</td>\n",
       "      <td>0.918260</td>\n",
       "      <td>0.718888</td>\n",
       "      <td>0.804829</td>\n",
       "      <td>00:16</td>\n",
       "    </tr>\n",
       "    <tr>\n",
       "      <td>2</td>\n",
       "      <td>0.015845</td>\n",
       "      <td>0.011133</td>\n",
       "      <td>0.996320</td>\n",
       "      <td>0.824895</td>\n",
       "      <td>0.883510</td>\n",
       "      <td>0.768824</td>\n",
       "      <td>0.166467</td>\n",
       "      <td>0.961485</td>\n",
       "      <td>0.884605</td>\n",
       "      <td>0.767039</td>\n",
       "      <td>0.555419</td>\n",
       "      <td>0.987114</td>\n",
       "      <td>0.887137</td>\n",
       "      <td>0.764229</td>\n",
       "      <td>0.738812</td>\n",
       "      <td>0.992108</td>\n",
       "      <td>0.891310</td>\n",
       "      <td>0.758090</td>\n",
       "      <td>0.797697</td>\n",
       "      <td>0.995151</td>\n",
       "      <td>0.898578</td>\n",
       "      <td>0.748639</td>\n",
       "      <td>0.830483</td>\n",
       "      <td>0.995961</td>\n",
       "      <td>0.902723</td>\n",
       "      <td>0.738138</td>\n",
       "      <td>0.833325</td>\n",
       "      <td>0.996368</td>\n",
       "      <td>0.907222</td>\n",
       "      <td>0.729954</td>\n",
       "      <td>0.829649</td>\n",
       "      <td>0.996320</td>\n",
       "      <td>0.912847</td>\n",
       "      <td>0.722301</td>\n",
       "      <td>0.806523</td>\n",
       "      <td>00:15</td>\n",
       "    </tr>\n",
       "    <tr>\n",
       "      <td>3</td>\n",
       "      <td>0.014804</td>\n",
       "      <td>0.011165</td>\n",
       "      <td>0.996339</td>\n",
       "      <td>0.812975</td>\n",
       "      <td>0.890255</td>\n",
       "      <td>0.763613</td>\n",
       "      <td>0.156989</td>\n",
       "      <td>0.959893</td>\n",
       "      <td>0.890373</td>\n",
       "      <td>0.761324</td>\n",
       "      <td>0.548765</td>\n",
       "      <td>0.986929</td>\n",
       "      <td>0.892325</td>\n",
       "      <td>0.757983</td>\n",
       "      <td>0.734602</td>\n",
       "      <td>0.992104</td>\n",
       "      <td>0.894826</td>\n",
       "      <td>0.754420</td>\n",
       "      <td>0.795005</td>\n",
       "      <td>0.995243</td>\n",
       "      <td>0.900996</td>\n",
       "      <td>0.743432</td>\n",
       "      <td>0.831704</td>\n",
       "      <td>0.996065</td>\n",
       "      <td>0.907526</td>\n",
       "      <td>0.735673</td>\n",
       "      <td>0.833434</td>\n",
       "      <td>0.996398</td>\n",
       "      <td>0.913732</td>\n",
       "      <td>0.725024</td>\n",
       "      <td>0.828761</td>\n",
       "      <td>0.996339</td>\n",
       "      <td>0.919937</td>\n",
       "      <td>0.713372</td>\n",
       "      <td>0.803493</td>\n",
       "      <td>00:16</td>\n",
       "    </tr>\n",
       "    <tr>\n",
       "      <td>4</td>\n",
       "      <td>0.015817</td>\n",
       "      <td>0.011072</td>\n",
       "      <td>0.996320</td>\n",
       "      <td>0.827805</td>\n",
       "      <td>0.882818</td>\n",
       "      <td>0.769675</td>\n",
       "      <td>0.174685</td>\n",
       "      <td>0.961478</td>\n",
       "      <td>0.883683</td>\n",
       "      <td>0.769304</td>\n",
       "      <td>0.563128</td>\n",
       "      <td>0.986899</td>\n",
       "      <td>0.886029</td>\n",
       "      <td>0.765579</td>\n",
       "      <td>0.738401</td>\n",
       "      <td>0.992015</td>\n",
       "      <td>0.889607</td>\n",
       "      <td>0.762158</td>\n",
       "      <td>0.796347</td>\n",
       "      <td>0.995158</td>\n",
       "      <td>0.896183</td>\n",
       "      <td>0.753358</td>\n",
       "      <td>0.831745</td>\n",
       "      <td>0.995965</td>\n",
       "      <td>0.904230</td>\n",
       "      <td>0.743200</td>\n",
       "      <td>0.834792</td>\n",
       "      <td>0.996365</td>\n",
       "      <td>0.910851</td>\n",
       "      <td>0.733547</td>\n",
       "      <td>0.832139</td>\n",
       "      <td>0.996320</td>\n",
       "      <td>0.917111</td>\n",
       "      <td>0.724547</td>\n",
       "      <td>0.806157</td>\n",
       "      <td>00:13</td>\n",
       "    </tr>\n",
       "  </tbody>\n",
       "</table>"
      ],
      "text/plain": [
       "<IPython.core.display.HTML object>"
      ]
     },
     "metadata": {},
     "output_type": "display_data"
    }
   ],
   "source": [
    "learn.fit_one_cycle(5, slice(1e-5/(2.6**4),1e-5), moms=(0.8,0.7))"
   ]
  },
  {
   "cell_type": "markdown",
   "metadata": {
    "colab_type": "text",
    "id": "_nTxCsG_9qpc"
   },
   "source": []
  },
  {
   "cell_type": "code",
   "execution_count": 75,
   "metadata": {
    "colab": {},
    "colab_type": "code",
    "id": "RE0TtGjRmPKC"
   },
   "outputs": [],
   "source": [
    "learn.save('third-prep')"
   ]
  },
  {
   "cell_type": "code",
   "execution_count": 76,
   "metadata": {
    "colab": {},
    "colab_type": "code",
    "id": "LC6BWsAnmPNY"
   },
   "outputs": [],
   "source": [
    "learn.load('third-prep');"
   ]
  },
  {
   "cell_type": "code",
   "execution_count": 77,
   "metadata": {
    "colab": {},
    "colab_type": "code",
    "id": "GUKluTG6mPQo"
   },
   "outputs": [],
   "source": [
    "learn.unfreeze()"
   ]
  },
  {
   "cell_type": "code",
   "execution_count": 78,
   "metadata": {
    "colab": {},
    "colab_type": "code",
    "id": "H6x85WK80lCW"
   },
   "outputs": [
    {
     "data": {
      "text/html": [],
      "text/plain": [
       "<IPython.core.display.HTML object>"
      ]
     },
     "metadata": {},
     "output_type": "display_data"
    },
    {
     "name": "stdout",
     "output_type": "stream",
     "text": [
      "LR Finder is complete, type {learner_name}.recorder.plot() to see the graph.\n"
     ]
    },
    {
     "data": {
      "image/png": "[encoded data removed]",
      "text/plain": [
       "<Figure size 432x288 with 1 Axes>"
      ]
     },
     "metadata": {
      "needs_background": "light"
     },
     "output_type": "display_data"
    }
   ],
   "source": [
    "learn.lr_find()\n",
    "learn.recorder.plot()"
   ]
  },
  {
   "cell_type": "code",
   "execution_count": 82,
   "metadata": {
    "colab": {},
    "colab_type": "code",
    "id": "SvuUa_8d0lX1",
    "scrolled": true
   },
   "outputs": [
    {
     "data": {
      "text/html": [
       "<table border=\"1\" class=\"dataframe\">\n",
       "  <thead>\n",
       "    <tr style=\"text-align: left;\">\n",
       "      <th>epoch</th>\n",
       "      <th>train_loss</th>\n",
       "      <th>valid_loss</th>\n",
       "      <th>accuracy_thresh</th>\n",
       "      <th>accuracy_thresh</th>\n",
       "      <th>my_prc</th>\n",
       "      <th>my_rec</th>\n",
       "      <th>fbeta</th>\n",
       "      <th>accuracy_thresh</th>\n",
       "      <th>my_prc</th>\n",
       "      <th>my_rec</th>\n",
       "      <th>fbeta</th>\n",
       "      <th>accuracy_thresh</th>\n",
       "      <th>my_prc</th>\n",
       "      <th>my_rec</th>\n",
       "      <th>fbeta</th>\n",
       "      <th>accuracy_thresh</th>\n",
       "      <th>my_prc</th>\n",
       "      <th>my_rec</th>\n",
       "      <th>fbeta</th>\n",
       "      <th>accuracy_thresh</th>\n",
       "      <th>my_prc</th>\n",
       "      <th>my_rec</th>\n",
       "      <th>fbeta</th>\n",
       "      <th>accuracy_thresh</th>\n",
       "      <th>my_prc</th>\n",
       "      <th>my_rec</th>\n",
       "      <th>fbeta</th>\n",
       "      <th>accuracy_thresh</th>\n",
       "      <th>my_prc</th>\n",
       "      <th>my_rec</th>\n",
       "      <th>fbeta</th>\n",
       "      <th>accuracy_thresh</th>\n",
       "      <th>my_prc</th>\n",
       "      <th>my_rec</th>\n",
       "      <th>fbeta</th>\n",
       "      <th>time</th>\n",
       "    </tr>\n",
       "  </thead>\n",
       "  <tbody>\n",
       "    <tr>\n",
       "      <td>0</td>\n",
       "      <td>0.015847</td>\n",
       "      <td>0.010896</td>\n",
       "      <td>0.996457</td>\n",
       "      <td>0.825854</td>\n",
       "      <td>0.893761</td>\n",
       "      <td>0.772534</td>\n",
       "      <td>0.171735</td>\n",
       "      <td>0.961989</td>\n",
       "      <td>0.893640</td>\n",
       "      <td>0.771330</td>\n",
       "      <td>0.561340</td>\n",
       "      <td>0.987291</td>\n",
       "      <td>0.896675</td>\n",
       "      <td>0.766490</td>\n",
       "      <td>0.742017</td>\n",
       "      <td>0.992241</td>\n",
       "      <td>0.898308</td>\n",
       "      <td>0.762887</td>\n",
       "      <td>0.800830</td>\n",
       "      <td>0.995236</td>\n",
       "      <td>0.902933</td>\n",
       "      <td>0.752167</td>\n",
       "      <td>0.832851</td>\n",
       "      <td>0.996076</td>\n",
       "      <td>0.908092</td>\n",
       "      <td>0.741757</td>\n",
       "      <td>0.839097</td>\n",
       "      <td>0.996465</td>\n",
       "      <td>0.917380</td>\n",
       "      <td>0.733239</td>\n",
       "      <td>0.833305</td>\n",
       "      <td>0.996457</td>\n",
       "      <td>0.923803</td>\n",
       "      <td>0.724104</td>\n",
       "      <td>0.812442</td>\n",
       "      <td>00:16</td>\n",
       "    </tr>\n",
       "    <tr>\n",
       "      <td>1</td>\n",
       "      <td>0.014799</td>\n",
       "      <td>0.010390</td>\n",
       "      <td>0.996635</td>\n",
       "      <td>0.824981</td>\n",
       "      <td>0.900997</td>\n",
       "      <td>0.783607</td>\n",
       "      <td>0.168776</td>\n",
       "      <td>0.963325</td>\n",
       "      <td>0.901978</td>\n",
       "      <td>0.782988</td>\n",
       "      <td>0.570756</td>\n",
       "      <td>0.987917</td>\n",
       "      <td>0.903622</td>\n",
       "      <td>0.777435</td>\n",
       "      <td>0.754170</td>\n",
       "      <td>0.992733</td>\n",
       "      <td>0.905808</td>\n",
       "      <td>0.771832</td>\n",
       "      <td>0.811319</td>\n",
       "      <td>0.995524</td>\n",
       "      <td>0.912638</td>\n",
       "      <td>0.763331</td>\n",
       "      <td>0.845323</td>\n",
       "      <td>0.996316</td>\n",
       "      <td>0.919640</td>\n",
       "      <td>0.754651</td>\n",
       "      <td>0.849181</td>\n",
       "      <td>0.996661</td>\n",
       "      <td>0.925316</td>\n",
       "      <td>0.745283</td>\n",
       "      <td>0.842233</td>\n",
       "      <td>0.996635</td>\n",
       "      <td>0.929761</td>\n",
       "      <td>0.732499</td>\n",
       "      <td>0.824301</td>\n",
       "      <td>00:20</td>\n",
       "    </tr>\n",
       "    <tr>\n",
       "      <td>2</td>\n",
       "      <td>0.013398</td>\n",
       "      <td>0.009938</td>\n",
       "      <td>0.996739</td>\n",
       "      <td>0.851968</td>\n",
       "      <td>0.902748</td>\n",
       "      <td>0.793698</td>\n",
       "      <td>0.191428</td>\n",
       "      <td>0.967768</td>\n",
       "      <td>0.903636</td>\n",
       "      <td>0.792030</td>\n",
       "      <td>0.602723</td>\n",
       "      <td>0.989172</td>\n",
       "      <td>0.904580</td>\n",
       "      <td>0.789123</td>\n",
       "      <td>0.773130</td>\n",
       "      <td>0.993389</td>\n",
       "      <td>0.909030</td>\n",
       "      <td>0.784699</td>\n",
       "      <td>0.824994</td>\n",
       "      <td>0.995828</td>\n",
       "      <td>0.912552</td>\n",
       "      <td>0.777795</td>\n",
       "      <td>0.855315</td>\n",
       "      <td>0.996413</td>\n",
       "      <td>0.919275</td>\n",
       "      <td>0.769169</td>\n",
       "      <td>0.857106</td>\n",
       "      <td>0.996720</td>\n",
       "      <td>0.923727</td>\n",
       "      <td>0.761440</td>\n",
       "      <td>0.851371</td>\n",
       "      <td>0.996739</td>\n",
       "      <td>0.930023</td>\n",
       "      <td>0.753360</td>\n",
       "      <td>0.835596</td>\n",
       "      <td>00:17</td>\n",
       "    </tr>\n",
       "    <tr>\n",
       "      <td>3</td>\n",
       "      <td>0.012805</td>\n",
       "      <td>0.009119</td>\n",
       "      <td>0.997042</td>\n",
       "      <td>0.870048</td>\n",
       "      <td>0.918747</td>\n",
       "      <td>0.806277</td>\n",
       "      <td>0.213288</td>\n",
       "      <td>0.972946</td>\n",
       "      <td>0.919102</td>\n",
       "      <td>0.805349</td>\n",
       "      <td>0.643048</td>\n",
       "      <td>0.991012</td>\n",
       "      <td>0.920974</td>\n",
       "      <td>0.802358</td>\n",
       "      <td>0.799639</td>\n",
       "      <td>0.994495</td>\n",
       "      <td>0.923414</td>\n",
       "      <td>0.798527</td>\n",
       "      <td>0.846468</td>\n",
       "      <td>0.996406</td>\n",
       "      <td>0.928522</td>\n",
       "      <td>0.790422</td>\n",
       "      <td>0.872230</td>\n",
       "      <td>0.996924</td>\n",
       "      <td>0.931339</td>\n",
       "      <td>0.781963</td>\n",
       "      <td>0.874439</td>\n",
       "      <td>0.996990</td>\n",
       "      <td>0.933646</td>\n",
       "      <td>0.772579</td>\n",
       "      <td>0.864560</td>\n",
       "      <td>0.997042</td>\n",
       "      <td>0.940046</td>\n",
       "      <td>0.766464</td>\n",
       "      <td>0.851479</td>\n",
       "      <td>00:17</td>\n",
       "    </tr>\n",
       "    <tr>\n",
       "      <td>4</td>\n",
       "      <td>0.010491</td>\n",
       "      <td>0.008689</td>\n",
       "      <td>0.997231</td>\n",
       "      <td>0.884778</td>\n",
       "      <td>0.914433</td>\n",
       "      <td>0.832036</td>\n",
       "      <td>0.239792</td>\n",
       "      <td>0.976856</td>\n",
       "      <td>0.915744</td>\n",
       "      <td>0.832036</td>\n",
       "      <td>0.694934</td>\n",
       "      <td>0.991704</td>\n",
       "      <td>0.917699</td>\n",
       "      <td>0.832036</td>\n",
       "      <td>0.821604</td>\n",
       "      <td>0.994732</td>\n",
       "      <td>0.920171</td>\n",
       "      <td>0.829561</td>\n",
       "      <td>0.862933</td>\n",
       "      <td>0.996257</td>\n",
       "      <td>0.924131</td>\n",
       "      <td>0.822439</td>\n",
       "      <td>0.880910</td>\n",
       "      <td>0.996868</td>\n",
       "      <td>0.927565</td>\n",
       "      <td>0.817390</td>\n",
       "      <td>0.882640</td>\n",
       "      <td>0.997087</td>\n",
       "      <td>0.932961</td>\n",
       "      <td>0.813510</td>\n",
       "      <td>0.874295</td>\n",
       "      <td>0.997231</td>\n",
       "      <td>0.936523</td>\n",
       "      <td>0.807859</td>\n",
       "      <td>0.866633</td>\n",
       "      <td>00:18</td>\n",
       "    </tr>\n",
       "    <tr>\n",
       "      <td>5</td>\n",
       "      <td>0.010355</td>\n",
       "      <td>0.008097</td>\n",
       "      <td>0.997442</td>\n",
       "      <td>0.882690</td>\n",
       "      <td>0.933686</td>\n",
       "      <td>0.831060</td>\n",
       "      <td>0.227206</td>\n",
       "      <td>0.979391</td>\n",
       "      <td>0.935093</td>\n",
       "      <td>0.831060</td>\n",
       "      <td>0.706146</td>\n",
       "      <td>0.992940</td>\n",
       "      <td>0.935298</td>\n",
       "      <td>0.829168</td>\n",
       "      <td>0.836940</td>\n",
       "      <td>0.995480</td>\n",
       "      <td>0.937151</td>\n",
       "      <td>0.823916</td>\n",
       "      <td>0.873571</td>\n",
       "      <td>0.996946</td>\n",
       "      <td>0.940468</td>\n",
       "      <td>0.818271</td>\n",
       "      <td>0.892473</td>\n",
       "      <td>0.997327</td>\n",
       "      <td>0.944952</td>\n",
       "      <td>0.812443</td>\n",
       "      <td>0.890014</td>\n",
       "      <td>0.997479</td>\n",
       "      <td>0.947033</td>\n",
       "      <td>0.804986</td>\n",
       "      <td>0.884131</td>\n",
       "      <td>0.997442</td>\n",
       "      <td>0.950360</td>\n",
       "      <td>0.799306</td>\n",
       "      <td>0.873371</td>\n",
       "      <td>00:19</td>\n",
       "    </tr>\n",
       "    <tr>\n",
       "      <td>6</td>\n",
       "      <td>0.008933</td>\n",
       "      <td>0.007725</td>\n",
       "      <td>0.997512</td>\n",
       "      <td>0.907419</td>\n",
       "      <td>0.928764</td>\n",
       "      <td>0.844521</td>\n",
       "      <td>0.297822</td>\n",
       "      <td>0.980387</td>\n",
       "      <td>0.928647</td>\n",
       "      <td>0.843065</td>\n",
       "      <td>0.727571</td>\n",
       "      <td>0.992992</td>\n",
       "      <td>0.930414</td>\n",
       "      <td>0.841774</td>\n",
       "      <td>0.844298</td>\n",
       "      <td>0.995498</td>\n",
       "      <td>0.933075</td>\n",
       "      <td>0.841034</td>\n",
       "      <td>0.879547</td>\n",
       "      <td>0.996846</td>\n",
       "      <td>0.937637</td>\n",
       "      <td>0.835580</td>\n",
       "      <td>0.896011</td>\n",
       "      <td>0.997376</td>\n",
       "      <td>0.942170</td>\n",
       "      <td>0.831370</td>\n",
       "      <td>0.900005</td>\n",
       "      <td>0.997497</td>\n",
       "      <td>0.944204</td>\n",
       "      <td>0.822673</td>\n",
       "      <td>0.893571</td>\n",
       "      <td>0.997512</td>\n",
       "      <td>0.950296</td>\n",
       "      <td>0.817399</td>\n",
       "      <td>0.883507</td>\n",
       "      <td>00:18</td>\n",
       "    </tr>\n",
       "    <tr>\n",
       "      <td>7</td>\n",
       "      <td>0.008575</td>\n",
       "      <td>0.007326</td>\n",
       "      <td>0.997720</td>\n",
       "      <td>0.923059</td>\n",
       "      <td>0.937884</td>\n",
       "      <td>0.856304</td>\n",
       "      <td>0.337586</td>\n",
       "      <td>0.984411</td>\n",
       "      <td>0.938099</td>\n",
       "      <td>0.856304</td>\n",
       "      <td>0.764091</td>\n",
       "      <td>0.994262</td>\n",
       "      <td>0.938556</td>\n",
       "      <td>0.853838</td>\n",
       "      <td>0.865833</td>\n",
       "      <td>0.996150</td>\n",
       "      <td>0.940000</td>\n",
       "      <td>0.852258</td>\n",
       "      <td>0.893094</td>\n",
       "      <td>0.997235</td>\n",
       "      <td>0.943311</td>\n",
       "      <td>0.847465</td>\n",
       "      <td>0.906839</td>\n",
       "      <td>0.997597</td>\n",
       "      <td>0.947346</td>\n",
       "      <td>0.840624</td>\n",
       "      <td>0.907664</td>\n",
       "      <td>0.997746</td>\n",
       "      <td>0.948977</td>\n",
       "      <td>0.835352</td>\n",
       "      <td>0.904802</td>\n",
       "      <td>0.997720</td>\n",
       "      <td>0.950746</td>\n",
       "      <td>0.828580</td>\n",
       "      <td>0.897088</td>\n",
       "      <td>00:19</td>\n",
       "    </tr>\n",
       "    <tr>\n",
       "      <td>8</td>\n",
       "      <td>0.008093</td>\n",
       "      <td>0.006972</td>\n",
       "      <td>0.997775</td>\n",
       "      <td>0.922985</td>\n",
       "      <td>0.942974</td>\n",
       "      <td>0.855705</td>\n",
       "      <td>0.326272</td>\n",
       "      <td>0.985596</td>\n",
       "      <td>0.943263</td>\n",
       "      <td>0.854966</td>\n",
       "      <td>0.779180</td>\n",
       "      <td>0.994758</td>\n",
       "      <td>0.944146</td>\n",
       "      <td>0.853936</td>\n",
       "      <td>0.876832</td>\n",
       "      <td>0.996490</td>\n",
       "      <td>0.944240</td>\n",
       "      <td>0.851690</td>\n",
       "      <td>0.899478</td>\n",
       "      <td>0.997460</td>\n",
       "      <td>0.947771</td>\n",
       "      <td>0.848531</td>\n",
       "      <td>0.912693</td>\n",
       "      <td>0.997779</td>\n",
       "      <td>0.950569</td>\n",
       "      <td>0.844320</td>\n",
       "      <td>0.914119</td>\n",
       "      <td>0.997827</td>\n",
       "      <td>0.954467</td>\n",
       "      <td>0.838071</td>\n",
       "      <td>0.906390</td>\n",
       "      <td>0.997775</td>\n",
       "      <td>0.956312</td>\n",
       "      <td>0.833127</td>\n",
       "      <td>0.896955</td>\n",
       "      <td>00:18</td>\n",
       "    </tr>\n",
       "    <tr>\n",
       "      <td>9</td>\n",
       "      <td>0.007735</td>\n",
       "      <td>0.006915</td>\n",
       "      <td>0.997831</td>\n",
       "      <td>0.927827</td>\n",
       "      <td>0.938407</td>\n",
       "      <td>0.866490</td>\n",
       "      <td>0.338963</td>\n",
       "      <td>0.986229</td>\n",
       "      <td>0.938407</td>\n",
       "      <td>0.866490</td>\n",
       "      <td>0.785323</td>\n",
       "      <td>0.994962</td>\n",
       "      <td>0.939669</td>\n",
       "      <td>0.864142</td>\n",
       "      <td>0.879668</td>\n",
       "      <td>0.996550</td>\n",
       "      <td>0.940001</td>\n",
       "      <td>0.862727</td>\n",
       "      <td>0.901334</td>\n",
       "      <td>0.997427</td>\n",
       "      <td>0.942610</td>\n",
       "      <td>0.859482</td>\n",
       "      <td>0.914201</td>\n",
       "      <td>0.997753</td>\n",
       "      <td>0.944824</td>\n",
       "      <td>0.856220</td>\n",
       "      <td>0.914758</td>\n",
       "      <td>0.997827</td>\n",
       "      <td>0.948204</td>\n",
       "      <td>0.852713</td>\n",
       "      <td>0.910527</td>\n",
       "      <td>0.997831</td>\n",
       "      <td>0.950254</td>\n",
       "      <td>0.847312</td>\n",
       "      <td>0.903617</td>\n",
       "      <td>00:16</td>\n",
       "    </tr>\n",
       "    <tr>\n",
       "      <td>10</td>\n",
       "      <td>0.006869</td>\n",
       "      <td>0.006901</td>\n",
       "      <td>0.997856</td>\n",
       "      <td>0.933606</td>\n",
       "      <td>0.938221</td>\n",
       "      <td>0.868376</td>\n",
       "      <td>0.361271</td>\n",
       "      <td>0.986928</td>\n",
       "      <td>0.938178</td>\n",
       "      <td>0.867998</td>\n",
       "      <td>0.789781</td>\n",
       "      <td>0.995117</td>\n",
       "      <td>0.940031</td>\n",
       "      <td>0.866575</td>\n",
       "      <td>0.882359</td>\n",
       "      <td>0.996683</td>\n",
       "      <td>0.940541</td>\n",
       "      <td>0.865017</td>\n",
       "      <td>0.906099</td>\n",
       "      <td>0.997583</td>\n",
       "      <td>0.942727</td>\n",
       "      <td>0.861282</td>\n",
       "      <td>0.917880</td>\n",
       "      <td>0.997846</td>\n",
       "      <td>0.945209</td>\n",
       "      <td>0.855996</td>\n",
       "      <td>0.917845</td>\n",
       "      <td>0.997853</td>\n",
       "      <td>0.947790</td>\n",
       "      <td>0.851857</td>\n",
       "      <td>0.910125</td>\n",
       "      <td>0.997856</td>\n",
       "      <td>0.948813</td>\n",
       "      <td>0.848228</td>\n",
       "      <td>0.903889</td>\n",
       "      <td>00:18</td>\n",
       "    </tr>\n",
       "    <tr>\n",
       "      <td>11</td>\n",
       "      <td>0.005933</td>\n",
       "      <td>0.006813</td>\n",
       "      <td>0.997897</td>\n",
       "      <td>0.931204</td>\n",
       "      <td>0.932869</td>\n",
       "      <td>0.878894</td>\n",
       "      <td>0.347419</td>\n",
       "      <td>0.986225</td>\n",
       "      <td>0.933118</td>\n",
       "      <td>0.878894</td>\n",
       "      <td>0.781687</td>\n",
       "      <td>0.994895</td>\n",
       "      <td>0.934378</td>\n",
       "      <td>0.877306</td>\n",
       "      <td>0.878943</td>\n",
       "      <td>0.996517</td>\n",
       "      <td>0.936597</td>\n",
       "      <td>0.876114</td>\n",
       "      <td>0.904530</td>\n",
       "      <td>0.997412</td>\n",
       "      <td>0.939841</td>\n",
       "      <td>0.869813</td>\n",
       "      <td>0.915055</td>\n",
       "      <td>0.997779</td>\n",
       "      <td>0.944244</td>\n",
       "      <td>0.866966</td>\n",
       "      <td>0.918293</td>\n",
       "      <td>0.997849</td>\n",
       "      <td>0.945956</td>\n",
       "      <td>0.862664</td>\n",
       "      <td>0.914996</td>\n",
       "      <td>0.997897</td>\n",
       "      <td>0.949535</td>\n",
       "      <td>0.857772</td>\n",
       "      <td>0.909568</td>\n",
       "      <td>00:17</td>\n",
       "    </tr>\n",
       "    <tr>\n",
       "      <td>12</td>\n",
       "      <td>0.006126</td>\n",
       "      <td>0.006665</td>\n",
       "      <td>0.997942</td>\n",
       "      <td>0.931089</td>\n",
       "      <td>0.942476</td>\n",
       "      <td>0.872859</td>\n",
       "      <td>0.343741</td>\n",
       "      <td>0.986706</td>\n",
       "      <td>0.942854</td>\n",
       "      <td>0.872191</td>\n",
       "      <td>0.789326</td>\n",
       "      <td>0.995113</td>\n",
       "      <td>0.943737</td>\n",
       "      <td>0.871016</td>\n",
       "      <td>0.884169</td>\n",
       "      <td>0.996690</td>\n",
       "      <td>0.944585</td>\n",
       "      <td>0.869040</td>\n",
       "      <td>0.907819</td>\n",
       "      <td>0.997564</td>\n",
       "      <td>0.946793</td>\n",
       "      <td>0.866500</td>\n",
       "      <td>0.919125</td>\n",
       "      <td>0.997853</td>\n",
       "      <td>0.947964</td>\n",
       "      <td>0.862607</td>\n",
       "      <td>0.920185</td>\n",
       "      <td>0.997953</td>\n",
       "      <td>0.948285</td>\n",
       "      <td>0.858231</td>\n",
       "      <td>0.916607</td>\n",
       "      <td>0.997942</td>\n",
       "      <td>0.950631</td>\n",
       "      <td>0.854231</td>\n",
       "      <td>0.908838</td>\n",
       "      <td>00:19</td>\n",
       "    </tr>\n",
       "    <tr>\n",
       "      <td>13</td>\n",
       "      <td>0.005741</td>\n",
       "      <td>0.006696</td>\n",
       "      <td>0.997946</td>\n",
       "      <td>0.937204</td>\n",
       "      <td>0.945983</td>\n",
       "      <td>0.869466</td>\n",
       "      <td>0.365808</td>\n",
       "      <td>0.988280</td>\n",
       "      <td>0.945938</td>\n",
       "      <td>0.868860</td>\n",
       "      <td>0.804823</td>\n",
       "      <td>0.995691</td>\n",
       "      <td>0.946026</td>\n",
       "      <td>0.867552</td>\n",
       "      <td>0.892334</td>\n",
       "      <td>0.996942</td>\n",
       "      <td>0.947496</td>\n",
       "      <td>0.865793</td>\n",
       "      <td>0.909806</td>\n",
       "      <td>0.997694</td>\n",
       "      <td>0.950256</td>\n",
       "      <td>0.861603</td>\n",
       "      <td>0.919664</td>\n",
       "      <td>0.997916</td>\n",
       "      <td>0.951689</td>\n",
       "      <td>0.857391</td>\n",
       "      <td>0.920113</td>\n",
       "      <td>0.997945</td>\n",
       "      <td>0.952990</td>\n",
       "      <td>0.853051</td>\n",
       "      <td>0.915232</td>\n",
       "      <td>0.997946</td>\n",
       "      <td>0.953398</td>\n",
       "      <td>0.848844</td>\n",
       "      <td>0.908440</td>\n",
       "      <td>00:18</td>\n",
       "    </tr>\n",
       "    <tr>\n",
       "      <td>14</td>\n",
       "      <td>0.006086</td>\n",
       "      <td>0.006658</td>\n",
       "      <td>0.997912</td>\n",
       "      <td>0.935335</td>\n",
       "      <td>0.939613</td>\n",
       "      <td>0.873204</td>\n",
       "      <td>0.367572</td>\n",
       "      <td>0.986555</td>\n",
       "      <td>0.939551</td>\n",
       "      <td>0.872677</td>\n",
       "      <td>0.788508</td>\n",
       "      <td>0.995069</td>\n",
       "      <td>0.942633</td>\n",
       "      <td>0.871462</td>\n",
       "      <td>0.883643</td>\n",
       "      <td>0.996572</td>\n",
       "      <td>0.944541</td>\n",
       "      <td>0.869505</td>\n",
       "      <td>0.904334</td>\n",
       "      <td>0.997568</td>\n",
       "      <td>0.947998</td>\n",
       "      <td>0.866332</td>\n",
       "      <td>0.918258</td>\n",
       "      <td>0.997794</td>\n",
       "      <td>0.950051</td>\n",
       "      <td>0.864097</td>\n",
       "      <td>0.917700</td>\n",
       "      <td>0.997931</td>\n",
       "      <td>0.952803</td>\n",
       "      <td>0.860342</td>\n",
       "      <td>0.914706</td>\n",
       "      <td>0.997912</td>\n",
       "      <td>0.954313</td>\n",
       "      <td>0.856504</td>\n",
       "      <td>0.907526</td>\n",
       "      <td>00:16</td>\n",
       "    </tr>\n",
       "  </tbody>\n",
       "</table>"
      ],
      "text/plain": [
       "<IPython.core.display.HTML object>"
      ]
     },
     "metadata": {},
     "output_type": "display_data"
    }
   ],
   "source": [
    "learn.fit_one_cycle(15, slice(2e-3/(2.6**4),2e-3), moms=(0.8,0.7))"
   ]
  },
  {
   "cell_type": "code",
   "execution_count": 83,
   "metadata": {},
   "outputs": [],
   "source": [
    "learn.save('final-prep')"
   ]
  },
  {
   "cell_type": "code",
   "execution_count": 84,
   "metadata": {},
   "outputs": [
    {
     "name": "stdout",
     "output_type": "stream",
     "text": [
      "done\n"
     ]
    }
   ],
   "source": [
    "print('done')"
   ]
  },
  {
   "cell_type": "markdown",
   "metadata": {
    "colab_type": "text",
    "id": "BgRSroymx2aW"
   },
   "source": [
    "## Evaluate the results\n",
    "Based on: https://www.kaggle.com/nadjetba/text-to-meaning-with-multi-label-classification?scriptVersionId=12686831"
   ]
  },
  {
   "cell_type": "code",
   "execution_count": 85,
   "metadata": {
    "colab": {},
    "colab_type": "code",
    "id": "4ZW6Z54KmPXL"
   },
   "outputs": [],
   "source": [
    "y_pred, y_true =  learn.get_preds()"
   ]
  },
  {
   "cell_type": "code",
   "execution_count": 86,
   "metadata": {
    "colab": {},
    "colab_type": "code",
    "id": "m8uWkV70mPao"
   },
   "outputs": [],
   "source": [
    "from sklearn.metrics import precision_score, recall_score, accuracy_score, f1_score\n",
    "from sklearn.metrics import classification_report"
   ]
  },
  {
   "cell_type": "code",
   "execution_count": 91,
   "metadata": {
    "colab": {
     "base_uri": "https://localhost:8080/",
     "height": 34
    },
    "colab_type": "code",
    "id": "RJNZFPmhyP4G",
    "outputId": "6ea31d9a-31bf-4979-ff6f-c826933a8b9c"
   },
   "outputs": [
    {
     "name": "stdout",
     "output_type": "stream",
     "text": [
      "F1 (micro) 0.8991520837091828\n",
      "P (micro) 0.9209164818920916\n",
      "R (micro) 0.8783926683115968\n",
      "\n",
      "F1 (macro) 0.3867988959711671\n",
      "P (macro) 0.42948176777358954\n",
      "R (macro)  0.3661823446042939\n"
     ]
    }
   ],
   "source": [
    "thresh = 0.40\n",
    "\n",
    "print(\"F1 (micro)\", f1_score(y_true, y_pred>thresh, average='micro'))\n",
    "print(\"P (micro)\", precision_score(y_true, y_pred>thresh, average='micro'))\n",
    "print(\"R (micro)\", recall_score(y_true, y_pred>thresh, average='micro'))\n",
    "\n",
    "print(\"\\nF1 (macro)\", f1_score(y_true, y_pred>thresh, average='macro'))\n",
    "print(\"P (macro)\", precision_score(y_true, y_pred>thresh, average='macro'))\n",
    "print(\"R (macro) \", recall_score(y_true, y_pred>thresh, average='macro'))\n"
   ]
  },
  {
   "cell_type": "code",
   "execution_count": 92,
   "metadata": {
    "colab": {
     "base_uri": "https://localhost:8080/",
     "height": 101
    },
    "colab_type": "code",
    "id": "QUI7_WQRyv4J",
    "outputId": "08d0724c-e9a3-45c0-a82c-a83ed5f63caa"
   },
   "outputs": [
    {
     "data": {
      "text/plain": [
       "0.3867988959711671"
      ]
     },
     "execution_count": 92,
     "metadata": {},
     "output_type": "execute_result"
    }
   ],
   "source": [
    "f1_score(y_true, y_pred>thresh, average='macro')"
   ]
  },
  {
   "cell_type": "code",
   "execution_count": 93,
   "metadata": {},
   "outputs": [
    {
     "data": {
      "text/plain": [
       "((2270, 119), (2270, 119))"
      ]
     },
     "execution_count": 93,
     "metadata": {},
     "output_type": "execute_result"
    }
   ],
   "source": [
    "y_true_n = y_true.numpy()\n",
    "scores = y_pred.numpy()\n",
    "scores.shape, y_true_n.shape"
   ]
  },
  {
   "cell_type": "code",
   "execution_count": 94,
   "metadata": {},
   "outputs": [
    {
     "name": "stdout",
     "output_type": "stream",
     "text": [
      "Precision at: 1:    0.9462555066079296\n",
      "Recall at: 1:    0.8617963778756731\n",
      "\n",
      "Precision at: 2:    0.5519823788546255\n",
      "Recall at: 2:    0.9437469407733725\n",
      "\n",
      "Precision at: 3:    0.3845814977973677\n",
      "Recall at: 3:    0.9635812180966364\n",
      "\n",
      "Precision at: 4:    0.2954845814977974\n",
      "Recall at: 4:    0.9743717222571849\n",
      "\n",
      "Precision at: 5:    0.23982378854625014\n",
      "Recall at: 5:    0.9805838752534789\n",
      "\n",
      "Precision at: 6:    0.2014684287812101\n",
      "Recall at: 6:    0.9844056359695126\n",
      "\n",
      "Precision at: 7:    0.17363121460038433\n",
      "Recall at: 7:    0.9866292566953359\n",
      "\n"
     ]
    }
   ],
   "source": [
    "## precision at k\n",
    "def tmp_precision(actual, predicted):\n",
    "    #print(predicted)\n",
    "    actual_one = np.where(actual == 1)[0]\n",
    "    #print(actual_one)\n",
    "    #print(type(actual_one))\n",
    "    \n",
    "    act_set = set(list(actual_one))\n",
    "    pred_set = set(predicted[:k])\n",
    "    result = len(act_set & pred_set) / float(k)\n",
    "    return result\n",
    "\n",
    "def tmp_recall(actual, predicted):\n",
    "    actual_one = np.where(actual == 1)[0]\n",
    "    \n",
    "    act_set = set(actual_one)\n",
    "    pred_set = set(predicted[:k])\n",
    "    result = len(act_set & pred_set) / float(len(act_set))\n",
    "    return result\n",
    "\n",
    "## sort indizes in descending order\n",
    "scores_idx_sorted = (-scores).argsort() \n",
    "    \n",
    "#print(precs)\n",
    "for i in range(7):\n",
    "    k = i+1\n",
    "    \n",
    "    precs, recas = [], []\n",
    "    for i in range(len(y_true_n)):\n",
    "        precs.append( tmp_precision(y_true_n[i], scores_idx_sorted[i]) )\n",
    "        recas.append( tmp_recall(y_true_n[i], scores_idx_sorted[i]) )\n",
    "    \n",
    "    print(\"Precision at: %d:   \" % (k,), sum(precs)/len(precs))\n",
    "    print(\"Recall at: %d:   \" % (k,), sum(recas)/len(recas))\n",
    "    print()"
   ]
  },
  {
   "cell_type": "code",
   "execution_count": 95,
   "metadata": {
    "colab": {
     "base_uri": "https://localhost:8080/",
     "height": 12586
    },
    "colab_type": "code",
    "id": "Xq1DCPsCycGp",
    "outputId": "48d0e050-1f2d-47ab-f756-e9a962536abe"
   },
   "outputs": [
    {
     "name": "stdout",
     "output_type": "stream",
     "text": [
      "              precision    recall  f1-score   support\n",
      "\n",
      "           1       0.00      0.00      0.00         0\n",
      "          10       0.00      0.00      0.00         4\n",
      "         100       0.00      0.00      0.00         0\n",
      "         101       0.00      0.00      0.00         2\n",
      "         102       1.00      0.50      0.67         2\n",
      "         103       0.50      0.50      0.50         4\n",
      "         104       0.00      0.00      0.00         0\n",
      "         105       0.00      0.00      0.00         1\n",
      "         106       0.83      0.77      0.80        13\n",
      "         107       1.00      0.80      0.89         5\n",
      "         108       1.00      0.50      0.67         2\n",
      "         109       0.90      0.82      0.86        11\n",
      "          11       0.00      0.00      0.00         0\n",
      "         110       0.67      0.50      0.57         4\n",
      "         111       0.00      0.00      0.00         1\n",
      "         112       0.88      0.58      0.70        12\n",
      "         113       0.69      0.83      0.76        30\n",
      "         114       0.91      0.91      0.91        11\n",
      "         115       0.00      0.00      0.00         0\n",
      "         116       0.88      0.81      0.85        27\n",
      "         117       0.89      0.86      0.88       123\n",
      "         118       0.80      0.73      0.76        11\n",
      "         119       0.00      0.00      0.00         1\n",
      "          12       0.85      0.96      0.90        24\n",
      "         120       0.50      0.20      0.29         5\n",
      "          13       0.00      0.00      0.00         1\n",
      "          14       0.25      0.33      0.29         3\n",
      "          15       0.87      0.84      0.86       122\n",
      "          16       0.00      0.00      0.00         2\n",
      "          17       0.00      0.00      0.00         0\n",
      "          18       0.93      0.87      0.90        15\n",
      "          19       0.82      0.70      0.76        47\n",
      "           2       0.81      0.76      0.79        34\n",
      "          20       0.00      0.00      0.00         5\n",
      "          21       0.67      0.18      0.29        11\n",
      "          22       0.80      0.40      0.53        10\n",
      "          23       0.00      0.00      0.00         1\n",
      "          24       1.00      0.89      0.94         9\n",
      "          25       0.00      0.00      0.00         0\n",
      "          26       0.00      0.00      0.00         0\n",
      "          27       0.97      0.94      0.96        35\n",
      "          28       0.79      0.58      0.67        19\n",
      "          29       0.00      0.00      0.00         0\n",
      "           3       0.00      0.00      0.00         0\n",
      "          30       0.84      0.90      0.87       134\n",
      "          31       0.85      1.00      0.92        17\n",
      "          33       0.00      0.00      0.00         2\n",
      "          34       0.00      0.00      0.00         0\n",
      "          35       0.99      0.99      0.99       794\n",
      "          36       0.00      0.00      0.00         2\n",
      "          37       1.00      0.75      0.86         8\n",
      "          38       1.00      1.00      1.00         4\n",
      "          39       0.00      0.00      0.00         0\n",
      "           4       0.00      0.00      0.00         1\n",
      "          40       1.00      0.75      0.86         8\n",
      "          41       0.00      0.00      0.00         0\n",
      "          42       1.00      0.50      0.67         2\n",
      "          43       0.00      0.00      0.00         0\n",
      "          44       0.80      0.44      0.57         9\n",
      "          45       0.90      1.00      0.95         9\n",
      "          46       0.00      0.00      0.00         0\n",
      "          47       1.00      0.29      0.44         7\n",
      "          48       0.00      0.00      0.00         0\n",
      "          49       0.00      0.00      0.00         0\n",
      "           5       0.00      0.00      0.00         0\n",
      "          50       0.79      0.92      0.85        12\n",
      "          51       0.00      0.00      0.00         0\n",
      "          52       0.00      0.00      0.00         0\n",
      "          53       0.00      0.00      0.00         0\n",
      "          54       0.78      0.75      0.77        24\n",
      "          55       0.00      0.00      0.00         1\n",
      "          56       0.92      0.96      0.94        50\n",
      "          57       0.00      0.00      0.00         2\n",
      "          59       0.95      0.96      0.95       119\n",
      "           6       0.00      0.00      0.00         2\n",
      "          60       1.00      0.62      0.77         8\n",
      "          61       0.00      0.00      0.00         1\n",
      "          62       1.00      1.00      1.00         1\n",
      "          63       0.00      0.00      0.00         0\n",
      "          64       0.00      0.00      0.00         0\n",
      "          65       0.00      0.00      0.00         2\n",
      "          66       0.00      0.00      0.00        11\n",
      "          67       0.71      0.71      0.71         7\n",
      "          68       0.20      0.33      0.25         3\n",
      "          69       0.00      0.00      0.00         0\n",
      "           7       1.00      0.92      0.96        12\n",
      "          70       0.94      0.88      0.91        33\n",
      "          71       0.00      0.00      0.00         1\n",
      "          72       0.00      0.00      0.00         2\n",
      "          73       0.00      0.00      0.00         0\n",
      "          74       0.86      0.88      0.87       136\n",
      "          75       0.75      0.43      0.55        21\n",
      "          76       1.00      1.00      1.00         5\n",
      "          77       0.97      0.96      0.96       482\n",
      "          78       0.00      0.00      0.00         3\n",
      "          79       0.86      0.74      0.79        34\n",
      "           8       0.75      0.75      0.75         4\n",
      "          80       0.00      0.00      0.00         1\n",
      "          81       0.87      0.87      0.87        63\n",
      "          82       0.00      0.00      0.00         1\n",
      "          83       0.00      0.00      0.00         3\n",
      "          84       0.85      0.73      0.79        15\n",
      "          85       1.00      0.25      0.40         4\n",
      "          86       0.92      0.87      0.89        68\n",
      "          87       0.00      0.00      0.00         0\n",
      "          88       0.97      0.94      0.96        35\n",
      "          89       0.00      0.00      0.00         0\n",
      "           9       0.00      0.00      0.00         0\n",
      "          90       0.00      0.00      0.00         0\n",
      "          91       0.00      0.00      0.00         0\n",
      "          92       0.00      0.00      0.00         0\n",
      "          93       0.88      0.67      0.76        21\n",
      "          94       0.83      0.56      0.67         9\n",
      "          95       0.91      0.77      0.83        13\n",
      "          96       0.00      0.00      0.00         0\n",
      "          97       0.00      0.00      0.00         0\n",
      "          98       0.81      0.71      0.76        24\n",
      "          99       0.00      0.00      0.00         0\n",
      "       docid       0.00      0.00      0.00         0\n",
      "\n",
      "   micro avg       0.92      0.88      0.90      2837\n",
      "   macro avg       0.43      0.37      0.39      2837\n",
      "weighted avg       0.90      0.88      0.89      2837\n",
      " samples avg       0.93      0.92      0.91      2837\n",
      "\n"
     ]
    },
    {
     "name": "stderr",
     "output_type": "stream",
     "text": [
      "/home/wohlg/anaconda3/envs/fastai/lib/python3.7/site-packages/sklearn/metrics/classification.py:1437: UndefinedMetricWarning: Precision and F-score are ill-defined and being set to 0.0 in labels with no predicted samples.\n",
      "  'precision', 'predicted', average, warn_for)\n",
      "/home/wohlg/anaconda3/envs/fastai/lib/python3.7/site-packages/sklearn/metrics/classification.py:1439: UndefinedMetricWarning: Recall and F-score are ill-defined and being set to 0.0 in labels with no true samples.\n",
      "  'recall', 'true', average, warn_for)\n",
      "/home/wohlg/anaconda3/envs/fastai/lib/python3.7/site-packages/sklearn/metrics/classification.py:1437: UndefinedMetricWarning: Precision and F-score are ill-defined and being set to 0.0 in samples with no predicted labels.\n",
      "  'precision', 'predicted', average, warn_for)\n"
     ]
    }
   ],
   "source": [
    "metrics = classification_report(y_true_n, scores>thresh, target_names=data_clas.valid_ds.classes)\n",
    "print(metrics)"
   ]
  }
 ],
 "metadata": {
  "accelerator": "GPU",
  "colab": {
   "name": "fastai-JRC-EN-multilabel.ipynb",
   "provenance": [],
   "toc_visible": true,
   "version": "0.3.2"
  },
  "kernelspec": {
   "display_name": "Python 3",
   "language": "python",
   "name": "python3"
  },
  "language_info": {
   "codemirror_mode": {
    "name": "ipython",
    "version": 3
   },
   "file_extension": ".py",
   "mimetype": "text/x-python",
   "name": "python",
   "nbconvert_exporter": "python",
   "pygments_lexer": "ipython3",
   "version": "3.7.3"
  }
 },
 "nbformat": 4,
 "nbformat_minor": 1
}
