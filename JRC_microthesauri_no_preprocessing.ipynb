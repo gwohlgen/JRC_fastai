{
 "cells": [
  {
   "cell_type": "markdown",
   "metadata": {},
   "source": [
    "# JRC microthesauri, no preprocessing"
   ]
  },
  {
   "cell_type": "markdown",
   "metadata": {
    "colab_type": "text",
    "id": "mFOReymeH23M"
   },
   "source": [
    "### Data Fetching and Preparation\n",
    "\n",
    "\n"
   ]
  },
  {
   "cell_type": "code",
   "execution_count": 1,
   "metadata": {
    "colab": {},
    "colab_type": "code",
    "id": "xtVSwdpfxk84"
   },
   "outputs": [],
   "source": [
    "# init\n",
    "%reload_ext autoreload\n",
    "%autoreload 2\n",
    "%matplotlib inline\n",
    "\n",
    "from fastai.text import *\n",
    "import pandas as pd\n",
    "from pathlib import Path\n",
    "\n",
    "FN='jrc_microthesauri_en_svm.csv'\n",
    "\n",
    "bs = 32"
   ]
  },
  {
   "cell_type": "markdown",
   "metadata": {
    "colab_type": "text",
    "id": "55sn1OhCSINe"
   },
   "source": [
    "**Get the dataset**\n",
    "\n",
    "\n",
    "\n"
   ]
  },
  {
   "cell_type": "code",
   "execution_count": 2,
   "metadata": {
    "colab": {
     "base_uri": "https://localhost:8080/",
     "height": 111
    },
    "colab_type": "code",
    "id": "DK2YlnZ9xjau",
    "outputId": "b9c63357-57dc-441b-b988-f74f3b4d9be0"
   },
   "outputs": [
    {
     "data": {
      "text/html": [
       "<div>\n",
       "<style scoped>\n",
       "    .dataframe tbody tr th:only-of-type {\n",
       "        vertical-align: middle;\n",
       "    }\n",
       "\n",
       "    .dataframe tbody tr th {\n",
       "        vertical-align: top;\n",
       "    }\n",
       "\n",
       "    .dataframe thead th {\n",
       "        text-align: right;\n",
       "    }\n",
       "</style>\n",
       "<table border=\"1\" class=\"dataframe\">\n",
       "  <thead>\n",
       "    <tr style=\"text-align: right;\">\n",
       "      <th></th>\n",
       "      <th>docid</th>\n",
       "      <th>text</th>\n",
       "      <th>100163</th>\n",
       "      <th>100164</th>\n",
       "      <th>100165</th>\n",
       "      <th>100166</th>\n",
       "      <th>100167</th>\n",
       "      <th>100168</th>\n",
       "      <th>100169</th>\n",
       "      <th>100170</th>\n",
       "      <th>...</th>\n",
       "      <th>100279</th>\n",
       "      <th>100280</th>\n",
       "      <th>100281</th>\n",
       "      <th>100282</th>\n",
       "      <th>100283</th>\n",
       "      <th>100284</th>\n",
       "      <th>100285</th>\n",
       "      <th>100286</th>\n",
       "      <th>100287</th>\n",
       "      <th>100288</th>\n",
       "    </tr>\n",
       "  </thead>\n",
       "  <tbody>\n",
       "    <tr>\n",
       "      <th>0</th>\n",
       "      <td>jrc51976FC0135-en</td>\n",
       "      <td>[ pic ] | COMMISSION OF THE EUROPEAN COMMUNITI...</td>\n",
       "      <td>0</td>\n",
       "      <td>0</td>\n",
       "      <td>0</td>\n",
       "      <td>0</td>\n",
       "      <td>0</td>\n",
       "      <td>0</td>\n",
       "      <td>0</td>\n",
       "      <td>0</td>\n",
       "      <td>...</td>\n",
       "      <td>0</td>\n",
       "      <td>0</td>\n",
       "      <td>0</td>\n",
       "      <td>0</td>\n",
       "      <td>0</td>\n",
       "      <td>0</td>\n",
       "      <td>0</td>\n",
       "      <td>0</td>\n",
       "      <td>0</td>\n",
       "      <td>0</td>\n",
       "    </tr>\n",
       "    <tr>\n",
       "      <th>1</th>\n",
       "      <td>jrc31996L0071-en</td>\n",
       "      <td>DIRECTIVE 96 / 71 / EC OF THE EUROPEAN PARLIAM...</td>\n",
       "      <td>0</td>\n",
       "      <td>0</td>\n",
       "      <td>0</td>\n",
       "      <td>0</td>\n",
       "      <td>0</td>\n",
       "      <td>0</td>\n",
       "      <td>0</td>\n",
       "      <td>0</td>\n",
       "      <td>...</td>\n",
       "      <td>0</td>\n",
       "      <td>0</td>\n",
       "      <td>0</td>\n",
       "      <td>0</td>\n",
       "      <td>0</td>\n",
       "      <td>0</td>\n",
       "      <td>0</td>\n",
       "      <td>0</td>\n",
       "      <td>0</td>\n",
       "      <td>0</td>\n",
       "    </tr>\n",
       "  </tbody>\n",
       "</table>\n",
       "<p>2 rows × 128 columns</p>\n",
       "</div>"
      ],
      "text/plain": [
       "               docid                                               text  \\\n",
       "0  jrc51976FC0135-en  [ pic ] | COMMISSION OF THE EUROPEAN COMMUNITI...   \n",
       "1   jrc31996L0071-en  DIRECTIVE 96 / 71 / EC OF THE EUROPEAN PARLIAM...   \n",
       "\n",
       "   100163  100164  100165  100166  100167  100168  100169  100170  ...  \\\n",
       "0       0       0       0       0       0       0       0       0  ...   \n",
       "1       0       0       0       0       0       0       0       0  ...   \n",
       "\n",
       "   100279  100280  100281  100282  100283  100284  100285  100286  100287  \\\n",
       "0       0       0       0       0       0       0       0       0       0   \n",
       "1       0       0       0       0       0       0       0       0       0   \n",
       "\n",
       "   100288  \n",
       "0       0  \n",
       "1       0  \n",
       "\n",
       "[2 rows x 128 columns]"
      ]
     },
     "execution_count": 2,
     "metadata": {},
     "output_type": "execute_result"
    }
   ],
   "source": [
    "df_raw = pd.read_csv(FN, delimiter=';')\n",
    "df_raw.head(2)"
   ]
  },
  {
   "cell_type": "code",
   "execution_count": 3,
   "metadata": {},
   "outputs": [
    {
     "data": {
      "text/html": [
       "<div>\n",
       "<style scoped>\n",
       "    .dataframe tbody tr th:only-of-type {\n",
       "        vertical-align: middle;\n",
       "    }\n",
       "\n",
       "    .dataframe tbody tr th {\n",
       "        vertical-align: top;\n",
       "    }\n",
       "\n",
       "    .dataframe thead th {\n",
       "        text-align: right;\n",
       "    }\n",
       "</style>\n",
       "<table border=\"1\" class=\"dataframe\">\n",
       "  <thead>\n",
       "    <tr style=\"text-align: right;\">\n",
       "      <th></th>\n",
       "      <th>text</th>\n",
       "      <th>labels</th>\n",
       "    </tr>\n",
       "  </thead>\n",
       "  <tbody>\n",
       "    <tr>\n",
       "      <th>0</th>\n",
       "      <td>[ pic ] | COMMISSION OF THE EUROPEAN COMMUNITI...</td>\n",
       "      <td>100175;100237;100238;100240</td>\n",
       "    </tr>\n",
       "    <tr>\n",
       "      <th>1</th>\n",
       "      <td>DIRECTIVE 96 / 71 / EC OF THE EUROPEAN PARLIAM...</td>\n",
       "      <td>100227;100233;100234;100236</td>\n",
       "    </tr>\n",
       "    <tr>\n",
       "      <th>2</th>\n",
       "      <td>COMMISSION REGULATION ( EC ) No 1147 / 96 of 2...</td>\n",
       "      <td>100215;100244;100254</td>\n",
       "    </tr>\n",
       "    <tr>\n",
       "      <th>3</th>\n",
       "      <td>COMMISSION DECISION of 11 October 1996 laying ...</td>\n",
       "      <td>100192;100193;100252;100279;100282;100283</td>\n",
       "    </tr>\n",
       "    <tr>\n",
       "      <th>4</th>\n",
       "      <td>COMMISSION DECISION of 11 October 1996 laying ...</td>\n",
       "      <td>100192;100193;100252;100280;100282</td>\n",
       "    </tr>\n",
       "    <tr>\n",
       "      <th>5</th>\n",
       "      <td>COUNCIL DIRECTIVE 96 / 24 / EC of 29 April 199...</td>\n",
       "      <td>100175;100193;100196;100250;100258</td>\n",
       "    </tr>\n",
       "    <tr>\n",
       "      <th>6</th>\n",
       "      <td>COMMISSION DIRECTIVE 96 / 68 / EC of 21 Octobe...</td>\n",
       "      <td>100215;100234;100249;100258;100268</td>\n",
       "    </tr>\n",
       "    <tr>\n",
       "      <th>7</th>\n",
       "      <td>COUNCIL DIRECTIVE 96 / 61 / EC of 24 September...</td>\n",
       "      <td>100242;100244</td>\n",
       "    </tr>\n",
       "    <tr>\n",
       "      <th>8</th>\n",
       "      <td>COMMISSION DECISION of 17 October 1996 amendin...</td>\n",
       "      <td>100171;100193;100245;100249;100254;100257</td>\n",
       "    </tr>\n",
       "    <tr>\n",
       "      <th>9</th>\n",
       "      <td>COUNCIL DIRECTIVE 96 / 29 / EURATOM of 13 May ...</td>\n",
       "      <td>100215;100224;100234;100266</td>\n",
       "    </tr>\n",
       "  </tbody>\n",
       "</table>\n",
       "</div>"
      ],
      "text/plain": [
       "                                                text  \\\n",
       "0  [ pic ] | COMMISSION OF THE EUROPEAN COMMUNITI...   \n",
       "1  DIRECTIVE 96 / 71 / EC OF THE EUROPEAN PARLIAM...   \n",
       "2  COMMISSION REGULATION ( EC ) No 1147 / 96 of 2...   \n",
       "3  COMMISSION DECISION of 11 October 1996 laying ...   \n",
       "4  COMMISSION DECISION of 11 October 1996 laying ...   \n",
       "5  COUNCIL DIRECTIVE 96 / 24 / EC of 29 April 199...   \n",
       "6  COMMISSION DIRECTIVE 96 / 68 / EC of 21 Octobe...   \n",
       "7  COUNCIL DIRECTIVE 96 / 61 / EC of 24 September...   \n",
       "8  COMMISSION DECISION of 17 October 1996 amendin...   \n",
       "9  COUNCIL DIRECTIVE 96 / 29 / EURATOM of 13 May ...   \n",
       "\n",
       "                                      labels  \n",
       "0                100175;100237;100238;100240  \n",
       "1                100227;100233;100234;100236  \n",
       "2                       100215;100244;100254  \n",
       "3  100192;100193;100252;100279;100282;100283  \n",
       "4         100192;100193;100252;100280;100282  \n",
       "5         100175;100193;100196;100250;100258  \n",
       "6         100215;100234;100249;100258;100268  \n",
       "7                              100242;100244  \n",
       "8  100171;100193;100245;100249;100254;100257  \n",
       "9                100215;100224;100234;100266  "
      ]
     },
     "execution_count": 3,
     "metadata": {},
     "output_type": "execute_result"
    }
   ],
   "source": [
    "columns = list(df_raw) \n",
    "\n",
    "## transfrom n hot to simple labels\n",
    "new_rows = []\n",
    "for i, j in df_raw.iterrows(): \n",
    "    labels = [c for c in columns if c.startswith('1') and j[c]==1]\n",
    "    new_rows.append( (j['text'], ';'.join(labels)) )\n",
    "\n",
    "df = pd.DataFrame(new_rows)\n",
    "df.columns = ['text', 'labels']\n",
    "\n",
    "df.head(10)\n"
   ]
  },
  {
   "cell_type": "code",
   "execution_count": 4,
   "metadata": {},
   "outputs": [],
   "source": [
    "FN = 'converted.csv'\n",
    "df.to_csv(FN)\n",
    "del df_raw\n"
   ]
  },
  {
   "cell_type": "markdown",
   "metadata": {
    "colab_type": "text",
    "id": "fbtKesuhJrPC"
   },
   "source": [
    "## Reuse Fine-tuned of the language model from \"JRC_basic\" folder\n"
   ]
  },
  {
   "cell_type": "code",
   "execution_count": 2,
   "metadata": {
    "colab": {},
    "colab_type": "code",
    "id": "c-5E5Z1QYttW"
   },
   "outputs": [
    {
     "name": "stderr",
     "output_type": "stream",
     "text": [
      "/home/wohlg/anaconda3/envs/fastai/lib/python3.7/site-packages/torch/serialization.py:454: SourceChangeWarning: source code of class 'torch.nn.modules.loss.CrossEntropyLoss' has changed. you can retrieve the original source code by accessing the object's source attribute or set `torch.nn.Module.dump_patches = True` and use the patch tool to revert the changes.\n",
      "  warnings.warn(msg, SourceChangeWarning)\n"
     ]
    }
   ],
   "source": [
    "data_lm = load_data(Path('.'), 'data_lm.pkl', bs=bs)"
   ]
  },
  {
   "cell_type": "markdown",
   "metadata": {
    "colab_type": "text",
    "id": "TKgiUzG3K-1w"
   },
   "source": [
    "## Train a classifier"
   ]
  },
  {
   "cell_type": "markdown",
   "metadata": {
    "colab_type": "text",
    "id": "TMB5GXLhLN28"
   },
   "source": [
    "As we are using multi-label classification, we define our own metrics (fastai doesn't support multi-label well yet)"
   ]
  },
  {
   "cell_type": "code",
   "execution_count": 3,
   "metadata": {
    "colab": {},
    "colab_type": "code",
    "id": "DpDdcNM6pxhw"
   },
   "outputs": [],
   "source": [
    "def my_prc(log_preds, targs, thresh=0.5, epsilon=1e-8):\n",
    "    pred_pos = (log_preds > thresh).float()\n",
    "    tpos = torch.mul((targs == pred_pos).float(), targs.float())\n",
    "    return (tpos.sum()/(pred_pos.sum() + epsilon))#.item()\n",
    "  \n",
    "def my_rec(log_preds, targs, thresh=0.5, epsilon=1e-8):\n",
    "    pred_pos = (log_preds > thresh).float()\n",
    "    tpos = torch.mul((targs == pred_pos).float(), targs.float())\n",
    "    return (tpos.sum()/(targs.sum() + epsilon))\n",
    "\n",
    "thresh=0.001\n",
    "acc_0001 = partial(accuracy_thresh, thresh=thresh)\n",
    "prc_0001 = partial(my_prc, thresh=thresh)\n",
    "rec_0001 = partial(my_rec, thresh=thresh)\n",
    "f_0001 = partial(fbeta, thresh=thresh, beta=1)\n",
    "\n",
    "\n",
    "thresh=0.01\n",
    "acc_001 = partial(accuracy_thresh, thresh=thresh)\n",
    "prc_001 = partial(my_prc, thresh=thresh)\n",
    "rec_001 = partial(my_rec, thresh=thresh)\n",
    "f_001 = partial(fbeta, thresh=thresh, beta=1)\n",
    "\n",
    "thresh=0.05\n",
    "acc_005 = partial(accuracy_thresh, thresh=thresh)\n",
    "prc_005 = partial(my_prc, thresh=thresh)\n",
    "rec_005 = partial(my_rec, thresh=thresh)\n",
    "f_005 = partial(fbeta, thresh=thresh, beta=1)\n",
    "\n",
    "thresh=0.1\n",
    "acc_01 = partial(accuracy_thresh, thresh=thresh)\n",
    "prc_01 = partial(my_prc, thresh=thresh)\n",
    "rec_01 = partial(my_rec, thresh=thresh)\n",
    "f_01 = partial(fbeta, thresh=thresh, beta=1)\n",
    "\n",
    "thresh=0.2\n",
    "acc_02 = partial(accuracy_thresh, thresh=thresh)\n",
    "prc_02 = partial(my_prc, thresh=thresh)\n",
    "rec_02 = partial(my_rec, thresh=thresh)\n",
    "f_02 = partial(fbeta, thresh=thresh, beta=1)\n",
    "\n",
    "thresh=0.3\n",
    "acc_03 = partial(accuracy_thresh, thresh=thresh)\n",
    "prc_03 = partial(my_prc, thresh=thresh)\n",
    "rec_03 = partial(my_rec, thresh=thresh)\n",
    "f_03 = partial(fbeta, thresh=thresh, beta=1)\n",
    "\n",
    "thresh=0.4\n",
    "acc_04 = partial(accuracy_thresh, thresh=thresh)\n",
    "prc_04 = partial(my_prc, thresh=thresh)\n",
    "rec_04 = partial(my_rec, thresh=thresh)\n",
    "f_04 = partial(fbeta, thresh=thresh, beta=1)\n",
    "\n",
    "thresh=0.5\n",
    "acc_05 = partial(accuracy_thresh, thresh=thresh)\n",
    "prc_05 = partial(my_prc, thresh=thresh)\n",
    "rec_05 = partial(my_rec, thresh=thresh)\n",
    "f_05 = partial(fbeta, thresh=thresh, beta=1)\n"
   ]
  },
  {
   "cell_type": "code",
   "execution_count": 7,
   "metadata": {},
   "outputs": [
    {
     "name": "stdout",
     "output_type": "stream",
     "text": [
      "converted.csv\n"
     ]
    }
   ],
   "source": [
    "print(FN)"
   ]
  },
  {
   "cell_type": "code",
   "execution_count": 8,
   "metadata": {
    "colab": {},
    "colab_type": "code",
    "id": "_RLVSPKWjLZO"
   },
   "outputs": [],
   "source": [
    "data_clas = (TextList.from_csv(Path('.'), FN, vocab=data_lm.vocab, cols='text')\n",
    "             #grab all the text files in path\n",
    "             #wohlg: .split_by_folder(valid='test')\n",
    "             .split_by_rand_pct()\n",
    "             #split by train and valid folder (that only keeps 'train' and 'test' so no need to filter)             \n",
    "             #wohlg: .label_from_folder(classes=['neg', 'pos'])\n",
    "             .label_from_df(cols='labels', label_delim=';')\n",
    "             #label them all with their folders\n",
    "             .databunch(bs=bs))\n",
    "\n",
    "data_clas.save('data_clas.pkl')"
   ]
  },
  {
   "cell_type": "code",
   "execution_count": 9,
   "metadata": {},
   "outputs": [
    {
     "name": "stdout",
     "output_type": "stream",
     "text": [
      "60000\n",
      "['xxunk', 'xxpad', 'xxbos', 'xxeos', 'xxfld', 'xxmaj', 'xxup', 'xxrep', 'xxwrep', 'the', ',', 'of', '|', '.', 'and', 'to', 'in', ')', '(', '-']\n"
     ]
    }
   ],
   "source": [
    "print(len(data_lm.vocab.itos))\n",
    "print(data_lm.vocab.itos[:20])"
   ]
  },
  {
   "cell_type": "code",
   "execution_count": 4,
   "metadata": {
    "colab": {},
    "colab_type": "code",
    "id": "lLq_pAhSjLe2"
   },
   "outputs": [],
   "source": [
    "data_clas = load_data(Path('.'), 'data_clas.pkl', bs=bs)"
   ]
  },
  {
   "cell_type": "code",
   "execution_count": 5,
   "metadata": {
    "colab": {
     "base_uri": "https://localhost:8080/",
     "height": 289
    },
    "colab_type": "code",
    "id": "bIC3m4atjLcQ",
    "outputId": "567af202-1871-4ecb-8ef9-30ff5a7e09cd"
   },
   "outputs": [
    {
     "data": {
      "text/html": [
       "<table border=\"1\" class=\"dataframe\">\n",
       "  <thead>\n",
       "    <tr style=\"text-align: right;\">\n",
       "      <th>text</th>\n",
       "      <th>target</th>\n",
       "    </tr>\n",
       "  </thead>\n",
       "  <tbody>\n",
       "    <tr>\n",
       "      <td>xxbos xxup section xxup iii xxup commission xxup contents xxup volume xxup ii — xxup section xxup iii : xxup commission — xxmaj title 3 : xxmaj surpluses available — xxmaj title 4 : xxmaj revenue accruing from persons working with the institutions and other xxmaj community bodies — xxmaj title 5 : xxmaj revenue accruing from the administrative operation of the institution — xxmaj title 6 : xxmaj contributions</td>\n",
       "      <td>100177;100205</td>\n",
       "    </tr>\n",
       "    <tr>\n",
       "      <td>xxbos xxmaj list of credit institutions provided for in xxmaj article 11 of xxmaj directive 2000 / 12 / xxup ec ( 2005 / c 032 / 01 ) xxmaj article 11 of xxmaj directive 2000 / 12 / xxup ec of the xxmaj european xxmaj parliament and of the xxmaj council of 20 xxmaj march 2000 relating to the taking up and pursuit of the business of credit institutions</td>\n",
       "      <td>100200;100220;100282</td>\n",
       "    </tr>\n",
       "    <tr>\n",
       "      <td>xxbos xxup commission xxup directive 98 / 98 / xxup ec of 15 xxmaj december 1998 adapting to technical progress for the 25 time xxmaj council xxmaj directive 67 / 548 / xxup eec on the approximation of the laws , regulations and administrative provisions relating to the classification , packaging and labelling of dangerous substances ( xxmaj text with xxup eea relevance ) xxup the xxup commission xxup of</td>\n",
       "      <td>100175;100196;100220;100244</td>\n",
       "    </tr>\n",
       "    <tr>\n",
       "      <td>xxbos xxmaj common position ( xxup ec ) xxmaj no 17 / 2006 adopted by the xxmaj council on 27 xxmaj june 2006 with a view to adopting xxmaj regulation ( xxup ec ) xxmaj no / 2006 … of the xxmaj european xxmaj parliament and of the xxmaj council of … concerning the xxmaj registration , xxmaj evaluation , xxmaj authorisation and xxmaj restriction of xxmaj chemicals ( xxup</td>\n",
       "      <td>100169;100174;100196;100220;100226;100242;100269</td>\n",
       "    </tr>\n",
       "    <tr>\n",
       "      <td>xxbos xxmaj commission xxmaj directive 2001 / 59 / xxup ec of 6 xxmaj august 2001 adapting to technical progress for the 28th time xxmaj council xxmaj directive 67 / 548 / xxup eec on the approximation of the laws , regulations and administrative provisions relating to the classification , packaging and labelling of dangerous substances ( xxmaj text with xxup eea relevance ) xxup the xxup commission xxup of</td>\n",
       "      <td>100175;100196;100220;100244</td>\n",
       "    </tr>\n",
       "  </tbody>\n",
       "</table>"
      ],
      "text/plain": [
       "<IPython.core.display.HTML object>"
      ]
     },
     "metadata": {},
     "output_type": "display_data"
    }
   ],
   "source": [
    "data_clas.show_batch()"
   ]
  },
  {
   "cell_type": "code",
   "execution_count": 6,
   "metadata": {
    "colab": {},
    "colab_type": "code",
    "id": "cyWs6u1vl6mX"
   },
   "outputs": [],
   "source": [
    "learn = text_classifier_learner(data_clas, AWD_LSTM, drop_mult=0.5, wd=0.1)\n",
    "#learn.metrics = [accuracy_thresh, custom_precision, custom_recall, \n",
    "#                 acc_01, f_score_01, acc_02, f_score_02, acc_03, f_score_03 ]\n",
    "learn.metrics = [accuracy_thresh, \n",
    "                 acc_0001, prc_0001, rec_0001, f_0001,\n",
    "                 acc_001, prc_001, rec_001, f_001,\n",
    "                 acc_005, prc_005, rec_005, f_005,\n",
    "                 acc_01, prc_01, rec_01, f_01,\n",
    "                 acc_02, prc_02, rec_02, f_02,\n",
    "                 acc_03, prc_03, rec_03, f_03,\n",
    "                 acc_04, prc_04, rec_04, f_04,\n",
    "                 acc_05, prc_05, rec_05, f_05 ]\n",
    "#!mv *pth models\n",
    "learn.load_encoder('fine_tuned_enc-JRC')\n"
   ]
  },
  {
   "cell_type": "code",
   "execution_count": 7,
   "metadata": {},
   "outputs": [
    {
     "name": "stdout",
     "output_type": "stream",
     "text": [
      "FlattenedLoss of BCEWithLogitsLoss()\n",
      "BCEWithLogitsLoss()\n"
     ]
    }
   ],
   "source": [
    "print(learn.loss_func)\n",
    "print(learn.loss_func.func)"
   ]
  },
  {
   "cell_type": "code",
   "execution_count": 15,
   "metadata": {
    "colab": {
     "base_uri": "https://localhost:8080/",
     "height": 34
    },
    "colab_type": "code",
    "id": "X5sGGcAUl6ps",
    "outputId": "33e0a7c9-12fc-4b66-c5f3-9ab79d8fbb8c"
   },
   "outputs": [
    {
     "data": {
      "text/html": [],
      "text/plain": [
       "<IPython.core.display.HTML object>"
      ]
     },
     "metadata": {},
     "output_type": "display_data"
    },
    {
     "name": "stdout",
     "output_type": "stream",
     "text": [
      "LR Finder is complete, type {learner_name}.recorder.plot() to see the graph.\n"
     ]
    }
   ],
   "source": [
    "learn.lr_find()"
   ]
  },
  {
   "cell_type": "code",
   "execution_count": 16,
   "metadata": {
    "colab": {
     "base_uri": "https://localhost:8080/",
     "height": 283
    },
    "colab_type": "code",
    "id": "4TaL4rGml6tD",
    "outputId": "2aec03fe-986a-4755-c392-975e6e45e1a3"
   },
   "outputs": [
    {
     "data": {
      "image/png": "[encoded data removed]",
      "text/plain": [
       "<Figure size 432x288 with 1 Axes>"
      ]
     },
     "metadata": {
      "needs_background": "light"
     },
     "output_type": "display_data"
    }
   ],
   "source": [
    "learn.recorder.plot()"
   ]
  },
  {
   "cell_type": "code",
   "execution_count": 17,
   "metadata": {
    "colab": {
     "base_uri": "https://localhost:8080/",
     "height": 80
    },
    "colab_type": "code",
    "id": "BrPh0yRdl6zX",
    "outputId": "841c115e-7e18-4b30-a3d5-7932cd83968e",
    "scrolled": true
   },
   "outputs": [
    {
     "data": {
      "text/html": [
       "<table border=\"1\" class=\"dataframe\">\n",
       "  <thead>\n",
       "    <tr style=\"text-align: left;\">\n",
       "      <th>epoch</th>\n",
       "      <th>train_loss</th>\n",
       "      <th>valid_loss</th>\n",
       "      <th>accuracy_thresh</th>\n",
       "      <th>accuracy_thresh</th>\n",
       "      <th>my_prc</th>\n",
       "      <th>my_rec</th>\n",
       "      <th>fbeta</th>\n",
       "      <th>accuracy_thresh</th>\n",
       "      <th>my_prc</th>\n",
       "      <th>my_rec</th>\n",
       "      <th>fbeta</th>\n",
       "      <th>accuracy_thresh</th>\n",
       "      <th>my_prc</th>\n",
       "      <th>my_rec</th>\n",
       "      <th>fbeta</th>\n",
       "      <th>accuracy_thresh</th>\n",
       "      <th>my_prc</th>\n",
       "      <th>my_rec</th>\n",
       "      <th>fbeta</th>\n",
       "      <th>accuracy_thresh</th>\n",
       "      <th>my_prc</th>\n",
       "      <th>my_rec</th>\n",
       "      <th>fbeta</th>\n",
       "      <th>accuracy_thresh</th>\n",
       "      <th>my_prc</th>\n",
       "      <th>my_rec</th>\n",
       "      <th>fbeta</th>\n",
       "      <th>accuracy_thresh</th>\n",
       "      <th>my_prc</th>\n",
       "      <th>my_rec</th>\n",
       "      <th>fbeta</th>\n",
       "      <th>accuracy_thresh</th>\n",
       "      <th>my_prc</th>\n",
       "      <th>my_rec</th>\n",
       "      <th>fbeta</th>\n",
       "      <th>time</th>\n",
       "    </tr>\n",
       "  </thead>\n",
       "  <tbody>\n",
       "    <tr>\n",
       "      <td>0</td>\n",
       "      <td>0.126340</td>\n",
       "      <td>0.128604</td>\n",
       "      <td>0.959962</td>\n",
       "      <td>0.134139</td>\n",
       "      <td>0.415983</td>\n",
       "      <td>0.196693</td>\n",
       "      <td>0.078071</td>\n",
       "      <td>0.506233</td>\n",
       "      <td>0.417475</td>\n",
       "      <td>0.195782</td>\n",
       "      <td>0.129832</td>\n",
       "      <td>0.796202</td>\n",
       "      <td>0.425225</td>\n",
       "      <td>0.191475</td>\n",
       "      <td>0.227409</td>\n",
       "      <td>0.877452</td>\n",
       "      <td>0.430284</td>\n",
       "      <td>0.183779</td>\n",
       "      <td>0.286646</td>\n",
       "      <td>0.931603</td>\n",
       "      <td>0.443048</td>\n",
       "      <td>0.170597</td>\n",
       "      <td>0.321155</td>\n",
       "      <td>0.948532</td>\n",
       "      <td>0.451431</td>\n",
       "      <td>0.158888</td>\n",
       "      <td>0.302645</td>\n",
       "      <td>0.956067</td>\n",
       "      <td>0.459283</td>\n",
       "      <td>0.145129</td>\n",
       "      <td>0.266745</td>\n",
       "      <td>0.959962</td>\n",
       "      <td>0.473046</td>\n",
       "      <td>0.131962</td>\n",
       "      <td>0.220850</td>\n",
       "      <td>18:46</td>\n",
       "    </tr>\n",
       "    <tr>\n",
       "      <td>1</td>\n",
       "      <td>0.111104</td>\n",
       "      <td>0.102011</td>\n",
       "      <td>0.968039</td>\n",
       "      <td>0.195334</td>\n",
       "      <td>0.700530</td>\n",
       "      <td>0.198081</td>\n",
       "      <td>0.082793</td>\n",
       "      <td>0.582397</td>\n",
       "      <td>0.702340</td>\n",
       "      <td>0.196409</td>\n",
       "      <td>0.153744</td>\n",
       "      <td>0.865444</td>\n",
       "      <td>0.712021</td>\n",
       "      <td>0.191323</td>\n",
       "      <td>0.307402</td>\n",
       "      <td>0.926381</td>\n",
       "      <td>0.718647</td>\n",
       "      <td>0.184419</td>\n",
       "      <td>0.385154</td>\n",
       "      <td>0.957207</td>\n",
       "      <td>0.736427</td>\n",
       "      <td>0.172157</td>\n",
       "      <td>0.410959</td>\n",
       "      <td>0.965238</td>\n",
       "      <td>0.752781</td>\n",
       "      <td>0.160823</td>\n",
       "      <td>0.371981</td>\n",
       "      <td>0.967656</td>\n",
       "      <td>0.769099</td>\n",
       "      <td>0.147799</td>\n",
       "      <td>0.318454</td>\n",
       "      <td>0.968039</td>\n",
       "      <td>0.787151</td>\n",
       "      <td>0.137742</td>\n",
       "      <td>0.264398</td>\n",
       "      <td>18:52</td>\n",
       "    </tr>\n",
       "  </tbody>\n",
       "</table>"
      ],
      "text/plain": [
       "<IPython.core.display.HTML object>"
      ]
     },
     "metadata": {},
     "output_type": "display_data"
    }
   ],
   "source": [
    "learn.fit_one_cycle(2, slice(1e-1,1e-1), moms=(0.8,0.7))"
   ]
  },
  {
   "cell_type": "markdown",
   "metadata": {},
   "source": [
    "## Results:\n",
    "\n",
    "learn.fit_one_cycle(1, slice(1e-2,1e-1), moms=(0.8,0.7)): \n",
    "\n",
    "    0\t0.010093\t0.008351\t0.998479\t0.874526\t0.052546\t46:22 (colab)\n",
    "    \n",
    "learn.fit_one_cycle(1, slice(2e-2,2e-1), moms=(0.8,0.7)):\n",
    "\n",
    "    # old: 0\t0.009459\t0.008237\t0.998506\t0.772035\t0.062515\t19:41\n",
    "    0\t0.009326\t0.009061\t0.998467\t0.719809\t0.069594\t19:01\n",
    "    \n",
    "### preprocessing corpus\n",
    "\n",
    "learn.fit_one_cycle(1, slice(1e-1,1e-1), moms=(0.8,0.7))  \n",
    "\n",
    "    first part: 0\t0.007484\t0.006419\t0.998603\t0.827936\t0.723389\t0.184216\t0.021517\\\n",
    "    last part: 0.998603\t0.794771\t0.144744\t0.238704\t04:38\n",
    "    \n"
   ]
  },
  {
   "cell_type": "code",
   "execution_count": null,
   "metadata": {},
   "outputs": [],
   "source": [
    "#learn.export()"
   ]
  },
  {
   "cell_type": "code",
   "execution_count": 18,
   "metadata": {
    "colab": {},
    "colab_type": "code",
    "id": "Go03WwP9l62p"
   },
   "outputs": [],
   "source": [
    "learn.save('first')"
   ]
  },
  {
   "cell_type": "code",
   "execution_count": null,
   "metadata": {
    "colab": {},
    "colab_type": "code",
    "id": "Nim2xtSDl65f"
   },
   "outputs": [],
   "source": [
    "learn.load('first')"
   ]
  },
  {
   "cell_type": "markdown",
   "metadata": {
    "colab_type": "text",
    "id": "D-rmBz8xMJMJ"
   },
   "source": [
    "Why gradual unfreeze? Give example of Image detection."
   ]
  },
  {
   "cell_type": "code",
   "execution_count": 20,
   "metadata": {
    "colab": {},
    "colab_type": "code",
    "id": "TdYFyLlkl69M"
   },
   "outputs": [],
   "source": [
    "learn.freeze_to(-2)"
   ]
  },
  {
   "cell_type": "code",
   "execution_count": 21,
   "metadata": {
    "colab": {
     "base_uri": "https://localhost:8080/",
     "height": 300
    },
    "colab_type": "code",
    "id": "pOwJWQYNzZ5L",
    "outputId": "bc50453b-db43-40f9-95f5-459eacc4b4bf"
   },
   "outputs": [
    {
     "data": {
      "text/html": [],
      "text/plain": [
       "<IPython.core.display.HTML object>"
      ]
     },
     "metadata": {},
     "output_type": "display_data"
    },
    {
     "name": "stdout",
     "output_type": "stream",
     "text": [
      "LR Finder is complete, type {learner_name}.recorder.plot() to see the graph.\n"
     ]
    },
    {
     "data": {
      "image/png": "[encoded data removed]",
      "text/plain": [
       "<Figure size 432x288 with 1 Axes>"
      ]
     },
     "metadata": {
      "needs_background": "light"
     },
     "output_type": "display_data"
    }
   ],
   "source": [
    "learn.lr_find()\n",
    "learn.recorder.plot()"
   ]
  },
  {
   "cell_type": "code",
   "execution_count": 22,
   "metadata": {
    "colab": {
     "base_uri": "https://localhost:8080/",
     "height": 126
    },
    "colab_type": "code",
    "id": "dMGZ4kn2zUm4",
    "outputId": "fdc1c8a9-6b83-41c4-b6f2-4ae2eb922072"
   },
   "outputs": [
    {
     "data": {
      "text/html": [
       "<table border=\"1\" class=\"dataframe\">\n",
       "  <thead>\n",
       "    <tr style=\"text-align: left;\">\n",
       "      <th>epoch</th>\n",
       "      <th>train_loss</th>\n",
       "      <th>valid_loss</th>\n",
       "      <th>accuracy_thresh</th>\n",
       "      <th>accuracy_thresh</th>\n",
       "      <th>my_prc</th>\n",
       "      <th>my_rec</th>\n",
       "      <th>fbeta</th>\n",
       "      <th>accuracy_thresh</th>\n",
       "      <th>my_prc</th>\n",
       "      <th>my_rec</th>\n",
       "      <th>fbeta</th>\n",
       "      <th>accuracy_thresh</th>\n",
       "      <th>my_prc</th>\n",
       "      <th>my_rec</th>\n",
       "      <th>fbeta</th>\n",
       "      <th>accuracy_thresh</th>\n",
       "      <th>my_prc</th>\n",
       "      <th>my_rec</th>\n",
       "      <th>fbeta</th>\n",
       "      <th>accuracy_thresh</th>\n",
       "      <th>my_prc</th>\n",
       "      <th>my_rec</th>\n",
       "      <th>fbeta</th>\n",
       "      <th>accuracy_thresh</th>\n",
       "      <th>my_prc</th>\n",
       "      <th>my_rec</th>\n",
       "      <th>fbeta</th>\n",
       "      <th>accuracy_thresh</th>\n",
       "      <th>my_prc</th>\n",
       "      <th>my_rec</th>\n",
       "      <th>fbeta</th>\n",
       "      <th>accuracy_thresh</th>\n",
       "      <th>my_prc</th>\n",
       "      <th>my_rec</th>\n",
       "      <th>fbeta</th>\n",
       "      <th>time</th>\n",
       "    </tr>\n",
       "  </thead>\n",
       "  <tbody>\n",
       "    <tr>\n",
       "      <td>0</td>\n",
       "      <td>0.102726</td>\n",
       "      <td>0.092592</td>\n",
       "      <td>0.970379</td>\n",
       "      <td>0.265194</td>\n",
       "      <td>0.728061</td>\n",
       "      <td>0.285831</td>\n",
       "      <td>0.092901</td>\n",
       "      <td>0.646428</td>\n",
       "      <td>0.730104</td>\n",
       "      <td>0.284654</td>\n",
       "      <td>0.186491</td>\n",
       "      <td>0.881376</td>\n",
       "      <td>0.737567</td>\n",
       "      <td>0.279188</td>\n",
       "      <td>0.355600</td>\n",
       "      <td>0.934394</td>\n",
       "      <td>0.743619</td>\n",
       "      <td>0.272219</td>\n",
       "      <td>0.439556</td>\n",
       "      <td>0.961402</td>\n",
       "      <td>0.760002</td>\n",
       "      <td>0.260219</td>\n",
       "      <td>0.477661</td>\n",
       "      <td>0.967939</td>\n",
       "      <td>0.776620</td>\n",
       "      <td>0.248514</td>\n",
       "      <td>0.448407</td>\n",
       "      <td>0.969953</td>\n",
       "      <td>0.793014</td>\n",
       "      <td>0.237012</td>\n",
       "      <td>0.401159</td>\n",
       "      <td>0.970379</td>\n",
       "      <td>0.806242</td>\n",
       "      <td>0.224266</td>\n",
       "      <td>0.348490</td>\n",
       "      <td>20:39</td>\n",
       "    </tr>\n",
       "    <tr>\n",
       "      <td>1</td>\n",
       "      <td>0.092547</td>\n",
       "      <td>0.083792</td>\n",
       "      <td>0.972889</td>\n",
       "      <td>0.323272</td>\n",
       "      <td>0.752539</td>\n",
       "      <td>0.373934</td>\n",
       "      <td>0.103218</td>\n",
       "      <td>0.685483</td>\n",
       "      <td>0.753791</td>\n",
       "      <td>0.372689</td>\n",
       "      <td>0.217270</td>\n",
       "      <td>0.891282</td>\n",
       "      <td>0.758796</td>\n",
       "      <td>0.367905</td>\n",
       "      <td>0.395411</td>\n",
       "      <td>0.938724</td>\n",
       "      <td>0.768535</td>\n",
       "      <td>0.362331</td>\n",
       "      <td>0.476547</td>\n",
       "      <td>0.962588</td>\n",
       "      <td>0.781885</td>\n",
       "      <td>0.348757</td>\n",
       "      <td>0.518499</td>\n",
       "      <td>0.969584</td>\n",
       "      <td>0.795894</td>\n",
       "      <td>0.333876</td>\n",
       "      <td>0.505836</td>\n",
       "      <td>0.972221</td>\n",
       "      <td>0.811015</td>\n",
       "      <td>0.320576</td>\n",
       "      <td>0.478079</td>\n",
       "      <td>0.972889</td>\n",
       "      <td>0.824757</td>\n",
       "      <td>0.308696</td>\n",
       "      <td>0.437475</td>\n",
       "      <td>19:50</td>\n",
       "    </tr>\n",
       "  </tbody>\n",
       "</table>"
      ],
      "text/plain": [
       "<IPython.core.display.HTML object>"
      ]
     },
     "metadata": {},
     "output_type": "display_data"
    }
   ],
   "source": [
    "# learn.fit_one_cycle(5, slice(1e-3/(2.6**4),1e-3), moms=(0.8,0.7))\n",
    "learn.fit_one_cycle(2, slice(1e-2/(2.6**4),1e-2), moms=(0.8,0.7))"
   ]
  },
  {
   "cell_type": "markdown",
   "metadata": {
    "colab": {},
    "colab_type": "code",
    "id": "UNxZ-SvG9iko"
   },
   "source": [
    "### Results:\n",
    "    \n",
    "learn.fit_one_cycle(2, slice(1e-2/(2.6xx4),1e-2), moms=(0.8,0.7)) (after 2e-2,2e-1) in step one:\n",
    "\n",
    "    epoch\ttrain_loss\tvalid_loss\taccuracy_thresh\tcustom_precision\tcustom_recall\ttime\n",
    "    0\t0.008408\t0.083658\t0.996215\t0.639583\t0.135676\t19:34\n",
    "    1\t0.007711\t0.006891\t0.998587\t0.751884\t0.164432\t19:30\n",
    "    2\t0.006967\t0.006600\t0.998611\t0.750787\t0.185833\t19:47\n"
   ]
  },
  {
   "cell_type": "code",
   "execution_count": 23,
   "metadata": {
    "colab": {},
    "colab_type": "code",
    "id": "kzbQqXfll7CT"
   },
   "outputs": [],
   "source": [
    "learn.save('second')"
   ]
  },
  {
   "cell_type": "code",
   "execution_count": 24,
   "metadata": {
    "colab": {},
    "colab_type": "code",
    "id": "AvF4OP0Ml7AY"
   },
   "outputs": [],
   "source": [
    "learn.load('second');"
   ]
  },
  {
   "cell_type": "code",
   "execution_count": 25,
   "metadata": {
    "colab": {},
    "colab_type": "code",
    "id": "wIdm-jGQl6wV"
   },
   "outputs": [],
   "source": [
    "learn.freeze_to(-3)"
   ]
  },
  {
   "cell_type": "code",
   "execution_count": 26,
   "metadata": {
    "colab": {},
    "colab_type": "code",
    "id": "G6S95Yyczw98"
   },
   "outputs": [
    {
     "data": {
      "text/html": [],
      "text/plain": [
       "<IPython.core.display.HTML object>"
      ]
     },
     "metadata": {},
     "output_type": "display_data"
    },
    {
     "name": "stdout",
     "output_type": "stream",
     "text": [
      "LR Finder is complete, type {learner_name}.recorder.plot() to see the graph.\n"
     ]
    },
    {
     "data": {
      "image/png": "[encoded data removed]",
      "text/plain": [
       "<Figure size 432x288 with 1 Axes>"
      ]
     },
     "metadata": {
      "needs_background": "light"
     },
     "output_type": "display_data"
    }
   ],
   "source": [
    "learn.lr_find()\n",
    "learn.recorder.plot()"
   ]
  },
  {
   "cell_type": "code",
   "execution_count": 27,
   "metadata": {
    "colab": {},
    "colab_type": "code",
    "id": "saqmt2ujzxLf"
   },
   "outputs": [
    {
     "data": {
      "text/html": [
       "<table border=\"1\" class=\"dataframe\">\n",
       "  <thead>\n",
       "    <tr style=\"text-align: left;\">\n",
       "      <th>epoch</th>\n",
       "      <th>train_loss</th>\n",
       "      <th>valid_loss</th>\n",
       "      <th>accuracy_thresh</th>\n",
       "      <th>accuracy_thresh</th>\n",
       "      <th>my_prc</th>\n",
       "      <th>my_rec</th>\n",
       "      <th>fbeta</th>\n",
       "      <th>accuracy_thresh</th>\n",
       "      <th>my_prc</th>\n",
       "      <th>my_rec</th>\n",
       "      <th>fbeta</th>\n",
       "      <th>accuracy_thresh</th>\n",
       "      <th>my_prc</th>\n",
       "      <th>my_rec</th>\n",
       "      <th>fbeta</th>\n",
       "      <th>accuracy_thresh</th>\n",
       "      <th>my_prc</th>\n",
       "      <th>my_rec</th>\n",
       "      <th>fbeta</th>\n",
       "      <th>accuracy_thresh</th>\n",
       "      <th>my_prc</th>\n",
       "      <th>my_rec</th>\n",
       "      <th>fbeta</th>\n",
       "      <th>accuracy_thresh</th>\n",
       "      <th>my_prc</th>\n",
       "      <th>my_rec</th>\n",
       "      <th>fbeta</th>\n",
       "      <th>accuracy_thresh</th>\n",
       "      <th>my_prc</th>\n",
       "      <th>my_rec</th>\n",
       "      <th>fbeta</th>\n",
       "      <th>accuracy_thresh</th>\n",
       "      <th>my_prc</th>\n",
       "      <th>my_rec</th>\n",
       "      <th>fbeta</th>\n",
       "      <th>time</th>\n",
       "    </tr>\n",
       "  </thead>\n",
       "  <tbody>\n",
       "    <tr>\n",
       "      <td>0</td>\n",
       "      <td>0.088686</td>\n",
       "      <td>0.082837</td>\n",
       "      <td>0.973216</td>\n",
       "      <td>0.335916</td>\n",
       "      <td>0.754425</td>\n",
       "      <td>0.383610</td>\n",
       "      <td>0.106019</td>\n",
       "      <td>0.693417</td>\n",
       "      <td>0.755847</td>\n",
       "      <td>0.382111</td>\n",
       "      <td>0.225838</td>\n",
       "      <td>0.893420</td>\n",
       "      <td>0.762928</td>\n",
       "      <td>0.375577</td>\n",
       "      <td>0.405750</td>\n",
       "      <td>0.939658</td>\n",
       "      <td>0.769443</td>\n",
       "      <td>0.369070</td>\n",
       "      <td>0.486767</td>\n",
       "      <td>0.962943</td>\n",
       "      <td>0.783951</td>\n",
       "      <td>0.355806</td>\n",
       "      <td>0.530438</td>\n",
       "      <td>0.969940</td>\n",
       "      <td>0.796472</td>\n",
       "      <td>0.342432</td>\n",
       "      <td>0.519732</td>\n",
       "      <td>0.972481</td>\n",
       "      <td>0.810638</td>\n",
       "      <td>0.328474</td>\n",
       "      <td>0.487092</td>\n",
       "      <td>0.973216</td>\n",
       "      <td>0.823187</td>\n",
       "      <td>0.314017</td>\n",
       "      <td>0.449555</td>\n",
       "      <td>20:47</td>\n",
       "    </tr>\n",
       "    <tr>\n",
       "      <td>1</td>\n",
       "      <td>0.087730</td>\n",
       "      <td>0.078931</td>\n",
       "      <td>0.974174</td>\n",
       "      <td>0.358244</td>\n",
       "      <td>0.782074</td>\n",
       "      <td>0.396585</td>\n",
       "      <td>0.111297</td>\n",
       "      <td>0.708293</td>\n",
       "      <td>0.783913</td>\n",
       "      <td>0.395384</td>\n",
       "      <td>0.240160</td>\n",
       "      <td>0.899320</td>\n",
       "      <td>0.788705</td>\n",
       "      <td>0.390029</td>\n",
       "      <td>0.427952</td>\n",
       "      <td>0.943609</td>\n",
       "      <td>0.797258</td>\n",
       "      <td>0.383754</td>\n",
       "      <td>0.512311</td>\n",
       "      <td>0.966093</td>\n",
       "      <td>0.809619</td>\n",
       "      <td>0.372112</td>\n",
       "      <td>0.557313</td>\n",
       "      <td>0.972103</td>\n",
       "      <td>0.821310</td>\n",
       "      <td>0.358736</td>\n",
       "      <td>0.541692</td>\n",
       "      <td>0.973845</td>\n",
       "      <td>0.832486</td>\n",
       "      <td>0.345533</td>\n",
       "      <td>0.507137</td>\n",
       "      <td>0.974174</td>\n",
       "      <td>0.843627</td>\n",
       "      <td>0.333124</td>\n",
       "      <td>0.468788</td>\n",
       "      <td>21:46</td>\n",
       "    </tr>\n",
       "    <tr>\n",
       "      <td>2</td>\n",
       "      <td>0.084594</td>\n",
       "      <td>0.076078</td>\n",
       "      <td>0.974831</td>\n",
       "      <td>0.399068</td>\n",
       "      <td>0.771104</td>\n",
       "      <td>0.434303</td>\n",
       "      <td>0.122983</td>\n",
       "      <td>0.728161</td>\n",
       "      <td>0.772412</td>\n",
       "      <td>0.433253</td>\n",
       "      <td>0.261311</td>\n",
       "      <td>0.904578</td>\n",
       "      <td>0.777959</td>\n",
       "      <td>0.427720</td>\n",
       "      <td>0.448291</td>\n",
       "      <td>0.945351</td>\n",
       "      <td>0.784119</td>\n",
       "      <td>0.421565</td>\n",
       "      <td>0.526994</td>\n",
       "      <td>0.966385</td>\n",
       "      <td>0.796825</td>\n",
       "      <td>0.411561</td>\n",
       "      <td>0.574223</td>\n",
       "      <td>0.972309</td>\n",
       "      <td>0.809034</td>\n",
       "      <td>0.398534</td>\n",
       "      <td>0.566416</td>\n",
       "      <td>0.974425</td>\n",
       "      <td>0.821665</td>\n",
       "      <td>0.385877</td>\n",
       "      <td>0.538563</td>\n",
       "      <td>0.974831</td>\n",
       "      <td>0.834546</td>\n",
       "      <td>0.373194</td>\n",
       "      <td>0.502151</td>\n",
       "      <td>20:42</td>\n",
       "    </tr>\n",
       "    <tr>\n",
       "      <td>3</td>\n",
       "      <td>0.076807</td>\n",
       "      <td>0.074105</td>\n",
       "      <td>0.975488</td>\n",
       "      <td>0.403144</td>\n",
       "      <td>0.790583</td>\n",
       "      <td>0.439957</td>\n",
       "      <td>0.121345</td>\n",
       "      <td>0.744577</td>\n",
       "      <td>0.791771</td>\n",
       "      <td>0.439058</td>\n",
       "      <td>0.268092</td>\n",
       "      <td>0.910870</td>\n",
       "      <td>0.796736</td>\n",
       "      <td>0.433365</td>\n",
       "      <td>0.460589</td>\n",
       "      <td>0.948584</td>\n",
       "      <td>0.802444</td>\n",
       "      <td>0.425514</td>\n",
       "      <td>0.540790</td>\n",
       "      <td>0.968236</td>\n",
       "      <td>0.814775</td>\n",
       "      <td>0.412559</td>\n",
       "      <td>0.585895</td>\n",
       "      <td>0.973635</td>\n",
       "      <td>0.826740</td>\n",
       "      <td>0.400648</td>\n",
       "      <td>0.578489</td>\n",
       "      <td>0.975336</td>\n",
       "      <td>0.837271</td>\n",
       "      <td>0.385207</td>\n",
       "      <td>0.550397</td>\n",
       "      <td>0.975488</td>\n",
       "      <td>0.848467</td>\n",
       "      <td>0.373710</td>\n",
       "      <td>0.510615</td>\n",
       "      <td>21:00</td>\n",
       "    </tr>\n",
       "    <tr>\n",
       "      <td>4</td>\n",
       "      <td>0.076008</td>\n",
       "      <td>0.073660</td>\n",
       "      <td>0.975848</td>\n",
       "      <td>0.416783</td>\n",
       "      <td>0.788304</td>\n",
       "      <td>0.455926</td>\n",
       "      <td>0.122637</td>\n",
       "      <td>0.750565</td>\n",
       "      <td>0.789304</td>\n",
       "      <td>0.454788</td>\n",
       "      <td>0.268086</td>\n",
       "      <td>0.911232</td>\n",
       "      <td>0.795485</td>\n",
       "      <td>0.450127</td>\n",
       "      <td>0.460989</td>\n",
       "      <td>0.948407</td>\n",
       "      <td>0.803177</td>\n",
       "      <td>0.442969</td>\n",
       "      <td>0.540867</td>\n",
       "      <td>0.967989</td>\n",
       "      <td>0.814155</td>\n",
       "      <td>0.429959</td>\n",
       "      <td>0.587979</td>\n",
       "      <td>0.973506</td>\n",
       "      <td>0.824772</td>\n",
       "      <td>0.416152</td>\n",
       "      <td>0.581716</td>\n",
       "      <td>0.975413</td>\n",
       "      <td>0.835275</td>\n",
       "      <td>0.404171</td>\n",
       "      <td>0.557451</td>\n",
       "      <td>0.975848</td>\n",
       "      <td>0.843493</td>\n",
       "      <td>0.391170</td>\n",
       "      <td>0.523296</td>\n",
       "      <td>20:10</td>\n",
       "    </tr>\n",
       "  </tbody>\n",
       "</table>"
      ],
      "text/plain": [
       "<IPython.core.display.HTML object>"
      ]
     },
     "metadata": {},
     "output_type": "display_data"
    }
   ],
   "source": [
    "#learn.fit_one_cycle(1, slice(5e-3/(2.6**4),5e-3), moms=(0.8,0.7))\n",
    "#learn.fit_one_cycle(4, slice(5e-2/(2.6**4),5e-2), moms=(0.8,0.7))\n",
    "learn.fit_one_cycle(5, slice(2e-3/(2.6**4),2e-3), moms=(0.8,0.7))"
   ]
  },
  {
   "cell_type": "markdown",
   "metadata": {},
   "source": [
    "### Results:\n",
    "\n",
    "learn.fit_one_cycle(3, slice(4e-3/(2.6**4),4e-3), moms=(0.8,0.7))\n",
    "\n",
    "    epoch\ttrain_loss\tvalid_loss\taccuracy_thresh\tcustom_precision\tcustom_recall\ttime\n",
    "    0\t0.007680\t0.007027\t0.998588\t0.773600\t0.163029\t21:17\n",
    "    1\t0.006924\t0.006516\t0.998621\t0.807463\t0.166123\t21:11\n",
    "    2\t0.006826\t0.006296\t0.998640\t0.803096\t0.191780\t21:05\n",
    "    \n",
    "    \n",
    "second run, same settings:\n"
   ]
  },
  {
   "cell_type": "markdown",
   "metadata": {
    "colab_type": "text",
    "id": "_nTxCsG_9qpc"
   },
   "source": []
  },
  {
   "cell_type": "code",
   "execution_count": 28,
   "metadata": {
    "colab": {},
    "colab_type": "code",
    "id": "RE0TtGjRmPKC"
   },
   "outputs": [],
   "source": [
    "learn.save('third')"
   ]
  },
  {
   "cell_type": "code",
   "execution_count": null,
   "metadata": {
    "colab": {},
    "colab_type": "code",
    "id": "LC6BWsAnmPNY"
   },
   "outputs": [],
   "source": [
    "learn.load('third')"
   ]
  },
  {
   "cell_type": "code",
   "execution_count": 9,
   "metadata": {
    "colab": {},
    "colab_type": "code",
    "id": "GUKluTG6mPQo"
   },
   "outputs": [],
   "source": [
    "learn.unfreeze()"
   ]
  },
  {
   "cell_type": "code",
   "execution_count": 10,
   "metadata": {
    "colab": {},
    "colab_type": "code",
    "id": "H6x85WK80lCW"
   },
   "outputs": [
    {
     "data": {
      "text/html": [],
      "text/plain": [
       "<IPython.core.display.HTML object>"
      ]
     },
     "metadata": {},
     "output_type": "display_data"
    },
    {
     "name": "stdout",
     "output_type": "stream",
     "text": [
      "LR Finder is complete, type {learner_name}.recorder.plot() to see the graph.\n"
     ]
    },
    {
     "data": {
      "image/png": "[encoded data removed]",
      "text/plain": [
       "<Figure size 432x288 with 1 Axes>"
      ]
     },
     "metadata": {
      "needs_background": "light"
     },
     "output_type": "display_data"
    }
   ],
   "source": [
    "learn.lr_find()\n",
    "learn.recorder.plot()"
   ]
  },
  {
   "cell_type": "code",
   "execution_count": 11,
   "metadata": {
    "colab": {},
    "colab_type": "code",
    "id": "SvuUa_8d0lX1",
    "scrolled": true
   },
   "outputs": [
    {
     "data": {
      "text/html": [
       "<table border=\"1\" class=\"dataframe\">\n",
       "  <thead>\n",
       "    <tr style=\"text-align: left;\">\n",
       "      <th>epoch</th>\n",
       "      <th>train_loss</th>\n",
       "      <th>valid_loss</th>\n",
       "      <th>accuracy_thresh</th>\n",
       "      <th>accuracy_thresh</th>\n",
       "      <th>my_prc</th>\n",
       "      <th>my_rec</th>\n",
       "      <th>fbeta</th>\n",
       "      <th>accuracy_thresh</th>\n",
       "      <th>my_prc</th>\n",
       "      <th>my_rec</th>\n",
       "      <th>fbeta</th>\n",
       "      <th>accuracy_thresh</th>\n",
       "      <th>my_prc</th>\n",
       "      <th>my_rec</th>\n",
       "      <th>fbeta</th>\n",
       "      <th>accuracy_thresh</th>\n",
       "      <th>my_prc</th>\n",
       "      <th>my_rec</th>\n",
       "      <th>fbeta</th>\n",
       "      <th>accuracy_thresh</th>\n",
       "      <th>my_prc</th>\n",
       "      <th>my_rec</th>\n",
       "      <th>fbeta</th>\n",
       "      <th>accuracy_thresh</th>\n",
       "      <th>my_prc</th>\n",
       "      <th>my_rec</th>\n",
       "      <th>fbeta</th>\n",
       "      <th>accuracy_thresh</th>\n",
       "      <th>my_prc</th>\n",
       "      <th>my_rec</th>\n",
       "      <th>fbeta</th>\n",
       "      <th>accuracy_thresh</th>\n",
       "      <th>my_prc</th>\n",
       "      <th>my_rec</th>\n",
       "      <th>fbeta</th>\n",
       "      <th>time</th>\n",
       "    </tr>\n",
       "  </thead>\n",
       "  <tbody>\n",
       "    <tr>\n",
       "      <td>0</td>\n",
       "      <td>0.077190</td>\n",
       "      <td>0.073375</td>\n",
       "      <td>0.975764</td>\n",
       "      <td>0.398137</td>\n",
       "      <td>0.793735</td>\n",
       "      <td>0.447438</td>\n",
       "      <td>0.120067</td>\n",
       "      <td>0.740075</td>\n",
       "      <td>0.794664</td>\n",
       "      <td>0.446320</td>\n",
       "      <td>0.267015</td>\n",
       "      <td>0.909423</td>\n",
       "      <td>0.799121</td>\n",
       "      <td>0.440350</td>\n",
       "      <td>0.460598</td>\n",
       "      <td>0.948491</td>\n",
       "      <td>0.805629</td>\n",
       "      <td>0.432579</td>\n",
       "      <td>0.542887</td>\n",
       "      <td>0.968340</td>\n",
       "      <td>0.818268</td>\n",
       "      <td>0.419270</td>\n",
       "      <td>0.589743</td>\n",
       "      <td>0.973893</td>\n",
       "      <td>0.828904</td>\n",
       "      <td>0.406475</td>\n",
       "      <td>0.580888</td>\n",
       "      <td>0.975629</td>\n",
       "      <td>0.840865</td>\n",
       "      <td>0.393868</td>\n",
       "      <td>0.554401</td>\n",
       "      <td>0.975764</td>\n",
       "      <td>0.850960</td>\n",
       "      <td>0.381949</td>\n",
       "      <td>0.516213</td>\n",
       "      <td>22:41</td>\n",
       "    </tr>\n",
       "    <tr>\n",
       "      <td>1</td>\n",
       "      <td>0.076886</td>\n",
       "      <td>0.072961</td>\n",
       "      <td>0.976020</td>\n",
       "      <td>0.443352</td>\n",
       "      <td>0.787240</td>\n",
       "      <td>0.463819</td>\n",
       "      <td>0.132721</td>\n",
       "      <td>0.761266</td>\n",
       "      <td>0.788091</td>\n",
       "      <td>0.463075</td>\n",
       "      <td>0.286818</td>\n",
       "      <td>0.915267</td>\n",
       "      <td>0.792344</td>\n",
       "      <td>0.458214</td>\n",
       "      <td>0.473600</td>\n",
       "      <td>0.950441</td>\n",
       "      <td>0.797852</td>\n",
       "      <td>0.451373</td>\n",
       "      <td>0.551560</td>\n",
       "      <td>0.968757</td>\n",
       "      <td>0.810037</td>\n",
       "      <td>0.438342</td>\n",
       "      <td>0.594545</td>\n",
       "      <td>0.973893</td>\n",
       "      <td>0.821123</td>\n",
       "      <td>0.425088</td>\n",
       "      <td>0.588567</td>\n",
       "      <td>0.975459</td>\n",
       "      <td>0.831111</td>\n",
       "      <td>0.410948</td>\n",
       "      <td>0.559643</td>\n",
       "      <td>0.976020</td>\n",
       "      <td>0.842333</td>\n",
       "      <td>0.398762</td>\n",
       "      <td>0.530306</td>\n",
       "      <td>21:27</td>\n",
       "    </tr>\n",
       "    <tr>\n",
       "      <td>2</td>\n",
       "      <td>0.077401</td>\n",
       "      <td>0.072526</td>\n",
       "      <td>0.976270</td>\n",
       "      <td>0.461695</td>\n",
       "      <td>0.779810</td>\n",
       "      <td>0.480080</td>\n",
       "      <td>0.136046</td>\n",
       "      <td>0.765806</td>\n",
       "      <td>0.780914</td>\n",
       "      <td>0.478766</td>\n",
       "      <td>0.292478</td>\n",
       "      <td>0.913816</td>\n",
       "      <td>0.784970</td>\n",
       "      <td>0.473514</td>\n",
       "      <td>0.471257</td>\n",
       "      <td>0.948366</td>\n",
       "      <td>0.790618</td>\n",
       "      <td>0.466538</td>\n",
       "      <td>0.547275</td>\n",
       "      <td>0.967610</td>\n",
       "      <td>0.801760</td>\n",
       "      <td>0.453915</td>\n",
       "      <td>0.595647</td>\n",
       "      <td>0.973474</td>\n",
       "      <td>0.811704</td>\n",
       "      <td>0.438642</td>\n",
       "      <td>0.598212</td>\n",
       "      <td>0.975502</td>\n",
       "      <td>0.822961</td>\n",
       "      <td>0.424970</td>\n",
       "      <td>0.577430</td>\n",
       "      <td>0.976270</td>\n",
       "      <td>0.835035</td>\n",
       "      <td>0.410849</td>\n",
       "      <td>0.550818</td>\n",
       "      <td>22:53</td>\n",
       "    </tr>\n",
       "    <tr>\n",
       "      <td>3</td>\n",
       "      <td>0.075152</td>\n",
       "      <td>0.071148</td>\n",
       "      <td>0.976668</td>\n",
       "      <td>0.447186</td>\n",
       "      <td>0.812298</td>\n",
       "      <td>0.462941</td>\n",
       "      <td>0.131970</td>\n",
       "      <td>0.769490</td>\n",
       "      <td>0.813554</td>\n",
       "      <td>0.462012</td>\n",
       "      <td>0.293177</td>\n",
       "      <td>0.920764</td>\n",
       "      <td>0.817899</td>\n",
       "      <td>0.457647</td>\n",
       "      <td>0.487629</td>\n",
       "      <td>0.954187</td>\n",
       "      <td>0.822831</td>\n",
       "      <td>0.451142</td>\n",
       "      <td>0.569676</td>\n",
       "      <td>0.970751</td>\n",
       "      <td>0.831067</td>\n",
       "      <td>0.436893</td>\n",
       "      <td>0.609027</td>\n",
       "      <td>0.975048</td>\n",
       "      <td>0.842048</td>\n",
       "      <td>0.422481</td>\n",
       "      <td>0.598057</td>\n",
       "      <td>0.976406</td>\n",
       "      <td>0.851515</td>\n",
       "      <td>0.411148</td>\n",
       "      <td>0.570491</td>\n",
       "      <td>0.976668</td>\n",
       "      <td>0.862841</td>\n",
       "      <td>0.398316</td>\n",
       "      <td>0.539155</td>\n",
       "      <td>22:30</td>\n",
       "    </tr>\n",
       "    <tr>\n",
       "      <td>4</td>\n",
       "      <td>0.074265</td>\n",
       "      <td>0.069954</td>\n",
       "      <td>0.976809</td>\n",
       "      <td>0.454008</td>\n",
       "      <td>0.793346</td>\n",
       "      <td>0.487185</td>\n",
       "      <td>0.132438</td>\n",
       "      <td>0.766191</td>\n",
       "      <td>0.794285</td>\n",
       "      <td>0.486316</td>\n",
       "      <td>0.293250</td>\n",
       "      <td>0.917624</td>\n",
       "      <td>0.799736</td>\n",
       "      <td>0.481919</td>\n",
       "      <td>0.487296</td>\n",
       "      <td>0.951930</td>\n",
       "      <td>0.806725</td>\n",
       "      <td>0.476142</td>\n",
       "      <td>0.569026</td>\n",
       "      <td>0.969718</td>\n",
       "      <td>0.816776</td>\n",
       "      <td>0.461735</td>\n",
       "      <td>0.612587</td>\n",
       "      <td>0.974910</td>\n",
       "      <td>0.826616</td>\n",
       "      <td>0.448881</td>\n",
       "      <td>0.609028</td>\n",
       "      <td>0.976363</td>\n",
       "      <td>0.839086</td>\n",
       "      <td>0.434375</td>\n",
       "      <td>0.583290</td>\n",
       "      <td>0.976809</td>\n",
       "      <td>0.849212</td>\n",
       "      <td>0.422445</td>\n",
       "      <td>0.554145</td>\n",
       "      <td>22:44</td>\n",
       "    </tr>\n",
       "    <tr>\n",
       "      <td>5</td>\n",
       "      <td>0.069953</td>\n",
       "      <td>0.069016</td>\n",
       "      <td>0.977382</td>\n",
       "      <td>0.468628</td>\n",
       "      <td>0.802651</td>\n",
       "      <td>0.498082</td>\n",
       "      <td>0.134005</td>\n",
       "      <td>0.783974</td>\n",
       "      <td>0.803536</td>\n",
       "      <td>0.496881</td>\n",
       "      <td>0.305904</td>\n",
       "      <td>0.924264</td>\n",
       "      <td>0.808247</td>\n",
       "      <td>0.490731</td>\n",
       "      <td>0.501337</td>\n",
       "      <td>0.954710</td>\n",
       "      <td>0.813036</td>\n",
       "      <td>0.484329</td>\n",
       "      <td>0.578715</td>\n",
       "      <td>0.970735</td>\n",
       "      <td>0.823728</td>\n",
       "      <td>0.472184</td>\n",
       "      <td>0.621588</td>\n",
       "      <td>0.975221</td>\n",
       "      <td>0.834544</td>\n",
       "      <td>0.459752</td>\n",
       "      <td>0.616161</td>\n",
       "      <td>0.976834</td>\n",
       "      <td>0.843548</td>\n",
       "      <td>0.445637</td>\n",
       "      <td>0.594404</td>\n",
       "      <td>0.977382</td>\n",
       "      <td>0.853263</td>\n",
       "      <td>0.431464</td>\n",
       "      <td>0.567156</td>\n",
       "      <td>22:05</td>\n",
       "    </tr>\n",
       "    <tr>\n",
       "      <td>6</td>\n",
       "      <td>0.068024</td>\n",
       "      <td>0.068485</td>\n",
       "      <td>0.977518</td>\n",
       "      <td>0.462825</td>\n",
       "      <td>0.792714</td>\n",
       "      <td>0.513284</td>\n",
       "      <td>0.132589</td>\n",
       "      <td>0.777764</td>\n",
       "      <td>0.793735</td>\n",
       "      <td>0.512018</td>\n",
       "      <td>0.297078</td>\n",
       "      <td>0.921507</td>\n",
       "      <td>0.798946</td>\n",
       "      <td>0.507253</td>\n",
       "      <td>0.495095</td>\n",
       "      <td>0.953473</td>\n",
       "      <td>0.806324</td>\n",
       "      <td>0.501797</td>\n",
       "      <td>0.577263</td>\n",
       "      <td>0.970336</td>\n",
       "      <td>0.817688</td>\n",
       "      <td>0.489355</td>\n",
       "      <td>0.624929</td>\n",
       "      <td>0.975243</td>\n",
       "      <td>0.829253</td>\n",
       "      <td>0.477292</td>\n",
       "      <td>0.623424</td>\n",
       "      <td>0.976913</td>\n",
       "      <td>0.836833</td>\n",
       "      <td>0.466532</td>\n",
       "      <td>0.603499</td>\n",
       "      <td>0.977518</td>\n",
       "      <td>0.847965</td>\n",
       "      <td>0.454694</td>\n",
       "      <td>0.578170</td>\n",
       "      <td>22:34</td>\n",
       "    </tr>\n",
       "    <tr>\n",
       "      <td>7</td>\n",
       "      <td>0.068748</td>\n",
       "      <td>0.067716</td>\n",
       "      <td>0.977747</td>\n",
       "      <td>0.473361</td>\n",
       "      <td>0.805974</td>\n",
       "      <td>0.508110</td>\n",
       "      <td>0.135175</td>\n",
       "      <td>0.786220</td>\n",
       "      <td>0.807016</td>\n",
       "      <td>0.506856</td>\n",
       "      <td>0.307761</td>\n",
       "      <td>0.924888</td>\n",
       "      <td>0.811803</td>\n",
       "      <td>0.501864</td>\n",
       "      <td>0.506817</td>\n",
       "      <td>0.954941</td>\n",
       "      <td>0.818110</td>\n",
       "      <td>0.496371</td>\n",
       "      <td>0.583298</td>\n",
       "      <td>0.971218</td>\n",
       "      <td>0.829862</td>\n",
       "      <td>0.484691</td>\n",
       "      <td>0.628983</td>\n",
       "      <td>0.975789</td>\n",
       "      <td>0.837420</td>\n",
       "      <td>0.472960</td>\n",
       "      <td>0.626371</td>\n",
       "      <td>0.977339</td>\n",
       "      <td>0.846414</td>\n",
       "      <td>0.460213</td>\n",
       "      <td>0.606499</td>\n",
       "      <td>0.977747</td>\n",
       "      <td>0.855798</td>\n",
       "      <td>0.446469</td>\n",
       "      <td>0.578555</td>\n",
       "      <td>23:05</td>\n",
       "    </tr>\n",
       "    <tr>\n",
       "      <td>8</td>\n",
       "      <td>0.067362</td>\n",
       "      <td>0.067486</td>\n",
       "      <td>0.977806</td>\n",
       "      <td>0.471967</td>\n",
       "      <td>0.802617</td>\n",
       "      <td>0.512921</td>\n",
       "      <td>0.134837</td>\n",
       "      <td>0.785862</td>\n",
       "      <td>0.803603</td>\n",
       "      <td>0.512066</td>\n",
       "      <td>0.306815</td>\n",
       "      <td>0.924944</td>\n",
       "      <td>0.809087</td>\n",
       "      <td>0.506845</td>\n",
       "      <td>0.506056</td>\n",
       "      <td>0.955142</td>\n",
       "      <td>0.815111</td>\n",
       "      <td>0.501192</td>\n",
       "      <td>0.584164</td>\n",
       "      <td>0.971186</td>\n",
       "      <td>0.826579</td>\n",
       "      <td>0.489256</td>\n",
       "      <td>0.628165</td>\n",
       "      <td>0.975848</td>\n",
       "      <td>0.836794</td>\n",
       "      <td>0.476731</td>\n",
       "      <td>0.628628</td>\n",
       "      <td>0.977369</td>\n",
       "      <td>0.844734</td>\n",
       "      <td>0.463545</td>\n",
       "      <td>0.607232</td>\n",
       "      <td>0.977806</td>\n",
       "      <td>0.854881</td>\n",
       "      <td>0.451234</td>\n",
       "      <td>0.581347</td>\n",
       "      <td>22:16</td>\n",
       "    </tr>\n",
       "    <tr>\n",
       "      <td>9</td>\n",
       "      <td>0.064797</td>\n",
       "      <td>0.067592</td>\n",
       "      <td>0.977792</td>\n",
       "      <td>0.458654</td>\n",
       "      <td>0.801122</td>\n",
       "      <td>0.514294</td>\n",
       "      <td>0.130007</td>\n",
       "      <td>0.779726</td>\n",
       "      <td>0.802240</td>\n",
       "      <td>0.513345</td>\n",
       "      <td>0.293510</td>\n",
       "      <td>0.923000</td>\n",
       "      <td>0.806052</td>\n",
       "      <td>0.508147</td>\n",
       "      <td>0.502757</td>\n",
       "      <td>0.954105</td>\n",
       "      <td>0.812642</td>\n",
       "      <td>0.502419</td>\n",
       "      <td>0.581045</td>\n",
       "      <td>0.970971</td>\n",
       "      <td>0.822418</td>\n",
       "      <td>0.490577</td>\n",
       "      <td>0.629510</td>\n",
       "      <td>0.975692</td>\n",
       "      <td>0.832830</td>\n",
       "      <td>0.479352</td>\n",
       "      <td>0.627458</td>\n",
       "      <td>0.977355</td>\n",
       "      <td>0.841846</td>\n",
       "      <td>0.466890</td>\n",
       "      <td>0.609419</td>\n",
       "      <td>0.977792</td>\n",
       "      <td>0.852223</td>\n",
       "      <td>0.453152</td>\n",
       "      <td>0.582431</td>\n",
       "      <td>22:50</td>\n",
       "    </tr>\n",
       "  </tbody>\n",
       "</table>"
      ],
      "text/plain": [
       "<IPython.core.display.HTML object>"
      ]
     },
     "metadata": {},
     "output_type": "display_data"
    }
   ],
   "source": [
    "#learn.fit_one_cycle(15, slice(1e-3/(2.6**4),1e-3), moms=(0.8,0.7)) ## too much??? but in the end it comes in nicely ..\n",
    "learn.fit_one_cycle(10, slice(1e-3/(2.6**4),1e-3), moms=(0.8,0.7)) ## too much??? but in the end it comes in nicely ..\n",
    "#learn.fit_one_cycle(15, slice(7e-3/(2.6**4),7e-3), moms=(0.8,0.7)) ## works well\n",
    "#learn.fit_one_cycle(2, slice(3e-4/(2.6**4),3e-4), moms=(0.8,0.7))"
   ]
  },
  {
   "cell_type": "code",
   "execution_count": 12,
   "metadata": {},
   "outputs": [],
   "source": [
    "learn.save('forth')"
   ]
  },
  {
   "cell_type": "markdown",
   "metadata": {
    "colab_type": "text",
    "id": "oFyfcnOM90GN"
   },
   "source": []
  },
  {
   "cell_type": "markdown",
   "metadata": {
    "colab_type": "text",
    "id": "BgRSroymx2aW"
   },
   "source": [
    "## Evaluate the results\n",
    "Based on: https://www.kaggle.com/nadjetba/text-to-meaning-with-multi-label-classification?scriptVersionId=12686831"
   ]
  },
  {
   "cell_type": "code",
   "execution_count": 13,
   "metadata": {
    "colab": {},
    "colab_type": "code",
    "id": "4ZW6Z54KmPXL"
   },
   "outputs": [],
   "source": [
    "# Predict on the validation dataset\n",
    "y_pred, y_true =  learn.get_preds()\n"
   ]
  },
  {
   "cell_type": "code",
   "execution_count": 14,
   "metadata": {
    "colab": {},
    "colab_type": "code",
    "id": "m8uWkV70mPao"
   },
   "outputs": [],
   "source": [
    "from sklearn.metrics import precision_score, recall_score, accuracy_score, f1_score\n",
    "from sklearn.metrics import classification_report"
   ]
  },
  {
   "cell_type": "code",
   "execution_count": 21,
   "metadata": {
    "colab": {
     "base_uri": "https://localhost:8080/",
     "height": 34
    },
    "colab_type": "code",
    "id": "RJNZFPmhyP4G",
    "outputId": "6ea31d9a-31bf-4979-ff6f-c826933a8b9c",
    "scrolled": true
   },
   "outputs": [
    {
     "name": "stdout",
     "output_type": "stream",
     "text": [
      "F1 (micro) 0.6462747204781252\n",
      "P (micro) 0.6959791726930865\n",
      "R (micro) 0.6031964901284864\n",
      "\n",
      "F1 (macro) 0.35785801793675226\n",
      "P (macro) 0.46072863153239807\n",
      "R (macro)  0.32369853613709615\n"
     ]
    }
   ],
   "source": [
    "thresh = 0.32\n",
    "\n",
    "print(\"F1 (micro)\", f1_score(y_true, y_pred>thresh, average='micro'))\n",
    "print(\"P (micro)\", precision_score(y_true, y_pred>thresh, average='micro'))\n",
    "print(\"R (micro)\", recall_score(y_true, y_pred>thresh, average='micro'))\n",
    "\n",
    "print(\"\\nF1 (macro)\", f1_score(y_true, y_pred>thresh, average='macro'))\n",
    "print(\"P (macro)\", precision_score(y_true, y_pred>thresh, average='macro'))\n",
    "print(\"R (macro) \", recall_score(y_true, y_pred>thresh, average='macro'))\n"
   ]
  },
  {
   "cell_type": "markdown",
   "metadata": {},
   "source": [
    "## results:\n",
    "\n",
    "without preprocessing -- 1st run:\n",
    "  \n",
    "    F1 (micro) 0.6693270575394794\n",
    "    P (micro) 0.7342113139778509\n",
    "    R (micro) 0.6149796302099655\n",
    "\n",
    "    F1 (macro) 0.3890770790857555\n",
    "    P (macro) 0.501579476235325\n",
    "    R (macro)  0.34791195267245517\n",
    "\n",
    "\n",
    "\n",
    "\n",
    "    "
   ]
  },
  {
   "cell_type": "code",
   "execution_count": 16,
   "metadata": {
    "colab": {
     "base_uri": "https://localhost:8080/",
     "height": 101
    },
    "colab_type": "code",
    "id": "QUI7_WQRyv4J",
    "outputId": "08d0724c-e9a3-45c0-a82c-a83ed5f63caa"
   },
   "outputs": [
    {
     "data": {
      "text/plain": [
       "0.35220610652779927"
      ]
     },
     "execution_count": 16,
     "metadata": {},
     "output_type": "execute_result"
    }
   ],
   "source": [
    "f1_score(y_true, y_pred>thresh, average='macro')"
   ]
  },
  {
   "cell_type": "code",
   "execution_count": 17,
   "metadata": {
    "colab": {
     "base_uri": "https://localhost:8080/",
     "height": 34
    },
    "colab_type": "code",
    "id": "OBTIZbtXyP04",
    "outputId": "63cd80a2-6e49-4634-8333-4f65abed9842"
   },
   "outputs": [
    {
     "data": {
      "text/plain": [
       "((3503, 126), (3503, 126))"
      ]
     },
     "execution_count": 17,
     "metadata": {},
     "output_type": "execute_result"
    }
   ],
   "source": [
    "y_true = y_true.numpy()\n",
    "scores = y_pred.numpy()\n",
    "scores.shape, y_true.shape"
   ]
  },
  {
   "cell_type": "code",
   "execution_count": null,
   "metadata": {
    "colab": {
     "base_uri": "https://localhost:8080/",
     "height": 12586
    },
    "colab_type": "code",
    "id": "Xq1DCPsCycGp",
    "outputId": "48d0e050-1f2d-47ab-f756-e9a962536abe"
   },
   "outputs": [],
   "source": [
    "metrics = classification_report(y_true, scores>thresh, target_names=data_clas.valid_ds.classes)\n",
    "print(metrics)"
   ]
  }
 ],
 "metadata": {
  "accelerator": "GPU",
  "colab": {
   "name": "fastai-JRC-EN-multilabel.ipynb",
   "provenance": [],
   "toc_visible": true,
   "version": "0.3.2"
  },
  "kernelspec": {
   "display_name": "Python 3",
   "language": "python",
   "name": "python3"
  },
  "language_info": {
   "codemirror_mode": {
    "name": "ipython",
    "version": 3
   },
   "file_extension": ".py",
   "mimetype": "text/x-python",
   "name": "python",
   "nbconvert_exporter": "python",
   "pygments_lexer": "ipython3",
   "version": "3.7.3"
  }
 },
 "nbformat": 4,
 "nbformat_minor": 1
}
